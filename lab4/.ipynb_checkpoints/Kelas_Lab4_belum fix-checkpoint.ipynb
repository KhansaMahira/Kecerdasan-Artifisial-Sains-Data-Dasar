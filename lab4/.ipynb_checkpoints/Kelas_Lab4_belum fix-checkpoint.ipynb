{
 "cells": [
  {
   "cell_type": "markdown",
   "metadata": {
    "id": "LO4T_SbqKxwP"
   },
   "source": [
    "<center>\n",
    "<img src=\"https://drive.google.com/uc?id=1f1gGVI-rxcHjA90WEGNvvtSXF1pAxQwg\" alt=\"Fasilkom UI\" width=\"300\"/>\n",
    "\n",
    "CSGE603130 • Kecerdasan Artifisial dan Sains Data Dasar\n",
    "\n",
    "Semester Genap 2024/2025\n",
    "\n",
    "Fakultas Ilmu Komputer, Universitas Indonesia\n",
    "\n",
    "##**Lab 4: *Classification And Regression Tree (CART)***\n",
    "\n",
    "###**Tenggat Waktu: 2 Maret 2025, 23.55 WIB**\n",
    "</center>\n",
    "\n",
    "### **Ketentuan:**\n",
    "\n",
    "1. Dokumen template lab dengan format .ipynb dan dataset (jika dibutuhkan) telah disediakan di SCeLe\n",
    "2. Jalankan kode pada dokumen .ipynb dan perhatikan dengan saksama apa yang potongan kode tersebut lakukan beserta dengan keluarannya. Jawablah **pertanyaan** yang disisipkan pada potongan program yang diberikan.\n",
    "3. Dokumen Jupyter Notebook yang telah dilengkapi dengan jawaban dikumpulkan dengan format penamaan **Kelas_LabX_NPM_Nama.ipynb** . Contoh: A_Lab1_1806205773_Abdurrafi Arief.ipynb. Kesalahan dalam pengumpulan nama akan dikenakan pinalti sebesar 5 poin.\n",
    "4. Kumpulkan dokumen tersebut pada submisi yang telah disediakan di SCeLe sesuai dengan kelas masing-masing sebelum **Tenggat Waktu: 2 Maret 2025, 23.55 WIB**.\n",
    "5. Keterlambatan pengumpulan akan dikenakan pinalti sebesar 5 poin per jam (pembulatan ke atas). Dengan cut off 1 hari.\n",
    "6. Lab ini dirancang sebagai **tugas mandiri**. Plagiarisme tidak diperkenankan dalam bentuk apapun. Adapun kolaborasi berupa diskusi (tanpa menyalin maupun mengambil jawaban orang lain) dan literasi masih diperbolehkan dengan mencantumkan kolaborator dan sumber.\n",
    "7. Pakta Integritas **Wajib** di isi dan di jalankan. Submisi hanya akan dinilai jika pakta integritas di isi dan di jalankan.\n",
    "8. Sebelum di kumpulkan, kode **WAJIB** dijalankan. Jika tidak, dikenakan penalti sebesar 50%.\n",
    "9. Mahasiswa wajib mencantumkan semua sumber yang menjadi referensi jawaban, termasuk GPT."
   ]
  },
  {
   "cell_type": "code",
   "execution_count": null,
   "metadata": {
    "id": "cLRtSkLqLAhE"
   },
   "outputs": [],
   "source": [
    "# Isi dengan data diri Anda\n",
    "NAMA = \"\"\n",
    "KELAS = \"\"\n",
    "NPM = \"\"\n",
    "USERNAME_KAGGLE = \"\"\n",
    "\n",
    "# Isi dengan NPM teman yang berdiskusi dengan Anda\n",
    "KOLABORATOR = []\n",
    "\n",
    "# Isi dengan sumber referensi yang Anda gunakan dalam mengerjakan\n",
    "REFERENSI = []"
   ]
  },
  {
   "cell_type": "code",
   "execution_count": null,
   "metadata": {
    "id": "oLXYmDNaLjqM"
   },
   "outputs": [],
   "source": [
    "PERNYATAAN_INTEGRITAS = \"Saya, %s dari kelas %s dengan NPM %s, menyatakan bahwa seluruh jawaban pada pekerjaan ini murni saya kerjakan sendiri.\\n\\\n",
    "Saya tidak mencontek jawaban, memberikan jawaban, maupun menyalin dari sumber manapun.\\n \\\n",
    "\\n\\\n",
    "Jika saya melanggar pernyataan tersebut, saya siap menerima konsekuensi apapun yang diberikan.\\n   \\\n",
    "(%s)\" % (NAMA, KELAS, NPM, NAMA)\n",
    "\n",
    "print(PERNYATAAN_INTEGRITAS)"
   ]
  },
  {
   "cell_type": "markdown",
   "metadata": {
    "id": "y3wTrRJxZ_LI"
   },
   "source": [
    "## Deskripsi Dataset"
   ]
  },
  {
   "cell_type": "markdown",
   "metadata": {
    "id": "fBKCryIZaB_X"
   },
   "source": [
    "Lab ini akan menggunakan 2 dataset, yakni dataset untuk klasifikasi dan dataset untuk regresi.\n",
    "\n",
    "Dataset yang digunakan untuk klasifikasi adalah dataset **Weather Type** (https://www.kaggle.com/datasets/nikhil7280/weather-type-classification/data) dengan modifikasi.\n",
    "\n",
    "Dataset yang akan digunakan untuk regresi adalah dataset **Pokemon** (https://www.kaggle.com/datasets/terminus7/pokemon-challenge/data) dengan modifikasi."
   ]
  },
  {
   "cell_type": "markdown",
   "metadata": {
    "id": "uMzukLM_k5AI"
   },
   "source": [
    "### Deskripsi Dataset Klasifikasi"
   ]
  },
  {
   "cell_type": "markdown",
   "metadata": {
    "id": "DgA_G-p1lADc"
   },
   "source": [
    "Kumpulan data ini dibuat secara sintetis untuk meniru data cuaca untuk tugas klasifikasi. Kumpulan data ini mencakup berbagai fitur terkait cuaca dan mengkategorikan cuaca menjadi empat jenis:  Rainy, Sunny, Cloudy, and Snowy. Berikut adalah atribut-atribut data:\n",
    "\n",
    "- Temperature (numeric): Suhu dalam derajat Celsius, mencakup kondisi dari sangat dingin hingga sangat panas.\n",
    "- Humidity (numeric): Persentase kelembaban, termasuk nilai di atas 100% untuk memperkenalkan pencilan.\n",
    "- Wind Speed (numeric): Kecepatan angin dalam kilometer per jam, dengan rentang yang mencakup nilai yang tidak realistis.\n",
    "- Precipitation (%) (numeric): Persentase presipitasi, termasuk nilai pencilan.\n",
    "- Cloud Cover (categorical): Deskripsi tentang tingkat tutupan awan.\n",
    "Atmospheric Pressure (numeric): Tekanan atmosfer dalam hPa, mencakup rentang yang luas.\n",
    "- UV Index (numeric): Indeks UV, menunjukkan kekuatan radiasi ultraviolet.\n",
    "- Season (categorical): Musim saat data direkam.\n",
    "- Visibility (km) (numeric): Jarak pandang dalam kilometer, termasuk nilai yang sangat rendah atau sangat tinggi.\n",
    "- Location (categorical): Jenis lokasi tempat data direkam.\n",
    "- Weather Type (categorical): Variabel target untuk klasifikasi, menunjukkan jenis cuaca."
   ]
  },
  {
   "cell_type": "markdown",
   "metadata": {
    "id": "8WEpRisif6Wb"
   },
   "source": [
    "### Deskripsi Dataset Regresi"
   ]
  },
  {
   "cell_type": "markdown",
   "metadata": {
    "id": "z16Rms0val0H"
   },
   "source": [
    "Dataset ini berisi informasi mengenai atribut-atribut yang dirasa berpengaruh terhadap besarnya persentase kemenangan (WinningPercentage) dari Pokemon. Berikut adalah atribut-atribut data:\n",
    "\n",
    "- ID (numeric): ID Pokemon.\n",
    "- Name (categorical): Nama Pokemon.\n",
    "- Type 1 (cateorical): Tipe serangan 1 Pokemon.\n",
    "- Type 2 (categorical): Tipe serangan 2 Pokemon.\n",
    "- HP (numeric): Jumlah darah Pokemon.\n",
    "- Attack (numeric): Jumlah kekuatan serangan Pokemon.\n",
    "- Defense (numeric): Jumlah daya tahan Pokemon.\n",
    "- Sp. Atk (numeric): Kecepatan serangan Pokemon.\n",
    "- Sp. Def (numeric): Kecepatan bertahan Pokemon.\n",
    "- Generation (numeric): Generasi Pokemon.\n",
    "- Legendary (cateorical): Apakah Pokemon Legendary/bukan.\n",
    "- WinningPercentage (numeric): Variabel target untuk regresi, menunjukkan persentase kemenangan pokemon."
   ]
  },
  {
   "cell_type": "markdown",
   "metadata": {
    "id": "0lbgDIfi3x8U"
   },
   "source": [
    "## Import Libraries"
   ]
  },
  {
   "cell_type": "code",
   "execution_count": 17,
   "metadata": {
    "id": "SmX8CPR63zY7"
   },
   "outputs": [],
   "source": [
    "from sklearn.model_selection import train_test_split\n",
    "from sklearn.metrics import mean_absolute_error, mean_squared_error, r2_score\n",
    "from sklearn.metrics import accuracy_score, f1_score, recall_score, precision_score\n",
    "from sklearn.tree import DecisionTreeRegressor, DecisionTreeClassifier\n",
    "from sklearn.ensemble import RandomForestRegressor, RandomForestClassifier\n",
    "from sklearn.model_selection import GridSearchCV\n",
    "from sklearn import tree\n",
    "import numpy as np\n",
    "import pandas as pd\n",
    "import seaborn as sns\n",
    "import matplotlib.pyplot as plt"
   ]
  },
  {
   "cell_type": "markdown",
   "metadata": {
    "id": "UzVC1D-XsuVS"
   },
   "source": [
    "## Read Datasets"
   ]
  },
  {
   "cell_type": "markdown",
   "metadata": {
    "id": "-eDrSLUsw971"
   },
   "source": [
    "**Bacalah konten dari masing-masing dataset yang telah disediakan. Perhatikan tipe data dari masing-masing kolom, apakah sudah cocok untuk dijadikan input ke dalam model atau tidak.**"
   ]
  },
  {
   "cell_type": "markdown",
   "metadata": {
    "id": "3VTBROQgswup"
   },
   "source": [
    "### Dataset Weather Type"
   ]
  },
  {
   "cell_type": "markdown",
   "metadata": {
    "id": "mZ4UBfodxLo6"
   },
   "source": [
    "**Terapkan proses Read Dataset di bawah cell ini**"
   ]
  },
  {
   "cell_type": "code",
   "execution_count": 18,
   "metadata": {
    "id": "eYc99HyqJOwf"
   },
   "outputs": [
    {
     "data": {
      "text/html": [
       "<div>\n",
       "<style scoped>\n",
       "    .dataframe tbody tr th:only-of-type {\n",
       "        vertical-align: middle;\n",
       "    }\n",
       "\n",
       "    .dataframe tbody tr th {\n",
       "        vertical-align: top;\n",
       "    }\n",
       "\n",
       "    .dataframe thead th {\n",
       "        text-align: right;\n",
       "    }\n",
       "</style>\n",
       "<table border=\"1\" class=\"dataframe\">\n",
       "  <thead>\n",
       "    <tr style=\"text-align: right;\">\n",
       "      <th></th>\n",
       "      <th>Temperature</th>\n",
       "      <th>Humidity</th>\n",
       "      <th>Wind Speed</th>\n",
       "      <th>Precipitation (%)</th>\n",
       "      <th>Cloud Cover</th>\n",
       "      <th>Atmospheric Pressure</th>\n",
       "      <th>UV Index</th>\n",
       "      <th>Season</th>\n",
       "      <th>Visibility (km)</th>\n",
       "      <th>Location</th>\n",
       "      <th>Weather Type</th>\n",
       "    </tr>\n",
       "  </thead>\n",
       "  <tbody>\n",
       "    <tr>\n",
       "      <th>0</th>\n",
       "      <td>-10.0</td>\n",
       "      <td>90</td>\n",
       "      <td>8.0</td>\n",
       "      <td>62.0</td>\n",
       "      <td>overcast</td>\n",
       "      <td>993.68</td>\n",
       "      <td>1</td>\n",
       "      <td>Winter</td>\n",
       "      <td>2.0</td>\n",
       "      <td>mountain</td>\n",
       "      <td>Snowy</td>\n",
       "    </tr>\n",
       "    <tr>\n",
       "      <th>1</th>\n",
       "      <td>-2.0</td>\n",
       "      <td>82</td>\n",
       "      <td>5.0</td>\n",
       "      <td>92.0</td>\n",
       "      <td>overcast</td>\n",
       "      <td>981.80</td>\n",
       "      <td>1</td>\n",
       "      <td>Winter</td>\n",
       "      <td>1.5</td>\n",
       "      <td>inland</td>\n",
       "      <td>Snowy</td>\n",
       "    </tr>\n",
       "    <tr>\n",
       "      <th>2</th>\n",
       "      <td>29.0</td>\n",
       "      <td>33</td>\n",
       "      <td>4.5</td>\n",
       "      <td>4.0</td>\n",
       "      <td>clear</td>\n",
       "      <td>1012.76</td>\n",
       "      <td>8</td>\n",
       "      <td>Spring</td>\n",
       "      <td>10.0</td>\n",
       "      <td>coastal</td>\n",
       "      <td>Sunny</td>\n",
       "    </tr>\n",
       "    <tr>\n",
       "      <th>3</th>\n",
       "      <td>24.0</td>\n",
       "      <td>91</td>\n",
       "      <td>15.5</td>\n",
       "      <td>89.0</td>\n",
       "      <td>overcast</td>\n",
       "      <td>991.10</td>\n",
       "      <td>0</td>\n",
       "      <td>Winter</td>\n",
       "      <td>1.5</td>\n",
       "      <td>inland</td>\n",
       "      <td>Rainy</td>\n",
       "    </tr>\n",
       "    <tr>\n",
       "      <th>4</th>\n",
       "      <td>20.0</td>\n",
       "      <td>85</td>\n",
       "      <td>8.5</td>\n",
       "      <td>81.0</td>\n",
       "      <td>overcast</td>\n",
       "      <td>1014.67</td>\n",
       "      <td>3</td>\n",
       "      <td>Winter</td>\n",
       "      <td>1.0</td>\n",
       "      <td>coastal</td>\n",
       "      <td>Rainy</td>\n",
       "    </tr>\n",
       "    <tr>\n",
       "      <th>...</th>\n",
       "      <td>...</td>\n",
       "      <td>...</td>\n",
       "      <td>...</td>\n",
       "      <td>...</td>\n",
       "      <td>...</td>\n",
       "      <td>...</td>\n",
       "      <td>...</td>\n",
       "      <td>...</td>\n",
       "      <td>...</td>\n",
       "      <td>...</td>\n",
       "      <td>...</td>\n",
       "    </tr>\n",
       "    <tr>\n",
       "      <th>795</th>\n",
       "      <td>7.0</td>\n",
       "      <td>66</td>\n",
       "      <td>13.5</td>\n",
       "      <td>73.0</td>\n",
       "      <td>partly cloudy</td>\n",
       "      <td>886.94</td>\n",
       "      <td>10</td>\n",
       "      <td>Summer</td>\n",
       "      <td>12.5</td>\n",
       "      <td>coastal</td>\n",
       "      <td>Rainy</td>\n",
       "    </tr>\n",
       "    <tr>\n",
       "      <th>796</th>\n",
       "      <td>-9.0</td>\n",
       "      <td>63</td>\n",
       "      <td>9.0</td>\n",
       "      <td>79.0</td>\n",
       "      <td>overcast</td>\n",
       "      <td>981.10</td>\n",
       "      <td>1</td>\n",
       "      <td>Winter</td>\n",
       "      <td>2.5</td>\n",
       "      <td>inland</td>\n",
       "      <td>Snowy</td>\n",
       "    </tr>\n",
       "    <tr>\n",
       "      <th>797</th>\n",
       "      <td>20.0</td>\n",
       "      <td>40</td>\n",
       "      <td>7.5</td>\n",
       "      <td>6.0</td>\n",
       "      <td>clear</td>\n",
       "      <td>1014.65</td>\n",
       "      <td>11</td>\n",
       "      <td>Winter</td>\n",
       "      <td>5.5</td>\n",
       "      <td>inland</td>\n",
       "      <td>Sunny</td>\n",
       "    </tr>\n",
       "    <tr>\n",
       "      <th>798</th>\n",
       "      <td>28.0</td>\n",
       "      <td>69</td>\n",
       "      <td>8.5</td>\n",
       "      <td>83.0</td>\n",
       "      <td>partly cloudy</td>\n",
       "      <td>1012.89</td>\n",
       "      <td>2</td>\n",
       "      <td>Summer</td>\n",
       "      <td>1.0</td>\n",
       "      <td>inland</td>\n",
       "      <td>Rainy</td>\n",
       "    </tr>\n",
       "    <tr>\n",
       "      <th>799</th>\n",
       "      <td>31.0</td>\n",
       "      <td>51</td>\n",
       "      <td>3.0</td>\n",
       "      <td>14.0</td>\n",
       "      <td>clear</td>\n",
       "      <td>1026.44</td>\n",
       "      <td>10</td>\n",
       "      <td>Summer</td>\n",
       "      <td>6.5</td>\n",
       "      <td>inland</td>\n",
       "      <td>Sunny</td>\n",
       "    </tr>\n",
       "  </tbody>\n",
       "</table>\n",
       "<p>800 rows × 11 columns</p>\n",
       "</div>"
      ],
      "text/plain": [
       "     Temperature  Humidity  Wind Speed  Precipitation (%)    Cloud Cover  \\\n",
       "0          -10.0        90         8.0               62.0       overcast   \n",
       "1           -2.0        82         5.0               92.0       overcast   \n",
       "2           29.0        33         4.5                4.0          clear   \n",
       "3           24.0        91        15.5               89.0       overcast   \n",
       "4           20.0        85         8.5               81.0       overcast   \n",
       "..           ...       ...         ...                ...            ...   \n",
       "795          7.0        66        13.5               73.0  partly cloudy   \n",
       "796         -9.0        63         9.0               79.0       overcast   \n",
       "797         20.0        40         7.5                6.0          clear   \n",
       "798         28.0        69         8.5               83.0  partly cloudy   \n",
       "799         31.0        51         3.0               14.0          clear   \n",
       "\n",
       "     Atmospheric Pressure  UV Index  Season  Visibility (km)  Location  \\\n",
       "0                  993.68         1  Winter              2.0  mountain   \n",
       "1                  981.80         1  Winter              1.5    inland   \n",
       "2                 1012.76         8  Spring             10.0   coastal   \n",
       "3                  991.10         0  Winter              1.5    inland   \n",
       "4                 1014.67         3  Winter              1.0   coastal   \n",
       "..                    ...       ...     ...              ...       ...   \n",
       "795                886.94        10  Summer             12.5   coastal   \n",
       "796                981.10         1  Winter              2.5    inland   \n",
       "797               1014.65        11  Winter              5.5    inland   \n",
       "798               1012.89         2  Summer              1.0    inland   \n",
       "799               1026.44        10  Summer              6.5    inland   \n",
       "\n",
       "    Weather Type  \n",
       "0          Snowy  \n",
       "1          Snowy  \n",
       "2          Sunny  \n",
       "3          Rainy  \n",
       "4          Rainy  \n",
       "..           ...  \n",
       "795        Rainy  \n",
       "796        Snowy  \n",
       "797        Sunny  \n",
       "798        Rainy  \n",
       "799        Sunny  \n",
       "\n",
       "[800 rows x 11 columns]"
      ]
     },
     "execution_count": 18,
     "metadata": {},
     "output_type": "execute_result"
    }
   ],
   "source": [
    "# Load dataset\n",
    "df = pd.read_csv(\"weather_classification_dataset.csv\")\n",
    "df"
   ]
  },
  {
   "cell_type": "markdown",
   "metadata": {
    "id": "9j1zqc9F1exw"
   },
   "source": [
    "### Dataset Pokemon"
   ]
  },
  {
   "cell_type": "markdown",
   "metadata": {
    "id": "apnpZhkcxdfx"
   },
   "source": [
    "**Terapkan proses Read Dataset di bawah cell ini**"
   ]
  },
  {
   "cell_type": "code",
   "execution_count": 19,
   "metadata": {
    "id": "asVgUBCqJ-8m"
   },
   "outputs": [
    {
     "data": {
      "text/html": [
       "<div>\n",
       "<style scoped>\n",
       "    .dataframe tbody tr th:only-of-type {\n",
       "        vertical-align: middle;\n",
       "    }\n",
       "\n",
       "    .dataframe tbody tr th {\n",
       "        vertical-align: top;\n",
       "    }\n",
       "\n",
       "    .dataframe thead th {\n",
       "        text-align: right;\n",
       "    }\n",
       "</style>\n",
       "<table border=\"1\" class=\"dataframe\">\n",
       "  <thead>\n",
       "    <tr style=\"text-align: right;\">\n",
       "      <th></th>\n",
       "      <th>ID</th>\n",
       "      <th>Name</th>\n",
       "      <th>Type 1</th>\n",
       "      <th>Type 2</th>\n",
       "      <th>HP</th>\n",
       "      <th>Attack</th>\n",
       "      <th>Defense</th>\n",
       "      <th>Sp. Atk</th>\n",
       "      <th>Sp. Def</th>\n",
       "      <th>Speed</th>\n",
       "      <th>Generation</th>\n",
       "      <th>Legendary</th>\n",
       "      <th>WinningPercentage</th>\n",
       "    </tr>\n",
       "  </thead>\n",
       "  <tbody>\n",
       "    <tr>\n",
       "      <th>0</th>\n",
       "      <td>1</td>\n",
       "      <td>Bulbasaur</td>\n",
       "      <td>Grass</td>\n",
       "      <td>Poison</td>\n",
       "      <td>45</td>\n",
       "      <td>49</td>\n",
       "      <td>49</td>\n",
       "      <td>65</td>\n",
       "      <td>65</td>\n",
       "      <td>45</td>\n",
       "      <td>1</td>\n",
       "      <td>False</td>\n",
       "      <td>27.819549</td>\n",
       "    </tr>\n",
       "    <tr>\n",
       "      <th>1</th>\n",
       "      <td>2</td>\n",
       "      <td>Ivysaur</td>\n",
       "      <td>Grass</td>\n",
       "      <td>Poison</td>\n",
       "      <td>60</td>\n",
       "      <td>62</td>\n",
       "      <td>63</td>\n",
       "      <td>80</td>\n",
       "      <td>80</td>\n",
       "      <td>60</td>\n",
       "      <td>1</td>\n",
       "      <td>False</td>\n",
       "      <td>38.016529</td>\n",
       "    </tr>\n",
       "    <tr>\n",
       "      <th>2</th>\n",
       "      <td>3</td>\n",
       "      <td>Venusaur</td>\n",
       "      <td>Grass</td>\n",
       "      <td>Poison</td>\n",
       "      <td>80</td>\n",
       "      <td>82</td>\n",
       "      <td>83</td>\n",
       "      <td>100</td>\n",
       "      <td>100</td>\n",
       "      <td>80</td>\n",
       "      <td>1</td>\n",
       "      <td>False</td>\n",
       "      <td>67.424242</td>\n",
       "    </tr>\n",
       "    <tr>\n",
       "      <th>3</th>\n",
       "      <td>4</td>\n",
       "      <td>Mega Venusaur</td>\n",
       "      <td>Grass</td>\n",
       "      <td>Poison</td>\n",
       "      <td>80</td>\n",
       "      <td>100</td>\n",
       "      <td>123</td>\n",
       "      <td>122</td>\n",
       "      <td>120</td>\n",
       "      <td>80</td>\n",
       "      <td>1</td>\n",
       "      <td>False</td>\n",
       "      <td>56.000000</td>\n",
       "    </tr>\n",
       "    <tr>\n",
       "      <th>4</th>\n",
       "      <td>5</td>\n",
       "      <td>Charmander</td>\n",
       "      <td>Fire</td>\n",
       "      <td>NaN</td>\n",
       "      <td>39</td>\n",
       "      <td>52</td>\n",
       "      <td>43</td>\n",
       "      <td>60</td>\n",
       "      <td>50</td>\n",
       "      <td>65</td>\n",
       "      <td>1</td>\n",
       "      <td>False</td>\n",
       "      <td>49.107143</td>\n",
       "    </tr>\n",
       "    <tr>\n",
       "      <th>...</th>\n",
       "      <td>...</td>\n",
       "      <td>...</td>\n",
       "      <td>...</td>\n",
       "      <td>...</td>\n",
       "      <td>...</td>\n",
       "      <td>...</td>\n",
       "      <td>...</td>\n",
       "      <td>...</td>\n",
       "      <td>...</td>\n",
       "      <td>...</td>\n",
       "      <td>...</td>\n",
       "      <td>...</td>\n",
       "      <td>...</td>\n",
       "    </tr>\n",
       "    <tr>\n",
       "      <th>774</th>\n",
       "      <td>796</td>\n",
       "      <td>Diancie</td>\n",
       "      <td>Rock</td>\n",
       "      <td>Fairy</td>\n",
       "      <td>50</td>\n",
       "      <td>100</td>\n",
       "      <td>150</td>\n",
       "      <td>100</td>\n",
       "      <td>150</td>\n",
       "      <td>50</td>\n",
       "      <td>6</td>\n",
       "      <td>True</td>\n",
       "      <td>37.142857</td>\n",
       "    </tr>\n",
       "    <tr>\n",
       "      <th>775</th>\n",
       "      <td>797</td>\n",
       "      <td>Mega Diancie</td>\n",
       "      <td>Rock</td>\n",
       "      <td>Fairy</td>\n",
       "      <td>50</td>\n",
       "      <td>160</td>\n",
       "      <td>110</td>\n",
       "      <td>160</td>\n",
       "      <td>110</td>\n",
       "      <td>110</td>\n",
       "      <td>6</td>\n",
       "      <td>True</td>\n",
       "      <td>88.549618</td>\n",
       "    </tr>\n",
       "    <tr>\n",
       "      <th>776</th>\n",
       "      <td>798</td>\n",
       "      <td>Hoopa Confined</td>\n",
       "      <td>Psychic</td>\n",
       "      <td>Ghost</td>\n",
       "      <td>80</td>\n",
       "      <td>110</td>\n",
       "      <td>60</td>\n",
       "      <td>150</td>\n",
       "      <td>130</td>\n",
       "      <td>70</td>\n",
       "      <td>6</td>\n",
       "      <td>True</td>\n",
       "      <td>50.420168</td>\n",
       "    </tr>\n",
       "    <tr>\n",
       "      <th>777</th>\n",
       "      <td>799</td>\n",
       "      <td>Hoopa Unbound</td>\n",
       "      <td>Psychic</td>\n",
       "      <td>Dark</td>\n",
       "      <td>80</td>\n",
       "      <td>160</td>\n",
       "      <td>60</td>\n",
       "      <td>170</td>\n",
       "      <td>130</td>\n",
       "      <td>80</td>\n",
       "      <td>6</td>\n",
       "      <td>True</td>\n",
       "      <td>61.805556</td>\n",
       "    </tr>\n",
       "    <tr>\n",
       "      <th>778</th>\n",
       "      <td>800</td>\n",
       "      <td>Volcanion</td>\n",
       "      <td>Fire</td>\n",
       "      <td>Water</td>\n",
       "      <td>80</td>\n",
       "      <td>110</td>\n",
       "      <td>120</td>\n",
       "      <td>130</td>\n",
       "      <td>90</td>\n",
       "      <td>70</td>\n",
       "      <td>6</td>\n",
       "      <td>True</td>\n",
       "      <td>61.983471</td>\n",
       "    </tr>\n",
       "  </tbody>\n",
       "</table>\n",
       "<p>779 rows × 13 columns</p>\n",
       "</div>"
      ],
      "text/plain": [
       "      ID            Name   Type 1  Type 2  HP  Attack  Defense  Sp. Atk  \\\n",
       "0      1       Bulbasaur    Grass  Poison  45      49       49       65   \n",
       "1      2         Ivysaur    Grass  Poison  60      62       63       80   \n",
       "2      3        Venusaur    Grass  Poison  80      82       83      100   \n",
       "3      4   Mega Venusaur    Grass  Poison  80     100      123      122   \n",
       "4      5      Charmander     Fire     NaN  39      52       43       60   \n",
       "..   ...             ...      ...     ...  ..     ...      ...      ...   \n",
       "774  796         Diancie     Rock   Fairy  50     100      150      100   \n",
       "775  797    Mega Diancie     Rock   Fairy  50     160      110      160   \n",
       "776  798  Hoopa Confined  Psychic   Ghost  80     110       60      150   \n",
       "777  799   Hoopa Unbound  Psychic    Dark  80     160       60      170   \n",
       "778  800       Volcanion     Fire   Water  80     110      120      130   \n",
       "\n",
       "     Sp. Def  Speed  Generation  Legendary  WinningPercentage  \n",
       "0         65     45           1      False          27.819549  \n",
       "1         80     60           1      False          38.016529  \n",
       "2        100     80           1      False          67.424242  \n",
       "3        120     80           1      False          56.000000  \n",
       "4         50     65           1      False          49.107143  \n",
       "..       ...    ...         ...        ...                ...  \n",
       "774      150     50           6       True          37.142857  \n",
       "775      110    110           6       True          88.549618  \n",
       "776      130     70           6       True          50.420168  \n",
       "777      130     80           6       True          61.805556  \n",
       "778       90     70           6       True          61.983471  \n",
       "\n",
       "[779 rows x 13 columns]"
      ]
     },
     "execution_count": 19,
     "metadata": {},
     "output_type": "execute_result"
    }
   ],
   "source": [
    "# Load dataset\n",
    "df = pd.read_csv(\"pokemon_dataset.csv\")\n",
    "df"
   ]
  },
  {
   "cell_type": "markdown",
   "metadata": {
    "id": "MoSpnBpL2tkQ"
   },
   "source": [
    "## SOAL 1 Data Pre-processing [20]"
   ]
  },
  {
   "cell_type": "markdown",
   "metadata": {
    "id": "aRFPlQC667kl"
   },
   "source": [
    "Terapkanlah data pre-processing pada bagian ini agar dataset yang telah diberikan dapat dijadikan input dari model yang akan kalian buat. Terapkan proses tersebut untuk masing-masing dataset (Weather Type & Pokemon) hingga dataset terbagi menjadi train dan test\n",
    "\n",
    "\n",
    "**Note: Gunakan Random Seed 42 saat melakukan train-test split !**"
   ]
  },
  {
   "cell_type": "markdown",
   "metadata": {
    "id": "ZyQew-2S4Jz6"
   },
   "source": [
    "### Dataset Weather Type"
   ]
  },
  {
   "cell_type": "markdown",
   "metadata": {
    "id": "UGwT5g6cwdO5"
   },
   "source": [
    "**Terapkan proses data pre-processing di bawah cell ini**"
   ]
  },
  {
   "cell_type": "code",
   "execution_count": 20,
   "metadata": {
    "id": "UGwT5g6cwdO5"
   },
   "outputs": [],
   "source": [
    "# CODE HERE\n",
    "import pandas as pd\n",
    "from sklearn.model_selection import train_test_split\n",
    "from sklearn.preprocessing import LabelEncoder, StandardScaler\n",
    "from sklearn.linear_model import LinearRegression\n",
    "from sklearn.metrics import mean_squared_error\n",
    "\n",
    "# Asumsikan df sudah berisi dataset dari tangkapan layar\n",
    "# Jika belum, baca dataset terlebih dahulu\n",
    "df = pd.read_csv(\"weather_classification_dataset.csv\")\n",
    "\n",
    "# Penanganan Nilai Kategorikal\n",
    "categorical_cols = [\"Cloud Cover\", \"Location\", \"Weather Type\"]\n",
    "encoders = {}\n",
    "for col in categorical_cols:\n",
    "    encoders[col] = LabelEncoder()\n",
    "    df[col] = encoders[col].fit_transform(df[col])\n",
    "\n",
    "# Pembagian Train-Test Split\n",
    "X = df.drop(\"Weather Type\", axis=1)\n",
    "y = df[\"Weather Type\"]\n",
    "X_train, X_test, y_train, y_test = train_test_split(X, y, test_size=0.2, random_state=42)\n",
    "\n",
    "# Penskalakan Fitur\n",
    "numerical_cols = X.select_dtypes(include=[\"number\"]).columns\n",
    "scaler = StandardScaler()\n",
    "X_train[numerical_cols] = scaler.fit_transform(X_train[numerical_cols])\n",
    "X_test[numerical_cols] = scaler.transform(X_test[numerical_cols])\n",
    "\n",
    "\n",
    "# Sekarang X_train, X_test, y_train, y_test siap digunakan untuk model"
   ]
  },
  {
   "cell_type": "markdown",
   "metadata": {
    "id": "79z1IdWu4MSA"
   },
   "source": [
    "### Dataset Pokemon"
   ]
  },
  {
   "cell_type": "markdown",
   "metadata": {
    "id": "ka-r6a9wwicX"
   },
   "source": [
    "**Terapkan proses data pre-processing di bawah cell ini**"
   ]
  },
  {
   "cell_type": "code",
   "execution_count": 21,
   "metadata": {
    "id": "lxC6jGEjMWHh"
   },
   "outputs": [
    {
     "ename": "KeyError",
     "evalue": "\"None of [Index(['ID', 'Type 1', 'Type 2', 'HP', 'Attack', 'Defense', 'Sp. Atk',\\n       'Sp. Def', 'Speed', 'Generation', 'WinningPercentage'],\\n      dtype='object')] are in the [columns]\"",
     "output_type": "error",
     "traceback": [
      "\u001b[1;31m---------------------------------------------------------------------------\u001b[0m",
      "\u001b[1;31mKeyError\u001b[0m                                  Traceback (most recent call last)",
      "Cell \u001b[1;32mIn[21], line 25\u001b[0m\n\u001b[0;32m     23\u001b[0m numerical_cols \u001b[38;5;241m=\u001b[39m X\u001b[38;5;241m.\u001b[39mselect_dtypes(include\u001b[38;5;241m=\u001b[39m[\u001b[38;5;124m\"\u001b[39m\u001b[38;5;124mnumber\u001b[39m\u001b[38;5;124m\"\u001b[39m])\u001b[38;5;241m.\u001b[39mcolumns\n\u001b[0;32m     24\u001b[0m scaler \u001b[38;5;241m=\u001b[39m StandardScaler()\n\u001b[1;32m---> 25\u001b[0m X_train[numerical_cols] \u001b[38;5;241m=\u001b[39m scaler\u001b[38;5;241m.\u001b[39mfit_transform(\u001b[43mX_train\u001b[49m\u001b[43m[\u001b[49m\u001b[43mnumerical_cols\u001b[49m\u001b[43m]\u001b[49m)\n\u001b[0;32m     26\u001b[0m X_test[numerical_cols] \u001b[38;5;241m=\u001b[39m scaler\u001b[38;5;241m.\u001b[39mtransform(X_test[numerical_cols])\n\u001b[0;32m     28\u001b[0m \u001b[38;5;66;03m# Sekarang X_train, X_test, y_train, y_test siap digunakan untuk model\u001b[39;00m\n",
      "File \u001b[1;32mC:\\laragon\\bin\\python\\python-3.13\\Lib\\site-packages\\pandas\\core\\frame.py:4108\u001b[0m, in \u001b[0;36mDataFrame.__getitem__\u001b[1;34m(self, key)\u001b[0m\n\u001b[0;32m   4106\u001b[0m     \u001b[38;5;28;01mif\u001b[39;00m is_iterator(key):\n\u001b[0;32m   4107\u001b[0m         key \u001b[38;5;241m=\u001b[39m \u001b[38;5;28mlist\u001b[39m(key)\n\u001b[1;32m-> 4108\u001b[0m     indexer \u001b[38;5;241m=\u001b[39m \u001b[38;5;28;43mself\u001b[39;49m\u001b[38;5;241;43m.\u001b[39;49m\u001b[43mcolumns\u001b[49m\u001b[38;5;241;43m.\u001b[39;49m\u001b[43m_get_indexer_strict\u001b[49m\u001b[43m(\u001b[49m\u001b[43mkey\u001b[49m\u001b[43m,\u001b[49m\u001b[43m \u001b[49m\u001b[38;5;124;43m\"\u001b[39;49m\u001b[38;5;124;43mcolumns\u001b[39;49m\u001b[38;5;124;43m\"\u001b[39;49m\u001b[43m)\u001b[49m[\u001b[38;5;241m1\u001b[39m]\n\u001b[0;32m   4110\u001b[0m \u001b[38;5;66;03m# take() does not accept boolean indexers\u001b[39;00m\n\u001b[0;32m   4111\u001b[0m \u001b[38;5;28;01mif\u001b[39;00m \u001b[38;5;28mgetattr\u001b[39m(indexer, \u001b[38;5;124m\"\u001b[39m\u001b[38;5;124mdtype\u001b[39m\u001b[38;5;124m\"\u001b[39m, \u001b[38;5;28;01mNone\u001b[39;00m) \u001b[38;5;241m==\u001b[39m \u001b[38;5;28mbool\u001b[39m:\n",
      "File \u001b[1;32mC:\\laragon\\bin\\python\\python-3.13\\Lib\\site-packages\\pandas\\core\\indexes\\base.py:6200\u001b[0m, in \u001b[0;36mIndex._get_indexer_strict\u001b[1;34m(self, key, axis_name)\u001b[0m\n\u001b[0;32m   6197\u001b[0m \u001b[38;5;28;01melse\u001b[39;00m:\n\u001b[0;32m   6198\u001b[0m     keyarr, indexer, new_indexer \u001b[38;5;241m=\u001b[39m \u001b[38;5;28mself\u001b[39m\u001b[38;5;241m.\u001b[39m_reindex_non_unique(keyarr)\n\u001b[1;32m-> 6200\u001b[0m \u001b[38;5;28;43mself\u001b[39;49m\u001b[38;5;241;43m.\u001b[39;49m\u001b[43m_raise_if_missing\u001b[49m\u001b[43m(\u001b[49m\u001b[43mkeyarr\u001b[49m\u001b[43m,\u001b[49m\u001b[43m \u001b[49m\u001b[43mindexer\u001b[49m\u001b[43m,\u001b[49m\u001b[43m \u001b[49m\u001b[43maxis_name\u001b[49m\u001b[43m)\u001b[49m\n\u001b[0;32m   6202\u001b[0m keyarr \u001b[38;5;241m=\u001b[39m \u001b[38;5;28mself\u001b[39m\u001b[38;5;241m.\u001b[39mtake(indexer)\n\u001b[0;32m   6203\u001b[0m \u001b[38;5;28;01mif\u001b[39;00m \u001b[38;5;28misinstance\u001b[39m(key, Index):\n\u001b[0;32m   6204\u001b[0m     \u001b[38;5;66;03m# GH 42790 - Preserve name from an Index\u001b[39;00m\n",
      "File \u001b[1;32mC:\\laragon\\bin\\python\\python-3.13\\Lib\\site-packages\\pandas\\core\\indexes\\base.py:6249\u001b[0m, in \u001b[0;36mIndex._raise_if_missing\u001b[1;34m(self, key, indexer, axis_name)\u001b[0m\n\u001b[0;32m   6247\u001b[0m \u001b[38;5;28;01mif\u001b[39;00m nmissing:\n\u001b[0;32m   6248\u001b[0m     \u001b[38;5;28;01mif\u001b[39;00m nmissing \u001b[38;5;241m==\u001b[39m \u001b[38;5;28mlen\u001b[39m(indexer):\n\u001b[1;32m-> 6249\u001b[0m         \u001b[38;5;28;01mraise\u001b[39;00m \u001b[38;5;167;01mKeyError\u001b[39;00m(\u001b[38;5;124mf\u001b[39m\u001b[38;5;124m\"\u001b[39m\u001b[38;5;124mNone of [\u001b[39m\u001b[38;5;132;01m{\u001b[39;00mkey\u001b[38;5;132;01m}\u001b[39;00m\u001b[38;5;124m] are in the [\u001b[39m\u001b[38;5;132;01m{\u001b[39;00maxis_name\u001b[38;5;132;01m}\u001b[39;00m\u001b[38;5;124m]\u001b[39m\u001b[38;5;124m\"\u001b[39m)\n\u001b[0;32m   6251\u001b[0m     not_found \u001b[38;5;241m=\u001b[39m \u001b[38;5;28mlist\u001b[39m(ensure_index(key)[missing_mask\u001b[38;5;241m.\u001b[39mnonzero()[\u001b[38;5;241m0\u001b[39m]]\u001b[38;5;241m.\u001b[39munique())\n\u001b[0;32m   6252\u001b[0m     \u001b[38;5;28;01mraise\u001b[39;00m \u001b[38;5;167;01mKeyError\u001b[39;00m(\u001b[38;5;124mf\u001b[39m\u001b[38;5;124m\"\u001b[39m\u001b[38;5;132;01m{\u001b[39;00mnot_found\u001b[38;5;132;01m}\u001b[39;00m\u001b[38;5;124m not in index\u001b[39m\u001b[38;5;124m\"\u001b[39m)\n",
      "\u001b[1;31mKeyError\u001b[0m: \"None of [Index(['ID', 'Type 1', 'Type 2', 'HP', 'Attack', 'Defense', 'Sp. Atk',\\n       'Sp. Def', 'Speed', 'Generation', 'WinningPercentage'],\\n      dtype='object')] are in the [columns]\""
     ]
    }
   ],
   "source": [
    "# CODE HERE\n",
    "import pandas as pd\n",
    "from sklearn.model_selection import train_test_split\n",
    "from sklearn.preprocessing import LabelEncoder, StandardScaler\n",
    "\n",
    "# Asumsikan pokemon_df sudah berisi dataset Pokemon\n",
    "# Jika belum, baca dataset terlebih dahulu\n",
    "pokemon_df = pd.read_csv(\"pokemon_dataset.csv\")\n",
    "\n",
    "# Penanganan Nilai Kategorikal\n",
    "categorical_cols = [\"Type 1\", \"Type 2\"]  # Sesuaikan dengan kolom kategorikal di dataset Anda\n",
    "encoders = {}\n",
    "for col in categorical_cols:\n",
    "    encoders[col] = LabelEncoder()\n",
    "    pokemon_df[col] = encoders[col].fit_transform(pokemon_df[col].astype(str))  # Tambahkan .astype(str) untuk menangani NaN\n",
    "\n",
    "# Pembagian Train-Test Split\n",
    "X = pokemon_df.drop(\"Name\", axis=1)  # Asumsikan \"Name\" bukan fitur yang digunakan\n",
    "y = pokemon_df[\"Type 1\"]  # Asumsikan ingin memprediksi \"Type 1\"\n",
    "C, X_test, y_train, y_test = train_test_split(X, y, test_size=0.2, random_state=42)\n",
    "\n",
    "# Penskalakan Fitur\n",
    "numerical_cols = X.select_dtypes(include=[\"number\"]).columns\n",
    "scaler = StandardScaler()\n",
    "X_train[numerical_cols] = scaler.fit_transform(X_train[numerical_cols])\n",
    "X_test[numerical_cols] = scaler.transform(X_test[numerical_cols])\n",
    "\n",
    "# Sekarang X_train, X_test, y_train, y_test siap digunakan untuk model"
   ]
  },
  {
   "cell_type": "markdown",
   "metadata": {
    "id": "GWBcCbHY5Suz"
   },
   "source": [
    "## CART (Classification and Regression Tree)"
   ]
  },
  {
   "cell_type": "markdown",
   "metadata": {
    "id": "0QA9DnAF5d6O"
   },
   "source": [
    "### Decision Tree\n",
    "\n",
    "Decision Tree merupakan model yang beroperasi dengan struktur berbentuk Binary Tree, di mana setiap node hanya dapat memiliki dua child node paling banyak. Dalam bidang data science, model ini diterapkan dalam konteks Supervised Learning, yaitu model dibentuk berdasarkan data training dan selanjutnya digunakan untuk membuat prediksi terhadap data yang disajikan. Data training yang digunakan akan diolah menjadi sebuah rangkaian aturan dalam bentuk Binary Tree. Aturan-aturan ini selanjutnya digunakan untuk proses prediksi pada dataset lain."
   ]
  },
  {
   "cell_type": "markdown",
   "metadata": {
    "id": "bircVGkQ6PJk"
   },
   "source": [
    "#### Training"
   ]
  },
  {
   "cell_type": "markdown",
   "metadata": {
    "id": "xf4OnGAi2Aac"
   },
   "source": [
    "Function di bawah ini merupakan function yang dapat digunakan untuk menghitung metrics hasil testing, baik untuk kasus regresi, maupun kasus klasifikasi."
   ]
  },
  {
   "cell_type": "code",
   "execution_count": 22,
   "metadata": {
    "id": "gilISJfn6TLq"
   },
   "outputs": [],
   "source": [
    "def regression_metrics(prediction, y_test):\n",
    "    MAE = mean_absolute_error(y_test, prediction)\n",
    "    MSE = mean_squared_error(y_test, prediction)\n",
    "    RMSE = np.sqrt(MSE)\n",
    "    R_squared = r2_score(y_test, prediction)\n",
    "\n",
    "    print('MAE: ' + str(MAE))\n",
    "    print('MSE: ' + str(MSE))\n",
    "    print('RMSE: ' + str(RMSE))\n",
    "    print('R_squared: ' + str(R_squared))"
   ]
  },
  {
   "cell_type": "code",
   "execution_count": 23,
   "metadata": {
    "id": "e6kJCWmI6uQq"
   },
   "outputs": [],
   "source": [
    "def classification_metrics(prediction, y_test):\n",
    "  accuracy = accuracy_score(y_test, prediction)\n",
    "  f1 = f1_score(y_test, prediction, average=\"macro\")\n",
    "  recall = recall_score(y_test, prediction, average=\"macro\")\n",
    "  precision = precision_score(y_test, prediction, average=\"macro\")\n",
    "\n",
    "  print('Accuracy: ' + str(accuracy))\n",
    "  print('F1 Score: ' + str(f1))\n",
    "  print('Recall Score: ' + str(recall))\n",
    "  print('Precision Score: ' + str(precision))\n"
   ]
  },
  {
   "cell_type": "markdown",
   "metadata": {
    "id": "1P2kd94H6aoZ"
   },
   "source": [
    "##### Dataset Weather Type"
   ]
  },
  {
   "cell_type": "code",
   "execution_count": 25,
   "metadata": {
    "id": "fjalBZHeDEjE"
   },
   "outputs": [
    {
     "ename": "ValueError",
     "evalue": "could not convert string to float: 'Winter'",
     "output_type": "error",
     "traceback": [
      "\u001b[1;31m---------------------------------------------------------------------------\u001b[0m",
      "\u001b[1;31mValueError\u001b[0m                                Traceback (most recent call last)",
      "\u001b[1;32m~\\AppData\\Local\\Temp\\ipykernel_5424\\3510594718.py\u001b[0m in \u001b[0;36m?\u001b[1;34m()\u001b[0m\n\u001b[0;32m      1\u001b[0m \u001b[1;31m# Melakukan training pada model decision tree\u001b[0m\u001b[1;33m\u001b[0m\u001b[1;33m\u001b[0m\u001b[0m\n\u001b[0;32m      2\u001b[0m \u001b[1;31m# Sesuaikan nama variable X_train dan y_train kamu\u001b[0m\u001b[1;33m\u001b[0m\u001b[1;33m\u001b[0m\u001b[0m\n\u001b[0;32m      3\u001b[0m \u001b[0mdtc_weather\u001b[0m \u001b[1;33m=\u001b[0m \u001b[0mDecisionTreeClassifier\u001b[0m\u001b[1;33m(\u001b[0m\u001b[0mmax_depth\u001b[0m\u001b[1;33m=\u001b[0m\u001b[1;36m3\u001b[0m\u001b[1;33m,\u001b[0m \u001b[0mrandom_state\u001b[0m\u001b[1;33m=\u001b[0m\u001b[1;36m42\u001b[0m\u001b[1;33m)\u001b[0m\u001b[1;33m\u001b[0m\u001b[1;33m\u001b[0m\u001b[0m\n\u001b[1;32m----> 4\u001b[1;33m \u001b[0mdtc_weather\u001b[0m\u001b[1;33m.\u001b[0m\u001b[0mfit\u001b[0m\u001b[1;33m(\u001b[0m\u001b[0mX_train\u001b[0m\u001b[1;33m,\u001b[0m \u001b[0my_train\u001b[0m\u001b[1;33m)\u001b[0m\u001b[1;33m\u001b[0m\u001b[1;33m\u001b[0m\u001b[0m\n\u001b[0m",
      "\u001b[1;32mC:\\laragon\\bin\\python\\python-3.13\\Lib\\site-packages\\sklearn\\base.py\u001b[0m in \u001b[0;36m?\u001b[1;34m(estimator, *args, **kwargs)\u001b[0m\n\u001b[0;32m   1385\u001b[0m                 skip_parameter_validation=(\n\u001b[0;32m   1386\u001b[0m                     \u001b[0mprefer_skip_nested_validation\u001b[0m \u001b[1;32mor\u001b[0m \u001b[0mglobal_skip_validation\u001b[0m\u001b[1;33m\u001b[0m\u001b[1;33m\u001b[0m\u001b[0m\n\u001b[0;32m   1387\u001b[0m                 \u001b[1;33m)\u001b[0m\u001b[1;33m\u001b[0m\u001b[1;33m\u001b[0m\u001b[0m\n\u001b[0;32m   1388\u001b[0m             \u001b[1;33m)\u001b[0m\u001b[1;33m:\u001b[0m\u001b[1;33m\u001b[0m\u001b[1;33m\u001b[0m\u001b[0m\n\u001b[1;32m-> 1389\u001b[1;33m                 \u001b[1;32mreturn\u001b[0m \u001b[0mfit_method\u001b[0m\u001b[1;33m(\u001b[0m\u001b[0mestimator\u001b[0m\u001b[1;33m,\u001b[0m \u001b[1;33m*\u001b[0m\u001b[0margs\u001b[0m\u001b[1;33m,\u001b[0m \u001b[1;33m**\u001b[0m\u001b[0mkwargs\u001b[0m\u001b[1;33m)\u001b[0m\u001b[1;33m\u001b[0m\u001b[1;33m\u001b[0m\u001b[0m\n\u001b[0m",
      "\u001b[1;32mC:\\laragon\\bin\\python\\python-3.13\\Lib\\site-packages\\sklearn\\tree\\_classes.py\u001b[0m in \u001b[0;36m?\u001b[1;34m(self, X, y, sample_weight, check_input)\u001b[0m\n\u001b[0;32m   1020\u001b[0m         \u001b[0mself\u001b[0m \u001b[1;33m:\u001b[0m \u001b[0mDecisionTreeClassifier\u001b[0m\u001b[1;33m\u001b[0m\u001b[1;33m\u001b[0m\u001b[0m\n\u001b[0;32m   1021\u001b[0m             \u001b[0mFitted\u001b[0m \u001b[0mestimator\u001b[0m\u001b[1;33m.\u001b[0m\u001b[1;33m\u001b[0m\u001b[1;33m\u001b[0m\u001b[0m\n\u001b[0;32m   1022\u001b[0m         \"\"\"\n\u001b[0;32m   1023\u001b[0m \u001b[1;33m\u001b[0m\u001b[0m\n\u001b[1;32m-> 1024\u001b[1;33m         super()._fit(\n\u001b[0m\u001b[0;32m   1025\u001b[0m             \u001b[0mX\u001b[0m\u001b[1;33m,\u001b[0m\u001b[1;33m\u001b[0m\u001b[1;33m\u001b[0m\u001b[0m\n\u001b[0;32m   1026\u001b[0m             \u001b[0my\u001b[0m\u001b[1;33m,\u001b[0m\u001b[1;33m\u001b[0m\u001b[1;33m\u001b[0m\u001b[0m\n\u001b[0;32m   1027\u001b[0m             \u001b[0msample_weight\u001b[0m\u001b[1;33m=\u001b[0m\u001b[0msample_weight\u001b[0m\u001b[1;33m,\u001b[0m\u001b[1;33m\u001b[0m\u001b[1;33m\u001b[0m\u001b[0m\n",
      "\u001b[1;32mC:\\laragon\\bin\\python\\python-3.13\\Lib\\site-packages\\sklearn\\tree\\_classes.py\u001b[0m in \u001b[0;36m?\u001b[1;34m(self, X, y, sample_weight, check_input, missing_values_in_feature_mask)\u001b[0m\n\u001b[0;32m    248\u001b[0m             check_X_params = dict(\n\u001b[0;32m    249\u001b[0m                 \u001b[0mdtype\u001b[0m\u001b[1;33m=\u001b[0m\u001b[0mDTYPE\u001b[0m\u001b[1;33m,\u001b[0m \u001b[0maccept_sparse\u001b[0m\u001b[1;33m=\u001b[0m\u001b[1;34m\"csc\"\u001b[0m\u001b[1;33m,\u001b[0m \u001b[0mensure_all_finite\u001b[0m\u001b[1;33m=\u001b[0m\u001b[1;32mFalse\u001b[0m\u001b[1;33m\u001b[0m\u001b[1;33m\u001b[0m\u001b[0m\n\u001b[0;32m    250\u001b[0m             \u001b[1;33m)\u001b[0m\u001b[1;33m\u001b[0m\u001b[1;33m\u001b[0m\u001b[0m\n\u001b[0;32m    251\u001b[0m             \u001b[0mcheck_y_params\u001b[0m \u001b[1;33m=\u001b[0m \u001b[0mdict\u001b[0m\u001b[1;33m(\u001b[0m\u001b[0mensure_2d\u001b[0m\u001b[1;33m=\u001b[0m\u001b[1;32mFalse\u001b[0m\u001b[1;33m,\u001b[0m \u001b[0mdtype\u001b[0m\u001b[1;33m=\u001b[0m\u001b[1;32mNone\u001b[0m\u001b[1;33m)\u001b[0m\u001b[1;33m\u001b[0m\u001b[1;33m\u001b[0m\u001b[0m\n\u001b[1;32m--> 252\u001b[1;33m             X, y = validate_data(\n\u001b[0m\u001b[0;32m    253\u001b[0m                 \u001b[0mself\u001b[0m\u001b[1;33m,\u001b[0m \u001b[0mX\u001b[0m\u001b[1;33m,\u001b[0m \u001b[0my\u001b[0m\u001b[1;33m,\u001b[0m \u001b[0mvalidate_separately\u001b[0m\u001b[1;33m=\u001b[0m\u001b[1;33m(\u001b[0m\u001b[0mcheck_X_params\u001b[0m\u001b[1;33m,\u001b[0m \u001b[0mcheck_y_params\u001b[0m\u001b[1;33m)\u001b[0m\u001b[1;33m\u001b[0m\u001b[1;33m\u001b[0m\u001b[0m\n\u001b[0;32m    254\u001b[0m             \u001b[1;33m)\u001b[0m\u001b[1;33m\u001b[0m\u001b[1;33m\u001b[0m\u001b[0m\n\u001b[0;32m    255\u001b[0m \u001b[1;33m\u001b[0m\u001b[0m\n",
      "\u001b[1;32mC:\\laragon\\bin\\python\\python-3.13\\Lib\\site-packages\\sklearn\\utils\\validation.py\u001b[0m in \u001b[0;36m?\u001b[1;34m(_estimator, X, y, reset, validate_separately, skip_check_array, **check_params)\u001b[0m\n\u001b[0;32m   2952\u001b[0m             \u001b[1;31m# :(\u001b[0m\u001b[1;33m\u001b[0m\u001b[1;33m\u001b[0m\u001b[0m\n\u001b[0;32m   2953\u001b[0m             \u001b[0mcheck_X_params\u001b[0m\u001b[1;33m,\u001b[0m \u001b[0mcheck_y_params\u001b[0m \u001b[1;33m=\u001b[0m \u001b[0mvalidate_separately\u001b[0m\u001b[1;33m\u001b[0m\u001b[1;33m\u001b[0m\u001b[0m\n\u001b[0;32m   2954\u001b[0m             \u001b[1;32mif\u001b[0m \u001b[1;34m\"estimator\"\u001b[0m \u001b[1;32mnot\u001b[0m \u001b[1;32min\u001b[0m \u001b[0mcheck_X_params\u001b[0m\u001b[1;33m:\u001b[0m\u001b[1;33m\u001b[0m\u001b[1;33m\u001b[0m\u001b[0m\n\u001b[0;32m   2955\u001b[0m                 \u001b[0mcheck_X_params\u001b[0m \u001b[1;33m=\u001b[0m \u001b[1;33m{\u001b[0m\u001b[1;33m**\u001b[0m\u001b[0mdefault_check_params\u001b[0m\u001b[1;33m,\u001b[0m \u001b[1;33m**\u001b[0m\u001b[0mcheck_X_params\u001b[0m\u001b[1;33m}\u001b[0m\u001b[1;33m\u001b[0m\u001b[1;33m\u001b[0m\u001b[0m\n\u001b[1;32m-> 2956\u001b[1;33m             \u001b[0mX\u001b[0m \u001b[1;33m=\u001b[0m \u001b[0mcheck_array\u001b[0m\u001b[1;33m(\u001b[0m\u001b[0mX\u001b[0m\u001b[1;33m,\u001b[0m \u001b[0minput_name\u001b[0m\u001b[1;33m=\u001b[0m\u001b[1;34m\"X\"\u001b[0m\u001b[1;33m,\u001b[0m \u001b[1;33m**\u001b[0m\u001b[0mcheck_X_params\u001b[0m\u001b[1;33m)\u001b[0m\u001b[1;33m\u001b[0m\u001b[1;33m\u001b[0m\u001b[0m\n\u001b[0m\u001b[0;32m   2957\u001b[0m             \u001b[1;32mif\u001b[0m \u001b[1;34m\"estimator\"\u001b[0m \u001b[1;32mnot\u001b[0m \u001b[1;32min\u001b[0m \u001b[0mcheck_y_params\u001b[0m\u001b[1;33m:\u001b[0m\u001b[1;33m\u001b[0m\u001b[1;33m\u001b[0m\u001b[0m\n\u001b[0;32m   2958\u001b[0m                 \u001b[0mcheck_y_params\u001b[0m \u001b[1;33m=\u001b[0m \u001b[1;33m{\u001b[0m\u001b[1;33m**\u001b[0m\u001b[0mdefault_check_params\u001b[0m\u001b[1;33m,\u001b[0m \u001b[1;33m**\u001b[0m\u001b[0mcheck_y_params\u001b[0m\u001b[1;33m}\u001b[0m\u001b[1;33m\u001b[0m\u001b[1;33m\u001b[0m\u001b[0m\n\u001b[0;32m   2959\u001b[0m             \u001b[0my\u001b[0m \u001b[1;33m=\u001b[0m \u001b[0mcheck_array\u001b[0m\u001b[1;33m(\u001b[0m\u001b[0my\u001b[0m\u001b[1;33m,\u001b[0m \u001b[0minput_name\u001b[0m\u001b[1;33m=\u001b[0m\u001b[1;34m\"y\"\u001b[0m\u001b[1;33m,\u001b[0m \u001b[1;33m**\u001b[0m\u001b[0mcheck_y_params\u001b[0m\u001b[1;33m)\u001b[0m\u001b[1;33m\u001b[0m\u001b[1;33m\u001b[0m\u001b[0m\n",
      "\u001b[1;32mC:\\laragon\\bin\\python\\python-3.13\\Lib\\site-packages\\sklearn\\utils\\validation.py\u001b[0m in \u001b[0;36m?\u001b[1;34m(array, accept_sparse, accept_large_sparse, dtype, order, copy, force_writeable, force_all_finite, ensure_all_finite, ensure_non_negative, ensure_2d, allow_nd, ensure_min_samples, ensure_min_features, estimator, input_name)\u001b[0m\n\u001b[0;32m   1052\u001b[0m                         \u001b[1;33m)\u001b[0m\u001b[1;33m\u001b[0m\u001b[1;33m\u001b[0m\u001b[0m\n\u001b[0;32m   1053\u001b[0m                     \u001b[0marray\u001b[0m \u001b[1;33m=\u001b[0m \u001b[0mxp\u001b[0m\u001b[1;33m.\u001b[0m\u001b[0mastype\u001b[0m\u001b[1;33m(\u001b[0m\u001b[0marray\u001b[0m\u001b[1;33m,\u001b[0m \u001b[0mdtype\u001b[0m\u001b[1;33m,\u001b[0m \u001b[0mcopy\u001b[0m\u001b[1;33m=\u001b[0m\u001b[1;32mFalse\u001b[0m\u001b[1;33m)\u001b[0m\u001b[1;33m\u001b[0m\u001b[1;33m\u001b[0m\u001b[0m\n\u001b[0;32m   1054\u001b[0m                 \u001b[1;32melse\u001b[0m\u001b[1;33m:\u001b[0m\u001b[1;33m\u001b[0m\u001b[1;33m\u001b[0m\u001b[0m\n\u001b[0;32m   1055\u001b[0m                     \u001b[0marray\u001b[0m \u001b[1;33m=\u001b[0m \u001b[0m_asarray_with_order\u001b[0m\u001b[1;33m(\u001b[0m\u001b[0marray\u001b[0m\u001b[1;33m,\u001b[0m \u001b[0morder\u001b[0m\u001b[1;33m=\u001b[0m\u001b[0morder\u001b[0m\u001b[1;33m,\u001b[0m \u001b[0mdtype\u001b[0m\u001b[1;33m=\u001b[0m\u001b[0mdtype\u001b[0m\u001b[1;33m,\u001b[0m \u001b[0mxp\u001b[0m\u001b[1;33m=\u001b[0m\u001b[0mxp\u001b[0m\u001b[1;33m)\u001b[0m\u001b[1;33m\u001b[0m\u001b[1;33m\u001b[0m\u001b[0m\n\u001b[1;32m-> 1056\u001b[1;33m             \u001b[1;32mexcept\u001b[0m \u001b[0mComplexWarning\u001b[0m \u001b[1;32mas\u001b[0m \u001b[0mcomplex_warning\u001b[0m\u001b[1;33m:\u001b[0m\u001b[1;33m\u001b[0m\u001b[1;33m\u001b[0m\u001b[0m\n\u001b[0m\u001b[0;32m   1057\u001b[0m                 raise ValueError(\n\u001b[0;32m   1058\u001b[0m                     \u001b[1;34m\"Complex data not supported\\n{}\\n\"\u001b[0m\u001b[1;33m.\u001b[0m\u001b[0mformat\u001b[0m\u001b[1;33m(\u001b[0m\u001b[0marray\u001b[0m\u001b[1;33m)\u001b[0m\u001b[1;33m\u001b[0m\u001b[1;33m\u001b[0m\u001b[0m\n\u001b[0;32m   1059\u001b[0m                 \u001b[1;33m)\u001b[0m \u001b[1;32mfrom\u001b[0m \u001b[0mcomplex_warning\u001b[0m\u001b[1;33m\u001b[0m\u001b[1;33m\u001b[0m\u001b[0m\n",
      "\u001b[1;32mC:\\laragon\\bin\\python\\python-3.13\\Lib\\site-packages\\sklearn\\utils\\_array_api.py\u001b[0m in \u001b[0;36m?\u001b[1;34m(array, dtype, order, copy, xp, device)\u001b[0m\n\u001b[0;32m    835\u001b[0m         \u001b[1;31m# Use NumPy API to support order\u001b[0m\u001b[1;33m\u001b[0m\u001b[1;33m\u001b[0m\u001b[0m\n\u001b[0;32m    836\u001b[0m         \u001b[1;32mif\u001b[0m \u001b[0mcopy\u001b[0m \u001b[1;32mis\u001b[0m \u001b[1;32mTrue\u001b[0m\u001b[1;33m:\u001b[0m\u001b[1;33m\u001b[0m\u001b[1;33m\u001b[0m\u001b[0m\n\u001b[0;32m    837\u001b[0m             \u001b[0marray\u001b[0m \u001b[1;33m=\u001b[0m \u001b[0mnumpy\u001b[0m\u001b[1;33m.\u001b[0m\u001b[0marray\u001b[0m\u001b[1;33m(\u001b[0m\u001b[0marray\u001b[0m\u001b[1;33m,\u001b[0m \u001b[0morder\u001b[0m\u001b[1;33m=\u001b[0m\u001b[0morder\u001b[0m\u001b[1;33m,\u001b[0m \u001b[0mdtype\u001b[0m\u001b[1;33m=\u001b[0m\u001b[0mdtype\u001b[0m\u001b[1;33m)\u001b[0m\u001b[1;33m\u001b[0m\u001b[1;33m\u001b[0m\u001b[0m\n\u001b[0;32m    838\u001b[0m         \u001b[1;32melse\u001b[0m\u001b[1;33m:\u001b[0m\u001b[1;33m\u001b[0m\u001b[1;33m\u001b[0m\u001b[0m\n\u001b[1;32m--> 839\u001b[1;33m             \u001b[0marray\u001b[0m \u001b[1;33m=\u001b[0m \u001b[0mnumpy\u001b[0m\u001b[1;33m.\u001b[0m\u001b[0masarray\u001b[0m\u001b[1;33m(\u001b[0m\u001b[0marray\u001b[0m\u001b[1;33m,\u001b[0m \u001b[0morder\u001b[0m\u001b[1;33m=\u001b[0m\u001b[0morder\u001b[0m\u001b[1;33m,\u001b[0m \u001b[0mdtype\u001b[0m\u001b[1;33m=\u001b[0m\u001b[0mdtype\u001b[0m\u001b[1;33m)\u001b[0m\u001b[1;33m\u001b[0m\u001b[1;33m\u001b[0m\u001b[0m\n\u001b[0m\u001b[0;32m    840\u001b[0m \u001b[1;33m\u001b[0m\u001b[0m\n\u001b[0;32m    841\u001b[0m         \u001b[1;31m# At this point array is a NumPy ndarray. We convert it to an array\u001b[0m\u001b[1;33m\u001b[0m\u001b[1;33m\u001b[0m\u001b[0m\n\u001b[0;32m    842\u001b[0m         \u001b[1;31m# container that is consistent with the input's namespace.\u001b[0m\u001b[1;33m\u001b[0m\u001b[1;33m\u001b[0m\u001b[0m\n",
      "\u001b[1;32mC:\\laragon\\bin\\python\\python-3.13\\Lib\\site-packages\\pandas\\core\\generic.py\u001b[0m in \u001b[0;36m?\u001b[1;34m(self, dtype, copy)\u001b[0m\n\u001b[0;32m   2149\u001b[0m     def __array__(\n\u001b[0;32m   2150\u001b[0m         \u001b[0mself\u001b[0m\u001b[1;33m,\u001b[0m \u001b[0mdtype\u001b[0m\u001b[1;33m:\u001b[0m \u001b[0mnpt\u001b[0m\u001b[1;33m.\u001b[0m\u001b[0mDTypeLike\u001b[0m \u001b[1;33m|\u001b[0m \u001b[1;32mNone\u001b[0m \u001b[1;33m=\u001b[0m \u001b[1;32mNone\u001b[0m\u001b[1;33m,\u001b[0m \u001b[0mcopy\u001b[0m\u001b[1;33m:\u001b[0m \u001b[0mbool_t\u001b[0m \u001b[1;33m|\u001b[0m \u001b[1;32mNone\u001b[0m \u001b[1;33m=\u001b[0m \u001b[1;32mNone\u001b[0m\u001b[1;33m\u001b[0m\u001b[1;33m\u001b[0m\u001b[0m\n\u001b[0;32m   2151\u001b[0m     \u001b[1;33m)\u001b[0m \u001b[1;33m->\u001b[0m \u001b[0mnp\u001b[0m\u001b[1;33m.\u001b[0m\u001b[0mndarray\u001b[0m\u001b[1;33m:\u001b[0m\u001b[1;33m\u001b[0m\u001b[1;33m\u001b[0m\u001b[0m\n\u001b[0;32m   2152\u001b[0m         \u001b[0mvalues\u001b[0m \u001b[1;33m=\u001b[0m \u001b[0mself\u001b[0m\u001b[1;33m.\u001b[0m\u001b[0m_values\u001b[0m\u001b[1;33m\u001b[0m\u001b[1;33m\u001b[0m\u001b[0m\n\u001b[1;32m-> 2153\u001b[1;33m         \u001b[0marr\u001b[0m \u001b[1;33m=\u001b[0m \u001b[0mnp\u001b[0m\u001b[1;33m.\u001b[0m\u001b[0masarray\u001b[0m\u001b[1;33m(\u001b[0m\u001b[0mvalues\u001b[0m\u001b[1;33m,\u001b[0m \u001b[0mdtype\u001b[0m\u001b[1;33m=\u001b[0m\u001b[0mdtype\u001b[0m\u001b[1;33m)\u001b[0m\u001b[1;33m\u001b[0m\u001b[1;33m\u001b[0m\u001b[0m\n\u001b[0m\u001b[0;32m   2154\u001b[0m         if (\n\u001b[0;32m   2155\u001b[0m             \u001b[0mastype_is_view\u001b[0m\u001b[1;33m(\u001b[0m\u001b[0mvalues\u001b[0m\u001b[1;33m.\u001b[0m\u001b[0mdtype\u001b[0m\u001b[1;33m,\u001b[0m \u001b[0marr\u001b[0m\u001b[1;33m.\u001b[0m\u001b[0mdtype\u001b[0m\u001b[1;33m)\u001b[0m\u001b[1;33m\u001b[0m\u001b[1;33m\u001b[0m\u001b[0m\n\u001b[0;32m   2156\u001b[0m             \u001b[1;32mand\u001b[0m \u001b[0musing_copy_on_write\u001b[0m\u001b[1;33m(\u001b[0m\u001b[1;33m)\u001b[0m\u001b[1;33m\u001b[0m\u001b[1;33m\u001b[0m\u001b[0m\n",
      "\u001b[1;31mValueError\u001b[0m: could not convert string to float: 'Winter'"
     ]
    }
   ],
   "source": [
    "# Melakukan training pada model decision tree\n",
    "# Sesuaikan nama variable X_train dan y_train kamu\n",
    "dtc_weather = DecisionTreeClassifier(max_depth=3, random_state=42)\n",
    "dtc_weather.fit(X_train, y_train)"
   ]
  },
  {
   "cell_type": "markdown",
   "metadata": {
    "id": "MBrN45b4Dbsp"
   },
   "source": [
    "##### Dataset Pokemon"
   ]
  },
  {
   "cell_type": "code",
   "execution_count": 61,
   "metadata": {
    "id": "6MykM4RdDeXq"
   },
   "outputs": [
    {
     "data": {
      "text/html": [
       "<style>#sk-container-id-2 {\n",
       "  /* Definition of color scheme common for light and dark mode */\n",
       "  --sklearn-color-text: #000;\n",
       "  --sklearn-color-text-muted: #666;\n",
       "  --sklearn-color-line: gray;\n",
       "  /* Definition of color scheme for unfitted estimators */\n",
       "  --sklearn-color-unfitted-level-0: #fff5e6;\n",
       "  --sklearn-color-unfitted-level-1: #f6e4d2;\n",
       "  --sklearn-color-unfitted-level-2: #ffe0b3;\n",
       "  --sklearn-color-unfitted-level-3: chocolate;\n",
       "  /* Definition of color scheme for fitted estimators */\n",
       "  --sklearn-color-fitted-level-0: #f0f8ff;\n",
       "  --sklearn-color-fitted-level-1: #d4ebff;\n",
       "  --sklearn-color-fitted-level-2: #b3dbfd;\n",
       "  --sklearn-color-fitted-level-3: cornflowerblue;\n",
       "\n",
       "  /* Specific color for light theme */\n",
       "  --sklearn-color-text-on-default-background: var(--sg-text-color, var(--theme-code-foreground, var(--jp-content-font-color1, black)));\n",
       "  --sklearn-color-background: var(--sg-background-color, var(--theme-background, var(--jp-layout-color0, white)));\n",
       "  --sklearn-color-border-box: var(--sg-text-color, var(--theme-code-foreground, var(--jp-content-font-color1, black)));\n",
       "  --sklearn-color-icon: #696969;\n",
       "\n",
       "  @media (prefers-color-scheme: dark) {\n",
       "    /* Redefinition of color scheme for dark theme */\n",
       "    --sklearn-color-text-on-default-background: var(--sg-text-color, var(--theme-code-foreground, var(--jp-content-font-color1, white)));\n",
       "    --sklearn-color-background: var(--sg-background-color, var(--theme-background, var(--jp-layout-color0, #111)));\n",
       "    --sklearn-color-border-box: var(--sg-text-color, var(--theme-code-foreground, var(--jp-content-font-color1, white)));\n",
       "    --sklearn-color-icon: #878787;\n",
       "  }\n",
       "}\n",
       "\n",
       "#sk-container-id-2 {\n",
       "  color: var(--sklearn-color-text);\n",
       "}\n",
       "\n",
       "#sk-container-id-2 pre {\n",
       "  padding: 0;\n",
       "}\n",
       "\n",
       "#sk-container-id-2 input.sk-hidden--visually {\n",
       "  border: 0;\n",
       "  clip: rect(1px 1px 1px 1px);\n",
       "  clip: rect(1px, 1px, 1px, 1px);\n",
       "  height: 1px;\n",
       "  margin: -1px;\n",
       "  overflow: hidden;\n",
       "  padding: 0;\n",
       "  position: absolute;\n",
       "  width: 1px;\n",
       "}\n",
       "\n",
       "#sk-container-id-2 div.sk-dashed-wrapped {\n",
       "  border: 1px dashed var(--sklearn-color-line);\n",
       "  margin: 0 0.4em 0.5em 0.4em;\n",
       "  box-sizing: border-box;\n",
       "  padding-bottom: 0.4em;\n",
       "  background-color: var(--sklearn-color-background);\n",
       "}\n",
       "\n",
       "#sk-container-id-2 div.sk-container {\n",
       "  /* jupyter's `normalize.less` sets `[hidden] { display: none; }`\n",
       "     but bootstrap.min.css set `[hidden] { display: none !important; }`\n",
       "     so we also need the `!important` here to be able to override the\n",
       "     default hidden behavior on the sphinx rendered scikit-learn.org.\n",
       "     See: https://github.com/scikit-learn/scikit-learn/issues/21755 */\n",
       "  display: inline-block !important;\n",
       "  position: relative;\n",
       "}\n",
       "\n",
       "#sk-container-id-2 div.sk-text-repr-fallback {\n",
       "  display: none;\n",
       "}\n",
       "\n",
       "div.sk-parallel-item,\n",
       "div.sk-serial,\n",
       "div.sk-item {\n",
       "  /* draw centered vertical line to link estimators */\n",
       "  background-image: linear-gradient(var(--sklearn-color-text-on-default-background), var(--sklearn-color-text-on-default-background));\n",
       "  background-size: 2px 100%;\n",
       "  background-repeat: no-repeat;\n",
       "  background-position: center center;\n",
       "}\n",
       "\n",
       "/* Parallel-specific style estimator block */\n",
       "\n",
       "#sk-container-id-2 div.sk-parallel-item::after {\n",
       "  content: \"\";\n",
       "  width: 100%;\n",
       "  border-bottom: 2px solid var(--sklearn-color-text-on-default-background);\n",
       "  flex-grow: 1;\n",
       "}\n",
       "\n",
       "#sk-container-id-2 div.sk-parallel {\n",
       "  display: flex;\n",
       "  align-items: stretch;\n",
       "  justify-content: center;\n",
       "  background-color: var(--sklearn-color-background);\n",
       "  position: relative;\n",
       "}\n",
       "\n",
       "#sk-container-id-2 div.sk-parallel-item {\n",
       "  display: flex;\n",
       "  flex-direction: column;\n",
       "}\n",
       "\n",
       "#sk-container-id-2 div.sk-parallel-item:first-child::after {\n",
       "  align-self: flex-end;\n",
       "  width: 50%;\n",
       "}\n",
       "\n",
       "#sk-container-id-2 div.sk-parallel-item:last-child::after {\n",
       "  align-self: flex-start;\n",
       "  width: 50%;\n",
       "}\n",
       "\n",
       "#sk-container-id-2 div.sk-parallel-item:only-child::after {\n",
       "  width: 0;\n",
       "}\n",
       "\n",
       "/* Serial-specific style estimator block */\n",
       "\n",
       "#sk-container-id-2 div.sk-serial {\n",
       "  display: flex;\n",
       "  flex-direction: column;\n",
       "  align-items: center;\n",
       "  background-color: var(--sklearn-color-background);\n",
       "  padding-right: 1em;\n",
       "  padding-left: 1em;\n",
       "}\n",
       "\n",
       "\n",
       "/* Toggleable style: style used for estimator/Pipeline/ColumnTransformer box that is\n",
       "clickable and can be expanded/collapsed.\n",
       "- Pipeline and ColumnTransformer use this feature and define the default style\n",
       "- Estimators will overwrite some part of the style using the `sk-estimator` class\n",
       "*/\n",
       "\n",
       "/* Pipeline and ColumnTransformer style (default) */\n",
       "\n",
       "#sk-container-id-2 div.sk-toggleable {\n",
       "  /* Default theme specific background. It is overwritten whether we have a\n",
       "  specific estimator or a Pipeline/ColumnTransformer */\n",
       "  background-color: var(--sklearn-color-background);\n",
       "}\n",
       "\n",
       "/* Toggleable label */\n",
       "#sk-container-id-2 label.sk-toggleable__label {\n",
       "  cursor: pointer;\n",
       "  display: flex;\n",
       "  width: 100%;\n",
       "  margin-bottom: 0;\n",
       "  padding: 0.5em;\n",
       "  box-sizing: border-box;\n",
       "  text-align: center;\n",
       "  align-items: start;\n",
       "  justify-content: space-between;\n",
       "  gap: 0.5em;\n",
       "}\n",
       "\n",
       "#sk-container-id-2 label.sk-toggleable__label .caption {\n",
       "  font-size: 0.6rem;\n",
       "  font-weight: lighter;\n",
       "  color: var(--sklearn-color-text-muted);\n",
       "}\n",
       "\n",
       "#sk-container-id-2 label.sk-toggleable__label-arrow:before {\n",
       "  /* Arrow on the left of the label */\n",
       "  content: \"▸\";\n",
       "  float: left;\n",
       "  margin-right: 0.25em;\n",
       "  color: var(--sklearn-color-icon);\n",
       "}\n",
       "\n",
       "#sk-container-id-2 label.sk-toggleable__label-arrow:hover:before {\n",
       "  color: var(--sklearn-color-text);\n",
       "}\n",
       "\n",
       "/* Toggleable content - dropdown */\n",
       "\n",
       "#sk-container-id-2 div.sk-toggleable__content {\n",
       "  max-height: 0;\n",
       "  max-width: 0;\n",
       "  overflow: hidden;\n",
       "  text-align: left;\n",
       "  /* unfitted */\n",
       "  background-color: var(--sklearn-color-unfitted-level-0);\n",
       "}\n",
       "\n",
       "#sk-container-id-2 div.sk-toggleable__content.fitted {\n",
       "  /* fitted */\n",
       "  background-color: var(--sklearn-color-fitted-level-0);\n",
       "}\n",
       "\n",
       "#sk-container-id-2 div.sk-toggleable__content pre {\n",
       "  margin: 0.2em;\n",
       "  border-radius: 0.25em;\n",
       "  color: var(--sklearn-color-text);\n",
       "  /* unfitted */\n",
       "  background-color: var(--sklearn-color-unfitted-level-0);\n",
       "}\n",
       "\n",
       "#sk-container-id-2 div.sk-toggleable__content.fitted pre {\n",
       "  /* unfitted */\n",
       "  background-color: var(--sklearn-color-fitted-level-0);\n",
       "}\n",
       "\n",
       "#sk-container-id-2 input.sk-toggleable__control:checked~div.sk-toggleable__content {\n",
       "  /* Expand drop-down */\n",
       "  max-height: 200px;\n",
       "  max-width: 100%;\n",
       "  overflow: auto;\n",
       "}\n",
       "\n",
       "#sk-container-id-2 input.sk-toggleable__control:checked~label.sk-toggleable__label-arrow:before {\n",
       "  content: \"▾\";\n",
       "}\n",
       "\n",
       "/* Pipeline/ColumnTransformer-specific style */\n",
       "\n",
       "#sk-container-id-2 div.sk-label input.sk-toggleable__control:checked~label.sk-toggleable__label {\n",
       "  color: var(--sklearn-color-text);\n",
       "  background-color: var(--sklearn-color-unfitted-level-2);\n",
       "}\n",
       "\n",
       "#sk-container-id-2 div.sk-label.fitted input.sk-toggleable__control:checked~label.sk-toggleable__label {\n",
       "  background-color: var(--sklearn-color-fitted-level-2);\n",
       "}\n",
       "\n",
       "/* Estimator-specific style */\n",
       "\n",
       "/* Colorize estimator box */\n",
       "#sk-container-id-2 div.sk-estimator input.sk-toggleable__control:checked~label.sk-toggleable__label {\n",
       "  /* unfitted */\n",
       "  background-color: var(--sklearn-color-unfitted-level-2);\n",
       "}\n",
       "\n",
       "#sk-container-id-2 div.sk-estimator.fitted input.sk-toggleable__control:checked~label.sk-toggleable__label {\n",
       "  /* fitted */\n",
       "  background-color: var(--sklearn-color-fitted-level-2);\n",
       "}\n",
       "\n",
       "#sk-container-id-2 div.sk-label label.sk-toggleable__label,\n",
       "#sk-container-id-2 div.sk-label label {\n",
       "  /* The background is the default theme color */\n",
       "  color: var(--sklearn-color-text-on-default-background);\n",
       "}\n",
       "\n",
       "/* On hover, darken the color of the background */\n",
       "#sk-container-id-2 div.sk-label:hover label.sk-toggleable__label {\n",
       "  color: var(--sklearn-color-text);\n",
       "  background-color: var(--sklearn-color-unfitted-level-2);\n",
       "}\n",
       "\n",
       "/* Label box, darken color on hover, fitted */\n",
       "#sk-container-id-2 div.sk-label.fitted:hover label.sk-toggleable__label.fitted {\n",
       "  color: var(--sklearn-color-text);\n",
       "  background-color: var(--sklearn-color-fitted-level-2);\n",
       "}\n",
       "\n",
       "/* Estimator label */\n",
       "\n",
       "#sk-container-id-2 div.sk-label label {\n",
       "  font-family: monospace;\n",
       "  font-weight: bold;\n",
       "  display: inline-block;\n",
       "  line-height: 1.2em;\n",
       "}\n",
       "\n",
       "#sk-container-id-2 div.sk-label-container {\n",
       "  text-align: center;\n",
       "}\n",
       "\n",
       "/* Estimator-specific */\n",
       "#sk-container-id-2 div.sk-estimator {\n",
       "  font-family: monospace;\n",
       "  border: 1px dotted var(--sklearn-color-border-box);\n",
       "  border-radius: 0.25em;\n",
       "  box-sizing: border-box;\n",
       "  margin-bottom: 0.5em;\n",
       "  /* unfitted */\n",
       "  background-color: var(--sklearn-color-unfitted-level-0);\n",
       "}\n",
       "\n",
       "#sk-container-id-2 div.sk-estimator.fitted {\n",
       "  /* fitted */\n",
       "  background-color: var(--sklearn-color-fitted-level-0);\n",
       "}\n",
       "\n",
       "/* on hover */\n",
       "#sk-container-id-2 div.sk-estimator:hover {\n",
       "  /* unfitted */\n",
       "  background-color: var(--sklearn-color-unfitted-level-2);\n",
       "}\n",
       "\n",
       "#sk-container-id-2 div.sk-estimator.fitted:hover {\n",
       "  /* fitted */\n",
       "  background-color: var(--sklearn-color-fitted-level-2);\n",
       "}\n",
       "\n",
       "/* Specification for estimator info (e.g. \"i\" and \"?\") */\n",
       "\n",
       "/* Common style for \"i\" and \"?\" */\n",
       "\n",
       ".sk-estimator-doc-link,\n",
       "a:link.sk-estimator-doc-link,\n",
       "a:visited.sk-estimator-doc-link {\n",
       "  float: right;\n",
       "  font-size: smaller;\n",
       "  line-height: 1em;\n",
       "  font-family: monospace;\n",
       "  background-color: var(--sklearn-color-background);\n",
       "  border-radius: 1em;\n",
       "  height: 1em;\n",
       "  width: 1em;\n",
       "  text-decoration: none !important;\n",
       "  margin-left: 0.5em;\n",
       "  text-align: center;\n",
       "  /* unfitted */\n",
       "  border: var(--sklearn-color-unfitted-level-1) 1pt solid;\n",
       "  color: var(--sklearn-color-unfitted-level-1);\n",
       "}\n",
       "\n",
       ".sk-estimator-doc-link.fitted,\n",
       "a:link.sk-estimator-doc-link.fitted,\n",
       "a:visited.sk-estimator-doc-link.fitted {\n",
       "  /* fitted */\n",
       "  border: var(--sklearn-color-fitted-level-1) 1pt solid;\n",
       "  color: var(--sklearn-color-fitted-level-1);\n",
       "}\n",
       "\n",
       "/* On hover */\n",
       "div.sk-estimator:hover .sk-estimator-doc-link:hover,\n",
       ".sk-estimator-doc-link:hover,\n",
       "div.sk-label-container:hover .sk-estimator-doc-link:hover,\n",
       ".sk-estimator-doc-link:hover {\n",
       "  /* unfitted */\n",
       "  background-color: var(--sklearn-color-unfitted-level-3);\n",
       "  color: var(--sklearn-color-background);\n",
       "  text-decoration: none;\n",
       "}\n",
       "\n",
       "div.sk-estimator.fitted:hover .sk-estimator-doc-link.fitted:hover,\n",
       ".sk-estimator-doc-link.fitted:hover,\n",
       "div.sk-label-container:hover .sk-estimator-doc-link.fitted:hover,\n",
       ".sk-estimator-doc-link.fitted:hover {\n",
       "  /* fitted */\n",
       "  background-color: var(--sklearn-color-fitted-level-3);\n",
       "  color: var(--sklearn-color-background);\n",
       "  text-decoration: none;\n",
       "}\n",
       "\n",
       "/* Span, style for the box shown on hovering the info icon */\n",
       ".sk-estimator-doc-link span {\n",
       "  display: none;\n",
       "  z-index: 9999;\n",
       "  position: relative;\n",
       "  font-weight: normal;\n",
       "  right: .2ex;\n",
       "  padding: .5ex;\n",
       "  margin: .5ex;\n",
       "  width: min-content;\n",
       "  min-width: 20ex;\n",
       "  max-width: 50ex;\n",
       "  color: var(--sklearn-color-text);\n",
       "  box-shadow: 2pt 2pt 4pt #999;\n",
       "  /* unfitted */\n",
       "  background: var(--sklearn-color-unfitted-level-0);\n",
       "  border: .5pt solid var(--sklearn-color-unfitted-level-3);\n",
       "}\n",
       "\n",
       ".sk-estimator-doc-link.fitted span {\n",
       "  /* fitted */\n",
       "  background: var(--sklearn-color-fitted-level-0);\n",
       "  border: var(--sklearn-color-fitted-level-3);\n",
       "}\n",
       "\n",
       ".sk-estimator-doc-link:hover span {\n",
       "  display: block;\n",
       "}\n",
       "\n",
       "/* \"?\"-specific style due to the `<a>` HTML tag */\n",
       "\n",
       "#sk-container-id-2 a.estimator_doc_link {\n",
       "  float: right;\n",
       "  font-size: 1rem;\n",
       "  line-height: 1em;\n",
       "  font-family: monospace;\n",
       "  background-color: var(--sklearn-color-background);\n",
       "  border-radius: 1rem;\n",
       "  height: 1rem;\n",
       "  width: 1rem;\n",
       "  text-decoration: none;\n",
       "  /* unfitted */\n",
       "  color: var(--sklearn-color-unfitted-level-1);\n",
       "  border: var(--sklearn-color-unfitted-level-1) 1pt solid;\n",
       "}\n",
       "\n",
       "#sk-container-id-2 a.estimator_doc_link.fitted {\n",
       "  /* fitted */\n",
       "  border: var(--sklearn-color-fitted-level-1) 1pt solid;\n",
       "  color: var(--sklearn-color-fitted-level-1);\n",
       "}\n",
       "\n",
       "/* On hover */\n",
       "#sk-container-id-2 a.estimator_doc_link:hover {\n",
       "  /* unfitted */\n",
       "  background-color: var(--sklearn-color-unfitted-level-3);\n",
       "  color: var(--sklearn-color-background);\n",
       "  text-decoration: none;\n",
       "}\n",
       "\n",
       "#sk-container-id-2 a.estimator_doc_link.fitted:hover {\n",
       "  /* fitted */\n",
       "  background-color: var(--sklearn-color-fitted-level-3);\n",
       "}\n",
       "</style><div id=\"sk-container-id-2\" class=\"sk-top-container\"><div class=\"sk-text-repr-fallback\"><pre>DecisionTreeRegressor(max_depth=3, random_state=42)</pre><b>In a Jupyter environment, please rerun this cell to show the HTML representation or trust the notebook. <br />On GitHub, the HTML representation is unable to render, please try loading this page with nbviewer.org.</b></div><div class=\"sk-container\" hidden><div class=\"sk-item\"><div class=\"sk-estimator fitted sk-toggleable\"><input class=\"sk-toggleable__control sk-hidden--visually\" id=\"sk-estimator-id-2\" type=\"checkbox\" checked><label for=\"sk-estimator-id-2\" class=\"sk-toggleable__label fitted sk-toggleable__label-arrow\"><div><div>DecisionTreeRegressor</div></div><div><a class=\"sk-estimator-doc-link fitted\" rel=\"noreferrer\" target=\"_blank\" href=\"https://scikit-learn.org/1.6/modules/generated/sklearn.tree.DecisionTreeRegressor.html\">?<span>Documentation for DecisionTreeRegressor</span></a><span class=\"sk-estimator-doc-link fitted\">i<span>Fitted</span></span></div></label><div class=\"sk-toggleable__content fitted\"><pre>DecisionTreeRegressor(max_depth=3, random_state=42)</pre></div> </div></div></div></div>"
      ],
      "text/plain": [
       "DecisionTreeRegressor(max_depth=3, random_state=42)"
      ]
     },
     "execution_count": 61,
     "metadata": {},
     "output_type": "execute_result"
    }
   ],
   "source": [
    "# Melakukan training pada model decision tree\n",
    "# Sesuaikan nama variable X_train dan y_train kamu\n",
    "dtr_pokemon = DecisionTreeRegressor(max_depth=3, random_state=42)\n",
    "dtr_pokemon.fit(X_train, y_train)"
   ]
  },
  {
   "cell_type": "markdown",
   "metadata": {
    "id": "KGMm2HEoEOaj"
   },
   "source": [
    "#### Evaluation"
   ]
  },
  {
   "cell_type": "markdown",
   "metadata": {
    "id": "6sTzwrwcERjY"
   },
   "source": [
    "##### Dataset Weather Type"
   ]
  },
  {
   "cell_type": "code",
   "execution_count": 91,
   "metadata": {
    "id": "Oq1t9t64ETvV"
   },
   "outputs": [
    {
     "ename": "ValueError",
     "evalue": "The feature names should match those that were passed during fit.\nFeature names unseen at fit time:\n- Attack\n- Defense\n- Generation\n- HP\n- ID\n- ...\nFeature names seen at fit time, yet now missing:\n- Atmospheric Pressure\n- Cloud Cover\n- Humidity\n- Location\n- Precipitation (%)\n- ...\n",
     "output_type": "error",
     "traceback": [
      "\u001b[1;31m---------------------------------------------------------------------------\u001b[0m",
      "\u001b[1;31mValueError\u001b[0m                                Traceback (most recent call last)",
      "Cell \u001b[1;32mIn[91], line 2\u001b[0m\n\u001b[0;32m      1\u001b[0m \u001b[38;5;66;03m# Memprediksi data testing\u001b[39;00m\n\u001b[1;32m----> 2\u001b[0m prediction \u001b[38;5;241m=\u001b[39m \u001b[43mdtc_weather\u001b[49m\u001b[38;5;241;43m.\u001b[39;49m\u001b[43mpredict\u001b[49m\u001b[43m(\u001b[49m\u001b[43mX_test\u001b[49m\u001b[43m)\u001b[49m\n\u001b[0;32m      4\u001b[0m \u001b[38;5;66;03m# Call the metrics function\u001b[39;00m\n\u001b[0;32m      5\u001b[0m classification_metrics(prediction, y_test)\n",
      "File \u001b[1;32mC:\\laragon\\bin\\python\\python-3.13\\Lib\\site-packages\\sklearn\\tree\\_classes.py:530\u001b[0m, in \u001b[0;36mBaseDecisionTree.predict\u001b[1;34m(self, X, check_input)\u001b[0m\n\u001b[0;32m    507\u001b[0m \u001b[38;5;250m\u001b[39m\u001b[38;5;124;03m\"\"\"Predict class or regression value for X.\u001b[39;00m\n\u001b[0;32m    508\u001b[0m \n\u001b[0;32m    509\u001b[0m \u001b[38;5;124;03mFor a classification model, the predicted class for each sample in X is\u001b[39;00m\n\u001b[1;32m   (...)\u001b[0m\n\u001b[0;32m    527\u001b[0m \u001b[38;5;124;03m    The predicted classes, or the predict values.\u001b[39;00m\n\u001b[0;32m    528\u001b[0m \u001b[38;5;124;03m\"\"\"\u001b[39;00m\n\u001b[0;32m    529\u001b[0m check_is_fitted(\u001b[38;5;28mself\u001b[39m)\n\u001b[1;32m--> 530\u001b[0m X \u001b[38;5;241m=\u001b[39m \u001b[38;5;28;43mself\u001b[39;49m\u001b[38;5;241;43m.\u001b[39;49m\u001b[43m_validate_X_predict\u001b[49m\u001b[43m(\u001b[49m\u001b[43mX\u001b[49m\u001b[43m,\u001b[49m\u001b[43m \u001b[49m\u001b[43mcheck_input\u001b[49m\u001b[43m)\u001b[49m\n\u001b[0;32m    531\u001b[0m proba \u001b[38;5;241m=\u001b[39m \u001b[38;5;28mself\u001b[39m\u001b[38;5;241m.\u001b[39mtree_\u001b[38;5;241m.\u001b[39mpredict(X)\n\u001b[0;32m    532\u001b[0m n_samples \u001b[38;5;241m=\u001b[39m X\u001b[38;5;241m.\u001b[39mshape[\u001b[38;5;241m0\u001b[39m]\n",
      "File \u001b[1;32mC:\\laragon\\bin\\python\\python-3.13\\Lib\\site-packages\\sklearn\\tree\\_classes.py:489\u001b[0m, in \u001b[0;36mBaseDecisionTree._validate_X_predict\u001b[1;34m(self, X, check_input)\u001b[0m\n\u001b[0;32m    487\u001b[0m \u001b[38;5;28;01melse\u001b[39;00m:\n\u001b[0;32m    488\u001b[0m     ensure_all_finite \u001b[38;5;241m=\u001b[39m \u001b[38;5;28;01mTrue\u001b[39;00m\n\u001b[1;32m--> 489\u001b[0m X \u001b[38;5;241m=\u001b[39m \u001b[43mvalidate_data\u001b[49m\u001b[43m(\u001b[49m\n\u001b[0;32m    490\u001b[0m \u001b[43m    \u001b[49m\u001b[38;5;28;43mself\u001b[39;49m\u001b[43m,\u001b[49m\n\u001b[0;32m    491\u001b[0m \u001b[43m    \u001b[49m\u001b[43mX\u001b[49m\u001b[43m,\u001b[49m\n\u001b[0;32m    492\u001b[0m \u001b[43m    \u001b[49m\u001b[43mdtype\u001b[49m\u001b[38;5;241;43m=\u001b[39;49m\u001b[43mDTYPE\u001b[49m\u001b[43m,\u001b[49m\n\u001b[0;32m    493\u001b[0m \u001b[43m    \u001b[49m\u001b[43maccept_sparse\u001b[49m\u001b[38;5;241;43m=\u001b[39;49m\u001b[38;5;124;43m\"\u001b[39;49m\u001b[38;5;124;43mcsr\u001b[39;49m\u001b[38;5;124;43m\"\u001b[39;49m\u001b[43m,\u001b[49m\n\u001b[0;32m    494\u001b[0m \u001b[43m    \u001b[49m\u001b[43mreset\u001b[49m\u001b[38;5;241;43m=\u001b[39;49m\u001b[38;5;28;43;01mFalse\u001b[39;49;00m\u001b[43m,\u001b[49m\n\u001b[0;32m    495\u001b[0m \u001b[43m    \u001b[49m\u001b[43mensure_all_finite\u001b[49m\u001b[38;5;241;43m=\u001b[39;49m\u001b[43mensure_all_finite\u001b[49m\u001b[43m,\u001b[49m\n\u001b[0;32m    496\u001b[0m \u001b[43m\u001b[49m\u001b[43m)\u001b[49m\n\u001b[0;32m    497\u001b[0m \u001b[38;5;28;01mif\u001b[39;00m issparse(X) \u001b[38;5;129;01mand\u001b[39;00m (\n\u001b[0;32m    498\u001b[0m     X\u001b[38;5;241m.\u001b[39mindices\u001b[38;5;241m.\u001b[39mdtype \u001b[38;5;241m!=\u001b[39m np\u001b[38;5;241m.\u001b[39mintc \u001b[38;5;129;01mor\u001b[39;00m X\u001b[38;5;241m.\u001b[39mindptr\u001b[38;5;241m.\u001b[39mdtype \u001b[38;5;241m!=\u001b[39m np\u001b[38;5;241m.\u001b[39mintc\n\u001b[0;32m    499\u001b[0m ):\n\u001b[0;32m    500\u001b[0m     \u001b[38;5;28;01mraise\u001b[39;00m \u001b[38;5;167;01mValueError\u001b[39;00m(\u001b[38;5;124m\"\u001b[39m\u001b[38;5;124mNo support for np.int64 index based sparse matrices\u001b[39m\u001b[38;5;124m\"\u001b[39m)\n",
      "File \u001b[1;32mC:\\laragon\\bin\\python\\python-3.13\\Lib\\site-packages\\sklearn\\utils\\validation.py:2919\u001b[0m, in \u001b[0;36mvalidate_data\u001b[1;34m(_estimator, X, y, reset, validate_separately, skip_check_array, **check_params)\u001b[0m\n\u001b[0;32m   2835\u001b[0m \u001b[38;5;28;01mdef\u001b[39;00m\u001b[38;5;250m \u001b[39m\u001b[38;5;21mvalidate_data\u001b[39m(\n\u001b[0;32m   2836\u001b[0m     _estimator,\n\u001b[0;32m   2837\u001b[0m     \u001b[38;5;241m/\u001b[39m,\n\u001b[1;32m   (...)\u001b[0m\n\u001b[0;32m   2843\u001b[0m     \u001b[38;5;241m*\u001b[39m\u001b[38;5;241m*\u001b[39mcheck_params,\n\u001b[0;32m   2844\u001b[0m ):\n\u001b[0;32m   2845\u001b[0m \u001b[38;5;250m    \u001b[39m\u001b[38;5;124;03m\"\"\"Validate input data and set or check feature names and counts of the input.\u001b[39;00m\n\u001b[0;32m   2846\u001b[0m \n\u001b[0;32m   2847\u001b[0m \u001b[38;5;124;03m    This helper function should be used in an estimator that requires input\u001b[39;00m\n\u001b[1;32m   (...)\u001b[0m\n\u001b[0;32m   2917\u001b[0m \u001b[38;5;124;03m        validated.\u001b[39;00m\n\u001b[0;32m   2918\u001b[0m \u001b[38;5;124;03m    \"\"\"\u001b[39;00m\n\u001b[1;32m-> 2919\u001b[0m     \u001b[43m_check_feature_names\u001b[49m\u001b[43m(\u001b[49m\u001b[43m_estimator\u001b[49m\u001b[43m,\u001b[49m\u001b[43m \u001b[49m\u001b[43mX\u001b[49m\u001b[43m,\u001b[49m\u001b[43m \u001b[49m\u001b[43mreset\u001b[49m\u001b[38;5;241;43m=\u001b[39;49m\u001b[43mreset\u001b[49m\u001b[43m)\u001b[49m\n\u001b[0;32m   2920\u001b[0m     tags \u001b[38;5;241m=\u001b[39m get_tags(_estimator)\n\u001b[0;32m   2921\u001b[0m     \u001b[38;5;28;01mif\u001b[39;00m y \u001b[38;5;129;01mis\u001b[39;00m \u001b[38;5;28;01mNone\u001b[39;00m \u001b[38;5;129;01mand\u001b[39;00m tags\u001b[38;5;241m.\u001b[39mtarget_tags\u001b[38;5;241m.\u001b[39mrequired:\n",
      "File \u001b[1;32mC:\\laragon\\bin\\python\\python-3.13\\Lib\\site-packages\\sklearn\\utils\\validation.py:2777\u001b[0m, in \u001b[0;36m_check_feature_names\u001b[1;34m(estimator, X, reset)\u001b[0m\n\u001b[0;32m   2774\u001b[0m \u001b[38;5;28;01mif\u001b[39;00m \u001b[38;5;129;01mnot\u001b[39;00m missing_names \u001b[38;5;129;01mand\u001b[39;00m \u001b[38;5;129;01mnot\u001b[39;00m unexpected_names:\n\u001b[0;32m   2775\u001b[0m     message \u001b[38;5;241m+\u001b[39m\u001b[38;5;241m=\u001b[39m \u001b[38;5;124m\"\u001b[39m\u001b[38;5;124mFeature names must be in the same order as they were in fit.\u001b[39m\u001b[38;5;130;01m\\n\u001b[39;00m\u001b[38;5;124m\"\u001b[39m\n\u001b[1;32m-> 2777\u001b[0m \u001b[38;5;28;01mraise\u001b[39;00m \u001b[38;5;167;01mValueError\u001b[39;00m(message)\n",
      "\u001b[1;31mValueError\u001b[0m: The feature names should match those that were passed during fit.\nFeature names unseen at fit time:\n- Attack\n- Defense\n- Generation\n- HP\n- ID\n- ...\nFeature names seen at fit time, yet now missing:\n- Atmospheric Pressure\n- Cloud Cover\n- Humidity\n- Location\n- Precipitation (%)\n- ...\n"
     ]
    }
   ],
   "source": [
    "# Memprediksi data testing\n",
    "prediction = dtc_weather.predict(X_test)\n",
    "\n",
    "# Call the metrics function\n",
    "classification_metrics(prediction, y_test)"
   ]
  },
  {
   "cell_type": "markdown",
   "metadata": {
    "id": "l8-eO_8VGhPX"
   },
   "source": [
    "##### Dataset Pokemon"
   ]
  },
  {
   "cell_type": "code",
   "execution_count": 67,
   "metadata": {
    "id": "P5Yj_nKHGmlp"
   },
   "outputs": [
    {
     "name": "stdout",
     "output_type": "stream",
     "text": [
      "MAE: 0.43534110671950177\n",
      "MSE: 0.2867566742752476\n",
      "RMSE: 0.5354966613110185\n",
      "R_squared: 0.9908997000365622\n"
     ]
    }
   ],
   "source": [
    "# Memprediksi data testing\n",
    "prediction = dtr_pokemon.predict(X_test)\n",
    "\n",
    "# Call the metrics function\n",
    "regression_metrics(prediction, y_test)"
   ]
  },
  {
   "cell_type": "markdown",
   "metadata": {
    "id": "FskPvlAHHXQF"
   },
   "source": [
    "#### Hyperparameter"
   ]
  },
  {
   "cell_type": "markdown",
   "metadata": {
    "id": "lLf2D3znHPVX"
   },
   "source": [
    "\n",
    "Hyperparameter adalah parameter yang dapat kita sesuaikan atau konfigurasi sebelum memulai proses pembangunan model. Tujuan dari penyesuaian ini adalah untuk mengoptimalisasi performa model sehingga diharapkan dapat berfungsi lebih efektif.\n",
    "\n",
    "> Ada beberapa jenis hyperparameter yang terdapat dalam beragam algoritma machine learning, termasuk dalam algoritma Decision Tree. Beberapa hyperparameter yang ada dalam algoritma Decision Tree yang disediakan oleh modul sklearn.tree antara lain:\n",
    "\n",
    "- `criterion`: Metrik yang digunakan untuk mengevaluasi kualitas pemisahan node, contohnya:\n",
    "  - `squared_error`: menggunakan reduksi varians sebagai kriteria seleksi fitur dan meminimalkan kerugian L2 dengan menggunakan mean dari setiap node terminal\n",
    "  - `friedman_mse`: menghitung mean squared error dengan Friedman's improvement score untuk kemungkinan pemisahan (tidak perlu khawatir, ini tidak akan keluar di ujian)\n",
    "  - `absolute_error`: meminimalkan kerugian L1 dengan menggunakan median dari setiap node terminal\n",
    "  - `poisson`: memanfaatkan reduksi dalam Poisson deviance untuk menentukan pemisahan\n",
    "- `max_depth`: Membatasi kedalaman maksimum dari pohon\n",
    "- `min_samples_split`: Menentukan jumlah minimum sampel yang dibutuhkan untuk memecah sebuah node internal\n",
    "Untuk informasi lebih detail, Anda bisa merujuk pada dokumentasi berikut:\n",
    "[sklearn decision tree](https://scikit-learn.org/stable/modules/generated/sklearn.tree.DecisionTreeRegressor.html)"
   ]
  },
  {
   "cell_type": "code",
   "execution_count": 68,
   "metadata": {
    "id": "R9Ixy6F4IOKF"
   },
   "outputs": [
    {
     "name": "stdout",
     "output_type": "stream",
     "text": [
      "MAE: 0.0\n",
      "MSE: 0.0\n",
      "RMSE: 0.0\n",
      "R_squared: 1.0\n"
     ]
    }
   ],
   "source": [
    "# Melakukan training pada model decision tree\n",
    "# Decision tree yang dibangun memiliki hyperparameter max_depth=6\n",
    "dtr_md6 = DecisionTreeRegressor(max_depth=6, random_state=42)\n",
    "dtr_md6.fit(X_train, y_train)\n",
    "\n",
    "# Memprediksi data testing\n",
    "predicted6 = dtr_md6.predict(X_test)\n",
    "\n",
    "# Menampilkan metrics evaluasi\n",
    "regression_metrics(predicted6, y_test)"
   ]
  },
  {
   "cell_type": "markdown",
   "metadata": {
    "id": "ygdtRWi1ImNZ"
   },
   "source": [
    "Perubahan *hyperparameter* dapat mempengaruhi performa dari model. Terlihat bahwa MAE, MSE, RMSE, dan R_squared model Decision Tree dengan `max_depth = 3` berbeda dengan `max_depth = 6`.\n",
    "\n",
    "Bagaimana jika hyperparameter lain diubah? Silakan eksplorasi perubahan hyperparameter lain secara mandiri ya!😃"
   ]
  },
  {
   "cell_type": "markdown",
   "metadata": {
    "id": "4vb8lRCBJCE-"
   },
   "source": [
    "### Visualisasi Decision Tree yang Dihasilkan"
   ]
  },
  {
   "cell_type": "markdown",
   "metadata": {
    "id": "6azDWikvJBSi"
   },
   "source": [
    "\n",
    "\n",
    "Kita bisa melakukan visualisasi terhadap serangkaian aturan yang membentuk Decision Tree yang telah dibangun. Salah satu caranya adalah dengan menggunakan modul `sklearn.tree.plot_tree` dengan bantuan `matplotlib` atau menggunakan `sklearn.tree.export_text`.\n",
    "\n",
    "Berikut adalah contoh visualisasi decision tree pada dataset Pokemon tanpa max depth:"
   ]
  },
  {
   "cell_type": "code",
   "execution_count": 92,
   "metadata": {
    "id": "sKnfNs6jJLbk"
   },
   "outputs": [
    {
     "ename": "ValueError",
     "evalue": "could not convert string to float: 'Winter'",
     "output_type": "error",
     "traceback": [
      "\u001b[1;31m---------------------------------------------------------------------------\u001b[0m",
      "\u001b[1;31mValueError\u001b[0m                                Traceback (most recent call last)",
      "\u001b[1;32m~\\AppData\\Local\\Temp\\ipykernel_2940\\226969047.py\u001b[0m in \u001b[0;36m?\u001b[1;34m()\u001b[0m\n\u001b[0;32m      1\u001b[0m \u001b[1;31m# Membangun model tree\u001b[0m\u001b[1;33m\u001b[0m\u001b[1;33m\u001b[0m\u001b[0m\n\u001b[0;32m      2\u001b[0m \u001b[0mtree_model\u001b[0m \u001b[1;33m=\u001b[0m \u001b[0mDecisionTreeRegressor\u001b[0m\u001b[1;33m(\u001b[0m\u001b[1;33m)\u001b[0m\u001b[1;33m\u001b[0m\u001b[1;33m\u001b[0m\u001b[0m\n\u001b[1;32m----> 3\u001b[1;33m \u001b[0mtree_model\u001b[0m\u001b[1;33m.\u001b[0m\u001b[0mfit\u001b[0m\u001b[1;33m(\u001b[0m\u001b[0mX_train\u001b[0m\u001b[1;33m,\u001b[0m \u001b[0my_train\u001b[0m\u001b[1;33m)\u001b[0m\u001b[1;33m\u001b[0m\u001b[1;33m\u001b[0m\u001b[0m\n\u001b[0m\u001b[0;32m      4\u001b[0m \u001b[1;33m\u001b[0m\u001b[0m\n\u001b[0;32m      5\u001b[0m \u001b[1;31m# Melakukan visualisasi pada decision tree yang sudah dibangun sebelumnya\u001b[0m\u001b[1;33m\u001b[0m\u001b[1;33m\u001b[0m\u001b[0m\n\u001b[0;32m      6\u001b[0m \u001b[0mprint\u001b[0m\u001b[1;33m(\u001b[0m\u001b[0mtree\u001b[0m\u001b[1;33m.\u001b[0m\u001b[0mexport_text\u001b[0m\u001b[1;33m(\u001b[0m\u001b[0mtree_model\u001b[0m\u001b[1;33m,\u001b[0m \u001b[0mfeature_names\u001b[0m\u001b[1;33m=\u001b[0m\u001b[0mpd\u001b[0m\u001b[1;33m.\u001b[0m\u001b[0mSeries\u001b[0m\u001b[1;33m(\u001b[0m\u001b[0mX_train\u001b[0m\u001b[1;33m.\u001b[0m\u001b[0mcolumns\u001b[0m\u001b[1;33m)\u001b[0m\u001b[1;33m.\u001b[0m\u001b[0marray\u001b[0m\u001b[1;33m)\u001b[0m\u001b[1;33m)\u001b[0m\u001b[1;33m\u001b[0m\u001b[1;33m\u001b[0m\u001b[0m\n",
      "\u001b[1;32mC:\\laragon\\bin\\python\\python-3.13\\Lib\\site-packages\\sklearn\\base.py\u001b[0m in \u001b[0;36m?\u001b[1;34m(estimator, *args, **kwargs)\u001b[0m\n\u001b[0;32m   1385\u001b[0m                 skip_parameter_validation=(\n\u001b[0;32m   1386\u001b[0m                     \u001b[0mprefer_skip_nested_validation\u001b[0m \u001b[1;32mor\u001b[0m \u001b[0mglobal_skip_validation\u001b[0m\u001b[1;33m\u001b[0m\u001b[1;33m\u001b[0m\u001b[0m\n\u001b[0;32m   1387\u001b[0m                 \u001b[1;33m)\u001b[0m\u001b[1;33m\u001b[0m\u001b[1;33m\u001b[0m\u001b[0m\n\u001b[0;32m   1388\u001b[0m             \u001b[1;33m)\u001b[0m\u001b[1;33m:\u001b[0m\u001b[1;33m\u001b[0m\u001b[1;33m\u001b[0m\u001b[0m\n\u001b[1;32m-> 1389\u001b[1;33m                 \u001b[1;32mreturn\u001b[0m \u001b[0mfit_method\u001b[0m\u001b[1;33m(\u001b[0m\u001b[0mestimator\u001b[0m\u001b[1;33m,\u001b[0m \u001b[1;33m*\u001b[0m\u001b[0margs\u001b[0m\u001b[1;33m,\u001b[0m \u001b[1;33m**\u001b[0m\u001b[0mkwargs\u001b[0m\u001b[1;33m)\u001b[0m\u001b[1;33m\u001b[0m\u001b[1;33m\u001b[0m\u001b[0m\n\u001b[0m",
      "\u001b[1;32mC:\\laragon\\bin\\python\\python-3.13\\Lib\\site-packages\\sklearn\\tree\\_classes.py\u001b[0m in \u001b[0;36m?\u001b[1;34m(self, X, y, sample_weight, check_input)\u001b[0m\n\u001b[0;32m   1400\u001b[0m         \u001b[0mself\u001b[0m \u001b[1;33m:\u001b[0m \u001b[0mDecisionTreeRegressor\u001b[0m\u001b[1;33m\u001b[0m\u001b[1;33m\u001b[0m\u001b[0m\n\u001b[0;32m   1401\u001b[0m             \u001b[0mFitted\u001b[0m \u001b[0mestimator\u001b[0m\u001b[1;33m.\u001b[0m\u001b[1;33m\u001b[0m\u001b[1;33m\u001b[0m\u001b[0m\n\u001b[0;32m   1402\u001b[0m         \"\"\"\n\u001b[0;32m   1403\u001b[0m \u001b[1;33m\u001b[0m\u001b[0m\n\u001b[1;32m-> 1404\u001b[1;33m         super()._fit(\n\u001b[0m\u001b[0;32m   1405\u001b[0m             \u001b[0mX\u001b[0m\u001b[1;33m,\u001b[0m\u001b[1;33m\u001b[0m\u001b[1;33m\u001b[0m\u001b[0m\n\u001b[0;32m   1406\u001b[0m             \u001b[0my\u001b[0m\u001b[1;33m,\u001b[0m\u001b[1;33m\u001b[0m\u001b[1;33m\u001b[0m\u001b[0m\n\u001b[0;32m   1407\u001b[0m             \u001b[0msample_weight\u001b[0m\u001b[1;33m=\u001b[0m\u001b[0msample_weight\u001b[0m\u001b[1;33m,\u001b[0m\u001b[1;33m\u001b[0m\u001b[1;33m\u001b[0m\u001b[0m\n",
      "\u001b[1;32mC:\\laragon\\bin\\python\\python-3.13\\Lib\\site-packages\\sklearn\\tree\\_classes.py\u001b[0m in \u001b[0;36m?\u001b[1;34m(self, X, y, sample_weight, check_input, missing_values_in_feature_mask)\u001b[0m\n\u001b[0;32m    248\u001b[0m             check_X_params = dict(\n\u001b[0;32m    249\u001b[0m                 \u001b[0mdtype\u001b[0m\u001b[1;33m=\u001b[0m\u001b[0mDTYPE\u001b[0m\u001b[1;33m,\u001b[0m \u001b[0maccept_sparse\u001b[0m\u001b[1;33m=\u001b[0m\u001b[1;34m\"csc\"\u001b[0m\u001b[1;33m,\u001b[0m \u001b[0mensure_all_finite\u001b[0m\u001b[1;33m=\u001b[0m\u001b[1;32mFalse\u001b[0m\u001b[1;33m\u001b[0m\u001b[1;33m\u001b[0m\u001b[0m\n\u001b[0;32m    250\u001b[0m             \u001b[1;33m)\u001b[0m\u001b[1;33m\u001b[0m\u001b[1;33m\u001b[0m\u001b[0m\n\u001b[0;32m    251\u001b[0m             \u001b[0mcheck_y_params\u001b[0m \u001b[1;33m=\u001b[0m \u001b[0mdict\u001b[0m\u001b[1;33m(\u001b[0m\u001b[0mensure_2d\u001b[0m\u001b[1;33m=\u001b[0m\u001b[1;32mFalse\u001b[0m\u001b[1;33m,\u001b[0m \u001b[0mdtype\u001b[0m\u001b[1;33m=\u001b[0m\u001b[1;32mNone\u001b[0m\u001b[1;33m)\u001b[0m\u001b[1;33m\u001b[0m\u001b[1;33m\u001b[0m\u001b[0m\n\u001b[1;32m--> 252\u001b[1;33m             X, y = validate_data(\n\u001b[0m\u001b[0;32m    253\u001b[0m                 \u001b[0mself\u001b[0m\u001b[1;33m,\u001b[0m \u001b[0mX\u001b[0m\u001b[1;33m,\u001b[0m \u001b[0my\u001b[0m\u001b[1;33m,\u001b[0m \u001b[0mvalidate_separately\u001b[0m\u001b[1;33m=\u001b[0m\u001b[1;33m(\u001b[0m\u001b[0mcheck_X_params\u001b[0m\u001b[1;33m,\u001b[0m \u001b[0mcheck_y_params\u001b[0m\u001b[1;33m)\u001b[0m\u001b[1;33m\u001b[0m\u001b[1;33m\u001b[0m\u001b[0m\n\u001b[0;32m    254\u001b[0m             \u001b[1;33m)\u001b[0m\u001b[1;33m\u001b[0m\u001b[1;33m\u001b[0m\u001b[0m\n\u001b[0;32m    255\u001b[0m \u001b[1;33m\u001b[0m\u001b[0m\n",
      "\u001b[1;32mC:\\laragon\\bin\\python\\python-3.13\\Lib\\site-packages\\sklearn\\utils\\validation.py\u001b[0m in \u001b[0;36m?\u001b[1;34m(_estimator, X, y, reset, validate_separately, skip_check_array, **check_params)\u001b[0m\n\u001b[0;32m   2952\u001b[0m             \u001b[1;31m# :(\u001b[0m\u001b[1;33m\u001b[0m\u001b[1;33m\u001b[0m\u001b[0m\n\u001b[0;32m   2953\u001b[0m             \u001b[0mcheck_X_params\u001b[0m\u001b[1;33m,\u001b[0m \u001b[0mcheck_y_params\u001b[0m \u001b[1;33m=\u001b[0m \u001b[0mvalidate_separately\u001b[0m\u001b[1;33m\u001b[0m\u001b[1;33m\u001b[0m\u001b[0m\n\u001b[0;32m   2954\u001b[0m             \u001b[1;32mif\u001b[0m \u001b[1;34m\"estimator\"\u001b[0m \u001b[1;32mnot\u001b[0m \u001b[1;32min\u001b[0m \u001b[0mcheck_X_params\u001b[0m\u001b[1;33m:\u001b[0m\u001b[1;33m\u001b[0m\u001b[1;33m\u001b[0m\u001b[0m\n\u001b[0;32m   2955\u001b[0m                 \u001b[0mcheck_X_params\u001b[0m \u001b[1;33m=\u001b[0m \u001b[1;33m{\u001b[0m\u001b[1;33m**\u001b[0m\u001b[0mdefault_check_params\u001b[0m\u001b[1;33m,\u001b[0m \u001b[1;33m**\u001b[0m\u001b[0mcheck_X_params\u001b[0m\u001b[1;33m}\u001b[0m\u001b[1;33m\u001b[0m\u001b[1;33m\u001b[0m\u001b[0m\n\u001b[1;32m-> 2956\u001b[1;33m             \u001b[0mX\u001b[0m \u001b[1;33m=\u001b[0m \u001b[0mcheck_array\u001b[0m\u001b[1;33m(\u001b[0m\u001b[0mX\u001b[0m\u001b[1;33m,\u001b[0m \u001b[0minput_name\u001b[0m\u001b[1;33m=\u001b[0m\u001b[1;34m\"X\"\u001b[0m\u001b[1;33m,\u001b[0m \u001b[1;33m**\u001b[0m\u001b[0mcheck_X_params\u001b[0m\u001b[1;33m)\u001b[0m\u001b[1;33m\u001b[0m\u001b[1;33m\u001b[0m\u001b[0m\n\u001b[0m\u001b[0;32m   2957\u001b[0m             \u001b[1;32mif\u001b[0m \u001b[1;34m\"estimator\"\u001b[0m \u001b[1;32mnot\u001b[0m \u001b[1;32min\u001b[0m \u001b[0mcheck_y_params\u001b[0m\u001b[1;33m:\u001b[0m\u001b[1;33m\u001b[0m\u001b[1;33m\u001b[0m\u001b[0m\n\u001b[0;32m   2958\u001b[0m                 \u001b[0mcheck_y_params\u001b[0m \u001b[1;33m=\u001b[0m \u001b[1;33m{\u001b[0m\u001b[1;33m**\u001b[0m\u001b[0mdefault_check_params\u001b[0m\u001b[1;33m,\u001b[0m \u001b[1;33m**\u001b[0m\u001b[0mcheck_y_params\u001b[0m\u001b[1;33m}\u001b[0m\u001b[1;33m\u001b[0m\u001b[1;33m\u001b[0m\u001b[0m\n\u001b[0;32m   2959\u001b[0m             \u001b[0my\u001b[0m \u001b[1;33m=\u001b[0m \u001b[0mcheck_array\u001b[0m\u001b[1;33m(\u001b[0m\u001b[0my\u001b[0m\u001b[1;33m,\u001b[0m \u001b[0minput_name\u001b[0m\u001b[1;33m=\u001b[0m\u001b[1;34m\"y\"\u001b[0m\u001b[1;33m,\u001b[0m \u001b[1;33m**\u001b[0m\u001b[0mcheck_y_params\u001b[0m\u001b[1;33m)\u001b[0m\u001b[1;33m\u001b[0m\u001b[1;33m\u001b[0m\u001b[0m\n",
      "\u001b[1;32mC:\\laragon\\bin\\python\\python-3.13\\Lib\\site-packages\\sklearn\\utils\\validation.py\u001b[0m in \u001b[0;36m?\u001b[1;34m(array, accept_sparse, accept_large_sparse, dtype, order, copy, force_writeable, force_all_finite, ensure_all_finite, ensure_non_negative, ensure_2d, allow_nd, ensure_min_samples, ensure_min_features, estimator, input_name)\u001b[0m\n\u001b[0;32m   1052\u001b[0m                         \u001b[1;33m)\u001b[0m\u001b[1;33m\u001b[0m\u001b[1;33m\u001b[0m\u001b[0m\n\u001b[0;32m   1053\u001b[0m                     \u001b[0marray\u001b[0m \u001b[1;33m=\u001b[0m \u001b[0mxp\u001b[0m\u001b[1;33m.\u001b[0m\u001b[0mastype\u001b[0m\u001b[1;33m(\u001b[0m\u001b[0marray\u001b[0m\u001b[1;33m,\u001b[0m \u001b[0mdtype\u001b[0m\u001b[1;33m,\u001b[0m \u001b[0mcopy\u001b[0m\u001b[1;33m=\u001b[0m\u001b[1;32mFalse\u001b[0m\u001b[1;33m)\u001b[0m\u001b[1;33m\u001b[0m\u001b[1;33m\u001b[0m\u001b[0m\n\u001b[0;32m   1054\u001b[0m                 \u001b[1;32melse\u001b[0m\u001b[1;33m:\u001b[0m\u001b[1;33m\u001b[0m\u001b[1;33m\u001b[0m\u001b[0m\n\u001b[0;32m   1055\u001b[0m                     \u001b[0marray\u001b[0m \u001b[1;33m=\u001b[0m \u001b[0m_asarray_with_order\u001b[0m\u001b[1;33m(\u001b[0m\u001b[0marray\u001b[0m\u001b[1;33m,\u001b[0m \u001b[0morder\u001b[0m\u001b[1;33m=\u001b[0m\u001b[0morder\u001b[0m\u001b[1;33m,\u001b[0m \u001b[0mdtype\u001b[0m\u001b[1;33m=\u001b[0m\u001b[0mdtype\u001b[0m\u001b[1;33m,\u001b[0m \u001b[0mxp\u001b[0m\u001b[1;33m=\u001b[0m\u001b[0mxp\u001b[0m\u001b[1;33m)\u001b[0m\u001b[1;33m\u001b[0m\u001b[1;33m\u001b[0m\u001b[0m\n\u001b[1;32m-> 1056\u001b[1;33m             \u001b[1;32mexcept\u001b[0m \u001b[0mComplexWarning\u001b[0m \u001b[1;32mas\u001b[0m \u001b[0mcomplex_warning\u001b[0m\u001b[1;33m:\u001b[0m\u001b[1;33m\u001b[0m\u001b[1;33m\u001b[0m\u001b[0m\n\u001b[0m\u001b[0;32m   1057\u001b[0m                 raise ValueError(\n\u001b[0;32m   1058\u001b[0m                     \u001b[1;34m\"Complex data not supported\\n{}\\n\"\u001b[0m\u001b[1;33m.\u001b[0m\u001b[0mformat\u001b[0m\u001b[1;33m(\u001b[0m\u001b[0marray\u001b[0m\u001b[1;33m)\u001b[0m\u001b[1;33m\u001b[0m\u001b[1;33m\u001b[0m\u001b[0m\n\u001b[0;32m   1059\u001b[0m                 \u001b[1;33m)\u001b[0m \u001b[1;32mfrom\u001b[0m \u001b[0mcomplex_warning\u001b[0m\u001b[1;33m\u001b[0m\u001b[1;33m\u001b[0m\u001b[0m\n",
      "\u001b[1;32mC:\\laragon\\bin\\python\\python-3.13\\Lib\\site-packages\\sklearn\\utils\\_array_api.py\u001b[0m in \u001b[0;36m?\u001b[1;34m(array, dtype, order, copy, xp, device)\u001b[0m\n\u001b[0;32m    835\u001b[0m         \u001b[1;31m# Use NumPy API to support order\u001b[0m\u001b[1;33m\u001b[0m\u001b[1;33m\u001b[0m\u001b[0m\n\u001b[0;32m    836\u001b[0m         \u001b[1;32mif\u001b[0m \u001b[0mcopy\u001b[0m \u001b[1;32mis\u001b[0m \u001b[1;32mTrue\u001b[0m\u001b[1;33m:\u001b[0m\u001b[1;33m\u001b[0m\u001b[1;33m\u001b[0m\u001b[0m\n\u001b[0;32m    837\u001b[0m             \u001b[0marray\u001b[0m \u001b[1;33m=\u001b[0m \u001b[0mnumpy\u001b[0m\u001b[1;33m.\u001b[0m\u001b[0marray\u001b[0m\u001b[1;33m(\u001b[0m\u001b[0marray\u001b[0m\u001b[1;33m,\u001b[0m \u001b[0morder\u001b[0m\u001b[1;33m=\u001b[0m\u001b[0morder\u001b[0m\u001b[1;33m,\u001b[0m \u001b[0mdtype\u001b[0m\u001b[1;33m=\u001b[0m\u001b[0mdtype\u001b[0m\u001b[1;33m)\u001b[0m\u001b[1;33m\u001b[0m\u001b[1;33m\u001b[0m\u001b[0m\n\u001b[0;32m    838\u001b[0m         \u001b[1;32melse\u001b[0m\u001b[1;33m:\u001b[0m\u001b[1;33m\u001b[0m\u001b[1;33m\u001b[0m\u001b[0m\n\u001b[1;32m--> 839\u001b[1;33m             \u001b[0marray\u001b[0m \u001b[1;33m=\u001b[0m \u001b[0mnumpy\u001b[0m\u001b[1;33m.\u001b[0m\u001b[0masarray\u001b[0m\u001b[1;33m(\u001b[0m\u001b[0marray\u001b[0m\u001b[1;33m,\u001b[0m \u001b[0morder\u001b[0m\u001b[1;33m=\u001b[0m\u001b[0morder\u001b[0m\u001b[1;33m,\u001b[0m \u001b[0mdtype\u001b[0m\u001b[1;33m=\u001b[0m\u001b[0mdtype\u001b[0m\u001b[1;33m)\u001b[0m\u001b[1;33m\u001b[0m\u001b[1;33m\u001b[0m\u001b[0m\n\u001b[0m\u001b[0;32m    840\u001b[0m \u001b[1;33m\u001b[0m\u001b[0m\n\u001b[0;32m    841\u001b[0m         \u001b[1;31m# At this point array is a NumPy ndarray. We convert it to an array\u001b[0m\u001b[1;33m\u001b[0m\u001b[1;33m\u001b[0m\u001b[0m\n\u001b[0;32m    842\u001b[0m         \u001b[1;31m# container that is consistent with the input's namespace.\u001b[0m\u001b[1;33m\u001b[0m\u001b[1;33m\u001b[0m\u001b[0m\n",
      "\u001b[1;32mC:\\laragon\\bin\\python\\python-3.13\\Lib\\site-packages\\pandas\\core\\generic.py\u001b[0m in \u001b[0;36m?\u001b[1;34m(self, dtype, copy)\u001b[0m\n\u001b[0;32m   2149\u001b[0m     def __array__(\n\u001b[0;32m   2150\u001b[0m         \u001b[0mself\u001b[0m\u001b[1;33m,\u001b[0m \u001b[0mdtype\u001b[0m\u001b[1;33m:\u001b[0m \u001b[0mnpt\u001b[0m\u001b[1;33m.\u001b[0m\u001b[0mDTypeLike\u001b[0m \u001b[1;33m|\u001b[0m \u001b[1;32mNone\u001b[0m \u001b[1;33m=\u001b[0m \u001b[1;32mNone\u001b[0m\u001b[1;33m,\u001b[0m \u001b[0mcopy\u001b[0m\u001b[1;33m:\u001b[0m \u001b[0mbool_t\u001b[0m \u001b[1;33m|\u001b[0m \u001b[1;32mNone\u001b[0m \u001b[1;33m=\u001b[0m \u001b[1;32mNone\u001b[0m\u001b[1;33m\u001b[0m\u001b[1;33m\u001b[0m\u001b[0m\n\u001b[0;32m   2151\u001b[0m     \u001b[1;33m)\u001b[0m \u001b[1;33m->\u001b[0m \u001b[0mnp\u001b[0m\u001b[1;33m.\u001b[0m\u001b[0mndarray\u001b[0m\u001b[1;33m:\u001b[0m\u001b[1;33m\u001b[0m\u001b[1;33m\u001b[0m\u001b[0m\n\u001b[0;32m   2152\u001b[0m         \u001b[0mvalues\u001b[0m \u001b[1;33m=\u001b[0m \u001b[0mself\u001b[0m\u001b[1;33m.\u001b[0m\u001b[0m_values\u001b[0m\u001b[1;33m\u001b[0m\u001b[1;33m\u001b[0m\u001b[0m\n\u001b[1;32m-> 2153\u001b[1;33m         \u001b[0marr\u001b[0m \u001b[1;33m=\u001b[0m \u001b[0mnp\u001b[0m\u001b[1;33m.\u001b[0m\u001b[0masarray\u001b[0m\u001b[1;33m(\u001b[0m\u001b[0mvalues\u001b[0m\u001b[1;33m,\u001b[0m \u001b[0mdtype\u001b[0m\u001b[1;33m=\u001b[0m\u001b[0mdtype\u001b[0m\u001b[1;33m)\u001b[0m\u001b[1;33m\u001b[0m\u001b[1;33m\u001b[0m\u001b[0m\n\u001b[0m\u001b[0;32m   2154\u001b[0m         if (\n\u001b[0;32m   2155\u001b[0m             \u001b[0mastype_is_view\u001b[0m\u001b[1;33m(\u001b[0m\u001b[0mvalues\u001b[0m\u001b[1;33m.\u001b[0m\u001b[0mdtype\u001b[0m\u001b[1;33m,\u001b[0m \u001b[0marr\u001b[0m\u001b[1;33m.\u001b[0m\u001b[0mdtype\u001b[0m\u001b[1;33m)\u001b[0m\u001b[1;33m\u001b[0m\u001b[1;33m\u001b[0m\u001b[0m\n\u001b[0;32m   2156\u001b[0m             \u001b[1;32mand\u001b[0m \u001b[0musing_copy_on_write\u001b[0m\u001b[1;33m(\u001b[0m\u001b[1;33m)\u001b[0m\u001b[1;33m\u001b[0m\u001b[1;33m\u001b[0m\u001b[0m\n",
      "\u001b[1;31mValueError\u001b[0m: could not convert string to float: 'Winter'"
     ]
    }
   ],
   "source": [
    "# Membangun model tree\n",
    "tree_model = DecisionTreeRegressor()\n",
    "tree_model.fit(X_train, y_train)\n",
    "\n",
    "# Melakukan visualisasi pada decision tree yang sudah dibangun sebelumnya\n",
    "print(tree.export_text(tree_model, feature_names=pd.Series(X_train.columns).array))"
   ]
  },
  {
   "cell_type": "markdown",
   "metadata": {
    "id": "xfVltcu_oTFN"
   },
   "source": [
    "Secara visual:"
   ]
  },
  {
   "cell_type": "code",
   "execution_count": 93,
   "metadata": {
    "id": "qiN_FastoSKr"
   },
   "outputs": [
    {
     "ename": "AttributeError",
     "evalue": "'DecisionTreeRegressor' object has no attribute 'tree_'",
     "output_type": "error",
     "traceback": [
      "\u001b[1;31m---------------------------------------------------------------------------\u001b[0m",
      "\u001b[1;31mAttributeError\u001b[0m                            Traceback (most recent call last)",
      "Cell \u001b[1;32mIn[93], line 8\u001b[0m\n\u001b[0;32m      5\u001b[0m labels \u001b[38;5;241m=\u001b[39m [\u001b[38;5;28mstr\u001b[39m(label) \u001b[38;5;28;01mfor\u001b[39;00m label \u001b[38;5;129;01min\u001b[39;00m y_train\u001b[38;5;241m.\u001b[39munique()]\n\u001b[0;32m      7\u001b[0m fig \u001b[38;5;241m=\u001b[39m plt\u001b[38;5;241m.\u001b[39mfigure(figsize\u001b[38;5;241m=\u001b[39m(\u001b[38;5;241m25\u001b[39m, \u001b[38;5;241m20\u001b[39m))\n\u001b[1;32m----> 8\u001b[0m _ \u001b[38;5;241m=\u001b[39m \u001b[43mplot_tree\u001b[49m\u001b[43m(\u001b[49m\u001b[43mtree_model\u001b[49m\u001b[43m,\u001b[49m\u001b[43m \u001b[49m\u001b[43mfeature_names\u001b[49m\u001b[38;5;241;43m=\u001b[39;49m\u001b[43mfeatures\u001b[49m\u001b[43m,\u001b[49m\u001b[43m \u001b[49m\u001b[43mclass_names\u001b[49m\u001b[38;5;241;43m=\u001b[39;49m\u001b[43mlabels\u001b[49m\u001b[43m,\u001b[49m\u001b[43m \u001b[49m\u001b[43mfilled\u001b[49m\u001b[38;5;241;43m=\u001b[39;49m\u001b[38;5;28;43;01mTrue\u001b[39;49;00m\u001b[43m)\u001b[49m\n\u001b[0;32m      9\u001b[0m plt\u001b[38;5;241m.\u001b[39mshow()\n",
      "File \u001b[1;32mC:\\laragon\\bin\\python\\python-3.13\\Lib\\site-packages\\sklearn\\utils\\_param_validation.py:216\u001b[0m, in \u001b[0;36mvalidate_params.<locals>.decorator.<locals>.wrapper\u001b[1;34m(*args, **kwargs)\u001b[0m\n\u001b[0;32m    210\u001b[0m \u001b[38;5;28;01mtry\u001b[39;00m:\n\u001b[0;32m    211\u001b[0m     \u001b[38;5;28;01mwith\u001b[39;00m config_context(\n\u001b[0;32m    212\u001b[0m         skip_parameter_validation\u001b[38;5;241m=\u001b[39m(\n\u001b[0;32m    213\u001b[0m             prefer_skip_nested_validation \u001b[38;5;129;01mor\u001b[39;00m global_skip_validation\n\u001b[0;32m    214\u001b[0m         )\n\u001b[0;32m    215\u001b[0m     ):\n\u001b[1;32m--> 216\u001b[0m         \u001b[38;5;28;01mreturn\u001b[39;00m \u001b[43mfunc\u001b[49m\u001b[43m(\u001b[49m\u001b[38;5;241;43m*\u001b[39;49m\u001b[43margs\u001b[49m\u001b[43m,\u001b[49m\u001b[43m \u001b[49m\u001b[38;5;241;43m*\u001b[39;49m\u001b[38;5;241;43m*\u001b[39;49m\u001b[43mkwargs\u001b[49m\u001b[43m)\u001b[49m\n\u001b[0;32m    217\u001b[0m \u001b[38;5;28;01mexcept\u001b[39;00m InvalidParameterError \u001b[38;5;28;01mas\u001b[39;00m e:\n\u001b[0;32m    218\u001b[0m     \u001b[38;5;66;03m# When the function is just a wrapper around an estimator, we allow\u001b[39;00m\n\u001b[0;32m    219\u001b[0m     \u001b[38;5;66;03m# the function to delegate validation to the estimator, but we replace\u001b[39;00m\n\u001b[0;32m    220\u001b[0m     \u001b[38;5;66;03m# the name of the estimator by the name of the function in the error\u001b[39;00m\n\u001b[0;32m    221\u001b[0m     \u001b[38;5;66;03m# message to avoid confusion.\u001b[39;00m\n\u001b[0;32m    222\u001b[0m     msg \u001b[38;5;241m=\u001b[39m re\u001b[38;5;241m.\u001b[39msub(\n\u001b[0;32m    223\u001b[0m         \u001b[38;5;124mr\u001b[39m\u001b[38;5;124m\"\u001b[39m\u001b[38;5;124mparameter of \u001b[39m\u001b[38;5;124m\\\u001b[39m\u001b[38;5;124mw+ must be\u001b[39m\u001b[38;5;124m\"\u001b[39m,\n\u001b[0;32m    224\u001b[0m         \u001b[38;5;124mf\u001b[39m\u001b[38;5;124m\"\u001b[39m\u001b[38;5;124mparameter of \u001b[39m\u001b[38;5;132;01m{\u001b[39;00mfunc\u001b[38;5;241m.\u001b[39m\u001b[38;5;18m__qualname__\u001b[39m\u001b[38;5;132;01m}\u001b[39;00m\u001b[38;5;124m must be\u001b[39m\u001b[38;5;124m\"\u001b[39m,\n\u001b[0;32m    225\u001b[0m         \u001b[38;5;28mstr\u001b[39m(e),\n\u001b[0;32m    226\u001b[0m     )\n",
      "File \u001b[1;32mC:\\laragon\\bin\\python\\python-3.13\\Lib\\site-packages\\sklearn\\tree\\_export.py:205\u001b[0m, in \u001b[0;36mplot_tree\u001b[1;34m(decision_tree, max_depth, feature_names, class_names, label, filled, impurity, node_ids, proportion, rounded, precision, ax, fontsize)\u001b[0m\n\u001b[0;32m    190\u001b[0m check_is_fitted(decision_tree)\n\u001b[0;32m    192\u001b[0m exporter \u001b[38;5;241m=\u001b[39m _MPLTreeExporter(\n\u001b[0;32m    193\u001b[0m     max_depth\u001b[38;5;241m=\u001b[39mmax_depth,\n\u001b[0;32m    194\u001b[0m     feature_names\u001b[38;5;241m=\u001b[39mfeature_names,\n\u001b[1;32m   (...)\u001b[0m\n\u001b[0;32m    203\u001b[0m     fontsize\u001b[38;5;241m=\u001b[39mfontsize,\n\u001b[0;32m    204\u001b[0m )\n\u001b[1;32m--> 205\u001b[0m \u001b[38;5;28;01mreturn\u001b[39;00m \u001b[43mexporter\u001b[49m\u001b[38;5;241;43m.\u001b[39;49m\u001b[43mexport\u001b[49m\u001b[43m(\u001b[49m\u001b[43mdecision_tree\u001b[49m\u001b[43m,\u001b[49m\u001b[43m \u001b[49m\u001b[43max\u001b[49m\u001b[38;5;241;43m=\u001b[39;49m\u001b[43max\u001b[49m\u001b[43m)\u001b[49m\n",
      "File \u001b[1;32mC:\\laragon\\bin\\python\\python-3.13\\Lib\\site-packages\\sklearn\\tree\\_export.py:652\u001b[0m, in \u001b[0;36m_MPLTreeExporter.export\u001b[1;34m(self, decision_tree, ax)\u001b[0m\n\u001b[0;32m    650\u001b[0m ax\u001b[38;5;241m.\u001b[39mclear()\n\u001b[0;32m    651\u001b[0m ax\u001b[38;5;241m.\u001b[39mset_axis_off()\n\u001b[1;32m--> 652\u001b[0m my_tree \u001b[38;5;241m=\u001b[39m \u001b[38;5;28mself\u001b[39m\u001b[38;5;241m.\u001b[39m_make_tree(\u001b[38;5;241m0\u001b[39m, \u001b[43mdecision_tree\u001b[49m\u001b[38;5;241;43m.\u001b[39;49m\u001b[43mtree_\u001b[49m, decision_tree\u001b[38;5;241m.\u001b[39mcriterion)\n\u001b[0;32m    653\u001b[0m draw_tree \u001b[38;5;241m=\u001b[39m buchheim(my_tree)\n\u001b[0;32m    655\u001b[0m \u001b[38;5;66;03m# important to make sure we're still\u001b[39;00m\n\u001b[0;32m    656\u001b[0m \u001b[38;5;66;03m# inside the axis after drawing the box\u001b[39;00m\n\u001b[0;32m    657\u001b[0m \u001b[38;5;66;03m# this makes sense because the width of a box\u001b[39;00m\n\u001b[0;32m    658\u001b[0m \u001b[38;5;66;03m# is about the same as the distance between boxes\u001b[39;00m\n",
      "\u001b[1;31mAttributeError\u001b[0m: 'DecisionTreeRegressor' object has no attribute 'tree_'"
     ]
    },
    {
     "data": {
      "image/png": "[encoded data removed]",
      "text/plain": [
       "<Figure size 2500x2000 with 1 Axes>"
      ]
     },
     "metadata": {},
     "output_type": "display_data"
    }
   ],
   "source": [
    "from sklearn.tree import plot_tree\n",
    "\n",
    "features = list(X_train.columns)\n",
    "\n",
    "labels = [str(label) for label in y_train.unique()]\n",
    "\n",
    "fig = plt.figure(figsize=(25, 20))\n",
    "_ = plot_tree(tree_model, feature_names=features, class_names=labels, filled=True)\n",
    "plt.show()"
   ]
  },
  {
   "cell_type": "markdown",
   "metadata": {
    "id": "cWvugkPIJiq0"
   },
   "source": [
    "Dapat dilihat bahwa *decision tree* yang dihasilkan terlihat sangat kompleks. Hal tersebut beresiko untuk terjadi *overfitting* dan juga sulit untuk divisualisasikan. Oleh karena itu, akan perubahan *hyperparameter* pada model decision tree bisa membuat model yang dihasilkan tidak terlalu kompleks."
   ]
  },
  {
   "cell_type": "code",
   "execution_count": 10,
   "metadata": {
    "id": "tIwjOiVGJk4_"
   },
   "outputs": [
    {
     "ename": "ValueError",
     "evalue": "could not convert string to float: 'Winter'",
     "output_type": "error",
     "traceback": [
      "\u001b[1;31m---------------------------------------------------------------------------\u001b[0m",
      "\u001b[1;31mValueError\u001b[0m                                Traceback (most recent call last)",
      "\u001b[1;32m~\\AppData\\Local\\Temp\\ipykernel_5424\\958874791.py\u001b[0m in \u001b[0;36m?\u001b[1;34m()\u001b[0m\n\u001b[0;32m      1\u001b[0m \u001b[1;31m# Membangun model tree\u001b[0m\u001b[1;33m\u001b[0m\u001b[1;33m\u001b[0m\u001b[0m\n\u001b[0;32m      2\u001b[0m \u001b[0mdt_md4\u001b[0m \u001b[1;33m=\u001b[0m \u001b[0mDecisionTreeRegressor\u001b[0m\u001b[1;33m(\u001b[0m\u001b[0mmax_depth\u001b[0m\u001b[1;33m=\u001b[0m\u001b[1;36m4\u001b[0m\u001b[1;33m)\u001b[0m\u001b[1;33m\u001b[0m\u001b[1;33m\u001b[0m\u001b[0m\n\u001b[1;32m----> 3\u001b[1;33m \u001b[0mdt_md4\u001b[0m\u001b[1;33m.\u001b[0m\u001b[0mfit\u001b[0m\u001b[1;33m(\u001b[0m\u001b[0mX_train\u001b[0m\u001b[1;33m,\u001b[0m \u001b[0my_train\u001b[0m\u001b[1;33m)\u001b[0m\u001b[1;33m\u001b[0m\u001b[1;33m\u001b[0m\u001b[0m\n\u001b[0m\u001b[0;32m      4\u001b[0m \u001b[1;33m\u001b[0m\u001b[0m\n\u001b[0;32m      5\u001b[0m \u001b[1;31m# Melakukan visualisasi pada decision tree yang sudah dibangun sebelumnya\u001b[0m\u001b[1;33m\u001b[0m\u001b[1;33m\u001b[0m\u001b[0m\n\u001b[0;32m      6\u001b[0m \u001b[0mprint\u001b[0m\u001b[1;33m(\u001b[0m\u001b[0mtree\u001b[0m\u001b[1;33m.\u001b[0m\u001b[0mexport_text\u001b[0m\u001b[1;33m(\u001b[0m\u001b[0mdt_md4\u001b[0m\u001b[1;33m,\u001b[0m \u001b[0mfeature_names\u001b[0m\u001b[1;33m=\u001b[0m\u001b[0mpd\u001b[0m\u001b[1;33m.\u001b[0m\u001b[0mSeries\u001b[0m\u001b[1;33m(\u001b[0m\u001b[0mX_train\u001b[0m\u001b[1;33m.\u001b[0m\u001b[0mcolumns\u001b[0m\u001b[1;33m)\u001b[0m\u001b[1;33m.\u001b[0m\u001b[0marray\u001b[0m\u001b[1;33m)\u001b[0m\u001b[1;33m)\u001b[0m\u001b[1;33m\u001b[0m\u001b[1;33m\u001b[0m\u001b[0m\n",
      "\u001b[1;32mC:\\laragon\\bin\\python\\python-3.13\\Lib\\site-packages\\sklearn\\base.py\u001b[0m in \u001b[0;36m?\u001b[1;34m(estimator, *args, **kwargs)\u001b[0m\n\u001b[0;32m   1385\u001b[0m                 skip_parameter_validation=(\n\u001b[0;32m   1386\u001b[0m                     \u001b[0mprefer_skip_nested_validation\u001b[0m \u001b[1;32mor\u001b[0m \u001b[0mglobal_skip_validation\u001b[0m\u001b[1;33m\u001b[0m\u001b[1;33m\u001b[0m\u001b[0m\n\u001b[0;32m   1387\u001b[0m                 \u001b[1;33m)\u001b[0m\u001b[1;33m\u001b[0m\u001b[1;33m\u001b[0m\u001b[0m\n\u001b[0;32m   1388\u001b[0m             \u001b[1;33m)\u001b[0m\u001b[1;33m:\u001b[0m\u001b[1;33m\u001b[0m\u001b[1;33m\u001b[0m\u001b[0m\n\u001b[1;32m-> 1389\u001b[1;33m                 \u001b[1;32mreturn\u001b[0m \u001b[0mfit_method\u001b[0m\u001b[1;33m(\u001b[0m\u001b[0mestimator\u001b[0m\u001b[1;33m,\u001b[0m \u001b[1;33m*\u001b[0m\u001b[0margs\u001b[0m\u001b[1;33m,\u001b[0m \u001b[1;33m**\u001b[0m\u001b[0mkwargs\u001b[0m\u001b[1;33m)\u001b[0m\u001b[1;33m\u001b[0m\u001b[1;33m\u001b[0m\u001b[0m\n\u001b[0m",
      "\u001b[1;32mC:\\laragon\\bin\\python\\python-3.13\\Lib\\site-packages\\sklearn\\tree\\_classes.py\u001b[0m in \u001b[0;36m?\u001b[1;34m(self, X, y, sample_weight, check_input)\u001b[0m\n\u001b[0;32m   1400\u001b[0m         \u001b[0mself\u001b[0m \u001b[1;33m:\u001b[0m \u001b[0mDecisionTreeRegressor\u001b[0m\u001b[1;33m\u001b[0m\u001b[1;33m\u001b[0m\u001b[0m\n\u001b[0;32m   1401\u001b[0m             \u001b[0mFitted\u001b[0m \u001b[0mestimator\u001b[0m\u001b[1;33m.\u001b[0m\u001b[1;33m\u001b[0m\u001b[1;33m\u001b[0m\u001b[0m\n\u001b[0;32m   1402\u001b[0m         \"\"\"\n\u001b[0;32m   1403\u001b[0m \u001b[1;33m\u001b[0m\u001b[0m\n\u001b[1;32m-> 1404\u001b[1;33m         super()._fit(\n\u001b[0m\u001b[0;32m   1405\u001b[0m             \u001b[0mX\u001b[0m\u001b[1;33m,\u001b[0m\u001b[1;33m\u001b[0m\u001b[1;33m\u001b[0m\u001b[0m\n\u001b[0;32m   1406\u001b[0m             \u001b[0my\u001b[0m\u001b[1;33m,\u001b[0m\u001b[1;33m\u001b[0m\u001b[1;33m\u001b[0m\u001b[0m\n\u001b[0;32m   1407\u001b[0m             \u001b[0msample_weight\u001b[0m\u001b[1;33m=\u001b[0m\u001b[0msample_weight\u001b[0m\u001b[1;33m,\u001b[0m\u001b[1;33m\u001b[0m\u001b[1;33m\u001b[0m\u001b[0m\n",
      "\u001b[1;32mC:\\laragon\\bin\\python\\python-3.13\\Lib\\site-packages\\sklearn\\tree\\_classes.py\u001b[0m in \u001b[0;36m?\u001b[1;34m(self, X, y, sample_weight, check_input, missing_values_in_feature_mask)\u001b[0m\n\u001b[0;32m    248\u001b[0m             check_X_params = dict(\n\u001b[0;32m    249\u001b[0m                 \u001b[0mdtype\u001b[0m\u001b[1;33m=\u001b[0m\u001b[0mDTYPE\u001b[0m\u001b[1;33m,\u001b[0m \u001b[0maccept_sparse\u001b[0m\u001b[1;33m=\u001b[0m\u001b[1;34m\"csc\"\u001b[0m\u001b[1;33m,\u001b[0m \u001b[0mensure_all_finite\u001b[0m\u001b[1;33m=\u001b[0m\u001b[1;32mFalse\u001b[0m\u001b[1;33m\u001b[0m\u001b[1;33m\u001b[0m\u001b[0m\n\u001b[0;32m    250\u001b[0m             \u001b[1;33m)\u001b[0m\u001b[1;33m\u001b[0m\u001b[1;33m\u001b[0m\u001b[0m\n\u001b[0;32m    251\u001b[0m             \u001b[0mcheck_y_params\u001b[0m \u001b[1;33m=\u001b[0m \u001b[0mdict\u001b[0m\u001b[1;33m(\u001b[0m\u001b[0mensure_2d\u001b[0m\u001b[1;33m=\u001b[0m\u001b[1;32mFalse\u001b[0m\u001b[1;33m,\u001b[0m \u001b[0mdtype\u001b[0m\u001b[1;33m=\u001b[0m\u001b[1;32mNone\u001b[0m\u001b[1;33m)\u001b[0m\u001b[1;33m\u001b[0m\u001b[1;33m\u001b[0m\u001b[0m\n\u001b[1;32m--> 252\u001b[1;33m             X, y = validate_data(\n\u001b[0m\u001b[0;32m    253\u001b[0m                 \u001b[0mself\u001b[0m\u001b[1;33m,\u001b[0m \u001b[0mX\u001b[0m\u001b[1;33m,\u001b[0m \u001b[0my\u001b[0m\u001b[1;33m,\u001b[0m \u001b[0mvalidate_separately\u001b[0m\u001b[1;33m=\u001b[0m\u001b[1;33m(\u001b[0m\u001b[0mcheck_X_params\u001b[0m\u001b[1;33m,\u001b[0m \u001b[0mcheck_y_params\u001b[0m\u001b[1;33m)\u001b[0m\u001b[1;33m\u001b[0m\u001b[1;33m\u001b[0m\u001b[0m\n\u001b[0;32m    254\u001b[0m             \u001b[1;33m)\u001b[0m\u001b[1;33m\u001b[0m\u001b[1;33m\u001b[0m\u001b[0m\n\u001b[0;32m    255\u001b[0m \u001b[1;33m\u001b[0m\u001b[0m\n",
      "\u001b[1;32mC:\\laragon\\bin\\python\\python-3.13\\Lib\\site-packages\\sklearn\\utils\\validation.py\u001b[0m in \u001b[0;36m?\u001b[1;34m(_estimator, X, y, reset, validate_separately, skip_check_array, **check_params)\u001b[0m\n\u001b[0;32m   2952\u001b[0m             \u001b[1;31m# :(\u001b[0m\u001b[1;33m\u001b[0m\u001b[1;33m\u001b[0m\u001b[0m\n\u001b[0;32m   2953\u001b[0m             \u001b[0mcheck_X_params\u001b[0m\u001b[1;33m,\u001b[0m \u001b[0mcheck_y_params\u001b[0m \u001b[1;33m=\u001b[0m \u001b[0mvalidate_separately\u001b[0m\u001b[1;33m\u001b[0m\u001b[1;33m\u001b[0m\u001b[0m\n\u001b[0;32m   2954\u001b[0m             \u001b[1;32mif\u001b[0m \u001b[1;34m\"estimator\"\u001b[0m \u001b[1;32mnot\u001b[0m \u001b[1;32min\u001b[0m \u001b[0mcheck_X_params\u001b[0m\u001b[1;33m:\u001b[0m\u001b[1;33m\u001b[0m\u001b[1;33m\u001b[0m\u001b[0m\n\u001b[0;32m   2955\u001b[0m                 \u001b[0mcheck_X_params\u001b[0m \u001b[1;33m=\u001b[0m \u001b[1;33m{\u001b[0m\u001b[1;33m**\u001b[0m\u001b[0mdefault_check_params\u001b[0m\u001b[1;33m,\u001b[0m \u001b[1;33m**\u001b[0m\u001b[0mcheck_X_params\u001b[0m\u001b[1;33m}\u001b[0m\u001b[1;33m\u001b[0m\u001b[1;33m\u001b[0m\u001b[0m\n\u001b[1;32m-> 2956\u001b[1;33m             \u001b[0mX\u001b[0m \u001b[1;33m=\u001b[0m \u001b[0mcheck_array\u001b[0m\u001b[1;33m(\u001b[0m\u001b[0mX\u001b[0m\u001b[1;33m,\u001b[0m \u001b[0minput_name\u001b[0m\u001b[1;33m=\u001b[0m\u001b[1;34m\"X\"\u001b[0m\u001b[1;33m,\u001b[0m \u001b[1;33m**\u001b[0m\u001b[0mcheck_X_params\u001b[0m\u001b[1;33m)\u001b[0m\u001b[1;33m\u001b[0m\u001b[1;33m\u001b[0m\u001b[0m\n\u001b[0m\u001b[0;32m   2957\u001b[0m             \u001b[1;32mif\u001b[0m \u001b[1;34m\"estimator\"\u001b[0m \u001b[1;32mnot\u001b[0m \u001b[1;32min\u001b[0m \u001b[0mcheck_y_params\u001b[0m\u001b[1;33m:\u001b[0m\u001b[1;33m\u001b[0m\u001b[1;33m\u001b[0m\u001b[0m\n\u001b[0;32m   2958\u001b[0m                 \u001b[0mcheck_y_params\u001b[0m \u001b[1;33m=\u001b[0m \u001b[1;33m{\u001b[0m\u001b[1;33m**\u001b[0m\u001b[0mdefault_check_params\u001b[0m\u001b[1;33m,\u001b[0m \u001b[1;33m**\u001b[0m\u001b[0mcheck_y_params\u001b[0m\u001b[1;33m}\u001b[0m\u001b[1;33m\u001b[0m\u001b[1;33m\u001b[0m\u001b[0m\n\u001b[0;32m   2959\u001b[0m             \u001b[0my\u001b[0m \u001b[1;33m=\u001b[0m \u001b[0mcheck_array\u001b[0m\u001b[1;33m(\u001b[0m\u001b[0my\u001b[0m\u001b[1;33m,\u001b[0m \u001b[0minput_name\u001b[0m\u001b[1;33m=\u001b[0m\u001b[1;34m\"y\"\u001b[0m\u001b[1;33m,\u001b[0m \u001b[1;33m**\u001b[0m\u001b[0mcheck_y_params\u001b[0m\u001b[1;33m)\u001b[0m\u001b[1;33m\u001b[0m\u001b[1;33m\u001b[0m\u001b[0m\n",
      "\u001b[1;32mC:\\laragon\\bin\\python\\python-3.13\\Lib\\site-packages\\sklearn\\utils\\validation.py\u001b[0m in \u001b[0;36m?\u001b[1;34m(array, accept_sparse, accept_large_sparse, dtype, order, copy, force_writeable, force_all_finite, ensure_all_finite, ensure_non_negative, ensure_2d, allow_nd, ensure_min_samples, ensure_min_features, estimator, input_name)\u001b[0m\n\u001b[0;32m   1052\u001b[0m                         \u001b[1;33m)\u001b[0m\u001b[1;33m\u001b[0m\u001b[1;33m\u001b[0m\u001b[0m\n\u001b[0;32m   1053\u001b[0m                     \u001b[0marray\u001b[0m \u001b[1;33m=\u001b[0m \u001b[0mxp\u001b[0m\u001b[1;33m.\u001b[0m\u001b[0mastype\u001b[0m\u001b[1;33m(\u001b[0m\u001b[0marray\u001b[0m\u001b[1;33m,\u001b[0m \u001b[0mdtype\u001b[0m\u001b[1;33m,\u001b[0m \u001b[0mcopy\u001b[0m\u001b[1;33m=\u001b[0m\u001b[1;32mFalse\u001b[0m\u001b[1;33m)\u001b[0m\u001b[1;33m\u001b[0m\u001b[1;33m\u001b[0m\u001b[0m\n\u001b[0;32m   1054\u001b[0m                 \u001b[1;32melse\u001b[0m\u001b[1;33m:\u001b[0m\u001b[1;33m\u001b[0m\u001b[1;33m\u001b[0m\u001b[0m\n\u001b[0;32m   1055\u001b[0m                     \u001b[0marray\u001b[0m \u001b[1;33m=\u001b[0m \u001b[0m_asarray_with_order\u001b[0m\u001b[1;33m(\u001b[0m\u001b[0marray\u001b[0m\u001b[1;33m,\u001b[0m \u001b[0morder\u001b[0m\u001b[1;33m=\u001b[0m\u001b[0morder\u001b[0m\u001b[1;33m,\u001b[0m \u001b[0mdtype\u001b[0m\u001b[1;33m=\u001b[0m\u001b[0mdtype\u001b[0m\u001b[1;33m,\u001b[0m \u001b[0mxp\u001b[0m\u001b[1;33m=\u001b[0m\u001b[0mxp\u001b[0m\u001b[1;33m)\u001b[0m\u001b[1;33m\u001b[0m\u001b[1;33m\u001b[0m\u001b[0m\n\u001b[1;32m-> 1056\u001b[1;33m             \u001b[1;32mexcept\u001b[0m \u001b[0mComplexWarning\u001b[0m \u001b[1;32mas\u001b[0m \u001b[0mcomplex_warning\u001b[0m\u001b[1;33m:\u001b[0m\u001b[1;33m\u001b[0m\u001b[1;33m\u001b[0m\u001b[0m\n\u001b[0m\u001b[0;32m   1057\u001b[0m                 raise ValueError(\n\u001b[0;32m   1058\u001b[0m                     \u001b[1;34m\"Complex data not supported\\n{}\\n\"\u001b[0m\u001b[1;33m.\u001b[0m\u001b[0mformat\u001b[0m\u001b[1;33m(\u001b[0m\u001b[0marray\u001b[0m\u001b[1;33m)\u001b[0m\u001b[1;33m\u001b[0m\u001b[1;33m\u001b[0m\u001b[0m\n\u001b[0;32m   1059\u001b[0m                 \u001b[1;33m)\u001b[0m \u001b[1;32mfrom\u001b[0m \u001b[0mcomplex_warning\u001b[0m\u001b[1;33m\u001b[0m\u001b[1;33m\u001b[0m\u001b[0m\n",
      "\u001b[1;32mC:\\laragon\\bin\\python\\python-3.13\\Lib\\site-packages\\sklearn\\utils\\_array_api.py\u001b[0m in \u001b[0;36m?\u001b[1;34m(array, dtype, order, copy, xp, device)\u001b[0m\n\u001b[0;32m    835\u001b[0m         \u001b[1;31m# Use NumPy API to support order\u001b[0m\u001b[1;33m\u001b[0m\u001b[1;33m\u001b[0m\u001b[0m\n\u001b[0;32m    836\u001b[0m         \u001b[1;32mif\u001b[0m \u001b[0mcopy\u001b[0m \u001b[1;32mis\u001b[0m \u001b[1;32mTrue\u001b[0m\u001b[1;33m:\u001b[0m\u001b[1;33m\u001b[0m\u001b[1;33m\u001b[0m\u001b[0m\n\u001b[0;32m    837\u001b[0m             \u001b[0marray\u001b[0m \u001b[1;33m=\u001b[0m \u001b[0mnumpy\u001b[0m\u001b[1;33m.\u001b[0m\u001b[0marray\u001b[0m\u001b[1;33m(\u001b[0m\u001b[0marray\u001b[0m\u001b[1;33m,\u001b[0m \u001b[0morder\u001b[0m\u001b[1;33m=\u001b[0m\u001b[0morder\u001b[0m\u001b[1;33m,\u001b[0m \u001b[0mdtype\u001b[0m\u001b[1;33m=\u001b[0m\u001b[0mdtype\u001b[0m\u001b[1;33m)\u001b[0m\u001b[1;33m\u001b[0m\u001b[1;33m\u001b[0m\u001b[0m\n\u001b[0;32m    838\u001b[0m         \u001b[1;32melse\u001b[0m\u001b[1;33m:\u001b[0m\u001b[1;33m\u001b[0m\u001b[1;33m\u001b[0m\u001b[0m\n\u001b[1;32m--> 839\u001b[1;33m             \u001b[0marray\u001b[0m \u001b[1;33m=\u001b[0m \u001b[0mnumpy\u001b[0m\u001b[1;33m.\u001b[0m\u001b[0masarray\u001b[0m\u001b[1;33m(\u001b[0m\u001b[0marray\u001b[0m\u001b[1;33m,\u001b[0m \u001b[0morder\u001b[0m\u001b[1;33m=\u001b[0m\u001b[0morder\u001b[0m\u001b[1;33m,\u001b[0m \u001b[0mdtype\u001b[0m\u001b[1;33m=\u001b[0m\u001b[0mdtype\u001b[0m\u001b[1;33m)\u001b[0m\u001b[1;33m\u001b[0m\u001b[1;33m\u001b[0m\u001b[0m\n\u001b[0m\u001b[0;32m    840\u001b[0m \u001b[1;33m\u001b[0m\u001b[0m\n\u001b[0;32m    841\u001b[0m         \u001b[1;31m# At this point array is a NumPy ndarray. We convert it to an array\u001b[0m\u001b[1;33m\u001b[0m\u001b[1;33m\u001b[0m\u001b[0m\n\u001b[0;32m    842\u001b[0m         \u001b[1;31m# container that is consistent with the input's namespace.\u001b[0m\u001b[1;33m\u001b[0m\u001b[1;33m\u001b[0m\u001b[0m\n",
      "\u001b[1;32mC:\\laragon\\bin\\python\\python-3.13\\Lib\\site-packages\\pandas\\core\\generic.py\u001b[0m in \u001b[0;36m?\u001b[1;34m(self, dtype, copy)\u001b[0m\n\u001b[0;32m   2149\u001b[0m     def __array__(\n\u001b[0;32m   2150\u001b[0m         \u001b[0mself\u001b[0m\u001b[1;33m,\u001b[0m \u001b[0mdtype\u001b[0m\u001b[1;33m:\u001b[0m \u001b[0mnpt\u001b[0m\u001b[1;33m.\u001b[0m\u001b[0mDTypeLike\u001b[0m \u001b[1;33m|\u001b[0m \u001b[1;32mNone\u001b[0m \u001b[1;33m=\u001b[0m \u001b[1;32mNone\u001b[0m\u001b[1;33m,\u001b[0m \u001b[0mcopy\u001b[0m\u001b[1;33m:\u001b[0m \u001b[0mbool_t\u001b[0m \u001b[1;33m|\u001b[0m \u001b[1;32mNone\u001b[0m \u001b[1;33m=\u001b[0m \u001b[1;32mNone\u001b[0m\u001b[1;33m\u001b[0m\u001b[1;33m\u001b[0m\u001b[0m\n\u001b[0;32m   2151\u001b[0m     \u001b[1;33m)\u001b[0m \u001b[1;33m->\u001b[0m \u001b[0mnp\u001b[0m\u001b[1;33m.\u001b[0m\u001b[0mndarray\u001b[0m\u001b[1;33m:\u001b[0m\u001b[1;33m\u001b[0m\u001b[1;33m\u001b[0m\u001b[0m\n\u001b[0;32m   2152\u001b[0m         \u001b[0mvalues\u001b[0m \u001b[1;33m=\u001b[0m \u001b[0mself\u001b[0m\u001b[1;33m.\u001b[0m\u001b[0m_values\u001b[0m\u001b[1;33m\u001b[0m\u001b[1;33m\u001b[0m\u001b[0m\n\u001b[1;32m-> 2153\u001b[1;33m         \u001b[0marr\u001b[0m \u001b[1;33m=\u001b[0m \u001b[0mnp\u001b[0m\u001b[1;33m.\u001b[0m\u001b[0masarray\u001b[0m\u001b[1;33m(\u001b[0m\u001b[0mvalues\u001b[0m\u001b[1;33m,\u001b[0m \u001b[0mdtype\u001b[0m\u001b[1;33m=\u001b[0m\u001b[0mdtype\u001b[0m\u001b[1;33m)\u001b[0m\u001b[1;33m\u001b[0m\u001b[1;33m\u001b[0m\u001b[0m\n\u001b[0m\u001b[0;32m   2154\u001b[0m         if (\n\u001b[0;32m   2155\u001b[0m             \u001b[0mastype_is_view\u001b[0m\u001b[1;33m(\u001b[0m\u001b[0mvalues\u001b[0m\u001b[1;33m.\u001b[0m\u001b[0mdtype\u001b[0m\u001b[1;33m,\u001b[0m \u001b[0marr\u001b[0m\u001b[1;33m.\u001b[0m\u001b[0mdtype\u001b[0m\u001b[1;33m)\u001b[0m\u001b[1;33m\u001b[0m\u001b[1;33m\u001b[0m\u001b[0m\n\u001b[0;32m   2156\u001b[0m             \u001b[1;32mand\u001b[0m \u001b[0musing_copy_on_write\u001b[0m\u001b[1;33m(\u001b[0m\u001b[1;33m)\u001b[0m\u001b[1;33m\u001b[0m\u001b[1;33m\u001b[0m\u001b[0m\n",
      "\u001b[1;31mValueError\u001b[0m: could not convert string to float: 'Winter'"
     ]
    }
   ],
   "source": [
    "# Membangun model tree\n",
    "dt_md4 = DecisionTreeRegressor(max_depth=4)\n",
    "dt_md4.fit(X_train, y_train)\n",
    "\n",
    "# Melakukan visualisasi pada decision tree yang sudah dibangun sebelumnya\n",
    "print(tree.export_text(dt_md4, feature_names=pd.Series(X_train.columns).array))"
   ]
  },
  {
   "cell_type": "markdown",
   "metadata": {
    "id": "xEL1jo86q9_V"
   },
   "source": [
    "Secara visual:"
   ]
  },
  {
   "cell_type": "code",
   "execution_count": 11,
   "metadata": {
    "id": "lPppv5-mrA3O"
   },
   "outputs": [
    {
     "ename": "NameError",
     "evalue": "name 'plot_tree' is not defined",
     "output_type": "error",
     "traceback": [
      "\u001b[1;31m---------------------------------------------------------------------------\u001b[0m",
      "\u001b[1;31mNameError\u001b[0m                                 Traceback (most recent call last)",
      "Cell \u001b[1;32mIn[11], line 6\u001b[0m\n\u001b[0;32m      3\u001b[0m labels \u001b[38;5;241m=\u001b[39m [\u001b[38;5;28mstr\u001b[39m(label) \u001b[38;5;28;01mfor\u001b[39;00m label \u001b[38;5;129;01min\u001b[39;00m y_train\u001b[38;5;241m.\u001b[39munique()]\n\u001b[0;32m      5\u001b[0m fig \u001b[38;5;241m=\u001b[39m plt\u001b[38;5;241m.\u001b[39mfigure(figsize\u001b[38;5;241m=\u001b[39m(\u001b[38;5;241m25\u001b[39m, \u001b[38;5;241m20\u001b[39m))\n\u001b[1;32m----> 6\u001b[0m _ \u001b[38;5;241m=\u001b[39m \u001b[43mplot_tree\u001b[49m(dt_md4, feature_names\u001b[38;5;241m=\u001b[39mfeatures, class_names\u001b[38;5;241m=\u001b[39mlabels, filled\u001b[38;5;241m=\u001b[39m\u001b[38;5;28;01mTrue\u001b[39;00m)\n\u001b[0;32m      7\u001b[0m plt\u001b[38;5;241m.\u001b[39mshow()\n",
      "\u001b[1;31mNameError\u001b[0m: name 'plot_tree' is not defined"
     ]
    },
    {
     "data": {
      "text/plain": [
       "<Figure size 2500x2000 with 0 Axes>"
      ]
     },
     "metadata": {},
     "output_type": "display_data"
    }
   ],
   "source": [
    "features = list(X_train.columns)\n",
    "\n",
    "labels = [str(label) for label in y_train.unique()]\n",
    "\n",
    "fig = plt.figure(figsize=(25, 20))\n",
    "_ = plot_tree(dt_md4, feature_names=features, class_names=labels, filled=True)\n",
    "plt.show()"
   ]
  },
  {
   "cell_type": "markdown",
   "metadata": {
    "id": "5Bbv0LQgJ0yj"
   },
   "source": [
    "Pada model decision tree di atas, dilakukan pembatasan pada kedalaman maksimal dengan mengatur nilai dari `max_depth`. Perubahan *hyperparameter* ini dilakukan untuk mendapatkan model dengan jenis yang sama namun atribut yang berbeda. Untuk pemilihan *hyperparameter* apa yang tepat, biasanya memperhatikan persebaran data pada dataset yang diberikan dan dibantu oleh pengalaman dalam melakukan serangkaian kegiatan data science.  \n",
    "\n",
    "Pemilihan Hyperparameter tidak dilakukan oleh model tapi dilakukan oleh Programmer. Ini biasa dibantu oleh tools untuk mencari Hyperparameter terbaik secara iteratif. Proses ini disebut **Hyperparameter Tuning**. Pada Sklearn, ada metode yang dinamakan Grid Search Cross Validation yang bisa digunakan untuk memilih *hyperparameter* terbaik dari beberapa *hyperparameter* yang disediakan berdasarkan kriteria tertentu. Metode ini akan dibahas lebih lanjut dibawah."
   ]
  },
  {
   "cell_type": "markdown",
   "metadata": {
    "id": "LolRO4JNK7uq"
   },
   "source": [
    "### Ensemble Learning"
   ]
  },
  {
   "cell_type": "markdown",
   "metadata": {
    "id": "OaWIwQdRK0vo"
   },
   "source": [
    "*Ensemble Learning* adalah proses di mana kita menggunakan banyak model untuk mendapatkan hasil yang lebih baik dibandingkan dengan menggunakan satu model saja. Salah satu jenis *ensemble learning* adalah *bagging* (*bootstrap aggregating*).\n",
    "\n",
    "Pada metode *bagging*, setiap model akan dilatih menggunakan subhimpunan dari data *training* (tidak keseluruhan data latih digunakan dalam setiap proses *training*). Pada subhimpunan data yang satu dengan yang lainnya bisa mengandung data yang sama (tidak harus beda semua), hal inilah yang disebut dengan *bootstrap sampling*. Nantinya, setiap model yang telah dilatih akan melakukan proses prediksi terhadap data yang baru. Hasil prediksi akhir didapatkan melalui sistem *majority voting* di mana hasil akhirnya akan menggunakan hasil prediksi yang paling banyak muncul pada model-model yang telah dibuat.\n",
    "\n",
    "![randforest.png](data:image/png;base64,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)\n",
    "\n",
    "Sumber: Lab 4 KASDD Gasal 2023"
   ]
  },
  {
   "cell_type": "markdown",
   "metadata": {
    "id": "zvnbE7z4LMBc"
   },
   "source": [
    "### *Random Forest*"
   ]
  },
  {
   "cell_type": "markdown",
   "metadata": {
    "id": "Bif73eNkLKrV"
   },
   "source": [
    "*Random Forest* merupakan salah satu variasi dari konsep *bagging* pada *ensemble learning* yang menggunakan Decision Tree sebagai basis modelnya. Setiap model yang dibangun berupa Decision Tree dan nantinya model tersebut dilatih dan digunakan untuk melakukan prediksi. Output dari Random Forest itu sendiri merupakan hasil prediksi yang paling banyak muncul di antara model-model Decision Tree."
   ]
  },
  {
   "cell_type": "code",
   "execution_count": 12,
   "metadata": {
    "id": "XlcLUKTrLlMx"
   },
   "outputs": [
    {
     "ename": "ValueError",
     "evalue": "could not convert string to float: 'Winter'",
     "output_type": "error",
     "traceback": [
      "\u001b[1;31m---------------------------------------------------------------------------\u001b[0m",
      "\u001b[1;31mValueError\u001b[0m                                Traceback (most recent call last)",
      "\u001b[1;32m~\\AppData\\Local\\Temp\\ipykernel_5424\\1986708261.py\u001b[0m in \u001b[0;36m?\u001b[1;34m()\u001b[0m\n\u001b[0;32m      1\u001b[0m \u001b[1;31m# Melakukan training pada model random forest\u001b[0m\u001b[1;33m\u001b[0m\u001b[1;33m\u001b[0m\u001b[0m\n\u001b[0;32m      2\u001b[0m \u001b[0mrf_md\u001b[0m \u001b[1;33m=\u001b[0m \u001b[0mRandomForestRegressor\u001b[0m\u001b[1;33m(\u001b[0m\u001b[1;33m)\u001b[0m\u001b[1;33m\u001b[0m\u001b[1;33m\u001b[0m\u001b[0m\n\u001b[1;32m----> 3\u001b[1;33m \u001b[0mrf_md\u001b[0m\u001b[1;33m.\u001b[0m\u001b[0mfit\u001b[0m\u001b[1;33m(\u001b[0m\u001b[0mX_train\u001b[0m\u001b[1;33m,\u001b[0m \u001b[0my_train\u001b[0m\u001b[1;33m)\u001b[0m\u001b[1;33m\u001b[0m\u001b[1;33m\u001b[0m\u001b[0m\n\u001b[0m\u001b[0;32m      4\u001b[0m \u001b[1;33m\u001b[0m\u001b[0m\n\u001b[0;32m      5\u001b[0m \u001b[1;31m# Memprediksi data testing\u001b[0m\u001b[1;33m\u001b[0m\u001b[1;33m\u001b[0m\u001b[0m\n\u001b[0;32m      6\u001b[0m \u001b[0mpredicted\u001b[0m \u001b[1;33m=\u001b[0m \u001b[0mrf_md\u001b[0m\u001b[1;33m.\u001b[0m\u001b[0mpredict\u001b[0m\u001b[1;33m(\u001b[0m\u001b[0mX_test\u001b[0m\u001b[1;33m)\u001b[0m\u001b[1;33m\u001b[0m\u001b[1;33m\u001b[0m\u001b[0m\n",
      "\u001b[1;32mC:\\laragon\\bin\\python\\python-3.13\\Lib\\site-packages\\sklearn\\base.py\u001b[0m in \u001b[0;36m?\u001b[1;34m(estimator, *args, **kwargs)\u001b[0m\n\u001b[0;32m   1385\u001b[0m                 skip_parameter_validation=(\n\u001b[0;32m   1386\u001b[0m                     \u001b[0mprefer_skip_nested_validation\u001b[0m \u001b[1;32mor\u001b[0m \u001b[0mglobal_skip_validation\u001b[0m\u001b[1;33m\u001b[0m\u001b[1;33m\u001b[0m\u001b[0m\n\u001b[0;32m   1387\u001b[0m                 \u001b[1;33m)\u001b[0m\u001b[1;33m\u001b[0m\u001b[1;33m\u001b[0m\u001b[0m\n\u001b[0;32m   1388\u001b[0m             \u001b[1;33m)\u001b[0m\u001b[1;33m:\u001b[0m\u001b[1;33m\u001b[0m\u001b[1;33m\u001b[0m\u001b[0m\n\u001b[1;32m-> 1389\u001b[1;33m                 \u001b[1;32mreturn\u001b[0m \u001b[0mfit_method\u001b[0m\u001b[1;33m(\u001b[0m\u001b[0mestimator\u001b[0m\u001b[1;33m,\u001b[0m \u001b[1;33m*\u001b[0m\u001b[0margs\u001b[0m\u001b[1;33m,\u001b[0m \u001b[1;33m**\u001b[0m\u001b[0mkwargs\u001b[0m\u001b[1;33m)\u001b[0m\u001b[1;33m\u001b[0m\u001b[1;33m\u001b[0m\u001b[0m\n\u001b[0m",
      "\u001b[1;32mC:\\laragon\\bin\\python\\python-3.13\\Lib\\site-packages\\sklearn\\ensemble\\_forest.py\u001b[0m in \u001b[0;36m?\u001b[1;34m(self, X, y, sample_weight)\u001b[0m\n\u001b[0;32m    356\u001b[0m         \u001b[1;31m# Validate or convert input data\u001b[0m\u001b[1;33m\u001b[0m\u001b[1;33m\u001b[0m\u001b[0m\n\u001b[0;32m    357\u001b[0m         \u001b[1;32mif\u001b[0m \u001b[0missparse\u001b[0m\u001b[1;33m(\u001b[0m\u001b[0my\u001b[0m\u001b[1;33m)\u001b[0m\u001b[1;33m:\u001b[0m\u001b[1;33m\u001b[0m\u001b[1;33m\u001b[0m\u001b[0m\n\u001b[0;32m    358\u001b[0m             \u001b[1;32mraise\u001b[0m \u001b[0mValueError\u001b[0m\u001b[1;33m(\u001b[0m\u001b[1;34m\"sparse multilabel-indicator for y is not supported.\"\u001b[0m\u001b[1;33m)\u001b[0m\u001b[1;33m\u001b[0m\u001b[1;33m\u001b[0m\u001b[0m\n\u001b[0;32m    359\u001b[0m \u001b[1;33m\u001b[0m\u001b[0m\n\u001b[1;32m--> 360\u001b[1;33m         X, y = validate_data(\n\u001b[0m\u001b[0;32m    361\u001b[0m             \u001b[0mself\u001b[0m\u001b[1;33m,\u001b[0m\u001b[1;33m\u001b[0m\u001b[1;33m\u001b[0m\u001b[0m\n\u001b[0;32m    362\u001b[0m             \u001b[0mX\u001b[0m\u001b[1;33m,\u001b[0m\u001b[1;33m\u001b[0m\u001b[1;33m\u001b[0m\u001b[0m\n\u001b[0;32m    363\u001b[0m             \u001b[0my\u001b[0m\u001b[1;33m,\u001b[0m\u001b[1;33m\u001b[0m\u001b[1;33m\u001b[0m\u001b[0m\n",
      "\u001b[1;32mC:\\laragon\\bin\\python\\python-3.13\\Lib\\site-packages\\sklearn\\utils\\validation.py\u001b[0m in \u001b[0;36m?\u001b[1;34m(_estimator, X, y, reset, validate_separately, skip_check_array, **check_params)\u001b[0m\n\u001b[0;32m   2957\u001b[0m             \u001b[1;32mif\u001b[0m \u001b[1;34m\"estimator\"\u001b[0m \u001b[1;32mnot\u001b[0m \u001b[1;32min\u001b[0m \u001b[0mcheck_y_params\u001b[0m\u001b[1;33m:\u001b[0m\u001b[1;33m\u001b[0m\u001b[1;33m\u001b[0m\u001b[0m\n\u001b[0;32m   2958\u001b[0m                 \u001b[0mcheck_y_params\u001b[0m \u001b[1;33m=\u001b[0m \u001b[1;33m{\u001b[0m\u001b[1;33m**\u001b[0m\u001b[0mdefault_check_params\u001b[0m\u001b[1;33m,\u001b[0m \u001b[1;33m**\u001b[0m\u001b[0mcheck_y_params\u001b[0m\u001b[1;33m}\u001b[0m\u001b[1;33m\u001b[0m\u001b[1;33m\u001b[0m\u001b[0m\n\u001b[0;32m   2959\u001b[0m             \u001b[0my\u001b[0m \u001b[1;33m=\u001b[0m \u001b[0mcheck_array\u001b[0m\u001b[1;33m(\u001b[0m\u001b[0my\u001b[0m\u001b[1;33m,\u001b[0m \u001b[0minput_name\u001b[0m\u001b[1;33m=\u001b[0m\u001b[1;34m\"y\"\u001b[0m\u001b[1;33m,\u001b[0m \u001b[1;33m**\u001b[0m\u001b[0mcheck_y_params\u001b[0m\u001b[1;33m)\u001b[0m\u001b[1;33m\u001b[0m\u001b[1;33m\u001b[0m\u001b[0m\n\u001b[0;32m   2960\u001b[0m         \u001b[1;32melse\u001b[0m\u001b[1;33m:\u001b[0m\u001b[1;33m\u001b[0m\u001b[1;33m\u001b[0m\u001b[0m\n\u001b[1;32m-> 2961\u001b[1;33m             \u001b[0mX\u001b[0m\u001b[1;33m,\u001b[0m \u001b[0my\u001b[0m \u001b[1;33m=\u001b[0m \u001b[0mcheck_X_y\u001b[0m\u001b[1;33m(\u001b[0m\u001b[0mX\u001b[0m\u001b[1;33m,\u001b[0m \u001b[0my\u001b[0m\u001b[1;33m,\u001b[0m \u001b[1;33m**\u001b[0m\u001b[0mcheck_params\u001b[0m\u001b[1;33m)\u001b[0m\u001b[1;33m\u001b[0m\u001b[1;33m\u001b[0m\u001b[0m\n\u001b[0m\u001b[0;32m   2962\u001b[0m         \u001b[0mout\u001b[0m \u001b[1;33m=\u001b[0m \u001b[0mX\u001b[0m\u001b[1;33m,\u001b[0m \u001b[0my\u001b[0m\u001b[1;33m\u001b[0m\u001b[1;33m\u001b[0m\u001b[0m\n\u001b[0;32m   2963\u001b[0m \u001b[1;33m\u001b[0m\u001b[0m\n\u001b[0;32m   2964\u001b[0m     \u001b[1;32mif\u001b[0m \u001b[1;32mnot\u001b[0m \u001b[0mno_val_X\u001b[0m \u001b[1;32mand\u001b[0m \u001b[0mcheck_params\u001b[0m\u001b[1;33m.\u001b[0m\u001b[0mget\u001b[0m\u001b[1;33m(\u001b[0m\u001b[1;34m\"ensure_2d\"\u001b[0m\u001b[1;33m,\u001b[0m \u001b[1;32mTrue\u001b[0m\u001b[1;33m)\u001b[0m\u001b[1;33m:\u001b[0m\u001b[1;33m\u001b[0m\u001b[1;33m\u001b[0m\u001b[0m\n",
      "\u001b[1;32mC:\\laragon\\bin\\python\\python-3.13\\Lib\\site-packages\\sklearn\\utils\\validation.py\u001b[0m in \u001b[0;36m?\u001b[1;34m(X, y, accept_sparse, accept_large_sparse, dtype, order, copy, force_writeable, force_all_finite, ensure_all_finite, ensure_2d, allow_nd, multi_output, ensure_min_samples, ensure_min_features, y_numeric, estimator)\u001b[0m\n\u001b[0;32m   1366\u001b[0m         \u001b[1;33m)\u001b[0m\u001b[1;33m\u001b[0m\u001b[1;33m\u001b[0m\u001b[0m\n\u001b[0;32m   1367\u001b[0m \u001b[1;33m\u001b[0m\u001b[0m\n\u001b[0;32m   1368\u001b[0m     \u001b[0mensure_all_finite\u001b[0m \u001b[1;33m=\u001b[0m \u001b[0m_deprecate_force_all_finite\u001b[0m\u001b[1;33m(\u001b[0m\u001b[0mforce_all_finite\u001b[0m\u001b[1;33m,\u001b[0m \u001b[0mensure_all_finite\u001b[0m\u001b[1;33m)\u001b[0m\u001b[1;33m\u001b[0m\u001b[1;33m\u001b[0m\u001b[0m\n\u001b[0;32m   1369\u001b[0m \u001b[1;33m\u001b[0m\u001b[0m\n\u001b[1;32m-> 1370\u001b[1;33m     X = check_array(\n\u001b[0m\u001b[0;32m   1371\u001b[0m         \u001b[0mX\u001b[0m\u001b[1;33m,\u001b[0m\u001b[1;33m\u001b[0m\u001b[1;33m\u001b[0m\u001b[0m\n\u001b[0;32m   1372\u001b[0m         \u001b[0maccept_sparse\u001b[0m\u001b[1;33m=\u001b[0m\u001b[0maccept_sparse\u001b[0m\u001b[1;33m,\u001b[0m\u001b[1;33m\u001b[0m\u001b[1;33m\u001b[0m\u001b[0m\n\u001b[0;32m   1373\u001b[0m         \u001b[0maccept_large_sparse\u001b[0m\u001b[1;33m=\u001b[0m\u001b[0maccept_large_sparse\u001b[0m\u001b[1;33m,\u001b[0m\u001b[1;33m\u001b[0m\u001b[1;33m\u001b[0m\u001b[0m\n",
      "\u001b[1;32mC:\\laragon\\bin\\python\\python-3.13\\Lib\\site-packages\\sklearn\\utils\\validation.py\u001b[0m in \u001b[0;36m?\u001b[1;34m(array, accept_sparse, accept_large_sparse, dtype, order, copy, force_writeable, force_all_finite, ensure_all_finite, ensure_non_negative, ensure_2d, allow_nd, ensure_min_samples, ensure_min_features, estimator, input_name)\u001b[0m\n\u001b[0;32m   1052\u001b[0m                         \u001b[1;33m)\u001b[0m\u001b[1;33m\u001b[0m\u001b[1;33m\u001b[0m\u001b[0m\n\u001b[0;32m   1053\u001b[0m                     \u001b[0marray\u001b[0m \u001b[1;33m=\u001b[0m \u001b[0mxp\u001b[0m\u001b[1;33m.\u001b[0m\u001b[0mastype\u001b[0m\u001b[1;33m(\u001b[0m\u001b[0marray\u001b[0m\u001b[1;33m,\u001b[0m \u001b[0mdtype\u001b[0m\u001b[1;33m,\u001b[0m \u001b[0mcopy\u001b[0m\u001b[1;33m=\u001b[0m\u001b[1;32mFalse\u001b[0m\u001b[1;33m)\u001b[0m\u001b[1;33m\u001b[0m\u001b[1;33m\u001b[0m\u001b[0m\n\u001b[0;32m   1054\u001b[0m                 \u001b[1;32melse\u001b[0m\u001b[1;33m:\u001b[0m\u001b[1;33m\u001b[0m\u001b[1;33m\u001b[0m\u001b[0m\n\u001b[0;32m   1055\u001b[0m                     \u001b[0marray\u001b[0m \u001b[1;33m=\u001b[0m \u001b[0m_asarray_with_order\u001b[0m\u001b[1;33m(\u001b[0m\u001b[0marray\u001b[0m\u001b[1;33m,\u001b[0m \u001b[0morder\u001b[0m\u001b[1;33m=\u001b[0m\u001b[0morder\u001b[0m\u001b[1;33m,\u001b[0m \u001b[0mdtype\u001b[0m\u001b[1;33m=\u001b[0m\u001b[0mdtype\u001b[0m\u001b[1;33m,\u001b[0m \u001b[0mxp\u001b[0m\u001b[1;33m=\u001b[0m\u001b[0mxp\u001b[0m\u001b[1;33m)\u001b[0m\u001b[1;33m\u001b[0m\u001b[1;33m\u001b[0m\u001b[0m\n\u001b[1;32m-> 1056\u001b[1;33m             \u001b[1;32mexcept\u001b[0m \u001b[0mComplexWarning\u001b[0m \u001b[1;32mas\u001b[0m \u001b[0mcomplex_warning\u001b[0m\u001b[1;33m:\u001b[0m\u001b[1;33m\u001b[0m\u001b[1;33m\u001b[0m\u001b[0m\n\u001b[0m\u001b[0;32m   1057\u001b[0m                 raise ValueError(\n\u001b[0;32m   1058\u001b[0m                     \u001b[1;34m\"Complex data not supported\\n{}\\n\"\u001b[0m\u001b[1;33m.\u001b[0m\u001b[0mformat\u001b[0m\u001b[1;33m(\u001b[0m\u001b[0marray\u001b[0m\u001b[1;33m)\u001b[0m\u001b[1;33m\u001b[0m\u001b[1;33m\u001b[0m\u001b[0m\n\u001b[0;32m   1059\u001b[0m                 \u001b[1;33m)\u001b[0m \u001b[1;32mfrom\u001b[0m \u001b[0mcomplex_warning\u001b[0m\u001b[1;33m\u001b[0m\u001b[1;33m\u001b[0m\u001b[0m\n",
      "\u001b[1;32mC:\\laragon\\bin\\python\\python-3.13\\Lib\\site-packages\\sklearn\\utils\\_array_api.py\u001b[0m in \u001b[0;36m?\u001b[1;34m(array, dtype, order, copy, xp, device)\u001b[0m\n\u001b[0;32m    835\u001b[0m         \u001b[1;31m# Use NumPy API to support order\u001b[0m\u001b[1;33m\u001b[0m\u001b[1;33m\u001b[0m\u001b[0m\n\u001b[0;32m    836\u001b[0m         \u001b[1;32mif\u001b[0m \u001b[0mcopy\u001b[0m \u001b[1;32mis\u001b[0m \u001b[1;32mTrue\u001b[0m\u001b[1;33m:\u001b[0m\u001b[1;33m\u001b[0m\u001b[1;33m\u001b[0m\u001b[0m\n\u001b[0;32m    837\u001b[0m             \u001b[0marray\u001b[0m \u001b[1;33m=\u001b[0m \u001b[0mnumpy\u001b[0m\u001b[1;33m.\u001b[0m\u001b[0marray\u001b[0m\u001b[1;33m(\u001b[0m\u001b[0marray\u001b[0m\u001b[1;33m,\u001b[0m \u001b[0morder\u001b[0m\u001b[1;33m=\u001b[0m\u001b[0morder\u001b[0m\u001b[1;33m,\u001b[0m \u001b[0mdtype\u001b[0m\u001b[1;33m=\u001b[0m\u001b[0mdtype\u001b[0m\u001b[1;33m)\u001b[0m\u001b[1;33m\u001b[0m\u001b[1;33m\u001b[0m\u001b[0m\n\u001b[0;32m    838\u001b[0m         \u001b[1;32melse\u001b[0m\u001b[1;33m:\u001b[0m\u001b[1;33m\u001b[0m\u001b[1;33m\u001b[0m\u001b[0m\n\u001b[1;32m--> 839\u001b[1;33m             \u001b[0marray\u001b[0m \u001b[1;33m=\u001b[0m \u001b[0mnumpy\u001b[0m\u001b[1;33m.\u001b[0m\u001b[0masarray\u001b[0m\u001b[1;33m(\u001b[0m\u001b[0marray\u001b[0m\u001b[1;33m,\u001b[0m \u001b[0morder\u001b[0m\u001b[1;33m=\u001b[0m\u001b[0morder\u001b[0m\u001b[1;33m,\u001b[0m \u001b[0mdtype\u001b[0m\u001b[1;33m=\u001b[0m\u001b[0mdtype\u001b[0m\u001b[1;33m)\u001b[0m\u001b[1;33m\u001b[0m\u001b[1;33m\u001b[0m\u001b[0m\n\u001b[0m\u001b[0;32m    840\u001b[0m \u001b[1;33m\u001b[0m\u001b[0m\n\u001b[0;32m    841\u001b[0m         \u001b[1;31m# At this point array is a NumPy ndarray. We convert it to an array\u001b[0m\u001b[1;33m\u001b[0m\u001b[1;33m\u001b[0m\u001b[0m\n\u001b[0;32m    842\u001b[0m         \u001b[1;31m# container that is consistent with the input's namespace.\u001b[0m\u001b[1;33m\u001b[0m\u001b[1;33m\u001b[0m\u001b[0m\n",
      "\u001b[1;32mC:\\laragon\\bin\\python\\python-3.13\\Lib\\site-packages\\pandas\\core\\generic.py\u001b[0m in \u001b[0;36m?\u001b[1;34m(self, dtype, copy)\u001b[0m\n\u001b[0;32m   2149\u001b[0m     def __array__(\n\u001b[0;32m   2150\u001b[0m         \u001b[0mself\u001b[0m\u001b[1;33m,\u001b[0m \u001b[0mdtype\u001b[0m\u001b[1;33m:\u001b[0m \u001b[0mnpt\u001b[0m\u001b[1;33m.\u001b[0m\u001b[0mDTypeLike\u001b[0m \u001b[1;33m|\u001b[0m \u001b[1;32mNone\u001b[0m \u001b[1;33m=\u001b[0m \u001b[1;32mNone\u001b[0m\u001b[1;33m,\u001b[0m \u001b[0mcopy\u001b[0m\u001b[1;33m:\u001b[0m \u001b[0mbool_t\u001b[0m \u001b[1;33m|\u001b[0m \u001b[1;32mNone\u001b[0m \u001b[1;33m=\u001b[0m \u001b[1;32mNone\u001b[0m\u001b[1;33m\u001b[0m\u001b[1;33m\u001b[0m\u001b[0m\n\u001b[0;32m   2151\u001b[0m     \u001b[1;33m)\u001b[0m \u001b[1;33m->\u001b[0m \u001b[0mnp\u001b[0m\u001b[1;33m.\u001b[0m\u001b[0mndarray\u001b[0m\u001b[1;33m:\u001b[0m\u001b[1;33m\u001b[0m\u001b[1;33m\u001b[0m\u001b[0m\n\u001b[0;32m   2152\u001b[0m         \u001b[0mvalues\u001b[0m \u001b[1;33m=\u001b[0m \u001b[0mself\u001b[0m\u001b[1;33m.\u001b[0m\u001b[0m_values\u001b[0m\u001b[1;33m\u001b[0m\u001b[1;33m\u001b[0m\u001b[0m\n\u001b[1;32m-> 2153\u001b[1;33m         \u001b[0marr\u001b[0m \u001b[1;33m=\u001b[0m \u001b[0mnp\u001b[0m\u001b[1;33m.\u001b[0m\u001b[0masarray\u001b[0m\u001b[1;33m(\u001b[0m\u001b[0mvalues\u001b[0m\u001b[1;33m,\u001b[0m \u001b[0mdtype\u001b[0m\u001b[1;33m=\u001b[0m\u001b[0mdtype\u001b[0m\u001b[1;33m)\u001b[0m\u001b[1;33m\u001b[0m\u001b[1;33m\u001b[0m\u001b[0m\n\u001b[0m\u001b[0;32m   2154\u001b[0m         if (\n\u001b[0;32m   2155\u001b[0m             \u001b[0mastype_is_view\u001b[0m\u001b[1;33m(\u001b[0m\u001b[0mvalues\u001b[0m\u001b[1;33m.\u001b[0m\u001b[0mdtype\u001b[0m\u001b[1;33m,\u001b[0m \u001b[0marr\u001b[0m\u001b[1;33m.\u001b[0m\u001b[0mdtype\u001b[0m\u001b[1;33m)\u001b[0m\u001b[1;33m\u001b[0m\u001b[1;33m\u001b[0m\u001b[0m\n\u001b[0;32m   2156\u001b[0m             \u001b[1;32mand\u001b[0m \u001b[0musing_copy_on_write\u001b[0m\u001b[1;33m(\u001b[0m\u001b[1;33m)\u001b[0m\u001b[1;33m\u001b[0m\u001b[1;33m\u001b[0m\u001b[0m\n",
      "\u001b[1;31mValueError\u001b[0m: could not convert string to float: 'Winter'"
     ]
    }
   ],
   "source": [
    "# Melakukan training pada model random forest\n",
    "rf_md = RandomForestRegressor()\n",
    "rf_md.fit(X_train, y_train)\n",
    "\n",
    "# Memprediksi data testing\n",
    "predicted = rf_md.predict(X_test)\n",
    "\n",
    "# Menampilkan metrics\n",
    "regression_metrics(predicted, y_test)"
   ]
  },
  {
   "cell_type": "code",
   "execution_count": 13,
   "metadata": {
    "id": "Klwhkf0b5hCK"
   },
   "outputs": [
    {
     "ename": "NameError",
     "evalue": "name 'X_train_weather' is not defined",
     "output_type": "error",
     "traceback": [
      "\u001b[1;31m---------------------------------------------------------------------------\u001b[0m",
      "\u001b[1;31mNameError\u001b[0m                                 Traceback (most recent call last)",
      "Cell \u001b[1;32mIn[13], line 3\u001b[0m\n\u001b[0;32m      1\u001b[0m \u001b[38;5;66;03m# Melakukan training pada model random forest\u001b[39;00m\n\u001b[0;32m      2\u001b[0m rf_weather_paramless \u001b[38;5;241m=\u001b[39m RandomForestClassifier()\n\u001b[1;32m----> 3\u001b[0m rf_weather_paramless\u001b[38;5;241m.\u001b[39mfit(\u001b[43mX_train_weather\u001b[49m, y_train_weather)\n\u001b[0;32m      5\u001b[0m \u001b[38;5;66;03m# Memprediksi data testing\u001b[39;00m\n\u001b[0;32m      6\u001b[0m predicted \u001b[38;5;241m=\u001b[39m rf_weather_paramless\u001b[38;5;241m.\u001b[39mpredict(X_test_weather)\n",
      "\u001b[1;31mNameError\u001b[0m: name 'X_train_weather' is not defined"
     ]
    }
   ],
   "source": [
    "# Melakukan training pada model random forest\n",
    "rf_weather_paramless = RandomForestClassifier()\n",
    "rf_weather_paramless.fit(X_train_weather, y_train_weather)\n",
    "\n",
    "# Memprediksi data testing\n",
    "predicted = rf_weather_paramless.predict(X_test_weather)\n",
    "\n",
    "# Menampilkan metrics\n",
    "classification_metrics(predicted, y_test_weather)"
   ]
  },
  {
   "cell_type": "markdown",
   "metadata": {
    "id": "I7R0q1-KL4bE"
   },
   "source": [
    "Terlihat bahwa terdapat perubahan pada metriknya.\n",
    "\n",
    "Diharapkan untuk mempelajari kelebihan dan kekurangan dari setiap jenis model yang dipelajari agar kita bisa mengetahui pada dataset seperti apa suatu jenis model cocok untuk digunakan. Agar model yang dihasilkan lebih baik, kita juga harus bisa memilih *hyperparameter* yang sesuai dengan permasalahan yang ingin diselesaikan.\n",
    "\n",
    "Adapun beberapa *hyperparameter* yang dapat kita eksplorasi pada Random Forest:\n",
    "* `n_estimators`: Berapa banyak decision tree yang akan membentuk random forest\n",
    "* `max_depth`: Kedalaman maksimal dari masing-masing Decision Tree\n",
    "* `min_samples_split`: Jumlah sample minimal yang diperlukan untuk memecah suatu internal node pada setiap Decision Tree\n",
    "\n",
    "Informasi lebih lanjut dapat diakses pada dokumentasi berikut: [dokumentasi Random Forest](https://scikit-learn.org/stable/modules/generated/sklearn.ensemble.RandomForestRegressor.html)"
   ]
  },
  {
   "cell_type": "markdown",
   "metadata": {
    "id": "Tf9jZOQLMB1M"
   },
   "source": [
    "## Hyperparameter Tuning"
   ]
  },
  {
   "cell_type": "markdown",
   "metadata": {
    "id": "PVCTf7zOMFVL"
   },
   "source": [
    "Hyperparameter tuning dapat digunakan untuk mendapatkan hasil evaluasi yang terbaik untuk suatu model. Misalkan kita ingin mendapatkan parameter terbaik untuk model Decision Tree, maka kita harus mencoba berbagai kombinasi hyperparameter yang diinginkan. Untuk mempermudah mencari hyperparameter yang tepat, kita dapat menggunakan modul GridSearchCV dari library Scikit-Learn. Informasi lebih lanjut mengenai GridSearchCV dapat diakses [di sini](https://scikit-learn.org/stable/modules/generated/sklearn.model_selection.GridSearchCV.html)\n",
    "\n",
    "Beberapa parameter yang sering digunakan, yaitu:\n",
    "- `estimator`: model yang akan digunakan\n",
    "- `param_grid`: kombinasi berbagai hyperparameter yang akan digunakan.\n",
    "- `cv`: jumlah cross-validation yang ingin digunakan"
   ]
  },
  {
   "cell_type": "code",
   "execution_count": 14,
   "metadata": {
    "id": "NNt7RotIMXqF"
   },
   "outputs": [
    {
     "ename": "ValueError",
     "evalue": "Found input variables with inconsistent numbers of samples: [640, 623]",
     "output_type": "error",
     "traceback": [
      "\u001b[1;31m---------------------------------------------------------------------------\u001b[0m",
      "\u001b[1;31mValueError\u001b[0m                                Traceback (most recent call last)",
      "Cell \u001b[1;32mIn[14], line 9\u001b[0m\n\u001b[0;32m      5\u001b[0m dt \u001b[38;5;241m=\u001b[39m DecisionTreeRegressor()\n\u001b[0;32m      6\u001b[0m clf \u001b[38;5;241m=\u001b[39m GridSearchCV(estimator\u001b[38;5;241m=\u001b[39m dt,\n\u001b[0;32m      7\u001b[0m                    param_grid\u001b[38;5;241m=\u001b[39mparam_grid, cv\u001b[38;5;241m=\u001b[39m \u001b[38;5;241m5\u001b[39m)\n\u001b[1;32m----> 9\u001b[0m \u001b[43mclf\u001b[49m\u001b[38;5;241;43m.\u001b[39;49m\u001b[43mfit\u001b[49m\u001b[43m(\u001b[49m\u001b[43mX_train\u001b[49m\u001b[43m,\u001b[49m\u001b[43m \u001b[49m\u001b[43my_train\u001b[49m\u001b[43m)\u001b[49m\n",
      "File \u001b[1;32mC:\\laragon\\bin\\python\\python-3.13\\Lib\\site-packages\\sklearn\\base.py:1389\u001b[0m, in \u001b[0;36m_fit_context.<locals>.decorator.<locals>.wrapper\u001b[1;34m(estimator, *args, **kwargs)\u001b[0m\n\u001b[0;32m   1382\u001b[0m     estimator\u001b[38;5;241m.\u001b[39m_validate_params()\n\u001b[0;32m   1384\u001b[0m \u001b[38;5;28;01mwith\u001b[39;00m config_context(\n\u001b[0;32m   1385\u001b[0m     skip_parameter_validation\u001b[38;5;241m=\u001b[39m(\n\u001b[0;32m   1386\u001b[0m         prefer_skip_nested_validation \u001b[38;5;129;01mor\u001b[39;00m global_skip_validation\n\u001b[0;32m   1387\u001b[0m     )\n\u001b[0;32m   1388\u001b[0m ):\n\u001b[1;32m-> 1389\u001b[0m     \u001b[38;5;28;01mreturn\u001b[39;00m \u001b[43mfit_method\u001b[49m\u001b[43m(\u001b[49m\u001b[43mestimator\u001b[49m\u001b[43m,\u001b[49m\u001b[43m \u001b[49m\u001b[38;5;241;43m*\u001b[39;49m\u001b[43margs\u001b[49m\u001b[43m,\u001b[49m\u001b[43m \u001b[49m\u001b[38;5;241;43m*\u001b[39;49m\u001b[38;5;241;43m*\u001b[39;49m\u001b[43mkwargs\u001b[49m\u001b[43m)\u001b[49m\n",
      "File \u001b[1;32mC:\\laragon\\bin\\python\\python-3.13\\Lib\\site-packages\\sklearn\\model_selection\\_search.py:928\u001b[0m, in \u001b[0;36mBaseSearchCV.fit\u001b[1;34m(self, X, y, **params)\u001b[0m\n\u001b[0;32m    925\u001b[0m estimator \u001b[38;5;241m=\u001b[39m \u001b[38;5;28mself\u001b[39m\u001b[38;5;241m.\u001b[39mestimator\n\u001b[0;32m    926\u001b[0m scorers, refit_metric \u001b[38;5;241m=\u001b[39m \u001b[38;5;28mself\u001b[39m\u001b[38;5;241m.\u001b[39m_get_scorers()\n\u001b[1;32m--> 928\u001b[0m X, y \u001b[38;5;241m=\u001b[39m \u001b[43mindexable\u001b[49m\u001b[43m(\u001b[49m\u001b[43mX\u001b[49m\u001b[43m,\u001b[49m\u001b[43m \u001b[49m\u001b[43my\u001b[49m\u001b[43m)\u001b[49m\n\u001b[0;32m    929\u001b[0m params \u001b[38;5;241m=\u001b[39m _check_method_params(X, params\u001b[38;5;241m=\u001b[39mparams)\n\u001b[0;32m    931\u001b[0m routed_params \u001b[38;5;241m=\u001b[39m \u001b[38;5;28mself\u001b[39m\u001b[38;5;241m.\u001b[39m_get_routed_params_for_fit(params)\n",
      "File \u001b[1;32mC:\\laragon\\bin\\python\\python-3.13\\Lib\\site-packages\\sklearn\\utils\\validation.py:532\u001b[0m, in \u001b[0;36mindexable\u001b[1;34m(*iterables)\u001b[0m\n\u001b[0;32m    502\u001b[0m \u001b[38;5;250m\u001b[39m\u001b[38;5;124;03m\"\"\"Make arrays indexable for cross-validation.\u001b[39;00m\n\u001b[0;32m    503\u001b[0m \n\u001b[0;32m    504\u001b[0m \u001b[38;5;124;03mChecks consistent length, passes through None, and ensures that everything\u001b[39;00m\n\u001b[1;32m   (...)\u001b[0m\n\u001b[0;32m    528\u001b[0m \u001b[38;5;124;03m[[1, 2, 3], array([2, 3, 4]), None, <...Sparse...dtype 'int64'...shape (3, 1)>]\u001b[39;00m\n\u001b[0;32m    529\u001b[0m \u001b[38;5;124;03m\"\"\"\u001b[39;00m\n\u001b[0;32m    531\u001b[0m result \u001b[38;5;241m=\u001b[39m [_make_indexable(X) \u001b[38;5;28;01mfor\u001b[39;00m X \u001b[38;5;129;01min\u001b[39;00m iterables]\n\u001b[1;32m--> 532\u001b[0m \u001b[43mcheck_consistent_length\u001b[49m\u001b[43m(\u001b[49m\u001b[38;5;241;43m*\u001b[39;49m\u001b[43mresult\u001b[49m\u001b[43m)\u001b[49m\n\u001b[0;32m    533\u001b[0m \u001b[38;5;28;01mreturn\u001b[39;00m result\n",
      "File \u001b[1;32mC:\\laragon\\bin\\python\\python-3.13\\Lib\\site-packages\\sklearn\\utils\\validation.py:475\u001b[0m, in \u001b[0;36mcheck_consistent_length\u001b[1;34m(*arrays)\u001b[0m\n\u001b[0;32m    473\u001b[0m uniques \u001b[38;5;241m=\u001b[39m np\u001b[38;5;241m.\u001b[39munique(lengths)\n\u001b[0;32m    474\u001b[0m \u001b[38;5;28;01mif\u001b[39;00m \u001b[38;5;28mlen\u001b[39m(uniques) \u001b[38;5;241m>\u001b[39m \u001b[38;5;241m1\u001b[39m:\n\u001b[1;32m--> 475\u001b[0m     \u001b[38;5;28;01mraise\u001b[39;00m \u001b[38;5;167;01mValueError\u001b[39;00m(\n\u001b[0;32m    476\u001b[0m         \u001b[38;5;124m\"\u001b[39m\u001b[38;5;124mFound input variables with inconsistent numbers of samples: \u001b[39m\u001b[38;5;132;01m%r\u001b[39;00m\u001b[38;5;124m\"\u001b[39m\n\u001b[0;32m    477\u001b[0m         \u001b[38;5;241m%\u001b[39m [\u001b[38;5;28mint\u001b[39m(l) \u001b[38;5;28;01mfor\u001b[39;00m l \u001b[38;5;129;01min\u001b[39;00m lengths]\n\u001b[0;32m    478\u001b[0m     )\n",
      "\u001b[1;31mValueError\u001b[0m: Found input variables with inconsistent numbers of samples: [640, 623]"
     ]
    }
   ],
   "source": [
    "param_grid = {'criterion': ['squared_error', 'friedman_mse', 'absolute_error'],\n",
    "               'min_samples_split': [10, 20, 50, 100],\n",
    "               'max_depth' : [None, 5, 10, 12]}\n",
    "\n",
    "dt = DecisionTreeRegressor()\n",
    "clf = GridSearchCV(estimator= dt,\n",
    "                   param_grid=param_grid, cv= 5)\n",
    "\n",
    "clf.fit(X_train, y_train)"
   ]
  },
  {
   "cell_type": "code",
   "execution_count": 15,
   "metadata": {
    "id": "stZtyNMFN6Hw"
   },
   "outputs": [
    {
     "ename": "AttributeError",
     "evalue": "'GridSearchCV' object has no attribute 'best_params'",
     "output_type": "error",
     "traceback": [
      "\u001b[1;31m---------------------------------------------------------------------------\u001b[0m",
      "\u001b[1;31mAttributeError\u001b[0m                            Traceback (most recent call last)",
      "Cell \u001b[1;32mIn[15], line 1\u001b[0m\n\u001b[1;32m----> 1\u001b[0m \u001b[43mclf\u001b[49m\u001b[38;5;241;43m.\u001b[39;49m\u001b[43mbest_params\u001b[49m\n",
      "\u001b[1;31mAttributeError\u001b[0m: 'GridSearchCV' object has no attribute 'best_params'"
     ]
    }
   ],
   "source": [
    "clf.best_params"
   ]
  },
  {
   "cell_type": "code",
   "execution_count": 16,
   "metadata": {
    "id": "NDLLTNExOAHj"
   },
   "outputs": [
    {
     "ename": "AttributeError",
     "evalue": "'GridSearchCV' object has no attribute 'best_params_'",
     "output_type": "error",
     "traceback": [
      "\u001b[1;31m---------------------------------------------------------------------------\u001b[0m",
      "\u001b[1;31mAttributeError\u001b[0m                            Traceback (most recent call last)",
      "Cell \u001b[1;32mIn[16], line 1\u001b[0m\n\u001b[1;32m----> 1\u001b[0m best_hp \u001b[38;5;241m=\u001b[39m DecisionTreeRegressor(\u001b[38;5;241m*\u001b[39m\u001b[38;5;241m*\u001b[39m\u001b[43mclf\u001b[49m\u001b[38;5;241;43m.\u001b[39;49m\u001b[43mbest_params_\u001b[49m)\n\u001b[0;32m      2\u001b[0m best_hp\u001b[38;5;241m.\u001b[39mfit(X_train, y_train)\n\u001b[0;32m      3\u001b[0m predicted \u001b[38;5;241m=\u001b[39m best_hp\u001b[38;5;241m.\u001b[39mpredict(X_test)\n",
      "\u001b[1;31mAttributeError\u001b[0m: 'GridSearchCV' object has no attribute 'best_params_'"
     ]
    }
   ],
   "source": [
    "best_hp = DecisionTreeRegressor(**clf.best_params_)\n",
    "best_hp.fit(X_train, y_train)\n",
    "predicted = best_hp.predict(X_test)\n",
    "regression_metrics(predicted, y_test)"
   ]
  },
  {
   "cell_type": "markdown",
   "metadata": {
    "id": "C87fQw5oOXug"
   },
   "source": [
    "Sekarang kita mendapatkan kombinasi terbaik dari berbagai kombinasi hyperparameter yang telah kita coba pada `param_grid`."
   ]
  },
  {
   "cell_type": "markdown",
   "metadata": {
    "id": "3q5-6UoFPI78"
   },
   "source": [
    "# Latihan Soal"
   ]
  },
  {
   "cell_type": "markdown",
   "metadata": {
    "id": "_PbYq6kjPYsp"
   },
   "source": [
    "## SOAL 2 [15]"
   ]
  },
  {
   "cell_type": "markdown",
   "metadata": {
    "id": "oPsSi2YxRxIV"
   },
   "source": [
    "### SOAL 2a\n",
    "[2.5] Bangun dan latih 2 model decision tree (decision tree regressor untuk Pokemon dan decision tree classifier untuk Weather Type) dengan memberikan nilai pada *hyperparameter*:\n",
    "- `max_depth = 4`\n",
    "- `random_state = 2025`."
   ]
  },
  {
   "cell_type": "code",
   "execution_count": 46,
   "metadata": {
    "id": "_ubYa3xhNIPM"
   },
   "outputs": [],
   "source": [
    "# CODE HERE"
   ]
  },
  {
   "cell_type": "markdown",
   "metadata": {
    "id": "T4XW0l4yR_2T"
   },
   "source": [
    "### SOAL 2b\n",
    "[2.5]  Visualisasikan 2 model decision tree (decision tree regressor untuk Pokemon dan decision tree classifier untuk Weather Type) yang didapat pada soal 2a dengan menggunakan plot_tree()!"
   ]
  },
  {
   "cell_type": "code",
   "execution_count": 47,
   "metadata": {
    "id": "t1nWXE9LNJeH"
   },
   "outputs": [],
   "source": [
    "# CODE HERE"
   ]
  },
  {
   "cell_type": "markdown",
   "metadata": {
    "id": "litt2_EwSOIU"
   },
   "source": [
    "### SOAL 2c\n",
    "\n",
    "[2.5]  Pada model decision tree regressor, diberikan data aktual WinningPercentage 33%. Tentukan attribut-attribut yang menghasilkan hasil prediksi terdekat dengan data aktual tersebut. Berikan juga Mean Absolute Error WinningPercentage dari hasil prediksi dengan data aktual?    \n",
    "\n",
    "**Catatan:** Jelaskan bagian ini tanpa kode"
   ]
  },
  {
   "cell_type": "markdown",
   "metadata": {
    "id": "E_De-bE9zgHz"
   },
   "source": [
    "Jawab:"
   ]
  },
  {
   "cell_type": "markdown",
   "metadata": {
    "id": "OxIT9p6YUMd-"
   },
   "source": [
    "### SOAL 2d\n",
    "\n",
    "[2.5]  Untuk decision tree classifier, tentukan atribut-atribut dari suatu Weather Type yang paling berpotensi untuk dikategorikan sebagai kelas Sunny. Jika terdapat berbagai kemungkinan pasangan atribut yang paling berpotensi, cantumkanlah semua kemungkinan pasangan atribut tersebut.\n",
    "\n",
    "**Catatan:** Jelaskan bagian ini tanpa kode"
   ]
  },
  {
   "cell_type": "markdown",
   "metadata": {
    "id": "HJ5HYFACzi0-"
   },
   "source": [
    "Jawab:"
   ]
  },
  {
   "cell_type": "markdown",
   "metadata": {
    "id": "ma_g8JAB_olJ"
   },
   "source": [
    "### SOAL 2e\n",
    "\n",
    "[2.5]  Untuk decision tree regressor, jika terdapat data pokemon dengan speed = 55, tentukan range kemungkinan WinningPercentage yang diprediksi oleh model pada data tersebut.\n",
    "\n",
    "**Catatan:** Jelaskan bagian ini tanpa kode"
   ]
  },
  {
   "cell_type": "markdown",
   "metadata": {
    "id": "tps_EdIgA-cG"
   },
   "source": [
    "Jawab:"
   ]
  },
  {
   "cell_type": "markdown",
   "metadata": {
    "id": "FhPvsyAj_jie"
   },
   "source": [
    "### SOAL 2f\n",
    "\n",
    "[2.5]  Untuk decision tree classifier, jika terdapat data dengan diketahui Temprature = 9, Visibility (km) = 4, dan Atmospheric Pressure = 1030, tentukan kemungkinan kelas yang akan diprediksi model pada data tersebut. Jika terdapat berbagai kelas, cantumkanlah semua kemungkinan kelas tersebut.\n",
    "\n",
    "**Catatan:** Jelaskan bagian ini tanpa kode"
   ]
  },
  {
   "cell_type": "markdown",
   "metadata": {
    "id": "Z5qoyM1mCD8n"
   },
   "source": [
    "Jawab:"
   ]
  },
  {
   "cell_type": "markdown",
   "metadata": {
    "id": "BRkqj8a3PaKA"
   },
   "source": [
    "## SOAL 3 [10]"
   ]
  },
  {
   "cell_type": "markdown",
   "metadata": {
    "id": "9ZUOkCv1cZTW"
   },
   "source": [
    "### SOAL 3a\n",
    "\n",
    "[5] Implementasikan 2 model Random Forest (Random Forest Regressor untuk Pokemon dan Random Forest Classifier untuk Weather Type) Implementasi pada soal ini akan menggunakan nilai *hyperparameter*\n",
    "- `max_depth = 4`\n",
    "- `random_state = 2025`"
   ]
  },
  {
   "cell_type": "code",
   "execution_count": 48,
   "metadata": {
    "id": "QRIKzA7SNSpu"
   },
   "outputs": [],
   "source": [
    "# CODE HERE"
   ]
  },
  {
   "cell_type": "markdown",
   "metadata": {
    "id": "_OkRxbjYUxTo"
   },
   "source": [
    "### SOAL 3b\n",
    "\n",
    "[2.5] Model Random Forest dianggap kurang dapat diinterpretasikan dibandingkan dengan Decision Tree. Apakah penyebab dari hasil tersebut?"
   ]
  },
  {
   "cell_type": "markdown",
   "metadata": {
    "id": "clMV7-5P91T5"
   },
   "source": [
    "Jawab:"
   ]
  },
  {
   "cell_type": "markdown",
   "metadata": {
    "id": "iCdQ4qGFWomy"
   },
   "source": [
    "### SOAL 3c\n",
    "\n",
    "[2.5] Mekanisme voting dalam Random Forest Classifier adalah cara di mana model ini membuat prediksi akhir berdasarkan hasil dari beberapa Decision Tree yang membentuk ensemble-nya. Apakah yang membedakan mekanisme ini dengan mekanisme pengambil keputusan pada Decision Tree Classifier?"
   ]
  },
  {
   "cell_type": "markdown",
   "metadata": {
    "id": "RuoPfXNV-BsS"
   },
   "source": [
    "Jawab:"
   ]
  },
  {
   "cell_type": "markdown",
   "metadata": {
    "id": "EE20Jm5KXGi3"
   },
   "source": [
    "## SOAL 4 [15]\n",
    "\n",
    "* [5] Lakukan prediksi terhadap data *testing* dari permasalahan regresi (Dataset Pokemon) (`X_test_pokemon`) menggunakan model yang sudah dibangun pada soal 2 dan 3.\n",
    "* [5] Lakukan evaluasi pada hasil prediksi yang didapat terhadap label aktual (`y_test_pokemon`). Metrik evaluasi yang ditampilkan adalah nilai MAE, MSE, RMSE, dan $R^{2}$ dari hasil prediksi yang didapat.  \n",
    "* [5] Bandingkanlah hasil evaluasi dari kedua model yang sudah didapat dan tuliskan analisis singkat terkait dengan perbandingan tersebut (minimal 4 poin)."
   ]
  },
  {
   "cell_type": "code",
   "execution_count": 49,
   "metadata": {
    "id": "fxu0rFVZNZD1"
   },
   "outputs": [],
   "source": [
    "# CODE HERE"
   ]
  },
  {
   "cell_type": "markdown",
   "metadata": {
    "id": "2c43pO0TXW7R"
   },
   "source": [
    "## SOAL 5 [15]\n",
    "\n",
    "* [5] Lakukan prediksi terhadap data *testing* dari permasalahan klasifikasi (Dataset Weather Type) (`X_test_weather`) menggunakan model yang sudah dibangun pada soal 2 dan 3.\n",
    "* [5] Lakukan evaluasi pada hasil prediksi yang didapat terhadap label aktual (`y_test_weather`). Metrik evaluasi yang ditampilkan adalah nilai Accuracy, Precision, Recall, dan F1-Score dari hasil prediksi yang didapat.  \n",
    "* [5] Bandingkanlah hasil evaluasi yang didapat dan tuliskan analisis singkat terkait dengan perbandingan tersebut (minimal 4 poin)."
   ]
  },
  {
   "cell_type": "code",
   "execution_count": 50,
   "metadata": {
    "id": "ImZkNRrgNo96"
   },
   "outputs": [],
   "source": [
    "# CODE HERE"
   ]
  },
  {
   "cell_type": "markdown",
   "metadata": {
    "id": "w6pC9g6aXuiM"
   },
   "source": [
    "## SOAL 6 [15]\n",
    "\n",
    "Gunakan GridSearchCV untuk mencari hyperparameter yang baik untuk model Random Forest Regressor, Random Forest Classifier, Decision Tree Regressor, dan Decision Tree Classifier."
   ]
  },
  {
   "cell_type": "markdown",
   "metadata": {
    "id": "I9-t_z3AYC-6"
   },
   "source": [
    "### SOAL 6a\n",
    "[9]\n",
    "Proses GridSearch diwajibkan melakukan tuning pada hyperparameter berikut: **criterion, max_depth, min_samples_split** dan diwajibkan untuk cek **3 value** pada setiap hyperparameter tersebut.\n",
    "*Namun, kalian masih boleh mengambil hyperparameter lain.*"
   ]
  },
  {
   "cell_type": "code",
   "execution_count": 51,
   "metadata": {
    "id": "lHVMjWbpGxFt"
   },
   "outputs": [],
   "source": [
    "# CODE HERE"
   ]
  },
  {
   "cell_type": "markdown",
   "metadata": {
    "id": "Z2PbwARdYPYa"
   },
   "source": [
    "### SOAL 6b\n",
    "[1]\n",
    "\n",
    "Tampilkan *hyperparameter* terbaik yang kalian dapatkan dari proses Grid Search untuk model Random Forest Regressor, Random Forest Classifier, Decision Tree Regressor, dan Decision Tree Classifier dari nomor 6a."
   ]
  },
  {
   "cell_type": "code",
   "execution_count": 52,
   "metadata": {
    "id": "IblBzKlgNuL5"
   },
   "outputs": [],
   "source": [
    "# CODE HERE"
   ]
  },
  {
   "cell_type": "markdown",
   "metadata": {
    "id": "FD6Jht9eYktq"
   },
   "source": [
    "### SOAL 6c\n",
    "[2.5]\n",
    "\n",
    "Buatlah 2 model Random Forest (Random Forest Classifier dan Random Forest Regressor) dan 2 model Decision Tree (Decision Tree Classifier dan Decision Tree Regressor) berdasarkan hyperparameter yang kalian dapatkan dari **soal 6a**"
   ]
  },
  {
   "cell_type": "code",
   "execution_count": 53,
   "metadata": {
    "id": "DZOyiRBoMW7L"
   },
   "outputs": [],
   "source": [
    "# CODE HERE"
   ]
  },
  {
   "cell_type": "markdown",
   "metadata": {
    "id": "WxFhMf8AYqBj"
   },
   "source": [
    "### SOAL 6d\n",
    "[2.5]\n",
    "\n",
    "Lakukan 4 buah prediksi (karena terdapat 4 model) dengan X_test dari masing-masing dataset dan **munculkan hasil evaluasi** terhadap label y_test dari masing-masing dataset.\n",
    "\n",
    "**Note**: Terdapat 2 function metrics, yakni `regression_metrics` dan `classification_metrics`.\n"
   ]
  },
  {
   "cell_type": "code",
   "execution_count": 54,
   "metadata": {
    "id": "NGL7-HtANxEV"
   },
   "outputs": [],
   "source": [
    "# CODE HERE"
   ]
  },
  {
   "cell_type": "markdown",
   "metadata": {
    "id": "xQUbE0GUZIH5"
   },
   "source": [
    "## SOAL 7 [2.5]\n",
    "1. [1] Jelaskan konsep bootstrapping dalam konteks Random Forest. Bagaimana hal ini berkontribusi pada keragaman dari berbagai decision trees yang terbentuk?\n",
    "2. [0.5] Bagaimana prediksi dari seluruh Decision Tree Regressor digabungkan dalam Random Forest Regressor?\n",
    "3. [1] Jelaskanlah bagaimana Random Forest dapat digunakan untuk masalah klasifikasi multi-kelas, seperti pada kasus prediksi kelas Weather Type pada Lab 4 ini."
   ]
  },
  {
   "cell_type": "markdown",
   "metadata": {
    "id": "SeMQrEjqPKfY"
   },
   "source": [
    "Jawab:"
   ]
  },
  {
   "cell_type": "markdown",
   "metadata": {
    "id": "M9Kf55-Zbsnb"
   },
   "source": [
    "## SOAL 8 [2.5]\n",
    "\n",
    "1. [1] Random Forest memasukkan unsur *randomness* melalui bootstrapping dan *feature selection*. Bagaimanakah hal ini dapat memengaruhi reproduksibilitas hasil, dan apa yang dapat dilakukan untuk memastikan *output* yang konsisten?\n",
    "2. [0.5] Apakah Decision Tree dan Random Forest Robust terhadap Outliers Jelaskan!\n",
    "2. [1] Apakah *scaling* atau *feature normalization* diperlukan untuk Random Forest? Mengapa atau mengapa tidak?"
   ]
  },
  {
   "cell_type": "markdown",
   "metadata": {
    "id": "sQ0-B-8wPN_Q"
   },
   "source": [
    "Jawab:"
   ]
  },
  {
   "cell_type": "markdown",
   "metadata": {
    "id": "rPEOfeivm_-X"
   },
   "source": [
    "## Kaggle Competition! [5]"
   ]
  },
  {
   "cell_type": "markdown",
   "metadata": {
    "id": "VgI8IdR2mlqV"
   },
   "source": [
    "Dalam rangka menerapkan pemahaman kalian pada materi CART, kalian **diwajibkan** untuk mengikuti Kaggle Competition yang akan diadakan bersamaan dengan Lab 4 ini.\n",
    "\n",
    "**Ketentuan Kompetisi:**\n",
    "*   Join ke kompetisi di bagian bawah ini. Klik tautan tersebut untuk mengakses halaman kompetisi.\n",
    "*   Kerjakan solusi Anda menggunakan notebook ini. Template kode tersedia dibawah.\n",
    "*   Unggah hasil prediksi Anda ke dalam kompetisi Kaggle yang telah disediakan. Format dari submission telah dispesifikasikan pada bagian **Submission File** di laman Kaggle.\n",
    "*   Model yang boleh digunakan hanya Decision Tree atau Random Forest, penggunaan model lain tidak akan diterima.\n",
    "*   Submission File harus sesuai dengan yang dihasilkan oleh model pada Notebook.\n",
    "\n",
    "**Tautan Kaggle Competition**\n",
    "*   [Kaggle Competition Lab 4](https://www.kaggle.com/t/7d9f200771494f2a866170391f4ca9df)"
   ]
  },
  {
   "cell_type": "markdown",
   "metadata": {
    "id": "1yDhvawBpUOL"
   },
   "source": [
    "### Kaggle Competition"
   ]
  },
  {
   "cell_type": "markdown",
   "metadata": {
    "id": "f0RllIdtplvT"
   },
   "source": [
    "#### EDA"
   ]
  },
  {
   "cell_type": "code",
   "execution_count": null,
   "metadata": {
    "id": "AeNMdP0vpkpp"
   },
   "outputs": [],
   "source": []
  },
  {
   "cell_type": "markdown",
   "metadata": {
    "id": "lgN2BmNMpdrQ"
   },
   "source": [
    "#### Preprocessing"
   ]
  },
  {
   "cell_type": "code",
   "execution_count": null,
   "metadata": {
    "id": "uLu7CPMlpQ3U"
   },
   "outputs": [],
   "source": []
  },
  {
   "cell_type": "markdown",
   "metadata": {
    "id": "v0rmPgPeph5x"
   },
   "source": [
    "#### Modeling"
   ]
  },
  {
   "cell_type": "code",
   "execution_count": null,
   "metadata": {
    "id": "YRi-UpzBm1sF"
   },
   "outputs": [],
   "source": []
  },
  {
   "cell_type": "code",
   "execution_count": null,
   "metadata": {},
   "outputs": [],
   "source": []
  },
  {
   "cell_type": "code",
   "execution_count": null,
   "metadata": {},
   "outputs": [],
   "source": []
  },
  {
   "cell_type": "code",
   "execution_count": null,
   "metadata": {},
   "outputs": [],
   "source": []
  },
  {
   "cell_type": "code",
   "execution_count": null,
   "metadata": {},
   "outputs": [],
   "source": []
  },
  {
   "cell_type": "code",
   "execution_count": null,
   "metadata": {},
   "outputs": [],
   "source": []
  },
  {
   "cell_type": "code",
   "execution_count": null,
   "metadata": {},
   "outputs": [],
   "source": []
  },
  {
   "cell_type": "code",
   "execution_count": null,
   "metadata": {},
   "outputs": [],
   "source": []
  },
  {
   "cell_type": "code",
   "execution_count": null,
   "metadata": {},
   "outputs": [],
   "source": []
  },
  {
   "cell_type": "code",
   "execution_count": null,
   "metadata": {},
   "outputs": [],
   "source": []
  },
  {
   "cell_type": "code",
   "execution_count": null,
   "metadata": {},
   "outputs": [],
   "source": []
  },
  {
   "cell_type": "code",
   "execution_count": null,
   "metadata": {},
   "outputs": [],
   "source": []
  },
  {
   "cell_type": "code",
   "execution_count": null,
   "metadata": {},
   "outputs": [],
   "source": []
  },
  {
   "cell_type": "code",
   "execution_count": null,
   "metadata": {},
   "outputs": [],
   "source": []
  },
  {
   "cell_type": "code",
   "execution_count": null,
   "metadata": {},
   "outputs": [],
   "source": []
  },
  {
   "cell_type": "code",
   "execution_count": null,
   "metadata": {},
   "outputs": [],
   "source": []
  },
  {
   "cell_type": "code",
   "execution_count": null,
   "metadata": {},
   "outputs": [],
   "source": []
  },
  {
   "cell_type": "code",
   "execution_count": null,
   "metadata": {},
   "outputs": [],
   "source": []
  },
  {
   "cell_type": "code",
   "execution_count": null,
   "metadata": {},
   "outputs": [],
   "source": []
  },
  {
   "cell_type": "code",
   "execution_count": null,
   "metadata": {},
   "outputs": [],
   "source": []
  },
  {
   "cell_type": "code",
   "execution_count": null,
   "metadata": {},
   "outputs": [],
   "source": []
  },
  {
   "cell_type": "code",
   "execution_count": null,
   "metadata": {},
   "outputs": [],
   "source": []
  },
  {
   "cell_type": "code",
   "execution_count": null,
   "metadata": {},
   "outputs": [],
   "source": []
  },
  {
   "cell_type": "code",
   "execution_count": null,
   "metadata": {},
   "outputs": [],
   "source": []
  }
 ],
 "metadata": {
  "colab": {
   "collapsed_sections": [
    "1yDhvawBpUOL",
    "f0RllIdtplvT",
    "lgN2BmNMpdrQ",
    "v0rmPgPeph5x"
   ],
   "provenance": [],
   "toc_visible": true
  },
  "kernelspec": {
   "display_name": "Python 3 (ipykernel)",
   "language": "python",
   "name": "python3"
  },
  "language_info": {
   "codemirror_mode": {
    "name": "ipython",
    "version": 3
   },
   "file_extension": ".py",
   "mimetype": "text/x-python",
   "name": "python",
   "nbconvert_exporter": "python",
   "pygments_lexer": "ipython3",
   "version": "3.11.3"
  }
 },
 "nbformat": 4,
 "nbformat_minor": 4
}
