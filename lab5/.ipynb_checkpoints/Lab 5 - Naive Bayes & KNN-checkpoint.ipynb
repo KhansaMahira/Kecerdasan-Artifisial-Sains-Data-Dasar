{
 "cells": [
  {
   "cell_type": "markdown",
   "metadata": {
    "id": "lGrrQq2rnnyS"
   },
   "source": [
    "<center>\n",
    "<img src=\"https://drive.google.com/uc?id=1f1gGVI-rxcHjA90WEGNvvtSXF1pAxQwg\" alt=\"Fasilkom UI\" width=\"300\"/>\n",
    "\n",
    "CSGE603130 • Kecerdasan Artifisial dan Sains Data Dasar\n",
    "\n",
    "Semester Genap 2024/2025\n",
    "\n",
    "Fakultas Ilmu Komputer, Universitas Indonesia\n",
    "\n",
    "## <b>Lab 5: *Naive Bayes* & KNN</b>\n",
    "\n",
    "### **Tenggat Waktu: 16 Maret 2025, 23.55 WIB**\n",
    "</center>\n",
    "\n",
    "### **Ketentuan:**\n",
    "\n",
    "1. Dokumen template lab dengan format .ipynb dan dataset (jika dibutuhkan) telah disediakan di SCeLe\n",
    "2. Jalankan kode pada dokumen .ipynb dan perhatikan dengan saksama apa yang potongan kode tersebut lakukan beserta dengan keluarannya. Jawablah **pertanyaan** yang disisipkan pada potongan program yang diberikan.\n",
    "3. Dokumen Jupyter Notebook yang telah dilengkapi dengan jawaban dikumpulkan dengan format penamaan **Kelas_LabX_NPM_Nama.ipynb** . Contoh: A_Lab5_2200123456_TaylorSwift.ipynb. Kesalahan dalam pengumpulan nama akan dikenakan pinalti sebesar 5 poin.\n",
    "4. Kumpulkan dokumen tersebut pada submisi yang telah disediakan di SCeLe sesuai dengan kelas masing-masing sebelum **Tenggat Waktu: 16 Maret 2025, 23.55 WIB**.\n",
    "5. Keterlambatan pengumpulan akan dikenakan pinalti sebesar 5 poin per jam (pembulatan ke atas). Dengan cut off 1 hari.\n",
    "6. Lab ini dirancang sebagai **tugas mandiri**. Plagiarisme tidak diperkenankan dalam bentuk apapun. Adapun kolaborasi berupa diskusi (tanpa menyalin maupun mengambil jawaban orang lain) dan literasi masih diperbolehkan dengan mencantumkan kolaborator dan sumber.\n",
    "7. Pakta Integritas **Wajib** di isi dan di jalankan. Submisi hanya akan dinilai jika pakta integritas di isi dan di jalankan.\n",
    "8. Sebelum di kumpulkan, kode **WAJIB** dijalankan. Jika tidak, dikenakan penalti sebesar 50%.\n",
    "9. Mahasiswa wajib mencantumkan semua sumber yang menjadi referensi jawaban, termasuk GPT.\n",
    "10. Kesalahan submisi merupakan tanggung jawab mahasiswa dan akan dikenakan penalti sesuai dengan ketentuan yang berlaku. Asisten dosen tidak menerima submisi di luar Scele."
   ]
  },
  {
   "cell_type": "markdown",
   "metadata": {
    "id": "969z9BQwN6H0"
   },
   "source": [
    "# **Pernyataan Integritas**"
   ]
  },
  {
   "cell_type": "code",
   "execution_count": null,
   "metadata": {
    "id": "lyLbPA3GN6Z7"
   },
   "outputs": [],
   "source": [
    "# Isi dengan data diri Anda\n",
    "NAMA = \"\"\n",
    "KELAS = \"\"\n",
    "NPM = \"\"\n",
    "USERNAME_KAGGLE = \"\"\n",
    "\n",
    "# Isi dengan NPM teman yang berdiskusi dengan Anda\n",
    "KOLABORATOR = []\n",
    "\n",
    "# Isi dengan sumber referensi yang Anda gunakan dalam mengerjakan\n",
    "REFERENSI = []"
   ]
  },
  {
   "cell_type": "markdown",
   "metadata": {
    "id": "73cz5faCOJwM"
   },
   "source": [
    "# <b>*Naive Bayes*</b>\n",
    "---"
   ]
  },
  {
   "cell_type": "markdown",
   "metadata": {
    "id": "h2Wa_7cHOQc7"
   },
   "source": [
    "## A. Pengenalan *Naive Bayes*"
   ]
  },
  {
   "cell_type": "markdown",
   "metadata": {
    "id": "ctNl0GRUAma_"
   },
   "source": [
    "Pada lab kali ini, Anda akan mengimplementasikan **Naive Bayes Classifier** dan melakukan pengukuran kinerja model. Sebelum memulai implementasi, kita akan mempelajari konsep dasar dari **Naive Bayes Classifier** terlebih dahulu."
   ]
  },
  {
   "cell_type": "markdown",
   "metadata": {
    "id": "QCNEug57AqqI"
   },
   "source": [
    " Algoritma Naive Bayes memprediksi peluang di masa depan berdasarkan pengalaman di masa sebelumnya sehingga dikenal sebagai Teorema Bayes. Ciri utama dari Naive Bayes Classifier ini adalah asumsi yg sangat kuat akan independensi dari masing-masing kondisi/kejadian."
   ]
  },
  {
   "cell_type": "markdown",
   "metadata": {
    "id": "R2nWlgGqBEgm"
   },
   "source": [
    "Naive Bayes merupakan algoritma yang dikembangkan dari Teorema Bayes, yang memprediksi peluang suatu kejadian di masa depan berdasarkan data yang sudah ada. Ciri utama dari Naive Bayes Classifier adalah asumsi asumsi Naive Bayes untuk *class conditional density*, yaitu: “*features are conditionally independent given the class label*” (fitur-fitur dianggap independen secara kondisional jika label kelas diberikan).\n",
    "\n",
    "> Referensi:<br>\n",
    "> [Krisnadhi, A. A., Aminah, S., Azizah, A. Y., Cahyati, D., & Darari, F. (2024). *Probability, likelihood, and Naive Bayes* [Slide presentasi]. CSGE603130 - Kecerdasan Artifisial dan Sains Data Dasar, Fakultas Ilmu Komputer, Universitas Indonesia.](https://drive.google.com/file/d/104zMjysHrz5sTMrClQd9AImVxYK9LqWF/view?usp=sharing)"
   ]
  },
  {
   "cell_type": "markdown",
   "metadata": {
    "id": "OLGSyzS6DwgS"
   },
   "source": [
    "Bayangkan Anda ingin membangun sebuah classifier yang memprediksi golongan darah seseorang (A, B, AB, atau O) berdasarkan sifat-sifat kepribadiannya, seperti arogan, perhatian, teliti, humoris, sabar, dan sebagainya. Untuk melakukannya, Anda membuat sebuah kuesioner kepribadian dan mengumpulkan data dari banyak orang. Data ini kemudian digunakan untuk membentuk dataset yang akan menjadi dasar prediksi."
   ]
  },
  {
   "cell_type": "markdown",
   "metadata": {
    "id": "fVoM1P60vKdQ"
   },
   "source": [
    "Misalkan seseorang, sebut saja Kak Lulu, mengisi kuesioner tersebut dan menyatakan bahwa dirinya adalah orang yang perhatian, humoris, teliti, dan sabar. Pertanyaannya, bisakah kita memprediksi golongan darah Kak Lulu berdasarkan data yang telah dikumpulkan?"
   ]
  },
  {
   "cell_type": "markdown",
   "metadata": {
    "id": "pTEZ-QF7UAkB"
   },
   "source": [
    "Salah satu metode yang dapat digunakan untuk memprediksi golongan darah Kak Lulu adalah dengan **Teorema Naive Bayes**. Dengan menggunakan teorema ini, kita dapat menghitung probabilitas golongan darah Kak Lulu berdasarkan sifat-sifat kepribadian yang dimilikinya. Misalnya, jika kita ingin **menghitung peluang golongan darah Kak Lulu adalah O** karena **diketahui dia adalah orang yang perhatian**, kita dapat menggunakan Aturan Bayes seperti yang ditunjukkan di bawah ini."
   ]
  },
  {
   "cell_type": "markdown",
   "metadata": {
    "id": "bUI-9yYgE3nH"
   },
   "source": [
    "$$\n",
    "p(O \\mid \\text{perhatian}) = \\frac{p(\\text{perhatian} \\mid O) \\cdot p(O)}{p(\\text{perhatian})} = \\frac{p(\\text{perhatian} \\mid O) \\cdot p(O)}{\\sum_{c \\in \\{A, B, AB, O \\}} p(\\text{perhatian} \\mid c) \\cdot p(c)}\n",
    "$$"
   ]
  },
  {
   "cell_type": "markdown",
   "metadata": {
    "id": "dhb9fu9kvQNI"
   },
   "source": [
    "Nilai-nilai tersebut merujuk pada komponen utama dalam Teorema Bayes, yaitu:\n",
    "\n",
    "1. $p(O | \\text{perhatian})$ merupakan ***Posterior Probability*** dari O (jika diketahui bersifat perhatian)\n",
    "2. $p(O)$ merupakan ***Prior Probability*** dari O\n",
    "3. $p(\\text{perhatian} | O)$ merupakan ***Likelihood*** atau ***Class Conditional Density*** dari O\n",
    "4. ${\\sum_{c \\in \\{A, B, AB, O \\}} p(\\text{perhatian} \\mid c).p(c)}$ merupakan ***Marginalizer*** dari $p(\\text{perhatian})$"
   ]
  },
  {
   "cell_type": "markdown",
   "metadata": {
    "id": "KY0TXgInNEMw"
   },
   "source": [
    "Ketiga nilai tersebut (prior, likelihood, dan marginal likelihood) bisa dihitung berdasarkan data yang dikumpulkan dari kuesioner. Umumnya, kita tidak hanya menghitung $P(O | \\text{perhatian})$, tetapi juga menghitung $P(A | \\text{perhatian})$, $P(B | \\text{perhatian})$, dan $P(AB | \\text{perhatian})$. Setelah keempat probabilitas posterior ini dihitung, golongan darah dengan probabilitas tertinggi akan diprediksi sebagai golongan darah Kak Lulu."
   ]
  },
  {
   "cell_type": "markdown",
   "metadata": {
    "id": "rbvRNiznE62H"
   },
   "source": [
    "Namun, peneliti biasanya menginginkan rumus yang menggunakan jumlah variabel sesedikit mungkin. Jika kita perhatikan lebih lanjut, penyebut dari $p(O|\\text{perhatian})$ dibagi oleh $p(\\text{perhatian})$. Sama halnya dengan $p(A | \\text{perhatian})$, $p(B | \\text{perhatian})$, dan $P(AB | \\text{perhatian})$ yang juga dibagi dengan $p(\\text{perhatian})$ seperti yang dapat dilihat pada rumus-rumus di bawah ini."
   ]
  },
  {
   "cell_type": "markdown",
   "metadata": {
    "id": "CzISWovdTY4X"
   },
   "source": [
    "$$\n",
    "p(A \\mid \\text{perhatian}) = \\frac{p(\\text{perhatian} \\mid A).p(A)}{p(\\text{perhatian})}\n",
    "$$\n",
    "\n",
    "<br>\n",
    "\n",
    "$$\n",
    "p(B \\mid \\text{perhatian}) = \\frac{p(\\text{perhatian} \\mid B).p(B)}{p(\\text{perhatian})}\n",
    "$$\n",
    "\n",
    "<br>\n",
    "\n",
    "$$\n",
    "p(AB \\mid \\text{perhatian}) = \\frac{p(\\text{perhatian} \\mid AB).p(AB)}{p(\\text{perhatian})}\n",
    "$$\n",
    "\n",
    "<br>\n",
    "\n",
    "$$\n",
    "p(O \\mid \\text{perhatian}) = \\frac{p(\\text{perhatian} \\mid O).p(O)}{p(\\text{perhatian})}\n",
    "$$"
   ]
  },
  {
   "cell_type": "markdown",
   "metadata": {
    "id": "-sLcgEpDTuY_"
   },
   "source": [
    "Jika keempat probabilitas posterior di atas memiliki penyebut atau pembagi yang sama, yaitu $p(\\text{perhatian})$, maka urutan nilai dari yang terbesar hingga terkecil **tidak akan berubah** meskipun penyebutnya diabaikan. Hal ini karena penyebut yang sama hanya berfungsi sebagai faktor penskalaan yang tidak memengaruhi urutan relatif antara probabilitas tersebut.\n",
    "\n",
    "Dengan demikian, kita tidak perlu menghitung nilai $p(\\text{perhatian})$ secara eksplisit. Sebagai gantinya, kita cukup membandingkan pembilangnya saja:"
   ]
  },
  {
   "cell_type": "markdown",
   "metadata": {
    "id": "5Gc4X8kMVr6P"
   },
   "source": [
    "$$\n",
    "p(O \\mid \\text{perhatian}) \\propto p(\\text{perhatian} \\mid O) \\cdot p(O)\n",
    "$$\n",
    "\n",
    "<br>\n",
    "\n",
    "Di sini, $\\propto$ berarti **proporsional terhadap** yang menggantikan $\\frac{1}{p(\\text{perhatian})}$. $\\propto$ berarti *posterior* probabilitas itu **sebanding** dengan perkalian antara *likelihood*-nya dengan *prior*."
   ]
  },
  {
   "cell_type": "markdown",
   "metadata": {
    "id": "oJku5EUdxIvf"
   },
   "source": [
    "Nah, bagaimana faktor seperti humoris, teliti, sabar, atau sifat seseorang lainnya? Secara matematis, kita bisa membuatnya menjadi seperti ini.\n"
   ]
  },
  {
   "cell_type": "markdown",
   "metadata": {
    "id": "wDRDfUqYxR6k"
   },
   "source": [
    "$$\n",
    "p(O \\mid P,H,T,S) = \\frac{p(P,H,T,S \\mid O) \\cdot p(O)}{p(P,H,T,S)}\n",
    "$$\n",
    "\n",
    "<br>\n",
    "\n",
    "$$\n",
    "p(O \\mid P,H,T,S) \\propto {p(P,H,T,S \\mid O)p(O)}\n",
    "$$"
   ]
  },
  {
   "cell_type": "markdown",
   "metadata": {
    "id": "9nUdn0WSyw83"
   },
   "source": [
    "Ingat bahwa dalam Naive Bayes kita mengasumsikan bahwa setiap fitur dianggap independen secara kondisional jika label kelas diberikan. Dalam hal ini kita mengasumsikan bahwa faktor seperti perhatian, humoris, teliti, dan sabar bersifat ***conditionally independet*** apabila diketahui seseorang tersebut bergolongan darah O. Dengan demikian, kita bisa ubah rumusnya menjadi:"
   ]
  },
  {
   "cell_type": "markdown",
   "metadata": {
    "id": "Il3sQw2Cyx5G"
   },
   "source": [
    "$$\n",
    "p(O \\mid P,H,T,S) \\propto {p(P \\mid O) \\cdot p(H \\mid O) \\cdot p(H \\mid O) \\cdot p(T \\mid O) \\cdot p(S \\mid O) \\cdot p(O)}\n",
    "$$"
   ]
  },
  {
   "cell_type": "markdown",
   "metadata": {
    "id": "JNyHGN1Uxloo"
   },
   "source": [
    "Keterangan :\n",
    "- P: Perhatian\n",
    "- H: Humoris\n",
    "- T: Teliti\n",
    "- S: Sabar\n",
    "- O: Golongan darah O"
   ]
  },
  {
   "cell_type": "markdown",
   "metadata": {
    "id": "wasRrDpBOUsL"
   },
   "source": [
    "## B. Pengenalan *Naive Bayes* Dalam Scikit-learn"
   ]
  },
  {
   "cell_type": "markdown",
   "metadata": {
    "id": "i5_7pkxP0LSh"
   },
   "source": [
    "Scikit-learn menyediakan beberapa variasi model naive bayes yang dapat digunakan, antara lain:"
   ]
  },
  {
   "cell_type": "markdown",
   "metadata": {
    "id": "XvsHSWxh0PnW"
   },
   "source": [
    "| Nama Model | Nama Modul |\n",
    "| ----------- | --------- |\n",
    "| Gaussian Naive Bayes | `sklearn.naive_bayes.GaussianNB` |\n",
    "| Multinomial Naive Bayes | `sklearn.naive_bayes.MultinomialNB` |\n",
    "| Complement Naive Bayes | `sklearn.naive_bayes.ComplementNB` |\n",
    "| Bernoulli Naive Bayes | `sklearn.naive_bayes.BernoulliNB` |\n",
    "| Categorical Naive Bayes | `sklearn.naive_bayes.CategoricalNB` |"
   ]
  },
  {
   "cell_type": "markdown",
   "metadata": {
    "id": "5tTLuuUU0NFm"
   },
   "source": [
    "Adapun kegunaan masing-masing model antara lain:\n",
    "- Gaussian Naive Bayes,\n",
    "Model ini cocok digunakan untuk data numerik yang mengikuti distribusi Gaussian (normal) dan bersifat kontinu.\n",
    "\n",
    "- Multinomial Naive Bayes,\n",
    "Model ini mengasumsikan bahwa data memiliki distribusi multinomial. Distribusi multinomial menggambarkan probabilitas dari jumlah data pada sejumlah kategori. Model ini cocok digunakan untuk fitur yang merepresentasikan jumlah atau frekuensi, seperti dalam klasifikasi teks. Contohnya adalah frekuensi kemunculan kata dalam dokumen.\n",
    "\n",
    "- Complement Naive Bayes,\n",
    "Complement Naive Bayes merupakan varian dari Multinomial Naive Bayes. Model ini dikembangkan untuk mengatasi kelemahan Multinomial Naive Bayes pada dataset yang **imbalanced** (tidak seimbang), di mana distribusi data tidak seragam. Complement Naive Bayes cocok digunakan untuk dataset dengan imbalanced class, karena mengurangi risiko overfitting terhadap class yang dominan. <br>\n",
    "[Comparing a Variety of Naive Bayes Classification Algorithms](https://towardsdatascience.com/comparing-a-variety-of-naive-bayes-classification-algorithms-fc5fa298379e)\n",
    "\n",
    "- Bernoulli Naive Bayes,\n",
    "Model ini mirip dengan Multinomial Naive Bayes, tetapi dirancang untuk data yang bersifat **binary** (0 atau 1). Contoh penggunaannya adalah pada data seperti gender (pria/wanita) atau representasi one-hot encoding. <br>\n",
    "[Bernoulli Naive Bayes](https://iq.opengenus.org/bernoulli-naive-bayes/)\n",
    "\n",
    "- Categorical Naive Bayes,\n",
    "Model ini digunakan untuk data yang nilainya terdistribusi secara kategorikal. Jika data bersifat kontinu, perlu dilakukan transformasi ke bentuk diskret terlebih dahulu sebelum menggunakan model ini. Contoh penggunaannya adalah pada data seperti warna mata, ras, atau golongan darah.\n",
    "\n",
    "Selengkapnya dapat dilihat pada dokumentasi modul [sklearn.naive_bayes](https://scikit-learn.org/stable/modules/naive_bayes.html)."
   ]
  },
  {
   "cell_type": "markdown",
   "metadata": {
    "id": "JDfMP1lmPoMa"
   },
   "source": [
    "## C. *Hands-on Naive Bayes*"
   ]
  },
  {
   "cell_type": "markdown",
   "metadata": {
    "id": "SBXO6Zp5lpo5"
   },
   "source": [
    "Dataset `caesarian_section_classification.csv` berisi tentang informasi dilakukannya operasi caesar atau tidak dari 80 ibu hamil dengan karakteristik masalah persalinan yang penting pada bidang medis.\n",
    "\n",
    "Informasi dataset:\n",
    "* `Age`: Umur\n",
    "* `Delivery No`: Status (Timely, Premature, Latecomer)\n",
    "* `Blood of Pressure`: Tekanan Darah (Low, Normal, High)\n",
    "* `Heart Problem`: Memiliki masalah penyakit jantung (apt, inept)\n",
    "* `Cesarian`: Dilakukan operasi caesar (Yes, No)\n",
    "\n",
    "Sumber dataset: https://www.kaggle.com/amir75/caesarean-section-classification\n"
   ]
  },
  {
   "cell_type": "markdown",
   "metadata": {
    "id": "gFXq4Kgwm0do"
   },
   "source": [
    "### *Import Dataset*"
   ]
  },
  {
   "cell_type": "code",
   "execution_count": null,
   "metadata": {
    "colab": {
     "base_uri": "https://localhost:8080/",
     "height": 206
    },
    "id": "wuoRuRDgiwCd",
    "outputId": "0461eba8-7e72-4719-9f8d-1063251277f2"
   },
   "outputs": [
    {
     "data": {
      "text/html": [
       "<div>\n",
       "<style scoped>\n",
       "    .dataframe tbody tr th:only-of-type {\n",
       "        vertical-align: middle;\n",
       "    }\n",
       "\n",
       "    .dataframe tbody tr th {\n",
       "        vertical-align: top;\n",
       "    }\n",
       "\n",
       "    .dataframe thead th {\n",
       "        text-align: right;\n",
       "    }\n",
       "</style>\n",
       "<table border=\"1\" class=\"dataframe\">\n",
       "  <thead>\n",
       "    <tr style=\"text-align: right;\">\n",
       "      <th></th>\n",
       "      <th>Age</th>\n",
       "      <th>Delivery No</th>\n",
       "      <th>Blood of Pressure</th>\n",
       "      <th>Heart Problem</th>\n",
       "      <th>Caesarian</th>\n",
       "    </tr>\n",
       "  </thead>\n",
       "  <tbody>\n",
       "    <tr>\n",
       "      <th>0</th>\n",
       "      <td>22</td>\n",
       "      <td>Timely</td>\n",
       "      <td>High</td>\n",
       "      <td>apt</td>\n",
       "      <td>No</td>\n",
       "    </tr>\n",
       "    <tr>\n",
       "      <th>1</th>\n",
       "      <td>26</td>\n",
       "      <td>Timely</td>\n",
       "      <td>Normal</td>\n",
       "      <td>apt</td>\n",
       "      <td>Yes</td>\n",
       "    </tr>\n",
       "    <tr>\n",
       "      <th>2</th>\n",
       "      <td>26</td>\n",
       "      <td>Premature</td>\n",
       "      <td>Normal</td>\n",
       "      <td>apt</td>\n",
       "      <td>No</td>\n",
       "    </tr>\n",
       "    <tr>\n",
       "      <th>3</th>\n",
       "      <td>28</td>\n",
       "      <td>Timely</td>\n",
       "      <td>High</td>\n",
       "      <td>apt</td>\n",
       "      <td>No</td>\n",
       "    </tr>\n",
       "    <tr>\n",
       "      <th>4</th>\n",
       "      <td>22</td>\n",
       "      <td>Timely</td>\n",
       "      <td>Normal</td>\n",
       "      <td>apt</td>\n",
       "      <td>Yes</td>\n",
       "    </tr>\n",
       "  </tbody>\n",
       "</table>\n",
       "</div>"
      ],
      "text/plain": [
       "   Age Delivery No Blood of Pressure Heart Problem Caesarian\n",
       "0   22      Timely              High           apt        No\n",
       "1   26      Timely            Normal           apt       Yes\n",
       "2   26   Premature            Normal           apt        No\n",
       "3   28      Timely              High           apt        No\n",
       "4   22      Timely            Normal           apt       Yes"
      ]
     },
     "execution_count": 2,
     "metadata": {},
     "output_type": "execute_result"
    }
   ],
   "source": [
    "# import library dan data\n",
    "import pandas as pd\n",
    "import numpy as np\n",
    "pd.set_option('display.max_columns', None)\n",
    "\n",
    "caesarian = pd.read_csv(\"caesarian_section_classification.csv\")\n",
    "# caesarian = pd.read_csv(\"https://drive.google.com/uc?export=download&id=1zu78EgJTrBmzz2TwXXyl_1sZz1Yiu3GZ\")\n",
    "caesarian.head()"
   ]
  },
  {
   "cell_type": "code",
   "execution_count": null,
   "metadata": {
    "id": "FNA_4dSPFqGl",
    "outputId": "b59e10b6-0a78-4440-83ee-bcb49c733c90"
   },
   "outputs": [
    {
     "name": "stdout",
     "output_type": "stream",
     "text": [
      "----Informasi Baris dan Kolom----\n",
      "Baris :  80\n",
      "Kolom :  5\n"
     ]
    }
   ],
   "source": [
    "print(\"----Informasi Baris dan Kolom----\")\n",
    "print(\"Baris : \", caesarian.shape[0])\n",
    "print(\"Kolom : \", caesarian.shape[1])"
   ]
  },
  {
   "cell_type": "code",
   "execution_count": null,
   "metadata": {
    "colab": {
     "base_uri": "https://localhost:8080/"
    },
    "id": "GQ45222QnEeA",
    "outputId": "57125c96-4a8b-4d1e-916d-12da665b394d"
   },
   "outputs": [
    {
     "name": "stdout",
     "output_type": "stream",
     "text": [
      "No. of unique values in column Delivery No:\n",
      "Delivery No\n",
      "Timely       46\n",
      "Premature    17\n",
      "Latecomer    17\n",
      "Name: count, dtype: int64 \n",
      "\n",
      "No. of unique values in column Blood of Pressure:\n",
      "Blood of Pressure\n",
      "Normal    40\n",
      "High      20\n",
      "Low       20\n",
      "Name: count, dtype: int64 \n",
      "\n",
      "No. of unique values in column Heart Problem:\n",
      "Heart Problem\n",
      "apt      50\n",
      "inept    30\n",
      "Name: count, dtype: int64 \n",
      "\n",
      "No. of unique values in column Caesarian:\n",
      "Caesarian\n",
      "Yes    46\n",
      "No     34\n",
      "Name: count, dtype: int64 \n",
      "\n"
     ]
    }
   ],
   "source": [
    "# Mencari jumlah nilai unik pada kolom yang bertipe kategorikal\n",
    "\n",
    "for col in caesarian.select_dtypes(include=object).columns:\n",
    "    print('No. of unique values in column ' + col + ':')\n",
    "    print(caesarian[col].value_counts(), '\\n')"
   ]
  },
  {
   "cell_type": "markdown",
   "metadata": {
    "id": "rA6y8N-OMgsr"
   },
   "source": [
    "### *Preprocessing*"
   ]
  },
  {
   "cell_type": "code",
   "execution_count": null,
   "metadata": {
    "id": "exE1u2sfMisx"
   },
   "outputs": [],
   "source": [
    "# mengecek nilai null pada data\n",
    "def cek_null(df):\n",
    "    col_na = df.isnull().sum().sort_values(ascending=True)\n",
    "    percent = col_na * 100 / len(df)\n",
    "\n",
    "    missing_data = pd.concat([col_na, percent], axis=1, keys=['Total', 'Percent'])\n",
    "    if (missing_data[missing_data['Total'] > 0].shape[0] == 0):\n",
    "        print(\"Tidak ditemukan missing value pada dataset\")\n",
    "    else:\n",
    "        print(missing_data[missing_data['Total'] > 0])"
   ]
  },
  {
   "cell_type": "code",
   "execution_count": null,
   "metadata": {
    "colab": {
     "base_uri": "https://localhost:8080/"
    },
    "id": "tqp3Dx2RMpwK",
    "outputId": "e12ead50-6ccd-4e70-f66d-2657f4eb11bc"
   },
   "outputs": [
    {
     "name": "stdout",
     "output_type": "stream",
     "text": [
      "Tidak ditemukan missing value pada dataset\n"
     ]
    }
   ],
   "source": [
    "cek_null(caesarian)"
   ]
  },
  {
   "cell_type": "code",
   "execution_count": null,
   "metadata": {
    "colab": {
     "base_uri": "https://localhost:8080/"
    },
    "id": "UeXH5AA_MrdL",
    "outputId": "11aea9ca-033d-487d-e755-461949820b73"
   },
   "outputs": [
    {
     "name": "stdout",
     "output_type": "stream",
     "text": [
      "Jumlah duplikasi data: 8\n"
     ]
    }
   ],
   "source": [
    "# mengecek jumlah duplikasi pada data\n",
    "print(\"Jumlah duplikasi data: \" + str(caesarian.duplicated().sum()))"
   ]
  },
  {
   "cell_type": "markdown",
   "metadata": {
    "id": "q4Y5JT37Ms33"
   },
   "source": [
    "Terdapat 8 data duplikat, maka kita perlu drop data tersebut terlebih dahulu."
   ]
  },
  {
   "cell_type": "code",
   "execution_count": null,
   "metadata": {
    "colab": {
     "base_uri": "https://localhost:8080/"
    },
    "id": "rLaAmXiUMtPP",
    "outputId": "6cba392f-7eee-413f-893b-b57cecc37008"
   },
   "outputs": [
    {
     "name": "stdout",
     "output_type": "stream",
     "text": [
      "Jumlah duplikasi data: 0\n"
     ]
    }
   ],
   "source": [
    "caesarian.drop_duplicates(inplace = True)\n",
    "caesarian.reset_index(drop=True, inplace=True)\n",
    "print(\"Jumlah duplikasi data: \" + str(caesarian.duplicated().sum()))"
   ]
  },
  {
   "cell_type": "code",
   "execution_count": null,
   "metadata": {
    "colab": {
     "base_uri": "https://localhost:8080/",
     "height": 830
    },
    "id": "AD9hh0kHMxF9",
    "outputId": "73b78cb5-ef53-494e-acf1-4a394152397a"
   },
   "outputs": [
    {
     "data": {
      "image/png": "[encoded data removed]",
      "text/plain": [
       "<Figure size 800x800 with 1 Axes>"
      ]
     },
     "metadata": {},
     "output_type": "display_data"
    }
   ],
   "source": [
    "# mengecek keberadaan outlier\n",
    "import seaborn as sns\n",
    "import matplotlib.pyplot as plt\n",
    "\n",
    "plt.figure(figsize=(8, 8))\n",
    "caesarian.boxplot(figsize=(8, 8))\n",
    "plt.show()"
   ]
  },
  {
   "cell_type": "markdown",
   "metadata": {
    "id": "6vHR9WHfM6Hv"
   },
   "source": [
    "Tidak tampak ada outlier pada data"
   ]
  },
  {
   "cell_type": "markdown",
   "metadata": {
    "id": "W3fR5_bun95q"
   },
   "source": [
    "### Menentukan *Independent Variable* dan *Dependent Variable*"
   ]
  },
  {
   "cell_type": "markdown",
   "metadata": {
    "id": "8sC-UHDXn__J"
   },
   "source": [
    "Pada langkah ini, kita akan menentukan variabel independen (fitur) dan variabel dependen (target). Variabel dependen adalah variabel yang akan diprediksi, sedangkan variabel independen adalah variabel yang digunakan untuk membuat prediksi. Pada dataset ini, variabel **caesarian** dipilih sebagai variabel dependen, sedangkan variabel lainnya menjadi variabel independen."
   ]
  },
  {
   "cell_type": "markdown",
   "metadata": {
    "id": "5lGjcJMToBaS"
   },
   "source": [
    "Karena data yang diberikan bertipe kategorikal, maka kita perlu melakukan transformasi agar data dapat diolah oleh mesin. Ada beberapa teknik transformasi yang dapat dilakukan, diantaranya:\n",
    "- One-hot encoding\n",
    "- Label encoding\n",
    "- Target encoding\n",
    "- dan lain-lain. (Dapat dibaca slide kuliah Feature Engineering)"
   ]
  },
  {
   "cell_type": "markdown",
   "metadata": {
    "id": "dJrJnscioGU1"
   },
   "source": [
    "Teknik-teknik transformasi, memiliki kelebihan dan kelemahannya masing-masing (teman-teman mungkin bisa membacanya di internet terkait tujuan dari setiap teknik). Pada kasus ini, kita akan menggunakan **label encoding** karena teknik ini memastikan bahwa data kategorikal yang memiliki urutan (ordinal) dapat diproses dengan baik. Label encoding mengubah setiap kategori menjadi nilai numerik yang sesuai dengan urutan atau hierarki kategori tersebut."
   ]
  },
  {
   "cell_type": "markdown",
   "metadata": {
    "id": "7c6atRj4qSXI"
   },
   "source": [
    "**Catatan:**<br>\n",
    "Pemilihan teknik transformasi sangat bergantung pada karakteristik data dan tujuan analisis. Pastikan untuk memilih teknik yang sesuai dengan data."
   ]
  },
  {
   "cell_type": "code",
   "execution_count": null,
   "metadata": {
    "id": "bjpliAoiFqGr",
    "outputId": "891bca27-ab66-464a-cbb0-1c20ac393acf"
   },
   "outputs": [
    {
     "data": {
      "text/html": [
       "<div>\n",
       "<style scoped>\n",
       "    .dataframe tbody tr th:only-of-type {\n",
       "        vertical-align: middle;\n",
       "    }\n",
       "\n",
       "    .dataframe tbody tr th {\n",
       "        vertical-align: top;\n",
       "    }\n",
       "\n",
       "    .dataframe thead th {\n",
       "        text-align: right;\n",
       "    }\n",
       "</style>\n",
       "<table border=\"1\" class=\"dataframe\">\n",
       "  <thead>\n",
       "    <tr style=\"text-align: right;\">\n",
       "      <th></th>\n",
       "      <th>Age</th>\n",
       "      <th>Delivery No</th>\n",
       "      <th>Blood of Pressure</th>\n",
       "      <th>Heart Problem</th>\n",
       "      <th>Caesarian</th>\n",
       "    </tr>\n",
       "  </thead>\n",
       "  <tbody>\n",
       "    <tr>\n",
       "      <th>0</th>\n",
       "      <td>22</td>\n",
       "      <td>0</td>\n",
       "      <td>2</td>\n",
       "      <td>0</td>\n",
       "      <td>0</td>\n",
       "    </tr>\n",
       "    <tr>\n",
       "      <th>1</th>\n",
       "      <td>26</td>\n",
       "      <td>0</td>\n",
       "      <td>1</td>\n",
       "      <td>0</td>\n",
       "      <td>1</td>\n",
       "    </tr>\n",
       "    <tr>\n",
       "      <th>2</th>\n",
       "      <td>26</td>\n",
       "      <td>1</td>\n",
       "      <td>1</td>\n",
       "      <td>0</td>\n",
       "      <td>0</td>\n",
       "    </tr>\n",
       "    <tr>\n",
       "      <th>3</th>\n",
       "      <td>28</td>\n",
       "      <td>0</td>\n",
       "      <td>2</td>\n",
       "      <td>0</td>\n",
       "      <td>0</td>\n",
       "    </tr>\n",
       "    <tr>\n",
       "      <th>4</th>\n",
       "      <td>22</td>\n",
       "      <td>0</td>\n",
       "      <td>1</td>\n",
       "      <td>0</td>\n",
       "      <td>1</td>\n",
       "    </tr>\n",
       "  </tbody>\n",
       "</table>\n",
       "</div>"
      ],
      "text/plain": [
       "   Age  Delivery No  Blood of Pressure  Heart Problem  Caesarian\n",
       "0   22            0                  2              0          0\n",
       "1   26            0                  1              0          1\n",
       "2   26            1                  1              0          0\n",
       "3   28            0                  2              0          0\n",
       "4   22            0                  1              0          1"
      ]
     },
     "execution_count": 10,
     "metadata": {},
     "output_type": "execute_result"
    }
   ],
   "source": [
    "\n",
    "# Mapping untuk kolom Delivery No\n",
    "delivery_mapping = {\n",
    "\t'Timely': 0,\n",
    "\t'Premature': 1,\n",
    "\t'Latecomer': 2\n",
    "}\n",
    "\n",
    "# Mapping untuk kolom Blood of Pressure\n",
    "blood_pressure_mapping = {\n",
    "\t'Low': 0,\n",
    "\t'Normal': 1,\n",
    "\t'High': 2\n",
    "}\n",
    "\n",
    "# Mapping untuk kolom Heart Problem\n",
    "heart_problem_mapping = {\n",
    "\t'apt': 0,\n",
    "\t'inept': 1\n",
    "}\n",
    "\n",
    "# Mapping untuk kolom Caesarian\n",
    "caesarian_mapping = {\n",
    "\t'No': 0,\n",
    "\t'Yes': 1\n",
    "}\n",
    "\n",
    "caesarian_encoded = caesarian.copy()\n",
    "caesarian_encoded['Delivery No'] = caesarian['Delivery No'].map(delivery_mapping)\n",
    "caesarian_encoded['Blood of Pressure'] = caesarian['Blood of Pressure'].map(blood_pressure_mapping)\n",
    "caesarian_encoded['Heart Problem'] = caesarian['Heart Problem'].map(heart_problem_mapping)\n",
    "caesarian_encoded['Caesarian'] = caesarian['Caesarian'].map(caesarian_mapping)\n",
    "\n",
    "caesarian_encoded.head()"
   ]
  },
  {
   "cell_type": "code",
   "execution_count": null,
   "metadata": {
    "id": "ck-sATNOFqGr",
    "outputId": "d7c36f7a-3566-4318-d56b-7439458a7d0c"
   },
   "outputs": [
    {
     "data": {
      "image/png": "[encoded data removed]",
      "text/plain": [
       "<Figure size 1000x800 with 2 Axes>"
      ]
     },
     "metadata": {},
     "output_type": "display_data"
    }
   ],
   "source": [
    "# Calculate the correlation matrix\n",
    "correlation_matrix = caesarian_encoded.corr(method='pearson')\n",
    "\n",
    "# Plot the correlation matrix\n",
    "plt.figure(figsize=(10, 8))\n",
    "sns.heatmap(correlation_matrix, annot=True, cmap='coolwarm', fmt='.2f')\n",
    "plt.title('Correlation Matrix of Caesarian Section Classification Dataset')\n",
    "plt.show()"
   ]
  },
  {
   "cell_type": "markdown",
   "metadata": {
    "id": "YDc8JGZPFqGr"
   },
   "source": [
    "> Dapat dilihat bahwa korelasi setiap fitur terhadap target menunjukkan angka yang rendah. Hal ini sesuai dengan asumsi dalam Naive Bayes, yaitu setiap fitur independen secara kondisional jika label kelas diketahui."
   ]
  },
  {
   "cell_type": "code",
   "execution_count": null,
   "metadata": {
    "colab": {
     "base_uri": "https://localhost:8080/",
     "height": 206
    },
    "id": "b5CnkhVUqoQg",
    "outputId": "cb1b843a-1f88-4bec-8e59-6bed05769956"
   },
   "outputs": [
    {
     "data": {
      "text/html": [
       "<div>\n",
       "<style scoped>\n",
       "    .dataframe tbody tr th:only-of-type {\n",
       "        vertical-align: middle;\n",
       "    }\n",
       "\n",
       "    .dataframe tbody tr th {\n",
       "        vertical-align: top;\n",
       "    }\n",
       "\n",
       "    .dataframe thead th {\n",
       "        text-align: right;\n",
       "    }\n",
       "</style>\n",
       "<table border=\"1\" class=\"dataframe\">\n",
       "  <thead>\n",
       "    <tr style=\"text-align: right;\">\n",
       "      <th></th>\n",
       "      <th>Delivery No</th>\n",
       "      <th>Blood of Pressure</th>\n",
       "      <th>Heart Problem</th>\n",
       "    </tr>\n",
       "  </thead>\n",
       "  <tbody>\n",
       "    <tr>\n",
       "      <th>0</th>\n",
       "      <td>0</td>\n",
       "      <td>2</td>\n",
       "      <td>0</td>\n",
       "    </tr>\n",
       "    <tr>\n",
       "      <th>1</th>\n",
       "      <td>0</td>\n",
       "      <td>1</td>\n",
       "      <td>0</td>\n",
       "    </tr>\n",
       "    <tr>\n",
       "      <th>2</th>\n",
       "      <td>1</td>\n",
       "      <td>1</td>\n",
       "      <td>0</td>\n",
       "    </tr>\n",
       "    <tr>\n",
       "      <th>3</th>\n",
       "      <td>0</td>\n",
       "      <td>2</td>\n",
       "      <td>0</td>\n",
       "    </tr>\n",
       "    <tr>\n",
       "      <th>4</th>\n",
       "      <td>0</td>\n",
       "      <td>1</td>\n",
       "      <td>0</td>\n",
       "    </tr>\n",
       "  </tbody>\n",
       "</table>\n",
       "</div>"
      ],
      "text/plain": [
       "   Delivery No  Blood of Pressure  Heart Problem\n",
       "0            0                  2              0\n",
       "1            0                  1              0\n",
       "2            1                  1              0\n",
       "3            0                  2              0\n",
       "4            0                  1              0"
      ]
     },
     "execution_count": 12,
     "metadata": {},
     "output_type": "execute_result"
    }
   ],
   "source": [
    "# Variabel independen\n",
    "\n",
    "X = caesarian_encoded.drop([\"Caesarian\", \"Age\"], axis = 1)\n",
    "X.head()"
   ]
  },
  {
   "cell_type": "markdown",
   "metadata": {
    "id": "TgDqrv_AFqGr"
   },
   "source": [
    "Kita drop kolom `Age` karena sebagian besar fitur lain merupakan fitur kategorikal sehingga kita akan menggunakan Categorical Naive Bayes."
   ]
  },
  {
   "cell_type": "code",
   "execution_count": null,
   "metadata": {
    "colab": {
     "base_uri": "https://localhost:8080/",
     "height": 241
    },
    "id": "EYl0Nd8MvQDH",
    "outputId": "19b9c97f-0704-4e0b-9447-dfcab30f5272"
   },
   "outputs": [
    {
     "data": {
      "text/plain": [
       "0    0\n",
       "1    1\n",
       "2    0\n",
       "3    0\n",
       "4    1\n",
       "Name: Caesarian, dtype: int64"
      ]
     },
     "execution_count": 13,
     "metadata": {},
     "output_type": "execute_result"
    }
   ],
   "source": [
    "# Variabel dependen\n",
    "\n",
    "y = caesarian_encoded[\"Caesarian\"]\n",
    "y.head()"
   ]
  },
  {
   "cell_type": "markdown",
   "metadata": {
    "id": "Q7UE1B48vM81"
   },
   "source": [
    "### *Classification*"
   ]
  },
  {
   "cell_type": "markdown",
   "metadata": {
    "id": "85uSp6_GvY3g"
   },
   "source": [
    "Klasifikasi menggunakan Naive Bayes dapat dilakukan dengan memanfaatkan package `sklearn`. Dalam proses ini, kita membutuhkan data training dan data testing. Kita akan mengambil **20%** dari data sebagai data testing dan sisanya akan menjadi data training. Berikut adalah kode program untuk membagi data menjadi data training dan testing:"
   ]
  },
  {
   "cell_type": "code",
   "execution_count": null,
   "metadata": {
    "id": "Ww2QBRqrvZQw"
   },
   "outputs": [],
   "source": [
    "from sklearn.model_selection import train_test_split, KFold, cross_val_score\n",
    "\n",
    "# Melakukan splitting terhadap data train dan test (0.2 test_size)\n",
    "X_train, X_test, y_train, y_test = train_test_split(X, y, test_size = 0.2, random_state = 42)"
   ]
  },
  {
   "cell_type": "markdown",
   "metadata": {
    "id": "k76ORKSavk42"
   },
   "source": [
    "Selanjutnya, kita akan melakukan cross-validation dengan `n_splits=5`. Cross-validation digunakan untuk membagi dataset menjadi beberapa bagian (*fold*). Strategi ini membantu menghasilkan model yang lebih stabil performanya dan menghindari overfitting."
   ]
  },
  {
   "cell_type": "code",
   "execution_count": null,
   "metadata": {
    "id": "nGFFoYX3vo2y"
   },
   "outputs": [],
   "source": [
    "kfold = KFold(n_splits=5, shuffle=True, random_state=42)"
   ]
  },
  {
   "cell_type": "markdown",
   "metadata": {
    "id": "68CrBR4XvuUq"
   },
   "source": [
    "Setelah itu, kita akan mengaktifkan fungsi klasifikasi Naive Bayes, mengevaluasi hasil cross-validation, dan melatih model menggunakan data training."
   ]
  },
  {
   "cell_type": "code",
   "execution_count": null,
   "metadata": {
    "id": "GAZUtciVvuF4"
   },
   "outputs": [],
   "source": [
    "from sklearn.naive_bayes import CategoricalNB\n",
    "\n",
    "# Mengaktifkan/memanggil/membuat fungsi klasifikasi Naive Bayes\n",
    "modelnb = CategoricalNB()"
   ]
  },
  {
   "cell_type": "code",
   "execution_count": null,
   "metadata": {
    "id": "BDhMgD236vaY"
   },
   "outputs": [],
   "source": [
    "# Melakukan evaluasi cross-validation\n",
    "scores = cross_val_score(modelnb, X_train, y_train, cv=kfold)"
   ]
  },
  {
   "cell_type": "code",
   "execution_count": null,
   "metadata": {
    "colab": {
     "base_uri": "https://localhost:8080/"
    },
    "id": "x5_LPr8w6xWP",
    "outputId": "2cc79531-bf17-4a4c-f683-f894e30350aa"
   },
   "outputs": [
    {
     "name": "stdout",
     "output_type": "stream",
     "text": [
      "Cross-validation scores: [0.75       0.58333333 0.63636364 0.63636364 0.45454545]\n",
      "Mean accuracy: 0.6121212121212121\n"
     ]
    }
   ],
   "source": [
    "# Menampilkan skor dari setiap fold\n",
    "print(\"Cross-validation scores:\", scores)\n",
    "print(\"Mean accuracy:\", np.mean(scores))"
   ]
  },
  {
   "cell_type": "markdown",
   "metadata": {
    "id": "lQ9Jl0yq8jte"
   },
   "source": [
    "Dari hasil cross-validation, terlihat bahwa skor akurasi bervariasi di setiap fold, dengan rata-rata 0.612.\n",
    "\n",
    "Selanjutnya, kita akan melatih model menggunakan data training dan melakukan prediksi pada data testing."
   ]
  },
  {
   "cell_type": "code",
   "execution_count": null,
   "metadata": {
    "colab": {
     "base_uri": "https://localhost:8080/",
     "height": 80
    },
    "id": "ul8DUit1v-b_",
    "outputId": "6c6e8666-7fba-44ed-845a-e075dade3e7c"
   },
   "outputs": [
    {
     "data": {
      "text/html": [
       "<style>#sk-container-id-1 {\n",
       "  /* Definition of color scheme common for light and dark mode */\n",
       "  --sklearn-color-text: black;\n",
       "  --sklearn-color-line: gray;\n",
       "  /* Definition of color scheme for unfitted estimators */\n",
       "  --sklearn-color-unfitted-level-0: #fff5e6;\n",
       "  --sklearn-color-unfitted-level-1: #f6e4d2;\n",
       "  --sklearn-color-unfitted-level-2: #ffe0b3;\n",
       "  --sklearn-color-unfitted-level-3: chocolate;\n",
       "  /* Definition of color scheme for fitted estimators */\n",
       "  --sklearn-color-fitted-level-0: #f0f8ff;\n",
       "  --sklearn-color-fitted-level-1: #d4ebff;\n",
       "  --sklearn-color-fitted-level-2: #b3dbfd;\n",
       "  --sklearn-color-fitted-level-3: cornflowerblue;\n",
       "\n",
       "  /* Specific color for light theme */\n",
       "  --sklearn-color-text-on-default-background: var(--sg-text-color, var(--theme-code-foreground, var(--jp-content-font-color1, black)));\n",
       "  --sklearn-color-background: var(--sg-background-color, var(--theme-background, var(--jp-layout-color0, white)));\n",
       "  --sklearn-color-border-box: var(--sg-text-color, var(--theme-code-foreground, var(--jp-content-font-color1, black)));\n",
       "  --sklearn-color-icon: #696969;\n",
       "\n",
       "  @media (prefers-color-scheme: dark) {\n",
       "    /* Redefinition of color scheme for dark theme */\n",
       "    --sklearn-color-text-on-default-background: var(--sg-text-color, var(--theme-code-foreground, var(--jp-content-font-color1, white)));\n",
       "    --sklearn-color-background: var(--sg-background-color, var(--theme-background, var(--jp-layout-color0, #111)));\n",
       "    --sklearn-color-border-box: var(--sg-text-color, var(--theme-code-foreground, var(--jp-content-font-color1, white)));\n",
       "    --sklearn-color-icon: #878787;\n",
       "  }\n",
       "}\n",
       "\n",
       "#sk-container-id-1 {\n",
       "  color: var(--sklearn-color-text);\n",
       "}\n",
       "\n",
       "#sk-container-id-1 pre {\n",
       "  padding: 0;\n",
       "}\n",
       "\n",
       "#sk-container-id-1 input.sk-hidden--visually {\n",
       "  border: 0;\n",
       "  clip: rect(1px 1px 1px 1px);\n",
       "  clip: rect(1px, 1px, 1px, 1px);\n",
       "  height: 1px;\n",
       "  margin: -1px;\n",
       "  overflow: hidden;\n",
       "  padding: 0;\n",
       "  position: absolute;\n",
       "  width: 1px;\n",
       "}\n",
       "\n",
       "#sk-container-id-1 div.sk-dashed-wrapped {\n",
       "  border: 1px dashed var(--sklearn-color-line);\n",
       "  margin: 0 0.4em 0.5em 0.4em;\n",
       "  box-sizing: border-box;\n",
       "  padding-bottom: 0.4em;\n",
       "  background-color: var(--sklearn-color-background);\n",
       "}\n",
       "\n",
       "#sk-container-id-1 div.sk-container {\n",
       "  /* jupyter's `normalize.less` sets `[hidden] { display: none; }`\n",
       "     but bootstrap.min.css set `[hidden] { display: none !important; }`\n",
       "     so we also need the `!important` here to be able to override the\n",
       "     default hidden behavior on the sphinx rendered scikit-learn.org.\n",
       "     See: https://github.com/scikit-learn/scikit-learn/issues/21755 */\n",
       "  display: inline-block !important;\n",
       "  position: relative;\n",
       "}\n",
       "\n",
       "#sk-container-id-1 div.sk-text-repr-fallback {\n",
       "  display: none;\n",
       "}\n",
       "\n",
       "div.sk-parallel-item,\n",
       "div.sk-serial,\n",
       "div.sk-item {\n",
       "  /* draw centered vertical line to link estimators */\n",
       "  background-image: linear-gradient(var(--sklearn-color-text-on-default-background), var(--sklearn-color-text-on-default-background));\n",
       "  background-size: 2px 100%;\n",
       "  background-repeat: no-repeat;\n",
       "  background-position: center center;\n",
       "}\n",
       "\n",
       "/* Parallel-specific style estimator block */\n",
       "\n",
       "#sk-container-id-1 div.sk-parallel-item::after {\n",
       "  content: \"\";\n",
       "  width: 100%;\n",
       "  border-bottom: 2px solid var(--sklearn-color-text-on-default-background);\n",
       "  flex-grow: 1;\n",
       "}\n",
       "\n",
       "#sk-container-id-1 div.sk-parallel {\n",
       "  display: flex;\n",
       "  align-items: stretch;\n",
       "  justify-content: center;\n",
       "  background-color: var(--sklearn-color-background);\n",
       "  position: relative;\n",
       "}\n",
       "\n",
       "#sk-container-id-1 div.sk-parallel-item {\n",
       "  display: flex;\n",
       "  flex-direction: column;\n",
       "}\n",
       "\n",
       "#sk-container-id-1 div.sk-parallel-item:first-child::after {\n",
       "  align-self: flex-end;\n",
       "  width: 50%;\n",
       "}\n",
       "\n",
       "#sk-container-id-1 div.sk-parallel-item:last-child::after {\n",
       "  align-self: flex-start;\n",
       "  width: 50%;\n",
       "}\n",
       "\n",
       "#sk-container-id-1 div.sk-parallel-item:only-child::after {\n",
       "  width: 0;\n",
       "}\n",
       "\n",
       "/* Serial-specific style estimator block */\n",
       "\n",
       "#sk-container-id-1 div.sk-serial {\n",
       "  display: flex;\n",
       "  flex-direction: column;\n",
       "  align-items: center;\n",
       "  background-color: var(--sklearn-color-background);\n",
       "  padding-right: 1em;\n",
       "  padding-left: 1em;\n",
       "}\n",
       "\n",
       "\n",
       "/* Toggleable style: style used for estimator/Pipeline/ColumnTransformer box that is\n",
       "clickable and can be expanded/collapsed.\n",
       "- Pipeline and ColumnTransformer use this feature and define the default style\n",
       "- Estimators will overwrite some part of the style using the `sk-estimator` class\n",
       "*/\n",
       "\n",
       "/* Pipeline and ColumnTransformer style (default) */\n",
       "\n",
       "#sk-container-id-1 div.sk-toggleable {\n",
       "  /* Default theme specific background. It is overwritten whether we have a\n",
       "  specific estimator or a Pipeline/ColumnTransformer */\n",
       "  background-color: var(--sklearn-color-background);\n",
       "}\n",
       "\n",
       "/* Toggleable label */\n",
       "#sk-container-id-1 label.sk-toggleable__label {\n",
       "  cursor: pointer;\n",
       "  display: block;\n",
       "  width: 100%;\n",
       "  margin-bottom: 0;\n",
       "  padding: 0.5em;\n",
       "  box-sizing: border-box;\n",
       "  text-align: center;\n",
       "}\n",
       "\n",
       "#sk-container-id-1 label.sk-toggleable__label-arrow:before {\n",
       "  /* Arrow on the left of the label */\n",
       "  content: \"▸\";\n",
       "  float: left;\n",
       "  margin-right: 0.25em;\n",
       "  color: var(--sklearn-color-icon);\n",
       "}\n",
       "\n",
       "#sk-container-id-1 label.sk-toggleable__label-arrow:hover:before {\n",
       "  color: var(--sklearn-color-text);\n",
       "}\n",
       "\n",
       "/* Toggleable content - dropdown */\n",
       "\n",
       "#sk-container-id-1 div.sk-toggleable__content {\n",
       "  max-height: 0;\n",
       "  max-width: 0;\n",
       "  overflow: hidden;\n",
       "  text-align: left;\n",
       "  /* unfitted */\n",
       "  background-color: var(--sklearn-color-unfitted-level-0);\n",
       "}\n",
       "\n",
       "#sk-container-id-1 div.sk-toggleable__content.fitted {\n",
       "  /* fitted */\n",
       "  background-color: var(--sklearn-color-fitted-level-0);\n",
       "}\n",
       "\n",
       "#sk-container-id-1 div.sk-toggleable__content pre {\n",
       "  margin: 0.2em;\n",
       "  border-radius: 0.25em;\n",
       "  color: var(--sklearn-color-text);\n",
       "  /* unfitted */\n",
       "  background-color: var(--sklearn-color-unfitted-level-0);\n",
       "}\n",
       "\n",
       "#sk-container-id-1 div.sk-toggleable__content.fitted pre {\n",
       "  /* unfitted */\n",
       "  background-color: var(--sklearn-color-fitted-level-0);\n",
       "}\n",
       "\n",
       "#sk-container-id-1 input.sk-toggleable__control:checked~div.sk-toggleable__content {\n",
       "  /* Expand drop-down */\n",
       "  max-height: 200px;\n",
       "  max-width: 100%;\n",
       "  overflow: auto;\n",
       "}\n",
       "\n",
       "#sk-container-id-1 input.sk-toggleable__control:checked~label.sk-toggleable__label-arrow:before {\n",
       "  content: \"▾\";\n",
       "}\n",
       "\n",
       "/* Pipeline/ColumnTransformer-specific style */\n",
       "\n",
       "#sk-container-id-1 div.sk-label input.sk-toggleable__control:checked~label.sk-toggleable__label {\n",
       "  color: var(--sklearn-color-text);\n",
       "  background-color: var(--sklearn-color-unfitted-level-2);\n",
       "}\n",
       "\n",
       "#sk-container-id-1 div.sk-label.fitted input.sk-toggleable__control:checked~label.sk-toggleable__label {\n",
       "  background-color: var(--sklearn-color-fitted-level-2);\n",
       "}\n",
       "\n",
       "/* Estimator-specific style */\n",
       "\n",
       "/* Colorize estimator box */\n",
       "#sk-container-id-1 div.sk-estimator input.sk-toggleable__control:checked~label.sk-toggleable__label {\n",
       "  /* unfitted */\n",
       "  background-color: var(--sklearn-color-unfitted-level-2);\n",
       "}\n",
       "\n",
       "#sk-container-id-1 div.sk-estimator.fitted input.sk-toggleable__control:checked~label.sk-toggleable__label {\n",
       "  /* fitted */\n",
       "  background-color: var(--sklearn-color-fitted-level-2);\n",
       "}\n",
       "\n",
       "#sk-container-id-1 div.sk-label label.sk-toggleable__label,\n",
       "#sk-container-id-1 div.sk-label label {\n",
       "  /* The background is the default theme color */\n",
       "  color: var(--sklearn-color-text-on-default-background);\n",
       "}\n",
       "\n",
       "/* On hover, darken the color of the background */\n",
       "#sk-container-id-1 div.sk-label:hover label.sk-toggleable__label {\n",
       "  color: var(--sklearn-color-text);\n",
       "  background-color: var(--sklearn-color-unfitted-level-2);\n",
       "}\n",
       "\n",
       "/* Label box, darken color on hover, fitted */\n",
       "#sk-container-id-1 div.sk-label.fitted:hover label.sk-toggleable__label.fitted {\n",
       "  color: var(--sklearn-color-text);\n",
       "  background-color: var(--sklearn-color-fitted-level-2);\n",
       "}\n",
       "\n",
       "/* Estimator label */\n",
       "\n",
       "#sk-container-id-1 div.sk-label label {\n",
       "  font-family: monospace;\n",
       "  font-weight: bold;\n",
       "  display: inline-block;\n",
       "  line-height: 1.2em;\n",
       "}\n",
       "\n",
       "#sk-container-id-1 div.sk-label-container {\n",
       "  text-align: center;\n",
       "}\n",
       "\n",
       "/* Estimator-specific */\n",
       "#sk-container-id-1 div.sk-estimator {\n",
       "  font-family: monospace;\n",
       "  border: 1px dotted var(--sklearn-color-border-box);\n",
       "  border-radius: 0.25em;\n",
       "  box-sizing: border-box;\n",
       "  margin-bottom: 0.5em;\n",
       "  /* unfitted */\n",
       "  background-color: var(--sklearn-color-unfitted-level-0);\n",
       "}\n",
       "\n",
       "#sk-container-id-1 div.sk-estimator.fitted {\n",
       "  /* fitted */\n",
       "  background-color: var(--sklearn-color-fitted-level-0);\n",
       "}\n",
       "\n",
       "/* on hover */\n",
       "#sk-container-id-1 div.sk-estimator:hover {\n",
       "  /* unfitted */\n",
       "  background-color: var(--sklearn-color-unfitted-level-2);\n",
       "}\n",
       "\n",
       "#sk-container-id-1 div.sk-estimator.fitted:hover {\n",
       "  /* fitted */\n",
       "  background-color: var(--sklearn-color-fitted-level-2);\n",
       "}\n",
       "\n",
       "/* Specification for estimator info (e.g. \"i\" and \"?\") */\n",
       "\n",
       "/* Common style for \"i\" and \"?\" */\n",
       "\n",
       ".sk-estimator-doc-link,\n",
       "a:link.sk-estimator-doc-link,\n",
       "a:visited.sk-estimator-doc-link {\n",
       "  float: right;\n",
       "  font-size: smaller;\n",
       "  line-height: 1em;\n",
       "  font-family: monospace;\n",
       "  background-color: var(--sklearn-color-background);\n",
       "  border-radius: 1em;\n",
       "  height: 1em;\n",
       "  width: 1em;\n",
       "  text-decoration: none !important;\n",
       "  margin-left: 1ex;\n",
       "  /* unfitted */\n",
       "  border: var(--sklearn-color-unfitted-level-1) 1pt solid;\n",
       "  color: var(--sklearn-color-unfitted-level-1);\n",
       "}\n",
       "\n",
       ".sk-estimator-doc-link.fitted,\n",
       "a:link.sk-estimator-doc-link.fitted,\n",
       "a:visited.sk-estimator-doc-link.fitted {\n",
       "  /* fitted */\n",
       "  border: var(--sklearn-color-fitted-level-1) 1pt solid;\n",
       "  color: var(--sklearn-color-fitted-level-1);\n",
       "}\n",
       "\n",
       "/* On hover */\n",
       "div.sk-estimator:hover .sk-estimator-doc-link:hover,\n",
       ".sk-estimator-doc-link:hover,\n",
       "div.sk-label-container:hover .sk-estimator-doc-link:hover,\n",
       ".sk-estimator-doc-link:hover {\n",
       "  /* unfitted */\n",
       "  background-color: var(--sklearn-color-unfitted-level-3);\n",
       "  color: var(--sklearn-color-background);\n",
       "  text-decoration: none;\n",
       "}\n",
       "\n",
       "div.sk-estimator.fitted:hover .sk-estimator-doc-link.fitted:hover,\n",
       ".sk-estimator-doc-link.fitted:hover,\n",
       "div.sk-label-container:hover .sk-estimator-doc-link.fitted:hover,\n",
       ".sk-estimator-doc-link.fitted:hover {\n",
       "  /* fitted */\n",
       "  background-color: var(--sklearn-color-fitted-level-3);\n",
       "  color: var(--sklearn-color-background);\n",
       "  text-decoration: none;\n",
       "}\n",
       "\n",
       "/* Span, style for the box shown on hovering the info icon */\n",
       ".sk-estimator-doc-link span {\n",
       "  display: none;\n",
       "  z-index: 9999;\n",
       "  position: relative;\n",
       "  font-weight: normal;\n",
       "  right: .2ex;\n",
       "  padding: .5ex;\n",
       "  margin: .5ex;\n",
       "  width: min-content;\n",
       "  min-width: 20ex;\n",
       "  max-width: 50ex;\n",
       "  color: var(--sklearn-color-text);\n",
       "  box-shadow: 2pt 2pt 4pt #999;\n",
       "  /* unfitted */\n",
       "  background: var(--sklearn-color-unfitted-level-0);\n",
       "  border: .5pt solid var(--sklearn-color-unfitted-level-3);\n",
       "}\n",
       "\n",
       ".sk-estimator-doc-link.fitted span {\n",
       "  /* fitted */\n",
       "  background: var(--sklearn-color-fitted-level-0);\n",
       "  border: var(--sklearn-color-fitted-level-3);\n",
       "}\n",
       "\n",
       ".sk-estimator-doc-link:hover span {\n",
       "  display: block;\n",
       "}\n",
       "\n",
       "/* \"?\"-specific style due to the `<a>` HTML tag */\n",
       "\n",
       "#sk-container-id-1 a.estimator_doc_link {\n",
       "  float: right;\n",
       "  font-size: 1rem;\n",
       "  line-height: 1em;\n",
       "  font-family: monospace;\n",
       "  background-color: var(--sklearn-color-background);\n",
       "  border-radius: 1rem;\n",
       "  height: 1rem;\n",
       "  width: 1rem;\n",
       "  text-decoration: none;\n",
       "  /* unfitted */\n",
       "  color: var(--sklearn-color-unfitted-level-1);\n",
       "  border: var(--sklearn-color-unfitted-level-1) 1pt solid;\n",
       "}\n",
       "\n",
       "#sk-container-id-1 a.estimator_doc_link.fitted {\n",
       "  /* fitted */\n",
       "  border: var(--sklearn-color-fitted-level-1) 1pt solid;\n",
       "  color: var(--sklearn-color-fitted-level-1);\n",
       "}\n",
       "\n",
       "/* On hover */\n",
       "#sk-container-id-1 a.estimator_doc_link:hover {\n",
       "  /* unfitted */\n",
       "  background-color: var(--sklearn-color-unfitted-level-3);\n",
       "  color: var(--sklearn-color-background);\n",
       "  text-decoration: none;\n",
       "}\n",
       "\n",
       "#sk-container-id-1 a.estimator_doc_link.fitted:hover {\n",
       "  /* fitted */\n",
       "  background-color: var(--sklearn-color-fitted-level-3);\n",
       "}\n",
       "</style><div id=\"sk-container-id-1\" class=\"sk-top-container\"><div class=\"sk-text-repr-fallback\"><pre>CategoricalNB()</pre><b>In a Jupyter environment, please rerun this cell to show the HTML representation or trust the notebook. <br />On GitHub, the HTML representation is unable to render, please try loading this page with nbviewer.org.</b></div><div class=\"sk-container\" hidden><div class=\"sk-item\"><div class=\"sk-estimator fitted sk-toggleable\"><input class=\"sk-toggleable__control sk-hidden--visually\" id=\"sk-estimator-id-1\" type=\"checkbox\" checked><label for=\"sk-estimator-id-1\" class=\"sk-toggleable__label fitted sk-toggleable__label-arrow fitted\">&nbsp;&nbsp;CategoricalNB<a class=\"sk-estimator-doc-link fitted\" rel=\"noreferrer\" target=\"_blank\" href=\"https://scikit-learn.org/1.5/modules/generated/sklearn.naive_bayes.CategoricalNB.html\">?<span>Documentation for CategoricalNB</span></a><span class=\"sk-estimator-doc-link fitted\">i<span>Fitted</span></span></label><div class=\"sk-toggleable__content fitted\"><pre>CategoricalNB()</pre></div> </div></div></div></div>"
      ],
      "text/plain": [
       "CategoricalNB()"
      ]
     },
     "execution_count": 19,
     "metadata": {},
     "output_type": "execute_result"
    }
   ],
   "source": [
    "# Memasukkan data training pada fungsi klasifikasi Naive Bayes\n",
    "modelnb.fit(X_train, y_train)"
   ]
  },
  {
   "cell_type": "markdown",
   "metadata": {
    "id": "LnROgwPvv_zI"
   },
   "source": [
    "Langkah selanjutnya yang akan kita lakukan adalah menentukan hasil prediksi dari x_test."
   ]
  },
  {
   "cell_type": "code",
   "execution_count": null,
   "metadata": {
    "colab": {
     "base_uri": "https://localhost:8080/"
    },
    "id": "nd4qxIvXwAOh",
    "outputId": "faf0b975-e667-40fc-e7a9-262ef86197ba"
   },
   "outputs": [
    {
     "name": "stdout",
     "output_type": "stream",
     "text": [
      "Hasil prediksi: [0 1 1 1 1 1 0 0 0 1 1 1 0 1 1]\n"
     ]
    }
   ],
   "source": [
    "# Prediksi data test\n",
    "\n",
    "y_pred = modelnb.predict(X_test)\n",
    "print(\"Hasil prediksi:\", y_pred)"
   ]
  },
  {
   "cell_type": "markdown",
   "metadata": {
    "id": "kYnO5tRCwGLm"
   },
   "source": [
    "Output kode program y_pred adalah hasil prediksi operasi caesar. Kemudian, hasil tersebut akan kita bandingkan dengan data aktualnya, yaitu y_test dengan menggunakan kode program berikut ini."
   ]
  },
  {
   "cell_type": "code",
   "execution_count": null,
   "metadata": {
    "colab": {
     "base_uri": "https://localhost:8080/"
    },
    "id": "yQ0S2RdQwEaB",
    "outputId": "213d9641-b510-40e1-c2a5-e1f2cedeafa8"
   },
   "outputs": [
    {
     "name": "stdout",
     "output_type": "stream",
     "text": [
      "Actual: [1 1 1 0 0 1 0 0 0 1 1 1 1 1 0]\n"
     ]
    }
   ],
   "source": [
    "# Array data test\n",
    "print(\"Actual:\", np.array(y_test))"
   ]
  },
  {
   "cell_type": "markdown",
   "metadata": {
    "id": "3Gs-KZ7ewkTR"
   },
   "source": [
    "### *Classification Report*"
   ]
  },
  {
   "cell_type": "markdown",
   "metadata": {
    "id": "T6lfBLiqwvnx"
   },
   "source": [
    "Setelah model dilatih dan diuji, kita perlu mengevaluasi performanya. Beberapa metrik yang digunakan adalah **accuracy**, **precision**, **recall**, dan **f1-score**. Selain itu, kita juga akan menampilkan confusion matrix untuk melihat ketepatan prediksi secara detail."
   ]
  },
  {
   "cell_type": "code",
   "execution_count": null,
   "metadata": {
    "id": "jPRJrFG6wwVH"
   },
   "outputs": [],
   "source": [
    "from sklearn.metrics import precision_score, recall_score, classification_report, accuracy_score, f1_score\n",
    "\n",
    "def evaluate_classifier_performance(prediction, y_test):\n",
    "\n",
    "    # Informasi evaluasi secara compact\n",
    "    print(\"Hasil Evaluasi berdasarkan classification report:\\n\")\n",
    "    print(classification_report(y_test, prediction, zero_division=0))\n",
    "    print()\n",
    "\n",
    "    # Confusion Matrix\n",
    "    print(\"Confusion Matrix:\")\n",
    "    y_actual = pd.Series(np.array(y_test), name=\"actual\")\n",
    "    y_pred = pd.Series(np.array(prediction), name=\"prediction\")\n",
    "    df_confusion = pd.crosstab(y_actual, y_pred)\n",
    "    display(df_confusion)\n",
    "    print()\n",
    "\n",
    "    # Informasi lengkap\n",
    "    print(\"Butuh informasi lebih lengkap? Silakan simak di bawah ini:\")\n",
    "    print('Accuracy:', accuracy_score(y_test, prediction))\n",
    "    print('F1 Macro Average:', f1_score(y_test, prediction, average='macro'))\n",
    "    print('F1 Micro Average:', f1_score(y_test, prediction, average='micro'))\n",
    "    print('Precision Macro Average:', precision_score(y_test, prediction, average='macro', zero_division=0))\n",
    "    print('Precision Micro Average:', precision_score(y_test, prediction, average='micro', zero_division=0))\n",
    "    print('Recall Macro Average:', recall_score(y_test, prediction, average='macro', zero_division=0))\n",
    "    print('Recall Micro Average:', recall_score(y_test, prediction, average='micro', zero_division=0))"
   ]
  },
  {
   "cell_type": "code",
   "execution_count": null,
   "metadata": {
    "colab": {
     "base_uri": "https://localhost:8080/",
     "height": 525
    },
    "id": "qajTQRxDw4be",
    "outputId": "89a6623b-45e6-418c-87b9-f52f129e5379"
   },
   "outputs": [
    {
     "name": "stdout",
     "output_type": "stream",
     "text": [
      "Hasil Evaluasi berdasarkan classification report:\n",
      "\n",
      "              precision    recall  f1-score   support\n",
      "\n",
      "           0       0.60      0.50      0.55         6\n",
      "           1       0.70      0.78      0.74         9\n",
      "\n",
      "    accuracy                           0.67        15\n",
      "   macro avg       0.65      0.64      0.64        15\n",
      "weighted avg       0.66      0.67      0.66        15\n",
      "\n",
      "\n",
      "Confusion Matrix:\n"
     ]
    },
    {
     "data": {
      "text/html": [
       "<div>\n",
       "<style scoped>\n",
       "    .dataframe tbody tr th:only-of-type {\n",
       "        vertical-align: middle;\n",
       "    }\n",
       "\n",
       "    .dataframe tbody tr th {\n",
       "        vertical-align: top;\n",
       "    }\n",
       "\n",
       "    .dataframe thead th {\n",
       "        text-align: right;\n",
       "    }\n",
       "</style>\n",
       "<table border=\"1\" class=\"dataframe\">\n",
       "  <thead>\n",
       "    <tr style=\"text-align: right;\">\n",
       "      <th>prediction</th>\n",
       "      <th>0</th>\n",
       "      <th>1</th>\n",
       "    </tr>\n",
       "    <tr>\n",
       "      <th>actual</th>\n",
       "      <th></th>\n",
       "      <th></th>\n",
       "    </tr>\n",
       "  </thead>\n",
       "  <tbody>\n",
       "    <tr>\n",
       "      <th>0</th>\n",
       "      <td>3</td>\n",
       "      <td>3</td>\n",
       "    </tr>\n",
       "    <tr>\n",
       "      <th>1</th>\n",
       "      <td>2</td>\n",
       "      <td>7</td>\n",
       "    </tr>\n",
       "  </tbody>\n",
       "</table>\n",
       "</div>"
      ],
      "text/plain": [
       "prediction  0  1\n",
       "actual          \n",
       "0           3  3\n",
       "1           2  7"
      ]
     },
     "metadata": {},
     "output_type": "display_data"
    },
    {
     "name": "stdout",
     "output_type": "stream",
     "text": [
      "\n",
      "Butuh informasi lebih lengkap? Silakan simak di bawah ini:\n",
      "Accuracy: 0.6666666666666666\n",
      "F1 Macro Average: 0.6411483253588517\n",
      "F1 Micro Average: 0.6666666666666666\n",
      "Precision Macro Average: 0.6499999999999999\n",
      "Precision Micro Average: 0.6666666666666666\n",
      "Recall Macro Average: 0.6388888888888888\n",
      "Recall Micro Average: 0.6666666666666666\n"
     ]
    }
   ],
   "source": [
    "evaluate_classifier_performance(y_pred, y_test)"
   ]
  },
  {
   "cell_type": "markdown",
   "metadata": {
    "id": "E4OHD7vXxZFq"
   },
   "source": [
    "Berdasarkan hasil evaluasi, performa model tidak terlalu baik. Hal ini terlihat dari nilai **accuracy** dan metrik lainnya yang rendah. Beberapa kemungkinan penyebabnya adalah:\n",
    "1. Dataset yang Tidak Seimbang<br>\n",
    "Perbandingan jumlah tiap kelas dalam dataset tidak seimbang, menyebabkan model cenderung bias terhadap kelas yang lebih dominan.\n",
    "2. Pemilihan Algoritma yang Kurang Sesuai <br>\n",
    "Algoritma Naive Bayes mungkin tidak cocok untuk karakteristik data yang dimiliki. Beberapa algoritma hanya bekerja optimal pada distribusi data tertentu."
   ]
  },
  {
   "cell_type": "markdown",
   "metadata": {
    "id": "QrbmkeeMFqGs"
   },
   "source": [
    "### <b>Pendekatan Lain</b>\n",
    "Pendekatan yang lebih kompleks dalam menerapkan Naive Bayes adalah dengan memisahkan fitur numerik dan kategorik, lalu melatih dua model Naive Bayes yang berbeda sesuai dengan jenis datanya. Gaussian Naive Bayes untuk fitur numerik dan Categorical Naive Bayes untuk fitur kategorik. Setelah kedua model dilatih, hasil prediksi probabilitasnya dapat digabungkan dengan mengalikan nilai probabilitas dari masing-masing model, dengan asumsi bahwa fitur-fitur tersebut bersifat independen. Strategi ini memungkinkan pemrosesan data yang lebih sesuai dengan karakteristiknya masing-masing sehingga mahasiswa dapat bereksperimen dan mengevaluasi efektivitas pendekatan ini dalam meningkatkan performa klasifikasi."
   ]
  },
  {
   "cell_type": "markdown",
   "metadata": {
    "id": "TzsE3uYi9itf"
   },
   "source": [
    "# **KNN (K-Nearest Neighbor)**\n",
    "---"
   ]
  },
  {
   "cell_type": "markdown",
   "metadata": {
    "id": "1rSeQIKS9qov"
   },
   "source": [
    "## A. Pengenalan KNN"
   ]
  },
  {
   "cell_type": "markdown",
   "metadata": {
    "id": "XS3nJwT8xjJH"
   },
   "source": [
    "Sesuai dengan namanya (*nearest neighbors*), algoritma KNN mengklasifikasikan suatu data baru dengan melihat kedekatan data tersebut terhadap data lama yang telah ada. Contohnya, jika Anda memiliki dataset yang berisi informasi rumah dengan label **rumah mewah** dan **rumah tidak mewah**, KNN akan menyimpan informasi mengenai kemiripan fitur-fitur seperti luas rumah dan harga rumah. Ketika data rumah baru dimasukkan, KNN akan mengecek kesamaan fitur-fitur tersebut terhadap data lama yang telah dipelajari. Hasil pengecekan ini akan digunakan untuk menentukan klasifikasi rumah baru tersebut."
   ]
  },
  {
   "cell_type": "markdown",
   "metadata": {
    "id": "a5UL7A-V-DQf"
   },
   "source": [
    "## B. Pengenalan KNN Dalam Scikit-learn"
   ]
  },
  {
   "cell_type": "markdown",
   "metadata": {
    "id": "waqcBQqJUa58"
   },
   "source": [
    "Pada library `scikit-learn`, terdapat beberapa parameter penting yang perlu diperhatikan saat mengimplementasikan algoritma KNN. Berikut adalah rangkuman singkatnya:\n",
    "\n",
    "* `n_neighbors`  \n",
    "\t* Merepresentasikan jumlah **K** (tetangga terdekat) yang digunakan untuk menentukan klasifikasi. Nilai *default*: 5.\n",
    "* `algorithm`  \n",
    "\t* Merepresentasikan algoritma yang digunakan untuk mencari tetangga terdekat.\n",
    "\t* Pilihan algoritma: `auto` (*default*), `ball_tree`, `kd_tree`, dan `brute`.\n",
    "* `p`  \n",
    "\t* Merepresentasikan parameter untuk rumus jarak Minkowski.\n",
    "\t* Jika `p=1`, rumus jarak yang digunakan adalah Manhattan Distance.\n",
    "\t* Jika `p=2`, rumus jarak yang digunakan adalah Euclidean Distance (*default*).\n",
    "* `metric`  \n",
    "\t* Merepresentasikan rumus jarak yang digunakan untuk menghitung kedekatan antara data point. Nilai *default*: `minkowski`.\n",
    "\t* Beberapa opsi rumus jarak yang tersedia: `euclidean`, `manhattan`, `cosine`, `jaccard`, `hamming`, dll.\n",
    "\t* Dokumentasi mengenai rumus jarak yang dapat digunakan dapat diakses di [sini](https://scikit-learn.org/stable/modules/generated/sklearn.metrics.pairwise.distance_metrics.html#sklearn.metrics.pairwise.distance_metrics).\n",
    "\n",
    "> Referensi: https://scikit-learn.org/stable/modules/generated/sklearn.neighbors.KNeighborsClassifier.html"
   ]
  },
  {
   "cell_type": "markdown",
   "metadata": {
    "id": "BIkNncQQFqGt"
   },
   "source": [
    "Kita perlu memperhatikan rumus jarak yang digunakan dan juga jumlah K yang optimal. Strategi yang dapat diterapkan untuk mencari nilai K yang optimal adalah dengan **cross-validation**. Sedangkan untuk metric beserta parameternya bisa dipilih berdasarkan sifat data. Jika semua data numerik, kita bisa memilih untuk menggunakan **Euclidean** atau **Manhattan** distance. Jika semua data kategorikal, kita bisa menggunakan **Jaccard** distance.\n",
    "\n",
    "Permasalahan yang sering ditemukan saat mengimplementasikan KNN adalah ketika variabel independen terdiri dari data **kategorikal** dan **numerik**. Banyak praktisi yang meyakini untuk menggunakan algoritma lain jika menemui masalah tersebut, seperti menggunakan algoritma **decision tree**, **random forest**, **neural network**, **deep learning**, dan lain-lain."
   ]
  },
  {
   "cell_type": "markdown",
   "metadata": {
    "id": "CtI024qKFqGt"
   },
   "source": [
    "## C. *Hands-on* KNN"
   ]
  },
  {
   "cell_type": "markdown",
   "metadata": {
    "id": "VqW7B9pvFqGt"
   },
   "source": [
    "Selanjutnya, kita akan mencoba mengimplementasikan KNN untuk mengklasifikasikan jenis kaca yang harus digunakan berdasarkan dataset `glass_classification.csv` yang diambil dari [Glass Identification Data Set](https://www.kaggle.com/datasets/danushkumarv/glass-identification-data-set) dengan beberapa modifikasi."
   ]
  },
  {
   "cell_type": "markdown",
   "metadata": {
    "id": "bYVaePrHFqGt"
   },
   "source": [
    "Berikut adalah informasi dari dataset di atas:\n",
    "- `RI`: Refractive Index\n",
    "- `Na`: Sodium (unit measurement: weight percent in the corresponding oxide, as are attributes 4-10)\n",
    "- `Mg`: Magnesium\n",
    "- `Al`: Aluminum\n",
    "- `Si`: Silicon\n",
    "- `K`: Potassium\n",
    "- `Ca`: Calcium\n",
    "- `Ba`: Barium\n",
    "- `Fe`: Iron\n",
    "- `type`: Type of glass\n"
   ]
  },
  {
   "cell_type": "markdown",
   "metadata": {
    "id": "7VI9EI7DFqGt"
   },
   "source": [
    "### *Import Dataset*"
   ]
  },
  {
   "cell_type": "code",
   "execution_count": null,
   "metadata": {
    "id": "TGYyekVcFqGt",
    "outputId": "23a8ce05-678d-4909-e293-e4580b2db028"
   },
   "outputs": [
    {
     "data": {
      "text/html": [
       "<div>\n",
       "<style scoped>\n",
       "    .dataframe tbody tr th:only-of-type {\n",
       "        vertical-align: middle;\n",
       "    }\n",
       "\n",
       "    .dataframe tbody tr th {\n",
       "        vertical-align: top;\n",
       "    }\n",
       "\n",
       "    .dataframe thead th {\n",
       "        text-align: right;\n",
       "    }\n",
       "</style>\n",
       "<table border=\"1\" class=\"dataframe\">\n",
       "  <thead>\n",
       "    <tr style=\"text-align: right;\">\n",
       "      <th></th>\n",
       "      <th>RI</th>\n",
       "      <th>Na</th>\n",
       "      <th>Mg</th>\n",
       "      <th>Al</th>\n",
       "      <th>Si</th>\n",
       "      <th>K</th>\n",
       "      <th>Ca</th>\n",
       "      <th>Ba</th>\n",
       "      <th>Fe</th>\n",
       "      <th>type</th>\n",
       "    </tr>\n",
       "  </thead>\n",
       "  <tbody>\n",
       "    <tr>\n",
       "      <th>0</th>\n",
       "      <td>1.52101</td>\n",
       "      <td>13.64</td>\n",
       "      <td>4.49</td>\n",
       "      <td>1.10</td>\n",
       "      <td>71.78</td>\n",
       "      <td>0.06</td>\n",
       "      <td>8.75</td>\n",
       "      <td>0.0</td>\n",
       "      <td>0.0</td>\n",
       "      <td>1</td>\n",
       "    </tr>\n",
       "    <tr>\n",
       "      <th>1</th>\n",
       "      <td>1.51761</td>\n",
       "      <td>13.89</td>\n",
       "      <td>3.60</td>\n",
       "      <td>1.36</td>\n",
       "      <td>72.73</td>\n",
       "      <td>0.48</td>\n",
       "      <td>7.83</td>\n",
       "      <td>0.0</td>\n",
       "      <td>0.0</td>\n",
       "      <td>1</td>\n",
       "    </tr>\n",
       "    <tr>\n",
       "      <th>2</th>\n",
       "      <td>1.51618</td>\n",
       "      <td>13.53</td>\n",
       "      <td>3.55</td>\n",
       "      <td>1.54</td>\n",
       "      <td>72.99</td>\n",
       "      <td>0.39</td>\n",
       "      <td>7.78</td>\n",
       "      <td>0.0</td>\n",
       "      <td>0.0</td>\n",
       "      <td>1</td>\n",
       "    </tr>\n",
       "    <tr>\n",
       "      <th>3</th>\n",
       "      <td>1.51766</td>\n",
       "      <td>13.21</td>\n",
       "      <td>3.69</td>\n",
       "      <td>1.29</td>\n",
       "      <td>72.61</td>\n",
       "      <td>0.57</td>\n",
       "      <td>8.22</td>\n",
       "      <td>0.0</td>\n",
       "      <td>0.0</td>\n",
       "      <td>1</td>\n",
       "    </tr>\n",
       "    <tr>\n",
       "      <th>4</th>\n",
       "      <td>1.51742</td>\n",
       "      <td>13.27</td>\n",
       "      <td>3.62</td>\n",
       "      <td>1.24</td>\n",
       "      <td>73.08</td>\n",
       "      <td>0.55</td>\n",
       "      <td>8.07</td>\n",
       "      <td>0.0</td>\n",
       "      <td>0.0</td>\n",
       "      <td>1</td>\n",
       "    </tr>\n",
       "  </tbody>\n",
       "</table>\n",
       "</div>"
      ],
      "text/plain": [
       "        RI     Na    Mg    Al     Si     K    Ca   Ba   Fe  type\n",
       "0  1.52101  13.64  4.49  1.10  71.78  0.06  8.75  0.0  0.0     1\n",
       "1  1.51761  13.89  3.60  1.36  72.73  0.48  7.83  0.0  0.0     1\n",
       "2  1.51618  13.53  3.55  1.54  72.99  0.39  7.78  0.0  0.0     1\n",
       "3  1.51766  13.21  3.69  1.29  72.61  0.57  8.22  0.0  0.0     1\n",
       "4  1.51742  13.27  3.62  1.24  73.08  0.55  8.07  0.0  0.0     1"
      ]
     },
     "execution_count": 24,
     "metadata": {},
     "output_type": "execute_result"
    }
   ],
   "source": [
    "glass = pd.read_csv(\"glass_classification.csv\").drop(\"Id\", axis=1)\n",
    "# glass = pd.read_csv(\"https://drive.google.com/uc?export=download&id=1OrumHSve0SHbb_XW-8slp12BT9U9jPMu\").drop(\"Id\", axis=1)\n",
    "glass.head()"
   ]
  },
  {
   "cell_type": "code",
   "execution_count": null,
   "metadata": {
    "id": "YrVdMro7FqGt",
    "outputId": "9b40aad1-1dde-4a39-c0d1-73163a30d128"
   },
   "outputs": [
    {
     "name": "stdout",
     "output_type": "stream",
     "text": [
      "----Informasi Baris dan Kolom----\n",
      "Baris :  214\n",
      "Kolom :  10\n"
     ]
    }
   ],
   "source": [
    "print(\"----Informasi Baris dan Kolom----\")\n",
    "print(\"Baris : \", glass.shape[0])\n",
    "print(\"Kolom : \", glass.shape[1])"
   ]
  },
  {
   "cell_type": "markdown",
   "metadata": {
    "id": "0qXFEYEuFqGt"
   },
   "source": [
    "### *Preprocessing*"
   ]
  },
  {
   "cell_type": "code",
   "execution_count": null,
   "metadata": {
    "id": "QbvtrG_OFqGt",
    "outputId": "b0a4b111-02e3-4664-d169-ef8d7db78fe3"
   },
   "outputs": [
    {
     "name": "stdout",
     "output_type": "stream",
     "text": [
      "Tidak ditemukan missing value pada dataset\n"
     ]
    }
   ],
   "source": [
    "cek_null(glass)"
   ]
  },
  {
   "cell_type": "code",
   "execution_count": null,
   "metadata": {
    "id": "QznpJuZyFqGt",
    "outputId": "7eae9331-df3b-44e8-c6f0-e54a85fdbb1e"
   },
   "outputs": [
    {
     "name": "stdout",
     "output_type": "stream",
     "text": [
      "Jumlah duplikasi data: 1\n"
     ]
    }
   ],
   "source": [
    "# mengecek jumlah duplikasi pada data\n",
    "print(\"Jumlah duplikasi data: \" + str(glass.duplicated().sum()))"
   ]
  },
  {
   "cell_type": "code",
   "execution_count": null,
   "metadata": {
    "id": "7CEpGlm5FqGt",
    "outputId": "cb3292ba-c0d8-444a-8894-35faa4031f7e"
   },
   "outputs": [
    {
     "name": "stdout",
     "output_type": "stream",
     "text": [
      "Jumlah duplikasi data: 0\n"
     ]
    }
   ],
   "source": [
    "glass.drop_duplicates(inplace=True)\n",
    "print(\"Jumlah duplikasi data: \" + str(glass.duplicated().sum()))"
   ]
  },
  {
   "cell_type": "code",
   "execution_count": null,
   "metadata": {
    "id": "NOpyoreYFqGt",
    "outputId": "a79ed03a-48a8-4495-90e4-d6534a6bc188"
   },
   "outputs": [
    {
     "data": {
      "image/png": "[encoded data removed]",
      "text/plain": [
       "<Figure size 2000x2000 with 10 Axes>"
      ]
     },
     "metadata": {},
     "output_type": "display_data"
    }
   ],
   "source": [
    "# mengecek keberadaan outlier\n",
    "\n",
    "# Outliers\n",
    "plt.figure(figsize=(20, 20))\n",
    "numerical_columns = glass.select_dtypes(include=['float64', 'int64']).columns\n",
    "for i, column in enumerate(numerical_columns, 1):\n",
    "\tplt.subplot(len(numerical_columns), 1, i)\n",
    "\tglass.boxplot(column=column, vert=False)\n",
    "\tplt.title(column)\n",
    "plt.tight_layout()\n",
    "plt.show()"
   ]
  },
  {
   "cell_type": "markdown",
   "metadata": {
    "id": "yG-T8-bdFqGt"
   },
   "source": [
    "Pada boxplot di atas, terlihat bahwa jumlah outlier tidak terlalu banyak. Data juga cenderung normal, sehingga tidak perlu penanganan lebih lanjut terhadap outlier."
   ]
  },
  {
   "cell_type": "code",
   "execution_count": null,
   "metadata": {
    "id": "JTw6P53FFqGt"
   },
   "outputs": [],
   "source": [
    "def check_outlier(df):\n",
    "    Q1 = df.quantile(0.25)\n",
    "    Q3 = df.quantile(0.75)\n",
    "\n",
    "    # Menghitung RUB dan RLB.\n",
    "    IQR = Q3 - Q1\n",
    "    lower_limit = Q1 - 1.5 * IQR\n",
    "    upper_limit = Q3 + 1.5 * IQR\n",
    "\n",
    "    # Menampilkan banyaknya outlier pada atribut.\n",
    "    outliers = (df < lower_limit) | (df > upper_limit)\n",
    "    print (\"Outlier pada tiap atribut:\")\n",
    "    print(outliers.sum())\n",
    "\n",
    "    return outliers"
   ]
  },
  {
   "cell_type": "code",
   "execution_count": null,
   "metadata": {
    "id": "MPbucBdQFqGt",
    "outputId": "80742077-89ef-48a0-ec13-628269edd3fc"
   },
   "outputs": [
    {
     "name": "stdout",
     "output_type": "stream",
     "text": [
      "Outlier pada tiap atribut:\n",
      "RI      17\n",
      "Na       7\n",
      "Mg       0\n",
      "Al      17\n",
      "Si      12\n",
      "K        7\n",
      "Ca      27\n",
      "Ba      38\n",
      "Fe      12\n",
      "type    29\n",
      "dtype: int64\n"
     ]
    }
   ],
   "source": [
    "outliers = dict(check_outlier(glass).sum())"
   ]
  },
  {
   "cell_type": "markdown",
   "metadata": {
    "id": "K5wrps9cFqGu"
   },
   "source": [
    "Untuk kemudahan implementasi kita berasumsi bahwa *acceptance threshold* untuk outlier yang kita maklumi adalah 17 sehingga kita akan membuang kolom dengan jumlah outlier >= 17"
   ]
  },
  {
   "cell_type": "code",
   "execution_count": null,
   "metadata": {
    "id": "edNNKOgTFqGu",
    "outputId": "fd3bbcb6-fcf2-461f-86e8-d82cc13e66d1"
   },
   "outputs": [
    {
     "data": {
      "text/plain": [
       "['RI', 'Al', 'Ca', 'Ba']"
      ]
     },
     "execution_count": 32,
     "metadata": {},
     "output_type": "execute_result"
    }
   ],
   "source": [
    "drop_col = [key for key, val in outliers.items() if val >= 17]\n",
    "drop_col.remove('type')\n",
    "drop_col"
   ]
  },
  {
   "cell_type": "code",
   "execution_count": null,
   "metadata": {
    "id": "y4zMFTYFFqGu",
    "outputId": "02c9df6f-5fdd-4d15-a832-6f45a6723010"
   },
   "outputs": [
    {
     "data": {
      "text/html": [
       "<div>\n",
       "<style scoped>\n",
       "    .dataframe tbody tr th:only-of-type {\n",
       "        vertical-align: middle;\n",
       "    }\n",
       "\n",
       "    .dataframe tbody tr th {\n",
       "        vertical-align: top;\n",
       "    }\n",
       "\n",
       "    .dataframe thead th {\n",
       "        text-align: right;\n",
       "    }\n",
       "</style>\n",
       "<table border=\"1\" class=\"dataframe\">\n",
       "  <thead>\n",
       "    <tr style=\"text-align: right;\">\n",
       "      <th></th>\n",
       "      <th>Na</th>\n",
       "      <th>Mg</th>\n",
       "      <th>Si</th>\n",
       "      <th>K</th>\n",
       "      <th>Fe</th>\n",
       "      <th>type</th>\n",
       "    </tr>\n",
       "  </thead>\n",
       "  <tbody>\n",
       "    <tr>\n",
       "      <th>0</th>\n",
       "      <td>13.64</td>\n",
       "      <td>4.49</td>\n",
       "      <td>71.78</td>\n",
       "      <td>0.06</td>\n",
       "      <td>0.0</td>\n",
       "      <td>1</td>\n",
       "    </tr>\n",
       "    <tr>\n",
       "      <th>1</th>\n",
       "      <td>13.89</td>\n",
       "      <td>3.60</td>\n",
       "      <td>72.73</td>\n",
       "      <td>0.48</td>\n",
       "      <td>0.0</td>\n",
       "      <td>1</td>\n",
       "    </tr>\n",
       "    <tr>\n",
       "      <th>2</th>\n",
       "      <td>13.53</td>\n",
       "      <td>3.55</td>\n",
       "      <td>72.99</td>\n",
       "      <td>0.39</td>\n",
       "      <td>0.0</td>\n",
       "      <td>1</td>\n",
       "    </tr>\n",
       "    <tr>\n",
       "      <th>3</th>\n",
       "      <td>13.21</td>\n",
       "      <td>3.69</td>\n",
       "      <td>72.61</td>\n",
       "      <td>0.57</td>\n",
       "      <td>0.0</td>\n",
       "      <td>1</td>\n",
       "    </tr>\n",
       "    <tr>\n",
       "      <th>4</th>\n",
       "      <td>13.27</td>\n",
       "      <td>3.62</td>\n",
       "      <td>73.08</td>\n",
       "      <td>0.55</td>\n",
       "      <td>0.0</td>\n",
       "      <td>1</td>\n",
       "    </tr>\n",
       "  </tbody>\n",
       "</table>\n",
       "</div>"
      ],
      "text/plain": [
       "      Na    Mg     Si     K   Fe  type\n",
       "0  13.64  4.49  71.78  0.06  0.0     1\n",
       "1  13.89  3.60  72.73  0.48  0.0     1\n",
       "2  13.53  3.55  72.99  0.39  0.0     1\n",
       "3  13.21  3.69  72.61  0.57  0.0     1\n",
       "4  13.27  3.62  73.08  0.55  0.0     1"
      ]
     },
     "execution_count": 33,
     "metadata": {},
     "output_type": "execute_result"
    }
   ],
   "source": [
    "glass = glass.drop(columns=drop_col)\n",
    "glass.head()"
   ]
  },
  {
   "cell_type": "code",
   "execution_count": null,
   "metadata": {
    "id": "4Bw5dQK0FqGu",
    "outputId": "0b7112bc-905f-4162-d8c4-5d9321dc81be"
   },
   "outputs": [
    {
     "data": {
      "image/png": "[encoded data removed]",
      "text/plain": [
       "<Figure size 1313.62x1250 with 30 Axes>"
      ]
     },
     "metadata": {},
     "output_type": "display_data"
    }
   ],
   "source": [
    "sns.set()\n",
    "sns.pairplot(glass, hue ='type')\n",
    "plt.show()"
   ]
  },
  {
   "cell_type": "markdown",
   "metadata": {
    "id": "9KUBgnPYFqGu"
   },
   "source": [
    "Berdasarkan plot diatas, terlihat bahwa distribusi nilai pada semua jenis obat hampir mendekati normal. Walaupun ada beberapa yang terlihat seperti bimodal, masih tetap bisa ditoleransi."
   ]
  },
  {
   "cell_type": "markdown",
   "metadata": {
    "id": "ReATQHAEFqGu"
   },
   "source": [
    "### Menentukan *Independent Variable* dan *Dependent Variable*"
   ]
  },
  {
   "cell_type": "markdown",
   "metadata": {
    "id": "qMmw6pkAFqGu"
   },
   "source": [
    "Dalam kasus ini, target prediksi kita adalah **type**, sehingga variabel **type** akan menjadi variabel dependen (target), sedangkan variabel lainnya akan menjadi variabel independen (fitur). Sebelum menentukan fitur yang akan digunakan dalam model, kita perlu melakukan ***feature selection*** untuk memilih variabel-variabel terbaik yang paling berpengaruh terhadap target.\n",
    "\n",
    "> Dalam tahap ini, kita belum membahas secara mendalam mengenai feature selection atau feature engineering. Sementara itu, mahasiswa dapat mengikuti langkah-langkah yang diberikan pada lab\n",
    "\n",
    "Karena data fitur kita bersifat numerik atau kontinu, dan data target kita kategorik, maka kita akan memilih strategi **ANOVA** atau *analysis of variance* dalam melakukan feature selection. Berikut adalah contohnya.\n",
    "\n",
    "> Referensi: <br>\n",
    "> https://scikit-learn.org/stable/modules/generated/sklearn.feature_selection.SelectKBest.html#sklearn.feature_selection.SelectKBest"
   ]
  },
  {
   "cell_type": "code",
   "execution_count": null,
   "metadata": {
    "id": "RUkZzlabFqGu"
   },
   "outputs": [],
   "source": [
    "X_raw = glass.drop([\"type\"],axis=1)\n",
    "y = glass[\"type\"]"
   ]
  },
  {
   "cell_type": "markdown",
   "metadata": {
    "id": "-QUK1avRFqGu"
   },
   "source": [
    "Kita akan memilih tiga variabel terbaik dari variabel independen (`X_raw`) untuk dilatih pada model. Berikut adalah contoh kodenya."
   ]
  },
  {
   "cell_type": "code",
   "execution_count": null,
   "metadata": {
    "id": "g_Zee_ISFqGu"
   },
   "outputs": [],
   "source": [
    "from sklearn.feature_selection import SelectKBest\n",
    "from sklearn.feature_selection import f_classif\n",
    "\n",
    "selector = SelectKBest(f_classif, k=3)\n",
    "X = selector.fit_transform(X_raw, y)"
   ]
  },
  {
   "cell_type": "markdown",
   "metadata": {
    "id": "a84HsDseFqGu"
   },
   "source": [
    "*Note*: <br>\n",
    "Perhatikan, pemilihan fitur harus dilakukan secara terus menerus atau berulang dengan memperbaiki tahap sebelumnya. Jika teman-teman ingin mendapatkan model terbaik, teman-teman harus terus melakukan tahapan ini hingga teman-teman mendapatkan model yang terbaik."
   ]
  },
  {
   "cell_type": "code",
   "execution_count": null,
   "metadata": {
    "id": "NJWgUMXeFqGu",
    "outputId": "706c83af-ddc5-449a-d324-6e2ebb6e8f56"
   },
   "outputs": [
    {
     "name": "stdout",
     "output_type": "stream",
     "text": [
      "Jumlah feature (sebelum dilakukan feature selection ) : 5\n",
      "Jumlah feature (setelah dilakukan feature selection ) : 3\n"
     ]
    }
   ],
   "source": [
    "print(\"Jumlah feature (sebelum dilakukan feature selection ) :\", X_raw.shape[1])\n",
    "print(\"Jumlah feature (setelah dilakukan feature selection ) :\", X.shape[1])"
   ]
  },
  {
   "cell_type": "code",
   "execution_count": null,
   "metadata": {
    "id": "WBs2cWHRFqGu",
    "outputId": "3d4ba502-e86a-4ba6-bade-8dd5718f4329"
   },
   "outputs": [
    {
     "data": {
      "text/plain": [
       "array(['Na', 'Mg', 'K'], dtype=object)"
      ]
     },
     "execution_count": 38,
     "metadata": {},
     "output_type": "execute_result"
    }
   ],
   "source": [
    "input_features = selector.feature_names_in_\n",
    "selector.get_feature_names_out(input_features=input_features)"
   ]
  },
  {
   "cell_type": "markdown",
   "metadata": {
    "id": "C4tg0xLXFqGu"
   },
   "source": [
    "Dari hasil feature selection yang ada kita akan mengambil tiga fitur yaitu `Na`, `Mg`, dan `K`. Selanjutnya, kita akan melakukan *splitting data* yaitu membagi dataset menjadi *testing* dan *training* dengan ukuran yang sama seperti pada proses Naive Bayes. Berikut adalah caranya:"
   ]
  },
  {
   "cell_type": "code",
   "execution_count": null,
   "metadata": {
    "id": "6qtD0X_DFqGu"
   },
   "outputs": [],
   "source": [
    "X_train, X_test, y_train, y_test = train_test_split(X, y, test_size = 0.2, stratify=y, random_state = 42)"
   ]
  },
  {
   "cell_type": "markdown",
   "metadata": {
    "id": "RM7QZ77CFqGu"
   },
   "source": [
    "*Note*:<br>\n",
    "`stratify=y` digunakan untuk memastikan proporsi kelas pada data training dan testing sama dengan dataset asli. Ini digunakan untuk dataset dengan distribusi kelas yang tidak seimbang (*imbalanced*).\n"
   ]
  },
  {
   "cell_type": "markdown",
   "metadata": {
    "id": "RPhykUHkFqGu"
   },
   "source": [
    "Sebelum menerapkan algoritma KNN, penting untuk melakukan **standarisasi** atau **normalisasi** pada nilai-nilai independent variables (fitur). Hal ini sangat krusial karena KNN menggunakan perhitungan jarak (seperti Euclidean atau Manhattan) untuk menentukan tetangga terdekat. Jika fitur memiliki rentang nilai yang berbeda-beda, fitur dengan skala yang lebih besar akan mendominasi perhitungan jarak, sehingga mengganggu performa model.\n",
    "\n",
    "Pada tahapan ini, kita akan memilih menggunakan normalisasi, berikut adalah caranya."
   ]
  },
  {
   "cell_type": "code",
   "execution_count": null,
   "metadata": {
    "id": "QYqDDd1QFqGv"
   },
   "outputs": [],
   "source": [
    "from sklearn.preprocessing import MinMaxScaler\n",
    "\n",
    "scaler = MinMaxScaler()\n",
    "\n",
    "X_train_scaled = scaler.fit_transform(X_train)\n",
    "X_test_scaled = scaler.transform(X_test)"
   ]
  },
  {
   "cell_type": "markdown",
   "metadata": {
    "id": "-IxbwX5tFqGv"
   },
   "source": [
    "### *Classification*"
   ]
  },
  {
   "cell_type": "code",
   "execution_count": null,
   "metadata": {
    "id": "cfjVSpu4FqGv"
   },
   "outputs": [],
   "source": [
    "from sklearn.neighbors import KNeighborsClassifier\n",
    "\n",
    "# Mengatur jumlah neighbor yang digunakan.\n",
    "N_NEIGHBORS = 4\n",
    "\n",
    "# Mengatur jumlah pelatihan pada fold fold yang ada.\n",
    "kfold = KFold(n_splits=5, shuffle=True, random_state=42)"
   ]
  },
  {
   "cell_type": "markdown",
   "metadata": {
    "id": "QtHMoIDEFqGv"
   },
   "source": [
    "Anda dapat memilih rumus perhitungan jarak yang ingin digunakan dengan menambahkan parameter `metric` pada saat pembuatan model KNN. Secara *default*, jika tidak ditambahkan, nilai parameter tersebut adalah `minkowski`."
   ]
  },
  {
   "cell_type": "markdown",
   "metadata": {
    "id": "4jzA--YTFqGv"
   },
   "source": [
    "#### KNN dengan *Euclidian Distance*"
   ]
  },
  {
   "cell_type": "code",
   "execution_count": null,
   "metadata": {
    "id": "eiZilT5AFqGv",
    "outputId": "ff98fa1f-a854-4913-c10e-bd6b1831256e"
   },
   "outputs": [
    {
     "data": {
      "text/html": [
       "<style>#sk-container-id-2 {\n",
       "  /* Definition of color scheme common for light and dark mode */\n",
       "  --sklearn-color-text: black;\n",
       "  --sklearn-color-line: gray;\n",
       "  /* Definition of color scheme for unfitted estimators */\n",
       "  --sklearn-color-unfitted-level-0: #fff5e6;\n",
       "  --sklearn-color-unfitted-level-1: #f6e4d2;\n",
       "  --sklearn-color-unfitted-level-2: #ffe0b3;\n",
       "  --sklearn-color-unfitted-level-3: chocolate;\n",
       "  /* Definition of color scheme for fitted estimators */\n",
       "  --sklearn-color-fitted-level-0: #f0f8ff;\n",
       "  --sklearn-color-fitted-level-1: #d4ebff;\n",
       "  --sklearn-color-fitted-level-2: #b3dbfd;\n",
       "  --sklearn-color-fitted-level-3: cornflowerblue;\n",
       "\n",
       "  /* Specific color for light theme */\n",
       "  --sklearn-color-text-on-default-background: var(--sg-text-color, var(--theme-code-foreground, var(--jp-content-font-color1, black)));\n",
       "  --sklearn-color-background: var(--sg-background-color, var(--theme-background, var(--jp-layout-color0, white)));\n",
       "  --sklearn-color-border-box: var(--sg-text-color, var(--theme-code-foreground, var(--jp-content-font-color1, black)));\n",
       "  --sklearn-color-icon: #696969;\n",
       "\n",
       "  @media (prefers-color-scheme: dark) {\n",
       "    /* Redefinition of color scheme for dark theme */\n",
       "    --sklearn-color-text-on-default-background: var(--sg-text-color, var(--theme-code-foreground, var(--jp-content-font-color1, white)));\n",
       "    --sklearn-color-background: var(--sg-background-color, var(--theme-background, var(--jp-layout-color0, #111)));\n",
       "    --sklearn-color-border-box: var(--sg-text-color, var(--theme-code-foreground, var(--jp-content-font-color1, white)));\n",
       "    --sklearn-color-icon: #878787;\n",
       "  }\n",
       "}\n",
       "\n",
       "#sk-container-id-2 {\n",
       "  color: var(--sklearn-color-text);\n",
       "}\n",
       "\n",
       "#sk-container-id-2 pre {\n",
       "  padding: 0;\n",
       "}\n",
       "\n",
       "#sk-container-id-2 input.sk-hidden--visually {\n",
       "  border: 0;\n",
       "  clip: rect(1px 1px 1px 1px);\n",
       "  clip: rect(1px, 1px, 1px, 1px);\n",
       "  height: 1px;\n",
       "  margin: -1px;\n",
       "  overflow: hidden;\n",
       "  padding: 0;\n",
       "  position: absolute;\n",
       "  width: 1px;\n",
       "}\n",
       "\n",
       "#sk-container-id-2 div.sk-dashed-wrapped {\n",
       "  border: 1px dashed var(--sklearn-color-line);\n",
       "  margin: 0 0.4em 0.5em 0.4em;\n",
       "  box-sizing: border-box;\n",
       "  padding-bottom: 0.4em;\n",
       "  background-color: var(--sklearn-color-background);\n",
       "}\n",
       "\n",
       "#sk-container-id-2 div.sk-container {\n",
       "  /* jupyter's `normalize.less` sets `[hidden] { display: none; }`\n",
       "     but bootstrap.min.css set `[hidden] { display: none !important; }`\n",
       "     so we also need the `!important` here to be able to override the\n",
       "     default hidden behavior on the sphinx rendered scikit-learn.org.\n",
       "     See: https://github.com/scikit-learn/scikit-learn/issues/21755 */\n",
       "  display: inline-block !important;\n",
       "  position: relative;\n",
       "}\n",
       "\n",
       "#sk-container-id-2 div.sk-text-repr-fallback {\n",
       "  display: none;\n",
       "}\n",
       "\n",
       "div.sk-parallel-item,\n",
       "div.sk-serial,\n",
       "div.sk-item {\n",
       "  /* draw centered vertical line to link estimators */\n",
       "  background-image: linear-gradient(var(--sklearn-color-text-on-default-background), var(--sklearn-color-text-on-default-background));\n",
       "  background-size: 2px 100%;\n",
       "  background-repeat: no-repeat;\n",
       "  background-position: center center;\n",
       "}\n",
       "\n",
       "/* Parallel-specific style estimator block */\n",
       "\n",
       "#sk-container-id-2 div.sk-parallel-item::after {\n",
       "  content: \"\";\n",
       "  width: 100%;\n",
       "  border-bottom: 2px solid var(--sklearn-color-text-on-default-background);\n",
       "  flex-grow: 1;\n",
       "}\n",
       "\n",
       "#sk-container-id-2 div.sk-parallel {\n",
       "  display: flex;\n",
       "  align-items: stretch;\n",
       "  justify-content: center;\n",
       "  background-color: var(--sklearn-color-background);\n",
       "  position: relative;\n",
       "}\n",
       "\n",
       "#sk-container-id-2 div.sk-parallel-item {\n",
       "  display: flex;\n",
       "  flex-direction: column;\n",
       "}\n",
       "\n",
       "#sk-container-id-2 div.sk-parallel-item:first-child::after {\n",
       "  align-self: flex-end;\n",
       "  width: 50%;\n",
       "}\n",
       "\n",
       "#sk-container-id-2 div.sk-parallel-item:last-child::after {\n",
       "  align-self: flex-start;\n",
       "  width: 50%;\n",
       "}\n",
       "\n",
       "#sk-container-id-2 div.sk-parallel-item:only-child::after {\n",
       "  width: 0;\n",
       "}\n",
       "\n",
       "/* Serial-specific style estimator block */\n",
       "\n",
       "#sk-container-id-2 div.sk-serial {\n",
       "  display: flex;\n",
       "  flex-direction: column;\n",
       "  align-items: center;\n",
       "  background-color: var(--sklearn-color-background);\n",
       "  padding-right: 1em;\n",
       "  padding-left: 1em;\n",
       "}\n",
       "\n",
       "\n",
       "/* Toggleable style: style used for estimator/Pipeline/ColumnTransformer box that is\n",
       "clickable and can be expanded/collapsed.\n",
       "- Pipeline and ColumnTransformer use this feature and define the default style\n",
       "- Estimators will overwrite some part of the style using the `sk-estimator` class\n",
       "*/\n",
       "\n",
       "/* Pipeline and ColumnTransformer style (default) */\n",
       "\n",
       "#sk-container-id-2 div.sk-toggleable {\n",
       "  /* Default theme specific background. It is overwritten whether we have a\n",
       "  specific estimator or a Pipeline/ColumnTransformer */\n",
       "  background-color: var(--sklearn-color-background);\n",
       "}\n",
       "\n",
       "/* Toggleable label */\n",
       "#sk-container-id-2 label.sk-toggleable__label {\n",
       "  cursor: pointer;\n",
       "  display: block;\n",
       "  width: 100%;\n",
       "  margin-bottom: 0;\n",
       "  padding: 0.5em;\n",
       "  box-sizing: border-box;\n",
       "  text-align: center;\n",
       "}\n",
       "\n",
       "#sk-container-id-2 label.sk-toggleable__label-arrow:before {\n",
       "  /* Arrow on the left of the label */\n",
       "  content: \"▸\";\n",
       "  float: left;\n",
       "  margin-right: 0.25em;\n",
       "  color: var(--sklearn-color-icon);\n",
       "}\n",
       "\n",
       "#sk-container-id-2 label.sk-toggleable__label-arrow:hover:before {\n",
       "  color: var(--sklearn-color-text);\n",
       "}\n",
       "\n",
       "/* Toggleable content - dropdown */\n",
       "\n",
       "#sk-container-id-2 div.sk-toggleable__content {\n",
       "  max-height: 0;\n",
       "  max-width: 0;\n",
       "  overflow: hidden;\n",
       "  text-align: left;\n",
       "  /* unfitted */\n",
       "  background-color: var(--sklearn-color-unfitted-level-0);\n",
       "}\n",
       "\n",
       "#sk-container-id-2 div.sk-toggleable__content.fitted {\n",
       "  /* fitted */\n",
       "  background-color: var(--sklearn-color-fitted-level-0);\n",
       "}\n",
       "\n",
       "#sk-container-id-2 div.sk-toggleable__content pre {\n",
       "  margin: 0.2em;\n",
       "  border-radius: 0.25em;\n",
       "  color: var(--sklearn-color-text);\n",
       "  /* unfitted */\n",
       "  background-color: var(--sklearn-color-unfitted-level-0);\n",
       "}\n",
       "\n",
       "#sk-container-id-2 div.sk-toggleable__content.fitted pre {\n",
       "  /* unfitted */\n",
       "  background-color: var(--sklearn-color-fitted-level-0);\n",
       "}\n",
       "\n",
       "#sk-container-id-2 input.sk-toggleable__control:checked~div.sk-toggleable__content {\n",
       "  /* Expand drop-down */\n",
       "  max-height: 200px;\n",
       "  max-width: 100%;\n",
       "  overflow: auto;\n",
       "}\n",
       "\n",
       "#sk-container-id-2 input.sk-toggleable__control:checked~label.sk-toggleable__label-arrow:before {\n",
       "  content: \"▾\";\n",
       "}\n",
       "\n",
       "/* Pipeline/ColumnTransformer-specific style */\n",
       "\n",
       "#sk-container-id-2 div.sk-label input.sk-toggleable__control:checked~label.sk-toggleable__label {\n",
       "  color: var(--sklearn-color-text);\n",
       "  background-color: var(--sklearn-color-unfitted-level-2);\n",
       "}\n",
       "\n",
       "#sk-container-id-2 div.sk-label.fitted input.sk-toggleable__control:checked~label.sk-toggleable__label {\n",
       "  background-color: var(--sklearn-color-fitted-level-2);\n",
       "}\n",
       "\n",
       "/* Estimator-specific style */\n",
       "\n",
       "/* Colorize estimator box */\n",
       "#sk-container-id-2 div.sk-estimator input.sk-toggleable__control:checked~label.sk-toggleable__label {\n",
       "  /* unfitted */\n",
       "  background-color: var(--sklearn-color-unfitted-level-2);\n",
       "}\n",
       "\n",
       "#sk-container-id-2 div.sk-estimator.fitted input.sk-toggleable__control:checked~label.sk-toggleable__label {\n",
       "  /* fitted */\n",
       "  background-color: var(--sklearn-color-fitted-level-2);\n",
       "}\n",
       "\n",
       "#sk-container-id-2 div.sk-label label.sk-toggleable__label,\n",
       "#sk-container-id-2 div.sk-label label {\n",
       "  /* The background is the default theme color */\n",
       "  color: var(--sklearn-color-text-on-default-background);\n",
       "}\n",
       "\n",
       "/* On hover, darken the color of the background */\n",
       "#sk-container-id-2 div.sk-label:hover label.sk-toggleable__label {\n",
       "  color: var(--sklearn-color-text);\n",
       "  background-color: var(--sklearn-color-unfitted-level-2);\n",
       "}\n",
       "\n",
       "/* Label box, darken color on hover, fitted */\n",
       "#sk-container-id-2 div.sk-label.fitted:hover label.sk-toggleable__label.fitted {\n",
       "  color: var(--sklearn-color-text);\n",
       "  background-color: var(--sklearn-color-fitted-level-2);\n",
       "}\n",
       "\n",
       "/* Estimator label */\n",
       "\n",
       "#sk-container-id-2 div.sk-label label {\n",
       "  font-family: monospace;\n",
       "  font-weight: bold;\n",
       "  display: inline-block;\n",
       "  line-height: 1.2em;\n",
       "}\n",
       "\n",
       "#sk-container-id-2 div.sk-label-container {\n",
       "  text-align: center;\n",
       "}\n",
       "\n",
       "/* Estimator-specific */\n",
       "#sk-container-id-2 div.sk-estimator {\n",
       "  font-family: monospace;\n",
       "  border: 1px dotted var(--sklearn-color-border-box);\n",
       "  border-radius: 0.25em;\n",
       "  box-sizing: border-box;\n",
       "  margin-bottom: 0.5em;\n",
       "  /* unfitted */\n",
       "  background-color: var(--sklearn-color-unfitted-level-0);\n",
       "}\n",
       "\n",
       "#sk-container-id-2 div.sk-estimator.fitted {\n",
       "  /* fitted */\n",
       "  background-color: var(--sklearn-color-fitted-level-0);\n",
       "}\n",
       "\n",
       "/* on hover */\n",
       "#sk-container-id-2 div.sk-estimator:hover {\n",
       "  /* unfitted */\n",
       "  background-color: var(--sklearn-color-unfitted-level-2);\n",
       "}\n",
       "\n",
       "#sk-container-id-2 div.sk-estimator.fitted:hover {\n",
       "  /* fitted */\n",
       "  background-color: var(--sklearn-color-fitted-level-2);\n",
       "}\n",
       "\n",
       "/* Specification for estimator info (e.g. \"i\" and \"?\") */\n",
       "\n",
       "/* Common style for \"i\" and \"?\" */\n",
       "\n",
       ".sk-estimator-doc-link,\n",
       "a:link.sk-estimator-doc-link,\n",
       "a:visited.sk-estimator-doc-link {\n",
       "  float: right;\n",
       "  font-size: smaller;\n",
       "  line-height: 1em;\n",
       "  font-family: monospace;\n",
       "  background-color: var(--sklearn-color-background);\n",
       "  border-radius: 1em;\n",
       "  height: 1em;\n",
       "  width: 1em;\n",
       "  text-decoration: none !important;\n",
       "  margin-left: 1ex;\n",
       "  /* unfitted */\n",
       "  border: var(--sklearn-color-unfitted-level-1) 1pt solid;\n",
       "  color: var(--sklearn-color-unfitted-level-1);\n",
       "}\n",
       "\n",
       ".sk-estimator-doc-link.fitted,\n",
       "a:link.sk-estimator-doc-link.fitted,\n",
       "a:visited.sk-estimator-doc-link.fitted {\n",
       "  /* fitted */\n",
       "  border: var(--sklearn-color-fitted-level-1) 1pt solid;\n",
       "  color: var(--sklearn-color-fitted-level-1);\n",
       "}\n",
       "\n",
       "/* On hover */\n",
       "div.sk-estimator:hover .sk-estimator-doc-link:hover,\n",
       ".sk-estimator-doc-link:hover,\n",
       "div.sk-label-container:hover .sk-estimator-doc-link:hover,\n",
       ".sk-estimator-doc-link:hover {\n",
       "  /* unfitted */\n",
       "  background-color: var(--sklearn-color-unfitted-level-3);\n",
       "  color: var(--sklearn-color-background);\n",
       "  text-decoration: none;\n",
       "}\n",
       "\n",
       "div.sk-estimator.fitted:hover .sk-estimator-doc-link.fitted:hover,\n",
       ".sk-estimator-doc-link.fitted:hover,\n",
       "div.sk-label-container:hover .sk-estimator-doc-link.fitted:hover,\n",
       ".sk-estimator-doc-link.fitted:hover {\n",
       "  /* fitted */\n",
       "  background-color: var(--sklearn-color-fitted-level-3);\n",
       "  color: var(--sklearn-color-background);\n",
       "  text-decoration: none;\n",
       "}\n",
       "\n",
       "/* Span, style for the box shown on hovering the info icon */\n",
       ".sk-estimator-doc-link span {\n",
       "  display: none;\n",
       "  z-index: 9999;\n",
       "  position: relative;\n",
       "  font-weight: normal;\n",
       "  right: .2ex;\n",
       "  padding: .5ex;\n",
       "  margin: .5ex;\n",
       "  width: min-content;\n",
       "  min-width: 20ex;\n",
       "  max-width: 50ex;\n",
       "  color: var(--sklearn-color-text);\n",
       "  box-shadow: 2pt 2pt 4pt #999;\n",
       "  /* unfitted */\n",
       "  background: var(--sklearn-color-unfitted-level-0);\n",
       "  border: .5pt solid var(--sklearn-color-unfitted-level-3);\n",
       "}\n",
       "\n",
       ".sk-estimator-doc-link.fitted span {\n",
       "  /* fitted */\n",
       "  background: var(--sklearn-color-fitted-level-0);\n",
       "  border: var(--sklearn-color-fitted-level-3);\n",
       "}\n",
       "\n",
       ".sk-estimator-doc-link:hover span {\n",
       "  display: block;\n",
       "}\n",
       "\n",
       "/* \"?\"-specific style due to the `<a>` HTML tag */\n",
       "\n",
       "#sk-container-id-2 a.estimator_doc_link {\n",
       "  float: right;\n",
       "  font-size: 1rem;\n",
       "  line-height: 1em;\n",
       "  font-family: monospace;\n",
       "  background-color: var(--sklearn-color-background);\n",
       "  border-radius: 1rem;\n",
       "  height: 1rem;\n",
       "  width: 1rem;\n",
       "  text-decoration: none;\n",
       "  /* unfitted */\n",
       "  color: var(--sklearn-color-unfitted-level-1);\n",
       "  border: var(--sklearn-color-unfitted-level-1) 1pt solid;\n",
       "}\n",
       "\n",
       "#sk-container-id-2 a.estimator_doc_link.fitted {\n",
       "  /* fitted */\n",
       "  border: var(--sklearn-color-fitted-level-1) 1pt solid;\n",
       "  color: var(--sklearn-color-fitted-level-1);\n",
       "}\n",
       "\n",
       "/* On hover */\n",
       "#sk-container-id-2 a.estimator_doc_link:hover {\n",
       "  /* unfitted */\n",
       "  background-color: var(--sklearn-color-unfitted-level-3);\n",
       "  color: var(--sklearn-color-background);\n",
       "  text-decoration: none;\n",
       "}\n",
       "\n",
       "#sk-container-id-2 a.estimator_doc_link.fitted:hover {\n",
       "  /* fitted */\n",
       "  background-color: var(--sklearn-color-fitted-level-3);\n",
       "}\n",
       "</style><div id=\"sk-container-id-2\" class=\"sk-top-container\"><div class=\"sk-text-repr-fallback\"><pre>KNeighborsClassifier(metric=&#x27;euclidean&#x27;, n_neighbors=4)</pre><b>In a Jupyter environment, please rerun this cell to show the HTML representation or trust the notebook. <br />On GitHub, the HTML representation is unable to render, please try loading this page with nbviewer.org.</b></div><div class=\"sk-container\" hidden><div class=\"sk-item\"><div class=\"sk-estimator fitted sk-toggleable\"><input class=\"sk-toggleable__control sk-hidden--visually\" id=\"sk-estimator-id-2\" type=\"checkbox\" checked><label for=\"sk-estimator-id-2\" class=\"sk-toggleable__label fitted sk-toggleable__label-arrow fitted\">&nbsp;&nbsp;KNeighborsClassifier<a class=\"sk-estimator-doc-link fitted\" rel=\"noreferrer\" target=\"_blank\" href=\"https://scikit-learn.org/1.5/modules/generated/sklearn.neighbors.KNeighborsClassifier.html\">?<span>Documentation for KNeighborsClassifier</span></a><span class=\"sk-estimator-doc-link fitted\">i<span>Fitted</span></span></label><div class=\"sk-toggleable__content fitted\"><pre>KNeighborsClassifier(metric=&#x27;euclidean&#x27;, n_neighbors=4)</pre></div> </div></div></div></div>"
      ],
      "text/plain": [
       "KNeighborsClassifier(metric='euclidean', n_neighbors=4)"
      ]
     },
     "execution_count": 42,
     "metadata": {},
     "output_type": "execute_result"
    }
   ],
   "source": [
    "KNN_euclidean = KNeighborsClassifier(n_neighbors=N_NEIGHBORS, metric='euclidean')\n",
    "KNN_euclidean.fit(X_train_scaled, y_train)"
   ]
  },
  {
   "cell_type": "code",
   "execution_count": null,
   "metadata": {
    "id": "VVhFuCUiFqGv",
    "outputId": "7a959d08-165f-4897-fc51-bc8e9cee2638"
   },
   "outputs": [
    {
     "name": "stdout",
     "output_type": "stream",
     "text": [
      "Hasil Evaluasi cross validation: 0.5882352941176471\n"
     ]
    }
   ],
   "source": [
    "scores = cross_val_score(KNN_euclidean, X_train_scaled, y_train, scoring='accuracy', cv=kfold)\n",
    "print(f'Hasil Evaluasi cross validation: {scores.mean()}')"
   ]
  },
  {
   "cell_type": "code",
   "execution_count": null,
   "metadata": {
    "id": "GdxCSUVfFqGv",
    "outputId": "173fe0de-f16e-4cd5-e3ef-957e68c9d493"
   },
   "outputs": [
    {
     "name": "stdout",
     "output_type": "stream",
     "text": [
      "Hasil prediksi: [7 5 1 5 2 1 2 2 1 2 3 1 7 6 1 7 7 1 1 5 1 1 7 2 1 1 7 7 2 1 1 1 1 1 1 1 1\n",
      " 2 1 1 1 2 6]\n"
     ]
    }
   ],
   "source": [
    "y_pred = KNN_euclidean.predict(X_test_scaled)\n",
    "print(\"Hasil prediksi:\", y_pred)"
   ]
  },
  {
   "cell_type": "code",
   "execution_count": null,
   "metadata": {
    "id": "EK43jSz9FqGv",
    "outputId": "3692bbcd-e543-40ae-8f8e-e7e7801dbb74"
   },
   "outputs": [
    {
     "name": "stdout",
     "output_type": "stream",
     "text": [
      "Hasil Evaluasi berdasarkan classification report:\n",
      "\n",
      "              precision    recall  f1-score   support\n",
      "\n",
      "           1       0.50      0.79      0.61        14\n",
      "           2       0.62      0.33      0.43        15\n",
      "           3       1.00      0.33      0.50         3\n",
      "           5       1.00      1.00      1.00         3\n",
      "           6       1.00      1.00      1.00         2\n",
      "           7       0.71      0.83      0.77         6\n",
      "\n",
      "    accuracy                           0.63        43\n",
      "   macro avg       0.81      0.71      0.72        43\n",
      "weighted avg       0.67      0.63      0.61        43\n",
      "\n",
      "\n",
      "Confusion Matrix:\n"
     ]
    },
    {
     "data": {
      "text/html": [
       "<div>\n",
       "<style scoped>\n",
       "    .dataframe tbody tr th:only-of-type {\n",
       "        vertical-align: middle;\n",
       "    }\n",
       "\n",
       "    .dataframe tbody tr th {\n",
       "        vertical-align: top;\n",
       "    }\n",
       "\n",
       "    .dataframe thead th {\n",
       "        text-align: right;\n",
       "    }\n",
       "</style>\n",
       "<table border=\"1\" class=\"dataframe\">\n",
       "  <thead>\n",
       "    <tr style=\"text-align: right;\">\n",
       "      <th>prediction</th>\n",
       "      <th>1</th>\n",
       "      <th>2</th>\n",
       "      <th>3</th>\n",
       "      <th>5</th>\n",
       "      <th>6</th>\n",
       "      <th>7</th>\n",
       "    </tr>\n",
       "    <tr>\n",
       "      <th>actual</th>\n",
       "      <th></th>\n",
       "      <th></th>\n",
       "      <th></th>\n",
       "      <th></th>\n",
       "      <th></th>\n",
       "      <th></th>\n",
       "    </tr>\n",
       "  </thead>\n",
       "  <tbody>\n",
       "    <tr>\n",
       "      <th>1</th>\n",
       "      <td>11</td>\n",
       "      <td>3</td>\n",
       "      <td>0</td>\n",
       "      <td>0</td>\n",
       "      <td>0</td>\n",
       "      <td>0</td>\n",
       "    </tr>\n",
       "    <tr>\n",
       "      <th>2</th>\n",
       "      <td>8</td>\n",
       "      <td>5</td>\n",
       "      <td>0</td>\n",
       "      <td>0</td>\n",
       "      <td>0</td>\n",
       "      <td>2</td>\n",
       "    </tr>\n",
       "    <tr>\n",
       "      <th>3</th>\n",
       "      <td>2</td>\n",
       "      <td>0</td>\n",
       "      <td>1</td>\n",
       "      <td>0</td>\n",
       "      <td>0</td>\n",
       "      <td>0</td>\n",
       "    </tr>\n",
       "    <tr>\n",
       "      <th>5</th>\n",
       "      <td>0</td>\n",
       "      <td>0</td>\n",
       "      <td>0</td>\n",
       "      <td>3</td>\n",
       "      <td>0</td>\n",
       "      <td>0</td>\n",
       "    </tr>\n",
       "    <tr>\n",
       "      <th>6</th>\n",
       "      <td>0</td>\n",
       "      <td>0</td>\n",
       "      <td>0</td>\n",
       "      <td>0</td>\n",
       "      <td>2</td>\n",
       "      <td>0</td>\n",
       "    </tr>\n",
       "    <tr>\n",
       "      <th>7</th>\n",
       "      <td>1</td>\n",
       "      <td>0</td>\n",
       "      <td>0</td>\n",
       "      <td>0</td>\n",
       "      <td>0</td>\n",
       "      <td>5</td>\n",
       "    </tr>\n",
       "  </tbody>\n",
       "</table>\n",
       "</div>"
      ],
      "text/plain": [
       "prediction   1  2  3  5  6  7\n",
       "actual                       \n",
       "1           11  3  0  0  0  0\n",
       "2            8  5  0  0  0  2\n",
       "3            2  0  1  0  0  0\n",
       "5            0  0  0  3  0  0\n",
       "6            0  0  0  0  2  0\n",
       "7            1  0  0  0  0  5"
      ]
     },
     "metadata": {},
     "output_type": "display_data"
    },
    {
     "name": "stdout",
     "output_type": "stream",
     "text": [
      "\n",
      "Butuh informasi lebih lengkap? Silakan simak di bawah ini:\n",
      "Accuracy: 0.627906976744186\n",
      "F1 Macro Average: 0.7191874148395887\n",
      "F1 Micro Average: 0.627906976744186\n",
      "Precision Macro Average: 0.8065476190476191\n",
      "Precision Micro Average: 0.627906976744186\n",
      "Recall Macro Average: 0.7142857142857143\n",
      "Recall Micro Average: 0.627906976744186\n"
     ]
    }
   ],
   "source": [
    "evaluate_classifier_performance(y_pred, y_test)"
   ]
  },
  {
   "cell_type": "markdown",
   "metadata": {
    "id": "9oPhUy92FqGv"
   },
   "source": [
    "#### KNN dengan *Manhattan Distance*"
   ]
  },
  {
   "cell_type": "code",
   "execution_count": null,
   "metadata": {
    "id": "NuybYxnHFqGv",
    "outputId": "d757c328-61aa-4327-ebc5-b209a6787a8b"
   },
   "outputs": [
    {
     "data": {
      "text/html": [
       "<style>#sk-container-id-3 {\n",
       "  /* Definition of color scheme common for light and dark mode */\n",
       "  --sklearn-color-text: black;\n",
       "  --sklearn-color-line: gray;\n",
       "  /* Definition of color scheme for unfitted estimators */\n",
       "  --sklearn-color-unfitted-level-0: #fff5e6;\n",
       "  --sklearn-color-unfitted-level-1: #f6e4d2;\n",
       "  --sklearn-color-unfitted-level-2: #ffe0b3;\n",
       "  --sklearn-color-unfitted-level-3: chocolate;\n",
       "  /* Definition of color scheme for fitted estimators */\n",
       "  --sklearn-color-fitted-level-0: #f0f8ff;\n",
       "  --sklearn-color-fitted-level-1: #d4ebff;\n",
       "  --sklearn-color-fitted-level-2: #b3dbfd;\n",
       "  --sklearn-color-fitted-level-3: cornflowerblue;\n",
       "\n",
       "  /* Specific color for light theme */\n",
       "  --sklearn-color-text-on-default-background: var(--sg-text-color, var(--theme-code-foreground, var(--jp-content-font-color1, black)));\n",
       "  --sklearn-color-background: var(--sg-background-color, var(--theme-background, var(--jp-layout-color0, white)));\n",
       "  --sklearn-color-border-box: var(--sg-text-color, var(--theme-code-foreground, var(--jp-content-font-color1, black)));\n",
       "  --sklearn-color-icon: #696969;\n",
       "\n",
       "  @media (prefers-color-scheme: dark) {\n",
       "    /* Redefinition of color scheme for dark theme */\n",
       "    --sklearn-color-text-on-default-background: var(--sg-text-color, var(--theme-code-foreground, var(--jp-content-font-color1, white)));\n",
       "    --sklearn-color-background: var(--sg-background-color, var(--theme-background, var(--jp-layout-color0, #111)));\n",
       "    --sklearn-color-border-box: var(--sg-text-color, var(--theme-code-foreground, var(--jp-content-font-color1, white)));\n",
       "    --sklearn-color-icon: #878787;\n",
       "  }\n",
       "}\n",
       "\n",
       "#sk-container-id-3 {\n",
       "  color: var(--sklearn-color-text);\n",
       "}\n",
       "\n",
       "#sk-container-id-3 pre {\n",
       "  padding: 0;\n",
       "}\n",
       "\n",
       "#sk-container-id-3 input.sk-hidden--visually {\n",
       "  border: 0;\n",
       "  clip: rect(1px 1px 1px 1px);\n",
       "  clip: rect(1px, 1px, 1px, 1px);\n",
       "  height: 1px;\n",
       "  margin: -1px;\n",
       "  overflow: hidden;\n",
       "  padding: 0;\n",
       "  position: absolute;\n",
       "  width: 1px;\n",
       "}\n",
       "\n",
       "#sk-container-id-3 div.sk-dashed-wrapped {\n",
       "  border: 1px dashed var(--sklearn-color-line);\n",
       "  margin: 0 0.4em 0.5em 0.4em;\n",
       "  box-sizing: border-box;\n",
       "  padding-bottom: 0.4em;\n",
       "  background-color: var(--sklearn-color-background);\n",
       "}\n",
       "\n",
       "#sk-container-id-3 div.sk-container {\n",
       "  /* jupyter's `normalize.less` sets `[hidden] { display: none; }`\n",
       "     but bootstrap.min.css set `[hidden] { display: none !important; }`\n",
       "     so we also need the `!important` here to be able to override the\n",
       "     default hidden behavior on the sphinx rendered scikit-learn.org.\n",
       "     See: https://github.com/scikit-learn/scikit-learn/issues/21755 */\n",
       "  display: inline-block !important;\n",
       "  position: relative;\n",
       "}\n",
       "\n",
       "#sk-container-id-3 div.sk-text-repr-fallback {\n",
       "  display: none;\n",
       "}\n",
       "\n",
       "div.sk-parallel-item,\n",
       "div.sk-serial,\n",
       "div.sk-item {\n",
       "  /* draw centered vertical line to link estimators */\n",
       "  background-image: linear-gradient(var(--sklearn-color-text-on-default-background), var(--sklearn-color-text-on-default-background));\n",
       "  background-size: 2px 100%;\n",
       "  background-repeat: no-repeat;\n",
       "  background-position: center center;\n",
       "}\n",
       "\n",
       "/* Parallel-specific style estimator block */\n",
       "\n",
       "#sk-container-id-3 div.sk-parallel-item::after {\n",
       "  content: \"\";\n",
       "  width: 100%;\n",
       "  border-bottom: 2px solid var(--sklearn-color-text-on-default-background);\n",
       "  flex-grow: 1;\n",
       "}\n",
       "\n",
       "#sk-container-id-3 div.sk-parallel {\n",
       "  display: flex;\n",
       "  align-items: stretch;\n",
       "  justify-content: center;\n",
       "  background-color: var(--sklearn-color-background);\n",
       "  position: relative;\n",
       "}\n",
       "\n",
       "#sk-container-id-3 div.sk-parallel-item {\n",
       "  display: flex;\n",
       "  flex-direction: column;\n",
       "}\n",
       "\n",
       "#sk-container-id-3 div.sk-parallel-item:first-child::after {\n",
       "  align-self: flex-end;\n",
       "  width: 50%;\n",
       "}\n",
       "\n",
       "#sk-container-id-3 div.sk-parallel-item:last-child::after {\n",
       "  align-self: flex-start;\n",
       "  width: 50%;\n",
       "}\n",
       "\n",
       "#sk-container-id-3 div.sk-parallel-item:only-child::after {\n",
       "  width: 0;\n",
       "}\n",
       "\n",
       "/* Serial-specific style estimator block */\n",
       "\n",
       "#sk-container-id-3 div.sk-serial {\n",
       "  display: flex;\n",
       "  flex-direction: column;\n",
       "  align-items: center;\n",
       "  background-color: var(--sklearn-color-background);\n",
       "  padding-right: 1em;\n",
       "  padding-left: 1em;\n",
       "}\n",
       "\n",
       "\n",
       "/* Toggleable style: style used for estimator/Pipeline/ColumnTransformer box that is\n",
       "clickable and can be expanded/collapsed.\n",
       "- Pipeline and ColumnTransformer use this feature and define the default style\n",
       "- Estimators will overwrite some part of the style using the `sk-estimator` class\n",
       "*/\n",
       "\n",
       "/* Pipeline and ColumnTransformer style (default) */\n",
       "\n",
       "#sk-container-id-3 div.sk-toggleable {\n",
       "  /* Default theme specific background. It is overwritten whether we have a\n",
       "  specific estimator or a Pipeline/ColumnTransformer */\n",
       "  background-color: var(--sklearn-color-background);\n",
       "}\n",
       "\n",
       "/* Toggleable label */\n",
       "#sk-container-id-3 label.sk-toggleable__label {\n",
       "  cursor: pointer;\n",
       "  display: block;\n",
       "  width: 100%;\n",
       "  margin-bottom: 0;\n",
       "  padding: 0.5em;\n",
       "  box-sizing: border-box;\n",
       "  text-align: center;\n",
       "}\n",
       "\n",
       "#sk-container-id-3 label.sk-toggleable__label-arrow:before {\n",
       "  /* Arrow on the left of the label */\n",
       "  content: \"▸\";\n",
       "  float: left;\n",
       "  margin-right: 0.25em;\n",
       "  color: var(--sklearn-color-icon);\n",
       "}\n",
       "\n",
       "#sk-container-id-3 label.sk-toggleable__label-arrow:hover:before {\n",
       "  color: var(--sklearn-color-text);\n",
       "}\n",
       "\n",
       "/* Toggleable content - dropdown */\n",
       "\n",
       "#sk-container-id-3 div.sk-toggleable__content {\n",
       "  max-height: 0;\n",
       "  max-width: 0;\n",
       "  overflow: hidden;\n",
       "  text-align: left;\n",
       "  /* unfitted */\n",
       "  background-color: var(--sklearn-color-unfitted-level-0);\n",
       "}\n",
       "\n",
       "#sk-container-id-3 div.sk-toggleable__content.fitted {\n",
       "  /* fitted */\n",
       "  background-color: var(--sklearn-color-fitted-level-0);\n",
       "}\n",
       "\n",
       "#sk-container-id-3 div.sk-toggleable__content pre {\n",
       "  margin: 0.2em;\n",
       "  border-radius: 0.25em;\n",
       "  color: var(--sklearn-color-text);\n",
       "  /* unfitted */\n",
       "  background-color: var(--sklearn-color-unfitted-level-0);\n",
       "}\n",
       "\n",
       "#sk-container-id-3 div.sk-toggleable__content.fitted pre {\n",
       "  /* unfitted */\n",
       "  background-color: var(--sklearn-color-fitted-level-0);\n",
       "}\n",
       "\n",
       "#sk-container-id-3 input.sk-toggleable__control:checked~div.sk-toggleable__content {\n",
       "  /* Expand drop-down */\n",
       "  max-height: 200px;\n",
       "  max-width: 100%;\n",
       "  overflow: auto;\n",
       "}\n",
       "\n",
       "#sk-container-id-3 input.sk-toggleable__control:checked~label.sk-toggleable__label-arrow:before {\n",
       "  content: \"▾\";\n",
       "}\n",
       "\n",
       "/* Pipeline/ColumnTransformer-specific style */\n",
       "\n",
       "#sk-container-id-3 div.sk-label input.sk-toggleable__control:checked~label.sk-toggleable__label {\n",
       "  color: var(--sklearn-color-text);\n",
       "  background-color: var(--sklearn-color-unfitted-level-2);\n",
       "}\n",
       "\n",
       "#sk-container-id-3 div.sk-label.fitted input.sk-toggleable__control:checked~label.sk-toggleable__label {\n",
       "  background-color: var(--sklearn-color-fitted-level-2);\n",
       "}\n",
       "\n",
       "/* Estimator-specific style */\n",
       "\n",
       "/* Colorize estimator box */\n",
       "#sk-container-id-3 div.sk-estimator input.sk-toggleable__control:checked~label.sk-toggleable__label {\n",
       "  /* unfitted */\n",
       "  background-color: var(--sklearn-color-unfitted-level-2);\n",
       "}\n",
       "\n",
       "#sk-container-id-3 div.sk-estimator.fitted input.sk-toggleable__control:checked~label.sk-toggleable__label {\n",
       "  /* fitted */\n",
       "  background-color: var(--sklearn-color-fitted-level-2);\n",
       "}\n",
       "\n",
       "#sk-container-id-3 div.sk-label label.sk-toggleable__label,\n",
       "#sk-container-id-3 div.sk-label label {\n",
       "  /* The background is the default theme color */\n",
       "  color: var(--sklearn-color-text-on-default-background);\n",
       "}\n",
       "\n",
       "/* On hover, darken the color of the background */\n",
       "#sk-container-id-3 div.sk-label:hover label.sk-toggleable__label {\n",
       "  color: var(--sklearn-color-text);\n",
       "  background-color: var(--sklearn-color-unfitted-level-2);\n",
       "}\n",
       "\n",
       "/* Label box, darken color on hover, fitted */\n",
       "#sk-container-id-3 div.sk-label.fitted:hover label.sk-toggleable__label.fitted {\n",
       "  color: var(--sklearn-color-text);\n",
       "  background-color: var(--sklearn-color-fitted-level-2);\n",
       "}\n",
       "\n",
       "/* Estimator label */\n",
       "\n",
       "#sk-container-id-3 div.sk-label label {\n",
       "  font-family: monospace;\n",
       "  font-weight: bold;\n",
       "  display: inline-block;\n",
       "  line-height: 1.2em;\n",
       "}\n",
       "\n",
       "#sk-container-id-3 div.sk-label-container {\n",
       "  text-align: center;\n",
       "}\n",
       "\n",
       "/* Estimator-specific */\n",
       "#sk-container-id-3 div.sk-estimator {\n",
       "  font-family: monospace;\n",
       "  border: 1px dotted var(--sklearn-color-border-box);\n",
       "  border-radius: 0.25em;\n",
       "  box-sizing: border-box;\n",
       "  margin-bottom: 0.5em;\n",
       "  /* unfitted */\n",
       "  background-color: var(--sklearn-color-unfitted-level-0);\n",
       "}\n",
       "\n",
       "#sk-container-id-3 div.sk-estimator.fitted {\n",
       "  /* fitted */\n",
       "  background-color: var(--sklearn-color-fitted-level-0);\n",
       "}\n",
       "\n",
       "/* on hover */\n",
       "#sk-container-id-3 div.sk-estimator:hover {\n",
       "  /* unfitted */\n",
       "  background-color: var(--sklearn-color-unfitted-level-2);\n",
       "}\n",
       "\n",
       "#sk-container-id-3 div.sk-estimator.fitted:hover {\n",
       "  /* fitted */\n",
       "  background-color: var(--sklearn-color-fitted-level-2);\n",
       "}\n",
       "\n",
       "/* Specification for estimator info (e.g. \"i\" and \"?\") */\n",
       "\n",
       "/* Common style for \"i\" and \"?\" */\n",
       "\n",
       ".sk-estimator-doc-link,\n",
       "a:link.sk-estimator-doc-link,\n",
       "a:visited.sk-estimator-doc-link {\n",
       "  float: right;\n",
       "  font-size: smaller;\n",
       "  line-height: 1em;\n",
       "  font-family: monospace;\n",
       "  background-color: var(--sklearn-color-background);\n",
       "  border-radius: 1em;\n",
       "  height: 1em;\n",
       "  width: 1em;\n",
       "  text-decoration: none !important;\n",
       "  margin-left: 1ex;\n",
       "  /* unfitted */\n",
       "  border: var(--sklearn-color-unfitted-level-1) 1pt solid;\n",
       "  color: var(--sklearn-color-unfitted-level-1);\n",
       "}\n",
       "\n",
       ".sk-estimator-doc-link.fitted,\n",
       "a:link.sk-estimator-doc-link.fitted,\n",
       "a:visited.sk-estimator-doc-link.fitted {\n",
       "  /* fitted */\n",
       "  border: var(--sklearn-color-fitted-level-1) 1pt solid;\n",
       "  color: var(--sklearn-color-fitted-level-1);\n",
       "}\n",
       "\n",
       "/* On hover */\n",
       "div.sk-estimator:hover .sk-estimator-doc-link:hover,\n",
       ".sk-estimator-doc-link:hover,\n",
       "div.sk-label-container:hover .sk-estimator-doc-link:hover,\n",
       ".sk-estimator-doc-link:hover {\n",
       "  /* unfitted */\n",
       "  background-color: var(--sklearn-color-unfitted-level-3);\n",
       "  color: var(--sklearn-color-background);\n",
       "  text-decoration: none;\n",
       "}\n",
       "\n",
       "div.sk-estimator.fitted:hover .sk-estimator-doc-link.fitted:hover,\n",
       ".sk-estimator-doc-link.fitted:hover,\n",
       "div.sk-label-container:hover .sk-estimator-doc-link.fitted:hover,\n",
       ".sk-estimator-doc-link.fitted:hover {\n",
       "  /* fitted */\n",
       "  background-color: var(--sklearn-color-fitted-level-3);\n",
       "  color: var(--sklearn-color-background);\n",
       "  text-decoration: none;\n",
       "}\n",
       "\n",
       "/* Span, style for the box shown on hovering the info icon */\n",
       ".sk-estimator-doc-link span {\n",
       "  display: none;\n",
       "  z-index: 9999;\n",
       "  position: relative;\n",
       "  font-weight: normal;\n",
       "  right: .2ex;\n",
       "  padding: .5ex;\n",
       "  margin: .5ex;\n",
       "  width: min-content;\n",
       "  min-width: 20ex;\n",
       "  max-width: 50ex;\n",
       "  color: var(--sklearn-color-text);\n",
       "  box-shadow: 2pt 2pt 4pt #999;\n",
       "  /* unfitted */\n",
       "  background: var(--sklearn-color-unfitted-level-0);\n",
       "  border: .5pt solid var(--sklearn-color-unfitted-level-3);\n",
       "}\n",
       "\n",
       ".sk-estimator-doc-link.fitted span {\n",
       "  /* fitted */\n",
       "  background: var(--sklearn-color-fitted-level-0);\n",
       "  border: var(--sklearn-color-fitted-level-3);\n",
       "}\n",
       "\n",
       ".sk-estimator-doc-link:hover span {\n",
       "  display: block;\n",
       "}\n",
       "\n",
       "/* \"?\"-specific style due to the `<a>` HTML tag */\n",
       "\n",
       "#sk-container-id-3 a.estimator_doc_link {\n",
       "  float: right;\n",
       "  font-size: 1rem;\n",
       "  line-height: 1em;\n",
       "  font-family: monospace;\n",
       "  background-color: var(--sklearn-color-background);\n",
       "  border-radius: 1rem;\n",
       "  height: 1rem;\n",
       "  width: 1rem;\n",
       "  text-decoration: none;\n",
       "  /* unfitted */\n",
       "  color: var(--sklearn-color-unfitted-level-1);\n",
       "  border: var(--sklearn-color-unfitted-level-1) 1pt solid;\n",
       "}\n",
       "\n",
       "#sk-container-id-3 a.estimator_doc_link.fitted {\n",
       "  /* fitted */\n",
       "  border: var(--sklearn-color-fitted-level-1) 1pt solid;\n",
       "  color: var(--sklearn-color-fitted-level-1);\n",
       "}\n",
       "\n",
       "/* On hover */\n",
       "#sk-container-id-3 a.estimator_doc_link:hover {\n",
       "  /* unfitted */\n",
       "  background-color: var(--sklearn-color-unfitted-level-3);\n",
       "  color: var(--sklearn-color-background);\n",
       "  text-decoration: none;\n",
       "}\n",
       "\n",
       "#sk-container-id-3 a.estimator_doc_link.fitted:hover {\n",
       "  /* fitted */\n",
       "  background-color: var(--sklearn-color-fitted-level-3);\n",
       "}\n",
       "</style><div id=\"sk-container-id-3\" class=\"sk-top-container\"><div class=\"sk-text-repr-fallback\"><pre>KNeighborsClassifier(metric=&#x27;manhattan&#x27;, n_neighbors=4)</pre><b>In a Jupyter environment, please rerun this cell to show the HTML representation or trust the notebook. <br />On GitHub, the HTML representation is unable to render, please try loading this page with nbviewer.org.</b></div><div class=\"sk-container\" hidden><div class=\"sk-item\"><div class=\"sk-estimator fitted sk-toggleable\"><input class=\"sk-toggleable__control sk-hidden--visually\" id=\"sk-estimator-id-3\" type=\"checkbox\" checked><label for=\"sk-estimator-id-3\" class=\"sk-toggleable__label fitted sk-toggleable__label-arrow fitted\">&nbsp;&nbsp;KNeighborsClassifier<a class=\"sk-estimator-doc-link fitted\" rel=\"noreferrer\" target=\"_blank\" href=\"https://scikit-learn.org/1.5/modules/generated/sklearn.neighbors.KNeighborsClassifier.html\">?<span>Documentation for KNeighborsClassifier</span></a><span class=\"sk-estimator-doc-link fitted\">i<span>Fitted</span></span></label><div class=\"sk-toggleable__content fitted\"><pre>KNeighborsClassifier(metric=&#x27;manhattan&#x27;, n_neighbors=4)</pre></div> </div></div></div></div>"
      ],
      "text/plain": [
       "KNeighborsClassifier(metric='manhattan', n_neighbors=4)"
      ]
     },
     "execution_count": 46,
     "metadata": {},
     "output_type": "execute_result"
    }
   ],
   "source": [
    "KNN_manhattan = KNeighborsClassifier(n_neighbors=N_NEIGHBORS, metric='manhattan')\n",
    "KNN_manhattan.fit(X_train_scaled, y_train)"
   ]
  },
  {
   "cell_type": "code",
   "execution_count": null,
   "metadata": {
    "id": "zG4Qb0srFqGv",
    "outputId": "5d623139-3686-4e9b-8d91-2cce110e7ec3"
   },
   "outputs": [
    {
     "name": "stdout",
     "output_type": "stream",
     "text": [
      "Hasil Evaluasi cross validation: 0.6294117647058824\n"
     ]
    }
   ],
   "source": [
    "scores = cross_val_score(KNN_manhattan, X_train_scaled, y_train, scoring='accuracy', cv=kfold)\n",
    "print(f'Hasil Evaluasi cross validation: {scores.mean()}')"
   ]
  },
  {
   "cell_type": "code",
   "execution_count": null,
   "metadata": {
    "id": "4YfyGjTsFqGv",
    "outputId": "5fe26156-fec0-4ba4-9037-19a10cde944c"
   },
   "outputs": [
    {
     "name": "stdout",
     "output_type": "stream",
     "text": [
      "Hasil prediksi: [7 5 1 5 2 1 1 2 1 1 3 1 7 6 1 7 7 1 1 5 1 1 7 2 1 1 7 7 2 1 7 1 1 1 1 1 1\n",
      " 2 1 1 1 2 6]\n"
     ]
    }
   ],
   "source": [
    "y_pred = KNN_manhattan.predict(X_test_scaled)\n",
    "print(\"Hasil prediksi:\", y_pred)"
   ]
  },
  {
   "cell_type": "code",
   "execution_count": null,
   "metadata": {
    "id": "NoDpVVJzFqGv",
    "outputId": "d0871e34-13d2-4bda-ebdc-2d9de85f6cc2"
   },
   "outputs": [
    {
     "name": "stdout",
     "output_type": "stream",
     "text": [
      "Hasil Evaluasi berdasarkan classification report:\n",
      "\n",
      "              precision    recall  f1-score   support\n",
      "\n",
      "           1       0.52      0.86      0.65        14\n",
      "           2       0.67      0.27      0.38        15\n",
      "           3       1.00      0.33      0.50         3\n",
      "           5       1.00      1.00      1.00         3\n",
      "           6       1.00      1.00      1.00         2\n",
      "           7       0.75      1.00      0.86         6\n",
      "\n",
      "    accuracy                           0.65        43\n",
      "   macro avg       0.82      0.74      0.73        43\n",
      "weighted avg       0.69      0.65      0.61        43\n",
      "\n",
      "\n",
      "Confusion Matrix:\n"
     ]
    },
    {
     "data": {
      "text/html": [
       "<div>\n",
       "<style scoped>\n",
       "    .dataframe tbody tr th:only-of-type {\n",
       "        vertical-align: middle;\n",
       "    }\n",
       "\n",
       "    .dataframe tbody tr th {\n",
       "        vertical-align: top;\n",
       "    }\n",
       "\n",
       "    .dataframe thead th {\n",
       "        text-align: right;\n",
       "    }\n",
       "</style>\n",
       "<table border=\"1\" class=\"dataframe\">\n",
       "  <thead>\n",
       "    <tr style=\"text-align: right;\">\n",
       "      <th>prediction</th>\n",
       "      <th>1</th>\n",
       "      <th>2</th>\n",
       "      <th>3</th>\n",
       "      <th>5</th>\n",
       "      <th>6</th>\n",
       "      <th>7</th>\n",
       "    </tr>\n",
       "    <tr>\n",
       "      <th>actual</th>\n",
       "      <th></th>\n",
       "      <th></th>\n",
       "      <th></th>\n",
       "      <th></th>\n",
       "      <th></th>\n",
       "      <th></th>\n",
       "    </tr>\n",
       "  </thead>\n",
       "  <tbody>\n",
       "    <tr>\n",
       "      <th>1</th>\n",
       "      <td>12</td>\n",
       "      <td>2</td>\n",
       "      <td>0</td>\n",
       "      <td>0</td>\n",
       "      <td>0</td>\n",
       "      <td>0</td>\n",
       "    </tr>\n",
       "    <tr>\n",
       "      <th>2</th>\n",
       "      <td>9</td>\n",
       "      <td>4</td>\n",
       "      <td>0</td>\n",
       "      <td>0</td>\n",
       "      <td>0</td>\n",
       "      <td>2</td>\n",
       "    </tr>\n",
       "    <tr>\n",
       "      <th>3</th>\n",
       "      <td>2</td>\n",
       "      <td>0</td>\n",
       "      <td>1</td>\n",
       "      <td>0</td>\n",
       "      <td>0</td>\n",
       "      <td>0</td>\n",
       "    </tr>\n",
       "    <tr>\n",
       "      <th>5</th>\n",
       "      <td>0</td>\n",
       "      <td>0</td>\n",
       "      <td>0</td>\n",
       "      <td>3</td>\n",
       "      <td>0</td>\n",
       "      <td>0</td>\n",
       "    </tr>\n",
       "    <tr>\n",
       "      <th>6</th>\n",
       "      <td>0</td>\n",
       "      <td>0</td>\n",
       "      <td>0</td>\n",
       "      <td>0</td>\n",
       "      <td>2</td>\n",
       "      <td>0</td>\n",
       "    </tr>\n",
       "    <tr>\n",
       "      <th>7</th>\n",
       "      <td>0</td>\n",
       "      <td>0</td>\n",
       "      <td>0</td>\n",
       "      <td>0</td>\n",
       "      <td>0</td>\n",
       "      <td>6</td>\n",
       "    </tr>\n",
       "  </tbody>\n",
       "</table>\n",
       "</div>"
      ],
      "text/plain": [
       "prediction   1  2  3  5  6  7\n",
       "actual                       \n",
       "1           12  2  0  0  0  0\n",
       "2            9  4  0  0  0  2\n",
       "3            2  0  1  0  0  0\n",
       "5            0  0  0  3  0  0\n",
       "6            0  0  0  0  2  0\n",
       "7            0  0  0  0  0  6"
      ]
     },
     "metadata": {},
     "output_type": "display_data"
    },
    {
     "name": "stdout",
     "output_type": "stream",
     "text": [
      "\n",
      "Butuh informasi lebih lengkap? Silakan simak di bawah ini:\n",
      "Accuracy: 0.6511627906976745\n",
      "F1 Macro Average: 0.731123981123981\n",
      "F1 Micro Average: 0.6511627906976745\n",
      "Precision Macro Average: 0.8230676328502415\n",
      "Precision Micro Average: 0.6511627906976745\n",
      "Recall Macro Average: 0.7428571428571429\n",
      "Recall Micro Average: 0.6511627906976745\n"
     ]
    }
   ],
   "source": [
    "evaluate_classifier_performance(y_pred, y_test)"
   ]
  },
  {
   "cell_type": "markdown",
   "metadata": {
    "id": "qF2yNIeSFqGv"
   },
   "source": [
    "#### KNN dengan *Jaccard Similarity*"
   ]
  },
  {
   "cell_type": "code",
   "execution_count": null,
   "metadata": {
    "id": "8fc4c6l0FqGv",
    "outputId": "a2b3bb26-d3e2-4051-b799-dbc11f8f63ff"
   },
   "outputs": [
    {
     "data": {
      "text/html": [
       "<style>#sk-container-id-4 {\n",
       "  /* Definition of color scheme common for light and dark mode */\n",
       "  --sklearn-color-text: black;\n",
       "  --sklearn-color-line: gray;\n",
       "  /* Definition of color scheme for unfitted estimators */\n",
       "  --sklearn-color-unfitted-level-0: #fff5e6;\n",
       "  --sklearn-color-unfitted-level-1: #f6e4d2;\n",
       "  --sklearn-color-unfitted-level-2: #ffe0b3;\n",
       "  --sklearn-color-unfitted-level-3: chocolate;\n",
       "  /* Definition of color scheme for fitted estimators */\n",
       "  --sklearn-color-fitted-level-0: #f0f8ff;\n",
       "  --sklearn-color-fitted-level-1: #d4ebff;\n",
       "  --sklearn-color-fitted-level-2: #b3dbfd;\n",
       "  --sklearn-color-fitted-level-3: cornflowerblue;\n",
       "\n",
       "  /* Specific color for light theme */\n",
       "  --sklearn-color-text-on-default-background: var(--sg-text-color, var(--theme-code-foreground, var(--jp-content-font-color1, black)));\n",
       "  --sklearn-color-background: var(--sg-background-color, var(--theme-background, var(--jp-layout-color0, white)));\n",
       "  --sklearn-color-border-box: var(--sg-text-color, var(--theme-code-foreground, var(--jp-content-font-color1, black)));\n",
       "  --sklearn-color-icon: #696969;\n",
       "\n",
       "  @media (prefers-color-scheme: dark) {\n",
       "    /* Redefinition of color scheme for dark theme */\n",
       "    --sklearn-color-text-on-default-background: var(--sg-text-color, var(--theme-code-foreground, var(--jp-content-font-color1, white)));\n",
       "    --sklearn-color-background: var(--sg-background-color, var(--theme-background, var(--jp-layout-color0, #111)));\n",
       "    --sklearn-color-border-box: var(--sg-text-color, var(--theme-code-foreground, var(--jp-content-font-color1, white)));\n",
       "    --sklearn-color-icon: #878787;\n",
       "  }\n",
       "}\n",
       "\n",
       "#sk-container-id-4 {\n",
       "  color: var(--sklearn-color-text);\n",
       "}\n",
       "\n",
       "#sk-container-id-4 pre {\n",
       "  padding: 0;\n",
       "}\n",
       "\n",
       "#sk-container-id-4 input.sk-hidden--visually {\n",
       "  border: 0;\n",
       "  clip: rect(1px 1px 1px 1px);\n",
       "  clip: rect(1px, 1px, 1px, 1px);\n",
       "  height: 1px;\n",
       "  margin: -1px;\n",
       "  overflow: hidden;\n",
       "  padding: 0;\n",
       "  position: absolute;\n",
       "  width: 1px;\n",
       "}\n",
       "\n",
       "#sk-container-id-4 div.sk-dashed-wrapped {\n",
       "  border: 1px dashed var(--sklearn-color-line);\n",
       "  margin: 0 0.4em 0.5em 0.4em;\n",
       "  box-sizing: border-box;\n",
       "  padding-bottom: 0.4em;\n",
       "  background-color: var(--sklearn-color-background);\n",
       "}\n",
       "\n",
       "#sk-container-id-4 div.sk-container {\n",
       "  /* jupyter's `normalize.less` sets `[hidden] { display: none; }`\n",
       "     but bootstrap.min.css set `[hidden] { display: none !important; }`\n",
       "     so we also need the `!important` here to be able to override the\n",
       "     default hidden behavior on the sphinx rendered scikit-learn.org.\n",
       "     See: https://github.com/scikit-learn/scikit-learn/issues/21755 */\n",
       "  display: inline-block !important;\n",
       "  position: relative;\n",
       "}\n",
       "\n",
       "#sk-container-id-4 div.sk-text-repr-fallback {\n",
       "  display: none;\n",
       "}\n",
       "\n",
       "div.sk-parallel-item,\n",
       "div.sk-serial,\n",
       "div.sk-item {\n",
       "  /* draw centered vertical line to link estimators */\n",
       "  background-image: linear-gradient(var(--sklearn-color-text-on-default-background), var(--sklearn-color-text-on-default-background));\n",
       "  background-size: 2px 100%;\n",
       "  background-repeat: no-repeat;\n",
       "  background-position: center center;\n",
       "}\n",
       "\n",
       "/* Parallel-specific style estimator block */\n",
       "\n",
       "#sk-container-id-4 div.sk-parallel-item::after {\n",
       "  content: \"\";\n",
       "  width: 100%;\n",
       "  border-bottom: 2px solid var(--sklearn-color-text-on-default-background);\n",
       "  flex-grow: 1;\n",
       "}\n",
       "\n",
       "#sk-container-id-4 div.sk-parallel {\n",
       "  display: flex;\n",
       "  align-items: stretch;\n",
       "  justify-content: center;\n",
       "  background-color: var(--sklearn-color-background);\n",
       "  position: relative;\n",
       "}\n",
       "\n",
       "#sk-container-id-4 div.sk-parallel-item {\n",
       "  display: flex;\n",
       "  flex-direction: column;\n",
       "}\n",
       "\n",
       "#sk-container-id-4 div.sk-parallel-item:first-child::after {\n",
       "  align-self: flex-end;\n",
       "  width: 50%;\n",
       "}\n",
       "\n",
       "#sk-container-id-4 div.sk-parallel-item:last-child::after {\n",
       "  align-self: flex-start;\n",
       "  width: 50%;\n",
       "}\n",
       "\n",
       "#sk-container-id-4 div.sk-parallel-item:only-child::after {\n",
       "  width: 0;\n",
       "}\n",
       "\n",
       "/* Serial-specific style estimator block */\n",
       "\n",
       "#sk-container-id-4 div.sk-serial {\n",
       "  display: flex;\n",
       "  flex-direction: column;\n",
       "  align-items: center;\n",
       "  background-color: var(--sklearn-color-background);\n",
       "  padding-right: 1em;\n",
       "  padding-left: 1em;\n",
       "}\n",
       "\n",
       "\n",
       "/* Toggleable style: style used for estimator/Pipeline/ColumnTransformer box that is\n",
       "clickable and can be expanded/collapsed.\n",
       "- Pipeline and ColumnTransformer use this feature and define the default style\n",
       "- Estimators will overwrite some part of the style using the `sk-estimator` class\n",
       "*/\n",
       "\n",
       "/* Pipeline and ColumnTransformer style (default) */\n",
       "\n",
       "#sk-container-id-4 div.sk-toggleable {\n",
       "  /* Default theme specific background. It is overwritten whether we have a\n",
       "  specific estimator or a Pipeline/ColumnTransformer */\n",
       "  background-color: var(--sklearn-color-background);\n",
       "}\n",
       "\n",
       "/* Toggleable label */\n",
       "#sk-container-id-4 label.sk-toggleable__label {\n",
       "  cursor: pointer;\n",
       "  display: block;\n",
       "  width: 100%;\n",
       "  margin-bottom: 0;\n",
       "  padding: 0.5em;\n",
       "  box-sizing: border-box;\n",
       "  text-align: center;\n",
       "}\n",
       "\n",
       "#sk-container-id-4 label.sk-toggleable__label-arrow:before {\n",
       "  /* Arrow on the left of the label */\n",
       "  content: \"▸\";\n",
       "  float: left;\n",
       "  margin-right: 0.25em;\n",
       "  color: var(--sklearn-color-icon);\n",
       "}\n",
       "\n",
       "#sk-container-id-4 label.sk-toggleable__label-arrow:hover:before {\n",
       "  color: var(--sklearn-color-text);\n",
       "}\n",
       "\n",
       "/* Toggleable content - dropdown */\n",
       "\n",
       "#sk-container-id-4 div.sk-toggleable__content {\n",
       "  max-height: 0;\n",
       "  max-width: 0;\n",
       "  overflow: hidden;\n",
       "  text-align: left;\n",
       "  /* unfitted */\n",
       "  background-color: var(--sklearn-color-unfitted-level-0);\n",
       "}\n",
       "\n",
       "#sk-container-id-4 div.sk-toggleable__content.fitted {\n",
       "  /* fitted */\n",
       "  background-color: var(--sklearn-color-fitted-level-0);\n",
       "}\n",
       "\n",
       "#sk-container-id-4 div.sk-toggleable__content pre {\n",
       "  margin: 0.2em;\n",
       "  border-radius: 0.25em;\n",
       "  color: var(--sklearn-color-text);\n",
       "  /* unfitted */\n",
       "  background-color: var(--sklearn-color-unfitted-level-0);\n",
       "}\n",
       "\n",
       "#sk-container-id-4 div.sk-toggleable__content.fitted pre {\n",
       "  /* unfitted */\n",
       "  background-color: var(--sklearn-color-fitted-level-0);\n",
       "}\n",
       "\n",
       "#sk-container-id-4 input.sk-toggleable__control:checked~div.sk-toggleable__content {\n",
       "  /* Expand drop-down */\n",
       "  max-height: 200px;\n",
       "  max-width: 100%;\n",
       "  overflow: auto;\n",
       "}\n",
       "\n",
       "#sk-container-id-4 input.sk-toggleable__control:checked~label.sk-toggleable__label-arrow:before {\n",
       "  content: \"▾\";\n",
       "}\n",
       "\n",
       "/* Pipeline/ColumnTransformer-specific style */\n",
       "\n",
       "#sk-container-id-4 div.sk-label input.sk-toggleable__control:checked~label.sk-toggleable__label {\n",
       "  color: var(--sklearn-color-text);\n",
       "  background-color: var(--sklearn-color-unfitted-level-2);\n",
       "}\n",
       "\n",
       "#sk-container-id-4 div.sk-label.fitted input.sk-toggleable__control:checked~label.sk-toggleable__label {\n",
       "  background-color: var(--sklearn-color-fitted-level-2);\n",
       "}\n",
       "\n",
       "/* Estimator-specific style */\n",
       "\n",
       "/* Colorize estimator box */\n",
       "#sk-container-id-4 div.sk-estimator input.sk-toggleable__control:checked~label.sk-toggleable__label {\n",
       "  /* unfitted */\n",
       "  background-color: var(--sklearn-color-unfitted-level-2);\n",
       "}\n",
       "\n",
       "#sk-container-id-4 div.sk-estimator.fitted input.sk-toggleable__control:checked~label.sk-toggleable__label {\n",
       "  /* fitted */\n",
       "  background-color: var(--sklearn-color-fitted-level-2);\n",
       "}\n",
       "\n",
       "#sk-container-id-4 div.sk-label label.sk-toggleable__label,\n",
       "#sk-container-id-4 div.sk-label label {\n",
       "  /* The background is the default theme color */\n",
       "  color: var(--sklearn-color-text-on-default-background);\n",
       "}\n",
       "\n",
       "/* On hover, darken the color of the background */\n",
       "#sk-container-id-4 div.sk-label:hover label.sk-toggleable__label {\n",
       "  color: var(--sklearn-color-text);\n",
       "  background-color: var(--sklearn-color-unfitted-level-2);\n",
       "}\n",
       "\n",
       "/* Label box, darken color on hover, fitted */\n",
       "#sk-container-id-4 div.sk-label.fitted:hover label.sk-toggleable__label.fitted {\n",
       "  color: var(--sklearn-color-text);\n",
       "  background-color: var(--sklearn-color-fitted-level-2);\n",
       "}\n",
       "\n",
       "/* Estimator label */\n",
       "\n",
       "#sk-container-id-4 div.sk-label label {\n",
       "  font-family: monospace;\n",
       "  font-weight: bold;\n",
       "  display: inline-block;\n",
       "  line-height: 1.2em;\n",
       "}\n",
       "\n",
       "#sk-container-id-4 div.sk-label-container {\n",
       "  text-align: center;\n",
       "}\n",
       "\n",
       "/* Estimator-specific */\n",
       "#sk-container-id-4 div.sk-estimator {\n",
       "  font-family: monospace;\n",
       "  border: 1px dotted var(--sklearn-color-border-box);\n",
       "  border-radius: 0.25em;\n",
       "  box-sizing: border-box;\n",
       "  margin-bottom: 0.5em;\n",
       "  /* unfitted */\n",
       "  background-color: var(--sklearn-color-unfitted-level-0);\n",
       "}\n",
       "\n",
       "#sk-container-id-4 div.sk-estimator.fitted {\n",
       "  /* fitted */\n",
       "  background-color: var(--sklearn-color-fitted-level-0);\n",
       "}\n",
       "\n",
       "/* on hover */\n",
       "#sk-container-id-4 div.sk-estimator:hover {\n",
       "  /* unfitted */\n",
       "  background-color: var(--sklearn-color-unfitted-level-2);\n",
       "}\n",
       "\n",
       "#sk-container-id-4 div.sk-estimator.fitted:hover {\n",
       "  /* fitted */\n",
       "  background-color: var(--sklearn-color-fitted-level-2);\n",
       "}\n",
       "\n",
       "/* Specification for estimator info (e.g. \"i\" and \"?\") */\n",
       "\n",
       "/* Common style for \"i\" and \"?\" */\n",
       "\n",
       ".sk-estimator-doc-link,\n",
       "a:link.sk-estimator-doc-link,\n",
       "a:visited.sk-estimator-doc-link {\n",
       "  float: right;\n",
       "  font-size: smaller;\n",
       "  line-height: 1em;\n",
       "  font-family: monospace;\n",
       "  background-color: var(--sklearn-color-background);\n",
       "  border-radius: 1em;\n",
       "  height: 1em;\n",
       "  width: 1em;\n",
       "  text-decoration: none !important;\n",
       "  margin-left: 1ex;\n",
       "  /* unfitted */\n",
       "  border: var(--sklearn-color-unfitted-level-1) 1pt solid;\n",
       "  color: var(--sklearn-color-unfitted-level-1);\n",
       "}\n",
       "\n",
       ".sk-estimator-doc-link.fitted,\n",
       "a:link.sk-estimator-doc-link.fitted,\n",
       "a:visited.sk-estimator-doc-link.fitted {\n",
       "  /* fitted */\n",
       "  border: var(--sklearn-color-fitted-level-1) 1pt solid;\n",
       "  color: var(--sklearn-color-fitted-level-1);\n",
       "}\n",
       "\n",
       "/* On hover */\n",
       "div.sk-estimator:hover .sk-estimator-doc-link:hover,\n",
       ".sk-estimator-doc-link:hover,\n",
       "div.sk-label-container:hover .sk-estimator-doc-link:hover,\n",
       ".sk-estimator-doc-link:hover {\n",
       "  /* unfitted */\n",
       "  background-color: var(--sklearn-color-unfitted-level-3);\n",
       "  color: var(--sklearn-color-background);\n",
       "  text-decoration: none;\n",
       "}\n",
       "\n",
       "div.sk-estimator.fitted:hover .sk-estimator-doc-link.fitted:hover,\n",
       ".sk-estimator-doc-link.fitted:hover,\n",
       "div.sk-label-container:hover .sk-estimator-doc-link.fitted:hover,\n",
       ".sk-estimator-doc-link.fitted:hover {\n",
       "  /* fitted */\n",
       "  background-color: var(--sklearn-color-fitted-level-3);\n",
       "  color: var(--sklearn-color-background);\n",
       "  text-decoration: none;\n",
       "}\n",
       "\n",
       "/* Span, style for the box shown on hovering the info icon */\n",
       ".sk-estimator-doc-link span {\n",
       "  display: none;\n",
       "  z-index: 9999;\n",
       "  position: relative;\n",
       "  font-weight: normal;\n",
       "  right: .2ex;\n",
       "  padding: .5ex;\n",
       "  margin: .5ex;\n",
       "  width: min-content;\n",
       "  min-width: 20ex;\n",
       "  max-width: 50ex;\n",
       "  color: var(--sklearn-color-text);\n",
       "  box-shadow: 2pt 2pt 4pt #999;\n",
       "  /* unfitted */\n",
       "  background: var(--sklearn-color-unfitted-level-0);\n",
       "  border: .5pt solid var(--sklearn-color-unfitted-level-3);\n",
       "}\n",
       "\n",
       ".sk-estimator-doc-link.fitted span {\n",
       "  /* fitted */\n",
       "  background: var(--sklearn-color-fitted-level-0);\n",
       "  border: var(--sklearn-color-fitted-level-3);\n",
       "}\n",
       "\n",
       ".sk-estimator-doc-link:hover span {\n",
       "  display: block;\n",
       "}\n",
       "\n",
       "/* \"?\"-specific style due to the `<a>` HTML tag */\n",
       "\n",
       "#sk-container-id-4 a.estimator_doc_link {\n",
       "  float: right;\n",
       "  font-size: 1rem;\n",
       "  line-height: 1em;\n",
       "  font-family: monospace;\n",
       "  background-color: var(--sklearn-color-background);\n",
       "  border-radius: 1rem;\n",
       "  height: 1rem;\n",
       "  width: 1rem;\n",
       "  text-decoration: none;\n",
       "  /* unfitted */\n",
       "  color: var(--sklearn-color-unfitted-level-1);\n",
       "  border: var(--sklearn-color-unfitted-level-1) 1pt solid;\n",
       "}\n",
       "\n",
       "#sk-container-id-4 a.estimator_doc_link.fitted {\n",
       "  /* fitted */\n",
       "  border: var(--sklearn-color-fitted-level-1) 1pt solid;\n",
       "  color: var(--sklearn-color-fitted-level-1);\n",
       "}\n",
       "\n",
       "/* On hover */\n",
       "#sk-container-id-4 a.estimator_doc_link:hover {\n",
       "  /* unfitted */\n",
       "  background-color: var(--sklearn-color-unfitted-level-3);\n",
       "  color: var(--sklearn-color-background);\n",
       "  text-decoration: none;\n",
       "}\n",
       "\n",
       "#sk-container-id-4 a.estimator_doc_link.fitted:hover {\n",
       "  /* fitted */\n",
       "  background-color: var(--sklearn-color-fitted-level-3);\n",
       "}\n",
       "</style><div id=\"sk-container-id-4\" class=\"sk-top-container\"><div class=\"sk-text-repr-fallback\"><pre>KNeighborsClassifier(metric=&#x27;jaccard&#x27;, n_neighbors=4)</pre><b>In a Jupyter environment, please rerun this cell to show the HTML representation or trust the notebook. <br />On GitHub, the HTML representation is unable to render, please try loading this page with nbviewer.org.</b></div><div class=\"sk-container\" hidden><div class=\"sk-item\"><div class=\"sk-estimator fitted sk-toggleable\"><input class=\"sk-toggleable__control sk-hidden--visually\" id=\"sk-estimator-id-4\" type=\"checkbox\" checked><label for=\"sk-estimator-id-4\" class=\"sk-toggleable__label fitted sk-toggleable__label-arrow fitted\">&nbsp;&nbsp;KNeighborsClassifier<a class=\"sk-estimator-doc-link fitted\" rel=\"noreferrer\" target=\"_blank\" href=\"https://scikit-learn.org/1.5/modules/generated/sklearn.neighbors.KNeighborsClassifier.html\">?<span>Documentation for KNeighborsClassifier</span></a><span class=\"sk-estimator-doc-link fitted\">i<span>Fitted</span></span></label><div class=\"sk-toggleable__content fitted\"><pre>KNeighborsClassifier(metric=&#x27;jaccard&#x27;, n_neighbors=4)</pre></div> </div></div></div></div>"
      ],
      "text/plain": [
       "KNeighborsClassifier(metric='jaccard', n_neighbors=4)"
      ]
     },
     "execution_count": 50,
     "metadata": {},
     "output_type": "execute_result"
    }
   ],
   "source": [
    "KNN_jaccard = KNeighborsClassifier(n_neighbors=N_NEIGHBORS, metric='jaccard')\n",
    "KNN_jaccard.fit(X_train_scaled, y_train)"
   ]
  },
  {
   "cell_type": "code",
   "execution_count": null,
   "metadata": {
    "id": "wOHEAmzbFqGv",
    "outputId": "573a0b4c-f116-441b-d167-2e302ef09cf5"
   },
   "outputs": [
    {
     "name": "stdout",
     "output_type": "stream",
     "text": [
      "Hasil Evaluasi cross validation: 0.5\n"
     ]
    }
   ],
   "source": [
    "scores = cross_val_score(KNN_jaccard, X_train_scaled, y_train, scoring='accuracy', cv=kfold)\n",
    "print(f'Hasil Evaluasi cross validation: {scores.mean()}')"
   ]
  },
  {
   "cell_type": "code",
   "execution_count": null,
   "metadata": {
    "id": "RQICPjzrFqGw",
    "outputId": "6a89572f-6452-41cb-fe56-923effa0684b"
   },
   "outputs": [
    {
     "name": "stdout",
     "output_type": "stream",
     "text": [
      "Hasil prediksi: [7 2 1 2 1 1 1 1 1 1 1 1 2 6 1 2 7 1 1 2 1 1 7 1 1 1 2 7 1 1 1 1 1 1 1 1 1\n",
      " 1 1 1 1 7 6]\n"
     ]
    }
   ],
   "source": [
    "y_pred = KNN_jaccard.predict(X_test_scaled)\n",
    "print(\"Hasil prediksi:\", y_pred)"
   ]
  },
  {
   "cell_type": "code",
   "execution_count": null,
   "metadata": {
    "id": "BlmX6xCXFqGw",
    "outputId": "3737d46f-fb14-45fb-b4ca-f72c64680670"
   },
   "outputs": [
    {
     "name": "stdout",
     "output_type": "stream",
     "text": [
      "Hasil Evaluasi berdasarkan classification report:\n",
      "\n",
      "              precision    recall  f1-score   support\n",
      "\n",
      "           1       0.47      1.00      0.64        14\n",
      "           2       0.17      0.07      0.10        15\n",
      "           3       0.00      0.00      0.00         3\n",
      "           5       0.00      0.00      0.00         3\n",
      "           6       1.00      1.00      1.00         2\n",
      "           7       0.60      0.50      0.55         6\n",
      "\n",
      "    accuracy                           0.47        43\n",
      "   macro avg       0.37      0.43      0.38        43\n",
      "weighted avg       0.34      0.47      0.36        43\n",
      "\n",
      "\n",
      "Confusion Matrix:\n"
     ]
    },
    {
     "data": {
      "text/html": [
       "<div>\n",
       "<style scoped>\n",
       "    .dataframe tbody tr th:only-of-type {\n",
       "        vertical-align: middle;\n",
       "    }\n",
       "\n",
       "    .dataframe tbody tr th {\n",
       "        vertical-align: top;\n",
       "    }\n",
       "\n",
       "    .dataframe thead th {\n",
       "        text-align: right;\n",
       "    }\n",
       "</style>\n",
       "<table border=\"1\" class=\"dataframe\">\n",
       "  <thead>\n",
       "    <tr style=\"text-align: right;\">\n",
       "      <th>prediction</th>\n",
       "      <th>1</th>\n",
       "      <th>2</th>\n",
       "      <th>6</th>\n",
       "      <th>7</th>\n",
       "    </tr>\n",
       "    <tr>\n",
       "      <th>actual</th>\n",
       "      <th></th>\n",
       "      <th></th>\n",
       "      <th></th>\n",
       "      <th></th>\n",
       "    </tr>\n",
       "  </thead>\n",
       "  <tbody>\n",
       "    <tr>\n",
       "      <th>1</th>\n",
       "      <td>14</td>\n",
       "      <td>0</td>\n",
       "      <td>0</td>\n",
       "      <td>0</td>\n",
       "    </tr>\n",
       "    <tr>\n",
       "      <th>2</th>\n",
       "      <td>12</td>\n",
       "      <td>1</td>\n",
       "      <td>0</td>\n",
       "      <td>2</td>\n",
       "    </tr>\n",
       "    <tr>\n",
       "      <th>3</th>\n",
       "      <td>3</td>\n",
       "      <td>0</td>\n",
       "      <td>0</td>\n",
       "      <td>0</td>\n",
       "    </tr>\n",
       "    <tr>\n",
       "      <th>5</th>\n",
       "      <td>0</td>\n",
       "      <td>3</td>\n",
       "      <td>0</td>\n",
       "      <td>0</td>\n",
       "    </tr>\n",
       "    <tr>\n",
       "      <th>6</th>\n",
       "      <td>0</td>\n",
       "      <td>0</td>\n",
       "      <td>2</td>\n",
       "      <td>0</td>\n",
       "    </tr>\n",
       "    <tr>\n",
       "      <th>7</th>\n",
       "      <td>1</td>\n",
       "      <td>2</td>\n",
       "      <td>0</td>\n",
       "      <td>3</td>\n",
       "    </tr>\n",
       "  </tbody>\n",
       "</table>\n",
       "</div>"
      ],
      "text/plain": [
       "prediction   1  2  6  7\n",
       "actual                 \n",
       "1           14  0  0  0\n",
       "2           12  1  0  2\n",
       "3            3  0  0  0\n",
       "5            0  3  0  0\n",
       "6            0  0  2  0\n",
       "7            1  2  0  3"
      ]
     },
     "metadata": {},
     "output_type": "display_data"
    },
    {
     "name": "stdout",
     "output_type": "stream",
     "text": [
      "\n",
      "Butuh informasi lebih lengkap? Silakan simak di bawah ini:\n",
      "Accuracy: 0.46511627906976744\n",
      "F1 Macro Average: 0.3795093795093795\n",
      "F1 Micro Average: 0.46511627906976744\n",
      "Precision Macro Average: 0.37222222222222223\n",
      "Precision Micro Average: 0.46511627906976744\n",
      "Recall Macro Average: 0.42777777777777776\n",
      "Recall Micro Average: 0.46511627906976744\n"
     ]
    }
   ],
   "source": [
    "evaluate_classifier_performance(y_pred, y_test)"
   ]
  },
  {
   "cell_type": "markdown",
   "metadata": {
    "id": "_0SeyqrQFqGw"
   },
   "source": [
    "Berdasarkan hasil evaluasi beberapa model di atas, terlihat bahwa model menghasilkan performa yang kurang optimal saat menggunakan metrik `Jaccard`. Hal ini terjadi karena metrik Jaccard umumnya digunakan untuk menghitung kesamaan (*similarity*) atau ketidaksamaan (*dissimilarity*) antara fitur-fitur yang bersifat biner atau kategorikal. Sementara itu, semua fitur dalam dataset kita sudah dalam bentuk numerik. Akibatnya, metrik Jaccard tidak cocok untuk menghitung jarak antara atribut-atribut numerik, sehingga berdampak pada kinerja model yang dihasilkan menjadi kurang baik."
   ]
  },
  {
   "cell_type": "markdown",
   "metadata": {
    "id": "BbCaBkxhFqGw"
   },
   "source": [
    "### Hyperparameter Tuning"
   ]
  },
  {
   "cell_type": "markdown",
   "metadata": {
    "id": "jW_wVi7tFqGw"
   },
   "source": [
    "Seperti yang sudah dikatakan sebelumnya, dalam memilih nilai K yang terbaik kita perlu melakukan cross validation. Kita akan melakukan hal ini dengan hyperparameter tuning menggunakan bantuan grid search cv. Scoring yang akan kita gunakan pada fase tuning adalah accuracy, artinya adalah kita akan mengambil parameter terbaik yang memberikan nilai akurasi terbaik. Berikut adalah contohnya."
   ]
  },
  {
   "cell_type": "code",
   "execution_count": null,
   "metadata": {
    "id": "Ttyb-prKFqGw"
   },
   "outputs": [],
   "source": [
    "# Optimalisasi KNN dengan GridSearchCV\n",
    "from sklearn.model_selection import GridSearchCV\n",
    "\n",
    "model = KNeighborsClassifier()\n",
    "\n",
    "# Parameter yang akan di-tuning\n",
    "tunned_params = {\n",
    "\t'n_neighbors': list(range(1, 21)),\n",
    "\t'metric': ['euclidean', 'manhattan', 'jaccard']\n",
    "}"
   ]
  },
  {
   "cell_type": "code",
   "execution_count": null,
   "metadata": {
    "id": "O3bIqtFwFqGw",
    "outputId": "f2512ecf-7c25-4046-bf86-2584e5b74340"
   },
   "outputs": [
    {
     "name": "stdout",
     "output_type": "stream",
     "text": [
      "Tuning hyperparameters model KNN\n",
      "\n",
      "Fitting 5 folds for each of 60 candidates, totalling 300 fits\n",
      "[CV] END ....................metric=euclidean, n_neighbors=1; total time=   0.0s\n",
      "[CV] END ....................metric=euclidean, n_neighbors=1; total time=   0.0s\n",
      "[CV] END ....................metric=euclidean, n_neighbors=1; total time=   0.0s\n",
      "[CV] END ....................metric=euclidean, n_neighbors=1; total time=   0.0s\n",
      "[CV] END ....................metric=euclidean, n_neighbors=1; total time=   0.0s\n",
      "[CV] END ....................metric=euclidean, n_neighbors=2; total time=   0.0s\n",
      "[CV] END ....................metric=euclidean, n_neighbors=2; total time=   0.0s\n",
      "[CV] END ....................metric=euclidean, n_neighbors=2; total time=   0.0s\n",
      "[CV] END ....................metric=euclidean, n_neighbors=2; total time=   0.0s\n",
      "[CV] END ....................metric=euclidean, n_neighbors=2; total time=   0.0s\n",
      "[CV] END ....................metric=euclidean, n_neighbors=3; total time=   0.0s\n",
      "[CV] END ....................metric=euclidean, n_neighbors=3; total time=   0.0s\n",
      "[CV] END ....................metric=euclidean, n_neighbors=3; total time=   0.0s\n",
      "[CV] END ....................metric=euclidean, n_neighbors=3; total time=   0.0s\n",
      "[CV] END ....................metric=euclidean, n_neighbors=3; total time=   0.0s\n",
      "[CV] END ....................metric=euclidean, n_neighbors=4; total time=   0.0s\n",
      "[CV] END ....................metric=euclidean, n_neighbors=4; total time=   0.0s\n",
      "[CV] END ....................metric=euclidean, n_neighbors=4; total time=   0.0s\n",
      "[CV] END ....................metric=euclidean, n_neighbors=4; total time=   0.0s\n",
      "[CV] END ....................metric=euclidean, n_neighbors=4; total time=   0.0s\n",
      "[CV] END ....................metric=euclidean, n_neighbors=5; total time=   0.0s\n",
      "[CV] END ....................metric=euclidean, n_neighbors=5; total time=   0.0s\n",
      "[CV] END ....................metric=euclidean, n_neighbors=5; total time=   0.0s\n",
      "[CV] END ....................metric=euclidean, n_neighbors=5; total time=   0.0s\n",
      "[CV] END ....................metric=euclidean, n_neighbors=5; total time=   0.0s\n",
      "[CV] END ....................metric=euclidean, n_neighbors=6; total time=   0.0s\n",
      "[CV] END ....................metric=euclidean, n_neighbors=6; total time=   0.0s\n",
      "[CV] END ....................metric=euclidean, n_neighbors=6; total time=   0.0s\n",
      "[CV] END ....................metric=euclidean, n_neighbors=6; total time=   0.0s\n",
      "[CV] END ....................metric=euclidean, n_neighbors=6; total time=   0.0s\n",
      "[CV] END ....................metric=euclidean, n_neighbors=7; total time=   0.0s\n",
      "[CV] END ....................metric=euclidean, n_neighbors=7; total time=   0.0s\n",
      "[CV] END ....................metric=euclidean, n_neighbors=7; total time=   0.0s\n",
      "[CV] END ....................metric=euclidean, n_neighbors=7; total time=   0.0s\n",
      "[CV] END ....................metric=euclidean, n_neighbors=7; total time=   0.0s\n",
      "[CV] END ....................metric=euclidean, n_neighbors=8; total time=   0.0s\n",
      "[CV] END ....................metric=euclidean, n_neighbors=8; total time=   0.0s\n",
      "[CV] END ....................metric=euclidean, n_neighbors=8; total time=   0.0s\n",
      "[CV] END ....................metric=euclidean, n_neighbors=8; total time=   0.0s\n",
      "[CV] END ....................metric=euclidean, n_neighbors=8; total time=   0.0s\n",
      "[CV] END ....................metric=euclidean, n_neighbors=9; total time=   0.0s\n",
      "[CV] END ....................metric=euclidean, n_neighbors=9; total time=   0.0s\n",
      "[CV] END ....................metric=euclidean, n_neighbors=9; total time=   0.0s\n",
      "[CV] END ....................metric=euclidean, n_neighbors=9; total time=   0.0s\n",
      "[CV] END ....................metric=euclidean, n_neighbors=9; total time=   0.0s\n",
      "[CV] END ...................metric=euclidean, n_neighbors=10; total time=   0.0s\n",
      "[CV] END ...................metric=euclidean, n_neighbors=10; total time=   0.0s\n",
      "[CV] END ...................metric=euclidean, n_neighbors=10; total time=   0.0s\n",
      "[CV] END ...................metric=euclidean, n_neighbors=10; total time=   0.0s\n",
      "[CV] END ...................metric=euclidean, n_neighbors=10; total time=   0.0s\n",
      "[CV] END ...................metric=euclidean, n_neighbors=11; total time=   0.0s\n",
      "[CV] END ...................metric=euclidean, n_neighbors=11; total time=   0.0s\n",
      "[CV] END ...................metric=euclidean, n_neighbors=11; total time=   0.0s\n",
      "[CV] END ...................metric=euclidean, n_neighbors=11; total time=   0.0s\n",
      "[CV] END ...................metric=euclidean, n_neighbors=11; total time=   0.0s\n",
      "[CV] END ...................metric=euclidean, n_neighbors=12; total time=   0.0s\n",
      "[CV] END ...................metric=euclidean, n_neighbors=12; total time=   0.0s\n",
      "[CV] END ...................metric=euclidean, n_neighbors=12; total time=   0.0s\n",
      "[CV] END ...................metric=euclidean, n_neighbors=12; total time=   0.0s\n",
      "[CV] END ...................metric=euclidean, n_neighbors=12; total time=   0.0s\n",
      "[CV] END ...................metric=euclidean, n_neighbors=13; total time=   0.0s\n",
      "[CV] END ...................metric=euclidean, n_neighbors=13; total time=   0.0s\n",
      "[CV] END ...................metric=euclidean, n_neighbors=13; total time=   0.0s\n",
      "[CV] END ...................metric=euclidean, n_neighbors=13; total time=   0.0s\n",
      "[CV] END ...................metric=euclidean, n_neighbors=13; total time=   0.0s\n",
      "[CV] END ...................metric=euclidean, n_neighbors=14; total time=   0.0s\n",
      "[CV] END ...................metric=euclidean, n_neighbors=14; total time=   0.0s\n",
      "[CV] END ...................metric=euclidean, n_neighbors=14; total time=   0.0s\n",
      "[CV] END ...................metric=euclidean, n_neighbors=14; total time=   0.0s\n",
      "[CV] END ...................metric=euclidean, n_neighbors=14; total time=   0.0s\n",
      "[CV] END ...................metric=euclidean, n_neighbors=15; total time=   0.0s\n",
      "[CV] END ...................metric=euclidean, n_neighbors=15; total time=   0.0s\n",
      "[CV] END ...................metric=euclidean, n_neighbors=15; total time=   0.0s\n",
      "[CV] END ...................metric=euclidean, n_neighbors=15; total time=   0.0s\n",
      "[CV] END ...................metric=euclidean, n_neighbors=15; total time=   0.0s\n",
      "[CV] END ...................metric=euclidean, n_neighbors=16; total time=   0.0s\n",
      "[CV] END ...................metric=euclidean, n_neighbors=16; total time=   0.0s\n",
      "[CV] END ...................metric=euclidean, n_neighbors=16; total time=   0.0s\n",
      "[CV] END ...................metric=euclidean, n_neighbors=16; total time=   0.0s\n",
      "[CV] END ...................metric=euclidean, n_neighbors=16; total time=   0.0s\n",
      "[CV] END ...................metric=euclidean, n_neighbors=17; total time=   0.0s\n",
      "[CV] END ...................metric=euclidean, n_neighbors=17; total time=   0.0s\n",
      "[CV] END ...................metric=euclidean, n_neighbors=17; total time=   0.0s\n",
      "[CV] END ...................metric=euclidean, n_neighbors=17; total time=   0.0s\n",
      "[CV] END ...................metric=euclidean, n_neighbors=17; total time=   0.0s\n",
      "[CV] END ...................metric=euclidean, n_neighbors=18; total time=   0.0s\n",
      "[CV] END ...................metric=euclidean, n_neighbors=18; total time=   0.0s\n",
      "[CV] END ...................metric=euclidean, n_neighbors=18; total time=   0.0s\n",
      "[CV] END ...................metric=euclidean, n_neighbors=18; total time=   0.0s\n",
      "[CV] END ...................metric=euclidean, n_neighbors=18; total time=   0.0s\n",
      "[CV] END ...................metric=euclidean, n_neighbors=19; total time=   0.0s\n",
      "[CV] END ...................metric=euclidean, n_neighbors=19; total time=   0.0s\n",
      "[CV] END ...................metric=euclidean, n_neighbors=19; total time=   0.0s\n",
      "[CV] END ...................metric=euclidean, n_neighbors=19; total time=   0.0s\n",
      "[CV] END ...................metric=euclidean, n_neighbors=19; total time=   0.0s\n",
      "[CV] END ...................metric=euclidean, n_neighbors=20; total time=   0.0s\n",
      "[CV] END ...................metric=euclidean, n_neighbors=20; total time=   0.0s\n",
      "[CV] END ...................metric=euclidean, n_neighbors=20; total time=   0.0s\n",
      "[CV] END ...................metric=euclidean, n_neighbors=20; total time=   0.0s\n",
      "[CV] END ...................metric=euclidean, n_neighbors=20; total time=   0.0s\n",
      "[CV] END ....................metric=manhattan, n_neighbors=1; total time=   0.0s\n",
      "[CV] END ....................metric=manhattan, n_neighbors=1; total time=   0.0s\n",
      "[CV] END ....................metric=manhattan, n_neighbors=1; total time=   0.0s\n",
      "[CV] END ....................metric=manhattan, n_neighbors=1; total time=   0.0s\n",
      "[CV] END ....................metric=manhattan, n_neighbors=1; total time=   0.0s\n",
      "[CV] END ....................metric=manhattan, n_neighbors=2; total time=   0.0s\n",
      "[CV] END ....................metric=manhattan, n_neighbors=2; total time=   0.0s\n",
      "[CV] END ....................metric=manhattan, n_neighbors=2; total time=   0.0s\n",
      "[CV] END ....................metric=manhattan, n_neighbors=2; total time=   0.0s\n",
      "[CV] END ....................metric=manhattan, n_neighbors=2; total time=   0.0s\n",
      "[CV] END ....................metric=manhattan, n_neighbors=3; total time=   0.0s\n",
      "[CV] END ....................metric=manhattan, n_neighbors=3; total time=   0.0s\n",
      "[CV] END ....................metric=manhattan, n_neighbors=3; total time=   0.0s\n",
      "[CV] END ....................metric=manhattan, n_neighbors=3; total time=   0.0s\n",
      "[CV] END ....................metric=manhattan, n_neighbors=3; total time=   0.0s\n",
      "[CV] END ....................metric=manhattan, n_neighbors=4; total time=   0.0s\n",
      "[CV] END ....................metric=manhattan, n_neighbors=4; total time=   0.0s\n",
      "[CV] END ....................metric=manhattan, n_neighbors=4; total time=   0.0s\n",
      "[CV] END ....................metric=manhattan, n_neighbors=4; total time=   0.0s\n",
      "[CV] END ....................metric=manhattan, n_neighbors=4; total time=   0.0s\n",
      "[CV] END ....................metric=manhattan, n_neighbors=5; total time=   0.0s\n",
      "[CV] END ....................metric=manhattan, n_neighbors=5; total time=   0.0s\n",
      "[CV] END ....................metric=manhattan, n_neighbors=5; total time=   0.0s\n",
      "[CV] END ....................metric=manhattan, n_neighbors=5; total time=   0.0s\n",
      "[CV] END ....................metric=manhattan, n_neighbors=5; total time=   0.0s\n",
      "[CV] END ....................metric=manhattan, n_neighbors=6; total time=   0.0s\n",
      "[CV] END ....................metric=manhattan, n_neighbors=6; total time=   0.0s\n",
      "[CV] END ....................metric=manhattan, n_neighbors=6; total time=   0.0s\n",
      "[CV] END ....................metric=manhattan, n_neighbors=6; total time=   0.0s\n",
      "[CV] END ....................metric=manhattan, n_neighbors=6; total time=   0.0s\n",
      "[CV] END ....................metric=manhattan, n_neighbors=7; total time=   0.0s\n",
      "[CV] END ....................metric=manhattan, n_neighbors=7; total time=   0.0s\n",
      "[CV] END ....................metric=manhattan, n_neighbors=7; total time=   0.0s\n",
      "[CV] END ....................metric=manhattan, n_neighbors=7; total time=   0.0s\n",
      "[CV] END ....................metric=manhattan, n_neighbors=7; total time=   0.0s\n",
      "[CV] END ....................metric=manhattan, n_neighbors=8; total time=   0.0s\n",
      "[CV] END ....................metric=manhattan, n_neighbors=8; total time=   0.0s\n",
      "[CV] END ....................metric=manhattan, n_neighbors=8; total time=   0.0s\n",
      "[CV] END ....................metric=manhattan, n_neighbors=8; total time=   0.0s\n",
      "[CV] END ....................metric=manhattan, n_neighbors=8; total time=   0.0s\n",
      "[CV] END ....................metric=manhattan, n_neighbors=9; total time=   0.0s\n",
      "[CV] END ....................metric=manhattan, n_neighbors=9; total time=   0.0s\n",
      "[CV] END ....................metric=manhattan, n_neighbors=9; total time=   0.0s\n",
      "[CV] END ....................metric=manhattan, n_neighbors=9; total time=   0.0s\n",
      "[CV] END ....................metric=manhattan, n_neighbors=9; total time=   0.0s\n",
      "[CV] END ...................metric=manhattan, n_neighbors=10; total time=   0.0s\n",
      "[CV] END ...................metric=manhattan, n_neighbors=10; total time=   0.0s\n",
      "[CV] END ...................metric=manhattan, n_neighbors=10; total time=   0.0s\n",
      "[CV] END ...................metric=manhattan, n_neighbors=10; total time=   0.0s\n",
      "[CV] END ...................metric=manhattan, n_neighbors=10; total time=   0.0s\n",
      "[CV] END ...................metric=manhattan, n_neighbors=11; total time=   0.0s\n",
      "[CV] END ...................metric=manhattan, n_neighbors=11; total time=   0.0s\n",
      "[CV] END ...................metric=manhattan, n_neighbors=11; total time=   0.0s\n",
      "[CV] END ...................metric=manhattan, n_neighbors=11; total time=   0.0s\n",
      "[CV] END ...................metric=manhattan, n_neighbors=11; total time=   0.0s\n",
      "[CV] END ...................metric=manhattan, n_neighbors=12; total time=   0.0s\n",
      "[CV] END ...................metric=manhattan, n_neighbors=12; total time=   0.0s\n",
      "[CV] END ...................metric=manhattan, n_neighbors=12; total time=   0.0s\n",
      "[CV] END ...................metric=manhattan, n_neighbors=12; total time=   0.0s\n",
      "[CV] END ...................metric=manhattan, n_neighbors=12; total time=   0.0s\n",
      "[CV] END ...................metric=manhattan, n_neighbors=13; total time=   0.0s\n",
      "[CV] END ...................metric=manhattan, n_neighbors=13; total time=   0.0s\n",
      "[CV] END ...................metric=manhattan, n_neighbors=13; total time=   0.0s\n",
      "[CV] END ...................metric=manhattan, n_neighbors=13; total time=   0.0s\n",
      "[CV] END ...................metric=manhattan, n_neighbors=13; total time=   0.0s\n",
      "[CV] END ...................metric=manhattan, n_neighbors=14; total time=   0.0s\n",
      "[CV] END ...................metric=manhattan, n_neighbors=14; total time=   0.0s\n",
      "[CV] END ...................metric=manhattan, n_neighbors=14; total time=   0.0s\n",
      "[CV] END ...................metric=manhattan, n_neighbors=14; total time=   0.0s\n",
      "[CV] END ...................metric=manhattan, n_neighbors=14; total time=   0.0s\n",
      "[CV] END ...................metric=manhattan, n_neighbors=15; total time=   0.0s\n",
      "[CV] END ...................metric=manhattan, n_neighbors=15; total time=   0.0s\n",
      "[CV] END ...................metric=manhattan, n_neighbors=15; total time=   0.0s\n",
      "[CV] END ...................metric=manhattan, n_neighbors=15; total time=   0.0s\n",
      "[CV] END ...................metric=manhattan, n_neighbors=15; total time=   0.0s\n",
      "[CV] END ...................metric=manhattan, n_neighbors=16; total time=   0.0s\n",
      "[CV] END ...................metric=manhattan, n_neighbors=16; total time=   0.0s\n",
      "[CV] END ...................metric=manhattan, n_neighbors=16; total time=   0.0s\n",
      "[CV] END ...................metric=manhattan, n_neighbors=16; total time=   0.0s\n",
      "[CV] END ...................metric=manhattan, n_neighbors=16; total time=   0.0s\n",
      "[CV] END ...................metric=manhattan, n_neighbors=17; total time=   0.0s\n",
      "[CV] END ...................metric=manhattan, n_neighbors=17; total time=   0.0s\n",
      "[CV] END ...................metric=manhattan, n_neighbors=17; total time=   0.0s\n",
      "[CV] END ...................metric=manhattan, n_neighbors=17; total time=   0.0s\n",
      "[CV] END ...................metric=manhattan, n_neighbors=17; total time=   0.0s\n",
      "[CV] END ...................metric=manhattan, n_neighbors=18; total time=   0.0s\n",
      "[CV] END ...................metric=manhattan, n_neighbors=18; total time=   0.0s\n",
      "[CV] END ...................metric=manhattan, n_neighbors=18; total time=   0.0s\n",
      "[CV] END ...................metric=manhattan, n_neighbors=18; total time=   0.0s\n",
      "[CV] END ...................metric=manhattan, n_neighbors=18; total time=   0.0s\n",
      "[CV] END ...................metric=manhattan, n_neighbors=19; total time=   0.0s\n",
      "[CV] END ...................metric=manhattan, n_neighbors=19; total time=   0.0s\n",
      "[CV] END ...................metric=manhattan, n_neighbors=19; total time=   0.0s\n",
      "[CV] END ...................metric=manhattan, n_neighbors=19; total time=   0.0s\n",
      "[CV] END ...................metric=manhattan, n_neighbors=19; total time=   0.0s\n",
      "[CV] END ...................metric=manhattan, n_neighbors=20; total time=   0.0s\n",
      "[CV] END ...................metric=manhattan, n_neighbors=20; total time=   0.0s\n",
      "[CV] END ...................metric=manhattan, n_neighbors=20; total time=   0.0s\n",
      "[CV] END ...................metric=manhattan, n_neighbors=20; total time=   0.0s\n",
      "[CV] END ...................metric=manhattan, n_neighbors=20; total time=   0.0s\n",
      "[CV] END ......................metric=jaccard, n_neighbors=1; total time=   0.0s\n",
      "[CV] END ......................metric=jaccard, n_neighbors=1; total time=   0.0s\n",
      "[CV] END ......................metric=jaccard, n_neighbors=1; total time=   0.0s\n",
      "[CV] END ......................metric=jaccard, n_neighbors=1; total time=   0.0s\n",
      "[CV] END ......................metric=jaccard, n_neighbors=1; total time=   0.0s\n",
      "[CV] END ......................metric=jaccard, n_neighbors=2; total time=   0.0s\n",
      "[CV] END ......................metric=jaccard, n_neighbors=2; total time=   0.0s\n",
      "[CV] END ......................metric=jaccard, n_neighbors=2; total time=   0.0s\n",
      "[CV] END ......................metric=jaccard, n_neighbors=2; total time=   0.0s\n",
      "[CV] END ......................metric=jaccard, n_neighbors=2; total time=   0.0s\n",
      "[CV] END ......................metric=jaccard, n_neighbors=3; total time=   0.0s\n",
      "[CV] END ......................metric=jaccard, n_neighbors=3; total time=   0.0s\n",
      "[CV] END ......................metric=jaccard, n_neighbors=3; total time=   0.0s\n",
      "[CV] END ......................metric=jaccard, n_neighbors=3; total time=   0.0s\n",
      "[CV] END ......................metric=jaccard, n_neighbors=3; total time=   0.0s\n",
      "[CV] END ......................metric=jaccard, n_neighbors=4; total time=   0.0s\n",
      "[CV] END ......................metric=jaccard, n_neighbors=4; total time=   0.0s\n",
      "[CV] END ......................metric=jaccard, n_neighbors=4; total time=   0.0s\n",
      "[CV] END ......................metric=jaccard, n_neighbors=4; total time=   0.0s\n",
      "[CV] END ......................metric=jaccard, n_neighbors=4; total time=   0.0s\n",
      "[CV] END ......................metric=jaccard, n_neighbors=5; total time=   0.0s\n",
      "[CV] END ......................metric=jaccard, n_neighbors=5; total time=   0.0s\n",
      "[CV] END ......................metric=jaccard, n_neighbors=5; total time=   0.0s\n",
      "[CV] END ......................metric=jaccard, n_neighbors=5; total time=   0.0s\n",
      "[CV] END ......................metric=jaccard, n_neighbors=5; total time=   0.0s\n",
      "[CV] END ......................metric=jaccard, n_neighbors=6; total time=   0.0s\n",
      "[CV] END ......................metric=jaccard, n_neighbors=6; total time=   0.0s\n",
      "[CV] END ......................metric=jaccard, n_neighbors=6; total time=   0.0s\n",
      "[CV] END ......................metric=jaccard, n_neighbors=6; total time=   0.0s\n",
      "[CV] END ......................metric=jaccard, n_neighbors=6; total time=   0.0s\n",
      "[CV] END ......................metric=jaccard, n_neighbors=7; total time=   0.0s\n",
      "[CV] END ......................metric=jaccard, n_neighbors=7; total time=   0.0s\n",
      "[CV] END ......................metric=jaccard, n_neighbors=7; total time=   0.0s\n",
      "[CV] END ......................metric=jaccard, n_neighbors=7; total time=   0.0s\n",
      "[CV] END ......................metric=jaccard, n_neighbors=7; total time=   0.0s\n",
      "[CV] END ......................metric=jaccard, n_neighbors=8; total time=   0.0s\n",
      "[CV] END ......................metric=jaccard, n_neighbors=8; total time=   0.0s\n",
      "[CV] END ......................metric=jaccard, n_neighbors=8; total time=   0.0s\n",
      "[CV] END ......................metric=jaccard, n_neighbors=8; total time=   0.0s\n",
      "[CV] END ......................metric=jaccard, n_neighbors=8; total time=   0.0s\n",
      "[CV] END ......................metric=jaccard, n_neighbors=9; total time=   0.0s\n",
      "[CV] END ......................metric=jaccard, n_neighbors=9; total time=   0.0s\n",
      "[CV] END ......................metric=jaccard, n_neighbors=9; total time=   0.0s\n",
      "[CV] END ......................metric=jaccard, n_neighbors=9; total time=   0.0s\n",
      "[CV] END ......................metric=jaccard, n_neighbors=9; total time=   0.0s\n",
      "[CV] END .....................metric=jaccard, n_neighbors=10; total time=   0.0s\n",
      "[CV] END .....................metric=jaccard, n_neighbors=10; total time=   0.0s\n",
      "[CV] END .....................metric=jaccard, n_neighbors=10; total time=   0.0s\n",
      "[CV] END .....................metric=jaccard, n_neighbors=10; total time=   0.0s\n",
      "[CV] END .....................metric=jaccard, n_neighbors=10; total time=   0.0s\n",
      "[CV] END .....................metric=jaccard, n_neighbors=11; total time=   0.0s\n",
      "[CV] END .....................metric=jaccard, n_neighbors=11; total time=   0.0s\n",
      "[CV] END .....................metric=jaccard, n_neighbors=11; total time=   0.0s\n",
      "[CV] END .....................metric=jaccard, n_neighbors=11; total time=   0.0s\n",
      "[CV] END .....................metric=jaccard, n_neighbors=11; total time=   0.0s\n",
      "[CV] END .....................metric=jaccard, n_neighbors=12; total time=   0.0s\n",
      "[CV] END .....................metric=jaccard, n_neighbors=12; total time=   0.0s\n",
      "[CV] END .....................metric=jaccard, n_neighbors=12; total time=   0.0s\n",
      "[CV] END .....................metric=jaccard, n_neighbors=12; total time=   0.0s\n",
      "[CV] END .....................metric=jaccard, n_neighbors=12; total time=   0.0s\n",
      "[CV] END .....................metric=jaccard, n_neighbors=13; total time=   0.0s\n",
      "[CV] END .....................metric=jaccard, n_neighbors=13; total time=   0.0s\n",
      "[CV] END .....................metric=jaccard, n_neighbors=13; total time=   0.0s\n",
      "[CV] END .....................metric=jaccard, n_neighbors=13; total time=   0.0s\n",
      "[CV] END .....................metric=jaccard, n_neighbors=13; total time=   0.0s\n",
      "[CV] END .....................metric=jaccard, n_neighbors=14; total time=   0.0s\n",
      "[CV] END .....................metric=jaccard, n_neighbors=14; total time=   0.0s\n",
      "[CV] END .....................metric=jaccard, n_neighbors=14; total time=   0.0s\n",
      "[CV] END .....................metric=jaccard, n_neighbors=14; total time=   0.0s\n",
      "[CV] END .....................metric=jaccard, n_neighbors=14; total time=   0.0s\n",
      "[CV] END .....................metric=jaccard, n_neighbors=15; total time=   0.0s\n",
      "[CV] END .....................metric=jaccard, n_neighbors=15; total time=   0.0s\n",
      "[CV] END .....................metric=jaccard, n_neighbors=15; total time=   0.0s\n",
      "[CV] END .....................metric=jaccard, n_neighbors=15; total time=   0.0s\n",
      "[CV] END .....................metric=jaccard, n_neighbors=15; total time=   0.0s\n",
      "[CV] END .....................metric=jaccard, n_neighbors=16; total time=   0.0s\n",
      "[CV] END .....................metric=jaccard, n_neighbors=16; total time=   0.0s\n",
      "[CV] END .....................metric=jaccard, n_neighbors=16; total time=   0.0s\n",
      "[CV] END .....................metric=jaccard, n_neighbors=16; total time=   0.0s\n",
      "[CV] END .....................metric=jaccard, n_neighbors=16; total time=   0.0s\n",
      "[CV] END .....................metric=jaccard, n_neighbors=17; total time=   0.0s\n",
      "[CV] END .....................metric=jaccard, n_neighbors=17; total time=   0.0s\n",
      "[CV] END .....................metric=jaccard, n_neighbors=17; total time=   0.0s\n",
      "[CV] END .....................metric=jaccard, n_neighbors=17; total time=   0.0s\n",
      "[CV] END .....................metric=jaccard, n_neighbors=17; total time=   0.0s\n",
      "[CV] END .....................metric=jaccard, n_neighbors=18; total time=   0.0s\n",
      "[CV] END .....................metric=jaccard, n_neighbors=18; total time=   0.0s\n",
      "[CV] END .....................metric=jaccard, n_neighbors=18; total time=   0.0s\n",
      "[CV] END .....................metric=jaccard, n_neighbors=18; total time=   0.0s\n",
      "[CV] END .....................metric=jaccard, n_neighbors=18; total time=   0.0s\n",
      "[CV] END .....................metric=jaccard, n_neighbors=19; total time=   0.0s\n",
      "[CV] END .....................metric=jaccard, n_neighbors=19; total time=   0.0s\n",
      "[CV] END .....................metric=jaccard, n_neighbors=19; total time=   0.0s\n",
      "[CV] END .....................metric=jaccard, n_neighbors=19; total time=   0.0s\n",
      "[CV] END .....................metric=jaccard, n_neighbors=19; total time=   0.0s\n",
      "[CV] END .....................metric=jaccard, n_neighbors=20; total time=   0.0s\n",
      "[CV] END .....................metric=jaccard, n_neighbors=20; total time=   0.0s\n",
      "[CV] END .....................metric=jaccard, n_neighbors=20; total time=   0.0s\n",
      "[CV] END .....................metric=jaccard, n_neighbors=20; total time=   0.0s\n",
      "[CV] END .....................metric=jaccard, n_neighbors=20; total time=   0.0s\n"
     ]
    },
    {
     "name": "stderr",
     "output_type": "stream",
     "text": [
      "c:\\Users\\abbil\\AppData\\Local\\Programs\\Python\\Python310\\lib\\site-packages\\numpy\\ma\\core.py:2892: RuntimeWarning: invalid value encountered in cast\n",
      "  _data = np.array(data, dtype=dtype, copy=copy,\n"
     ]
    },
    {
     "data": {
      "text/html": [
       "<style>#sk-container-id-5 {\n",
       "  /* Definition of color scheme common for light and dark mode */\n",
       "  --sklearn-color-text: black;\n",
       "  --sklearn-color-line: gray;\n",
       "  /* Definition of color scheme for unfitted estimators */\n",
       "  --sklearn-color-unfitted-level-0: #fff5e6;\n",
       "  --sklearn-color-unfitted-level-1: #f6e4d2;\n",
       "  --sklearn-color-unfitted-level-2: #ffe0b3;\n",
       "  --sklearn-color-unfitted-level-3: chocolate;\n",
       "  /* Definition of color scheme for fitted estimators */\n",
       "  --sklearn-color-fitted-level-0: #f0f8ff;\n",
       "  --sklearn-color-fitted-level-1: #d4ebff;\n",
       "  --sklearn-color-fitted-level-2: #b3dbfd;\n",
       "  --sklearn-color-fitted-level-3: cornflowerblue;\n",
       "\n",
       "  /* Specific color for light theme */\n",
       "  --sklearn-color-text-on-default-background: var(--sg-text-color, var(--theme-code-foreground, var(--jp-content-font-color1, black)));\n",
       "  --sklearn-color-background: var(--sg-background-color, var(--theme-background, var(--jp-layout-color0, white)));\n",
       "  --sklearn-color-border-box: var(--sg-text-color, var(--theme-code-foreground, var(--jp-content-font-color1, black)));\n",
       "  --sklearn-color-icon: #696969;\n",
       "\n",
       "  @media (prefers-color-scheme: dark) {\n",
       "    /* Redefinition of color scheme for dark theme */\n",
       "    --sklearn-color-text-on-default-background: var(--sg-text-color, var(--theme-code-foreground, var(--jp-content-font-color1, white)));\n",
       "    --sklearn-color-background: var(--sg-background-color, var(--theme-background, var(--jp-layout-color0, #111)));\n",
       "    --sklearn-color-border-box: var(--sg-text-color, var(--theme-code-foreground, var(--jp-content-font-color1, white)));\n",
       "    --sklearn-color-icon: #878787;\n",
       "  }\n",
       "}\n",
       "\n",
       "#sk-container-id-5 {\n",
       "  color: var(--sklearn-color-text);\n",
       "}\n",
       "\n",
       "#sk-container-id-5 pre {\n",
       "  padding: 0;\n",
       "}\n",
       "\n",
       "#sk-container-id-5 input.sk-hidden--visually {\n",
       "  border: 0;\n",
       "  clip: rect(1px 1px 1px 1px);\n",
       "  clip: rect(1px, 1px, 1px, 1px);\n",
       "  height: 1px;\n",
       "  margin: -1px;\n",
       "  overflow: hidden;\n",
       "  padding: 0;\n",
       "  position: absolute;\n",
       "  width: 1px;\n",
       "}\n",
       "\n",
       "#sk-container-id-5 div.sk-dashed-wrapped {\n",
       "  border: 1px dashed var(--sklearn-color-line);\n",
       "  margin: 0 0.4em 0.5em 0.4em;\n",
       "  box-sizing: border-box;\n",
       "  padding-bottom: 0.4em;\n",
       "  background-color: var(--sklearn-color-background);\n",
       "}\n",
       "\n",
       "#sk-container-id-5 div.sk-container {\n",
       "  /* jupyter's `normalize.less` sets `[hidden] { display: none; }`\n",
       "     but bootstrap.min.css set `[hidden] { display: none !important; }`\n",
       "     so we also need the `!important` here to be able to override the\n",
       "     default hidden behavior on the sphinx rendered scikit-learn.org.\n",
       "     See: https://github.com/scikit-learn/scikit-learn/issues/21755 */\n",
       "  display: inline-block !important;\n",
       "  position: relative;\n",
       "}\n",
       "\n",
       "#sk-container-id-5 div.sk-text-repr-fallback {\n",
       "  display: none;\n",
       "}\n",
       "\n",
       "div.sk-parallel-item,\n",
       "div.sk-serial,\n",
       "div.sk-item {\n",
       "  /* draw centered vertical line to link estimators */\n",
       "  background-image: linear-gradient(var(--sklearn-color-text-on-default-background), var(--sklearn-color-text-on-default-background));\n",
       "  background-size: 2px 100%;\n",
       "  background-repeat: no-repeat;\n",
       "  background-position: center center;\n",
       "}\n",
       "\n",
       "/* Parallel-specific style estimator block */\n",
       "\n",
       "#sk-container-id-5 div.sk-parallel-item::after {\n",
       "  content: \"\";\n",
       "  width: 100%;\n",
       "  border-bottom: 2px solid var(--sklearn-color-text-on-default-background);\n",
       "  flex-grow: 1;\n",
       "}\n",
       "\n",
       "#sk-container-id-5 div.sk-parallel {\n",
       "  display: flex;\n",
       "  align-items: stretch;\n",
       "  justify-content: center;\n",
       "  background-color: var(--sklearn-color-background);\n",
       "  position: relative;\n",
       "}\n",
       "\n",
       "#sk-container-id-5 div.sk-parallel-item {\n",
       "  display: flex;\n",
       "  flex-direction: column;\n",
       "}\n",
       "\n",
       "#sk-container-id-5 div.sk-parallel-item:first-child::after {\n",
       "  align-self: flex-end;\n",
       "  width: 50%;\n",
       "}\n",
       "\n",
       "#sk-container-id-5 div.sk-parallel-item:last-child::after {\n",
       "  align-self: flex-start;\n",
       "  width: 50%;\n",
       "}\n",
       "\n",
       "#sk-container-id-5 div.sk-parallel-item:only-child::after {\n",
       "  width: 0;\n",
       "}\n",
       "\n",
       "/* Serial-specific style estimator block */\n",
       "\n",
       "#sk-container-id-5 div.sk-serial {\n",
       "  display: flex;\n",
       "  flex-direction: column;\n",
       "  align-items: center;\n",
       "  background-color: var(--sklearn-color-background);\n",
       "  padding-right: 1em;\n",
       "  padding-left: 1em;\n",
       "}\n",
       "\n",
       "\n",
       "/* Toggleable style: style used for estimator/Pipeline/ColumnTransformer box that is\n",
       "clickable and can be expanded/collapsed.\n",
       "- Pipeline and ColumnTransformer use this feature and define the default style\n",
       "- Estimators will overwrite some part of the style using the `sk-estimator` class\n",
       "*/\n",
       "\n",
       "/* Pipeline and ColumnTransformer style (default) */\n",
       "\n",
       "#sk-container-id-5 div.sk-toggleable {\n",
       "  /* Default theme specific background. It is overwritten whether we have a\n",
       "  specific estimator or a Pipeline/ColumnTransformer */\n",
       "  background-color: var(--sklearn-color-background);\n",
       "}\n",
       "\n",
       "/* Toggleable label */\n",
       "#sk-container-id-5 label.sk-toggleable__label {\n",
       "  cursor: pointer;\n",
       "  display: block;\n",
       "  width: 100%;\n",
       "  margin-bottom: 0;\n",
       "  padding: 0.5em;\n",
       "  box-sizing: border-box;\n",
       "  text-align: center;\n",
       "}\n",
       "\n",
       "#sk-container-id-5 label.sk-toggleable__label-arrow:before {\n",
       "  /* Arrow on the left of the label */\n",
       "  content: \"▸\";\n",
       "  float: left;\n",
       "  margin-right: 0.25em;\n",
       "  color: var(--sklearn-color-icon);\n",
       "}\n",
       "\n",
       "#sk-container-id-5 label.sk-toggleable__label-arrow:hover:before {\n",
       "  color: var(--sklearn-color-text);\n",
       "}\n",
       "\n",
       "/* Toggleable content - dropdown */\n",
       "\n",
       "#sk-container-id-5 div.sk-toggleable__content {\n",
       "  max-height: 0;\n",
       "  max-width: 0;\n",
       "  overflow: hidden;\n",
       "  text-align: left;\n",
       "  /* unfitted */\n",
       "  background-color: var(--sklearn-color-unfitted-level-0);\n",
       "}\n",
       "\n",
       "#sk-container-id-5 div.sk-toggleable__content.fitted {\n",
       "  /* fitted */\n",
       "  background-color: var(--sklearn-color-fitted-level-0);\n",
       "}\n",
       "\n",
       "#sk-container-id-5 div.sk-toggleable__content pre {\n",
       "  margin: 0.2em;\n",
       "  border-radius: 0.25em;\n",
       "  color: var(--sklearn-color-text);\n",
       "  /* unfitted */\n",
       "  background-color: var(--sklearn-color-unfitted-level-0);\n",
       "}\n",
       "\n",
       "#sk-container-id-5 div.sk-toggleable__content.fitted pre {\n",
       "  /* unfitted */\n",
       "  background-color: var(--sklearn-color-fitted-level-0);\n",
       "}\n",
       "\n",
       "#sk-container-id-5 input.sk-toggleable__control:checked~div.sk-toggleable__content {\n",
       "  /* Expand drop-down */\n",
       "  max-height: 200px;\n",
       "  max-width: 100%;\n",
       "  overflow: auto;\n",
       "}\n",
       "\n",
       "#sk-container-id-5 input.sk-toggleable__control:checked~label.sk-toggleable__label-arrow:before {\n",
       "  content: \"▾\";\n",
       "}\n",
       "\n",
       "/* Pipeline/ColumnTransformer-specific style */\n",
       "\n",
       "#sk-container-id-5 div.sk-label input.sk-toggleable__control:checked~label.sk-toggleable__label {\n",
       "  color: var(--sklearn-color-text);\n",
       "  background-color: var(--sklearn-color-unfitted-level-2);\n",
       "}\n",
       "\n",
       "#sk-container-id-5 div.sk-label.fitted input.sk-toggleable__control:checked~label.sk-toggleable__label {\n",
       "  background-color: var(--sklearn-color-fitted-level-2);\n",
       "}\n",
       "\n",
       "/* Estimator-specific style */\n",
       "\n",
       "/* Colorize estimator box */\n",
       "#sk-container-id-5 div.sk-estimator input.sk-toggleable__control:checked~label.sk-toggleable__label {\n",
       "  /* unfitted */\n",
       "  background-color: var(--sklearn-color-unfitted-level-2);\n",
       "}\n",
       "\n",
       "#sk-container-id-5 div.sk-estimator.fitted input.sk-toggleable__control:checked~label.sk-toggleable__label {\n",
       "  /* fitted */\n",
       "  background-color: var(--sklearn-color-fitted-level-2);\n",
       "}\n",
       "\n",
       "#sk-container-id-5 div.sk-label label.sk-toggleable__label,\n",
       "#sk-container-id-5 div.sk-label label {\n",
       "  /* The background is the default theme color */\n",
       "  color: var(--sklearn-color-text-on-default-background);\n",
       "}\n",
       "\n",
       "/* On hover, darken the color of the background */\n",
       "#sk-container-id-5 div.sk-label:hover label.sk-toggleable__label {\n",
       "  color: var(--sklearn-color-text);\n",
       "  background-color: var(--sklearn-color-unfitted-level-2);\n",
       "}\n",
       "\n",
       "/* Label box, darken color on hover, fitted */\n",
       "#sk-container-id-5 div.sk-label.fitted:hover label.sk-toggleable__label.fitted {\n",
       "  color: var(--sklearn-color-text);\n",
       "  background-color: var(--sklearn-color-fitted-level-2);\n",
       "}\n",
       "\n",
       "/* Estimator label */\n",
       "\n",
       "#sk-container-id-5 div.sk-label label {\n",
       "  font-family: monospace;\n",
       "  font-weight: bold;\n",
       "  display: inline-block;\n",
       "  line-height: 1.2em;\n",
       "}\n",
       "\n",
       "#sk-container-id-5 div.sk-label-container {\n",
       "  text-align: center;\n",
       "}\n",
       "\n",
       "/* Estimator-specific */\n",
       "#sk-container-id-5 div.sk-estimator {\n",
       "  font-family: monospace;\n",
       "  border: 1px dotted var(--sklearn-color-border-box);\n",
       "  border-radius: 0.25em;\n",
       "  box-sizing: border-box;\n",
       "  margin-bottom: 0.5em;\n",
       "  /* unfitted */\n",
       "  background-color: var(--sklearn-color-unfitted-level-0);\n",
       "}\n",
       "\n",
       "#sk-container-id-5 div.sk-estimator.fitted {\n",
       "  /* fitted */\n",
       "  background-color: var(--sklearn-color-fitted-level-0);\n",
       "}\n",
       "\n",
       "/* on hover */\n",
       "#sk-container-id-5 div.sk-estimator:hover {\n",
       "  /* unfitted */\n",
       "  background-color: var(--sklearn-color-unfitted-level-2);\n",
       "}\n",
       "\n",
       "#sk-container-id-5 div.sk-estimator.fitted:hover {\n",
       "  /* fitted */\n",
       "  background-color: var(--sklearn-color-fitted-level-2);\n",
       "}\n",
       "\n",
       "/* Specification for estimator info (e.g. \"i\" and \"?\") */\n",
       "\n",
       "/* Common style for \"i\" and \"?\" */\n",
       "\n",
       ".sk-estimator-doc-link,\n",
       "a:link.sk-estimator-doc-link,\n",
       "a:visited.sk-estimator-doc-link {\n",
       "  float: right;\n",
       "  font-size: smaller;\n",
       "  line-height: 1em;\n",
       "  font-family: monospace;\n",
       "  background-color: var(--sklearn-color-background);\n",
       "  border-radius: 1em;\n",
       "  height: 1em;\n",
       "  width: 1em;\n",
       "  text-decoration: none !important;\n",
       "  margin-left: 1ex;\n",
       "  /* unfitted */\n",
       "  border: var(--sklearn-color-unfitted-level-1) 1pt solid;\n",
       "  color: var(--sklearn-color-unfitted-level-1);\n",
       "}\n",
       "\n",
       ".sk-estimator-doc-link.fitted,\n",
       "a:link.sk-estimator-doc-link.fitted,\n",
       "a:visited.sk-estimator-doc-link.fitted {\n",
       "  /* fitted */\n",
       "  border: var(--sklearn-color-fitted-level-1) 1pt solid;\n",
       "  color: var(--sklearn-color-fitted-level-1);\n",
       "}\n",
       "\n",
       "/* On hover */\n",
       "div.sk-estimator:hover .sk-estimator-doc-link:hover,\n",
       ".sk-estimator-doc-link:hover,\n",
       "div.sk-label-container:hover .sk-estimator-doc-link:hover,\n",
       ".sk-estimator-doc-link:hover {\n",
       "  /* unfitted */\n",
       "  background-color: var(--sklearn-color-unfitted-level-3);\n",
       "  color: var(--sklearn-color-background);\n",
       "  text-decoration: none;\n",
       "}\n",
       "\n",
       "div.sk-estimator.fitted:hover .sk-estimator-doc-link.fitted:hover,\n",
       ".sk-estimator-doc-link.fitted:hover,\n",
       "div.sk-label-container:hover .sk-estimator-doc-link.fitted:hover,\n",
       ".sk-estimator-doc-link.fitted:hover {\n",
       "  /* fitted */\n",
       "  background-color: var(--sklearn-color-fitted-level-3);\n",
       "  color: var(--sklearn-color-background);\n",
       "  text-decoration: none;\n",
       "}\n",
       "\n",
       "/* Span, style for the box shown on hovering the info icon */\n",
       ".sk-estimator-doc-link span {\n",
       "  display: none;\n",
       "  z-index: 9999;\n",
       "  position: relative;\n",
       "  font-weight: normal;\n",
       "  right: .2ex;\n",
       "  padding: .5ex;\n",
       "  margin: .5ex;\n",
       "  width: min-content;\n",
       "  min-width: 20ex;\n",
       "  max-width: 50ex;\n",
       "  color: var(--sklearn-color-text);\n",
       "  box-shadow: 2pt 2pt 4pt #999;\n",
       "  /* unfitted */\n",
       "  background: var(--sklearn-color-unfitted-level-0);\n",
       "  border: .5pt solid var(--sklearn-color-unfitted-level-3);\n",
       "}\n",
       "\n",
       ".sk-estimator-doc-link.fitted span {\n",
       "  /* fitted */\n",
       "  background: var(--sklearn-color-fitted-level-0);\n",
       "  border: var(--sklearn-color-fitted-level-3);\n",
       "}\n",
       "\n",
       ".sk-estimator-doc-link:hover span {\n",
       "  display: block;\n",
       "}\n",
       "\n",
       "/* \"?\"-specific style due to the `<a>` HTML tag */\n",
       "\n",
       "#sk-container-id-5 a.estimator_doc_link {\n",
       "  float: right;\n",
       "  font-size: 1rem;\n",
       "  line-height: 1em;\n",
       "  font-family: monospace;\n",
       "  background-color: var(--sklearn-color-background);\n",
       "  border-radius: 1rem;\n",
       "  height: 1rem;\n",
       "  width: 1rem;\n",
       "  text-decoration: none;\n",
       "  /* unfitted */\n",
       "  color: var(--sklearn-color-unfitted-level-1);\n",
       "  border: var(--sklearn-color-unfitted-level-1) 1pt solid;\n",
       "}\n",
       "\n",
       "#sk-container-id-5 a.estimator_doc_link.fitted {\n",
       "  /* fitted */\n",
       "  border: var(--sklearn-color-fitted-level-1) 1pt solid;\n",
       "  color: var(--sklearn-color-fitted-level-1);\n",
       "}\n",
       "\n",
       "/* On hover */\n",
       "#sk-container-id-5 a.estimator_doc_link:hover {\n",
       "  /* unfitted */\n",
       "  background-color: var(--sklearn-color-unfitted-level-3);\n",
       "  color: var(--sklearn-color-background);\n",
       "  text-decoration: none;\n",
       "}\n",
       "\n",
       "#sk-container-id-5 a.estimator_doc_link.fitted:hover {\n",
       "  /* fitted */\n",
       "  background-color: var(--sklearn-color-fitted-level-3);\n",
       "}\n",
       "</style><div id=\"sk-container-id-5\" class=\"sk-top-container\"><div class=\"sk-text-repr-fallback\"><pre>GridSearchCV(cv=KFold(n_splits=5, random_state=42, shuffle=True),\n",
       "             estimator=KNeighborsClassifier(),\n",
       "             param_grid={&#x27;metric&#x27;: [&#x27;euclidean&#x27;, &#x27;manhattan&#x27;, &#x27;jaccard&#x27;],\n",
       "                         &#x27;n_neighbors&#x27;: [1, 2, 3, 4, 5, 6, 7, 8, 9, 10, 11, 12,\n",
       "                                         13, 14, 15, 16, 17, 18, 19, 20]},\n",
       "             scoring=&#x27;accuracy&#x27;, verbose=2)</pre><b>In a Jupyter environment, please rerun this cell to show the HTML representation or trust the notebook. <br />On GitHub, the HTML representation is unable to render, please try loading this page with nbviewer.org.</b></div><div class=\"sk-container\" hidden><div class=\"sk-item sk-dashed-wrapped\"><div class=\"sk-label-container\"><div class=\"sk-label fitted sk-toggleable\"><input class=\"sk-toggleable__control sk-hidden--visually\" id=\"sk-estimator-id-5\" type=\"checkbox\" ><label for=\"sk-estimator-id-5\" class=\"sk-toggleable__label fitted sk-toggleable__label-arrow fitted\">&nbsp;&nbsp;GridSearchCV<a class=\"sk-estimator-doc-link fitted\" rel=\"noreferrer\" target=\"_blank\" href=\"https://scikit-learn.org/1.5/modules/generated/sklearn.model_selection.GridSearchCV.html\">?<span>Documentation for GridSearchCV</span></a><span class=\"sk-estimator-doc-link fitted\">i<span>Fitted</span></span></label><div class=\"sk-toggleable__content fitted\"><pre>GridSearchCV(cv=KFold(n_splits=5, random_state=42, shuffle=True),\n",
       "             estimator=KNeighborsClassifier(),\n",
       "             param_grid={&#x27;metric&#x27;: [&#x27;euclidean&#x27;, &#x27;manhattan&#x27;, &#x27;jaccard&#x27;],\n",
       "                         &#x27;n_neighbors&#x27;: [1, 2, 3, 4, 5, 6, 7, 8, 9, 10, 11, 12,\n",
       "                                         13, 14, 15, 16, 17, 18, 19, 20]},\n",
       "             scoring=&#x27;accuracy&#x27;, verbose=2)</pre></div> </div></div><div class=\"sk-parallel\"><div class=\"sk-parallel-item\"><div class=\"sk-item\"><div class=\"sk-label-container\"><div class=\"sk-label fitted sk-toggleable\"><input class=\"sk-toggleable__control sk-hidden--visually\" id=\"sk-estimator-id-6\" type=\"checkbox\" ><label for=\"sk-estimator-id-6\" class=\"sk-toggleable__label fitted sk-toggleable__label-arrow fitted\">best_estimator_: KNeighborsClassifier</label><div class=\"sk-toggleable__content fitted\"><pre>KNeighborsClassifier(metric=&#x27;manhattan&#x27;, n_neighbors=4)</pre></div> </div></div><div class=\"sk-serial\"><div class=\"sk-item\"><div class=\"sk-estimator fitted sk-toggleable\"><input class=\"sk-toggleable__control sk-hidden--visually\" id=\"sk-estimator-id-7\" type=\"checkbox\" ><label for=\"sk-estimator-id-7\" class=\"sk-toggleable__label fitted sk-toggleable__label-arrow fitted\">&nbsp;KNeighborsClassifier<a class=\"sk-estimator-doc-link fitted\" rel=\"noreferrer\" target=\"_blank\" href=\"https://scikit-learn.org/1.5/modules/generated/sklearn.neighbors.KNeighborsClassifier.html\">?<span>Documentation for KNeighborsClassifier</span></a></label><div class=\"sk-toggleable__content fitted\"><pre>KNeighborsClassifier(metric=&#x27;manhattan&#x27;, n_neighbors=4)</pre></div> </div></div></div></div></div></div></div></div></div>"
      ],
      "text/plain": [
       "GridSearchCV(cv=KFold(n_splits=5, random_state=42, shuffle=True),\n",
       "             estimator=KNeighborsClassifier(),\n",
       "             param_grid={'metric': ['euclidean', 'manhattan', 'jaccard'],\n",
       "                         'n_neighbors': [1, 2, 3, 4, 5, 6, 7, 8, 9, 10, 11, 12,\n",
       "                                         13, 14, 15, 16, 17, 18, 19, 20]},\n",
       "             scoring='accuracy', verbose=2)"
      ]
     },
     "execution_count": 55,
     "metadata": {},
     "output_type": "execute_result"
    }
   ],
   "source": [
    "print(\"Tuning hyperparameters model KNN\\n\")\n",
    "\n",
    "clfKNN = GridSearchCV(\n",
    "\tmodel,\n",
    "\ttunned_params,\n",
    "\tscoring=\"accuracy\",\n",
    "\tcv=kfold,\n",
    "\tverbose=2\n",
    ")\n",
    "\n",
    "# Melatih model dengan data training\n",
    "clfKNN.fit(X_train_scaled, y_train)"
   ]
  },
  {
   "cell_type": "code",
   "execution_count": null,
   "metadata": {
    "id": "Flq1Rt9rFqGw",
    "outputId": "24d3b633-dd09-460d-93c6-707ad72306ca"
   },
   "outputs": [
    {
     "name": "stdout",
     "output_type": "stream",
     "text": [
      "\n",
      "Best parameters set found on development set:\n",
      "{'metric': 'manhattan', 'n_neighbors': 4}\n"
     ]
    }
   ],
   "source": [
    "# Menampilkan parameter terbaik\n",
    "print(\"\\nBest parameters set found on development set:\")\n",
    "print(clfKNN.best_params_)"
   ]
  },
  {
   "cell_type": "code",
   "execution_count": null,
   "metadata": {
    "id": "rsmWSOfNFqGw",
    "outputId": "12488d2b-d865-4abd-c1d6-0e67c459ccbf"
   },
   "outputs": [
    {
     "name": "stdout",
     "output_type": "stream",
     "text": [
      "\n",
      "Detailed classification report:\n",
      "Hasil Evaluasi berdasarkan classification report:\n",
      "\n",
      "              precision    recall  f1-score   support\n",
      "\n",
      "           1       0.52      0.86      0.65        14\n",
      "           2       0.67      0.27      0.38        15\n",
      "           3       1.00      0.33      0.50         3\n",
      "           5       1.00      1.00      1.00         3\n",
      "           6       1.00      1.00      1.00         2\n",
      "           7       0.75      1.00      0.86         6\n",
      "\n",
      "    accuracy                           0.65        43\n",
      "   macro avg       0.82      0.74      0.73        43\n",
      "weighted avg       0.69      0.65      0.61        43\n",
      "\n",
      "\n",
      "Confusion Matrix:\n"
     ]
    },
    {
     "data": {
      "text/html": [
       "<div>\n",
       "<style scoped>\n",
       "    .dataframe tbody tr th:only-of-type {\n",
       "        vertical-align: middle;\n",
       "    }\n",
       "\n",
       "    .dataframe tbody tr th {\n",
       "        vertical-align: top;\n",
       "    }\n",
       "\n",
       "    .dataframe thead th {\n",
       "        text-align: right;\n",
       "    }\n",
       "</style>\n",
       "<table border=\"1\" class=\"dataframe\">\n",
       "  <thead>\n",
       "    <tr style=\"text-align: right;\">\n",
       "      <th>prediction</th>\n",
       "      <th>1</th>\n",
       "      <th>2</th>\n",
       "      <th>3</th>\n",
       "      <th>5</th>\n",
       "      <th>6</th>\n",
       "      <th>7</th>\n",
       "    </tr>\n",
       "    <tr>\n",
       "      <th>actual</th>\n",
       "      <th></th>\n",
       "      <th></th>\n",
       "      <th></th>\n",
       "      <th></th>\n",
       "      <th></th>\n",
       "      <th></th>\n",
       "    </tr>\n",
       "  </thead>\n",
       "  <tbody>\n",
       "    <tr>\n",
       "      <th>1</th>\n",
       "      <td>12</td>\n",
       "      <td>2</td>\n",
       "      <td>0</td>\n",
       "      <td>0</td>\n",
       "      <td>0</td>\n",
       "      <td>0</td>\n",
       "    </tr>\n",
       "    <tr>\n",
       "      <th>2</th>\n",
       "      <td>9</td>\n",
       "      <td>4</td>\n",
       "      <td>0</td>\n",
       "      <td>0</td>\n",
       "      <td>0</td>\n",
       "      <td>2</td>\n",
       "    </tr>\n",
       "    <tr>\n",
       "      <th>3</th>\n",
       "      <td>2</td>\n",
       "      <td>0</td>\n",
       "      <td>1</td>\n",
       "      <td>0</td>\n",
       "      <td>0</td>\n",
       "      <td>0</td>\n",
       "    </tr>\n",
       "    <tr>\n",
       "      <th>5</th>\n",
       "      <td>0</td>\n",
       "      <td>0</td>\n",
       "      <td>0</td>\n",
       "      <td>3</td>\n",
       "      <td>0</td>\n",
       "      <td>0</td>\n",
       "    </tr>\n",
       "    <tr>\n",
       "      <th>6</th>\n",
       "      <td>0</td>\n",
       "      <td>0</td>\n",
       "      <td>0</td>\n",
       "      <td>0</td>\n",
       "      <td>2</td>\n",
       "      <td>0</td>\n",
       "    </tr>\n",
       "    <tr>\n",
       "      <th>7</th>\n",
       "      <td>0</td>\n",
       "      <td>0</td>\n",
       "      <td>0</td>\n",
       "      <td>0</td>\n",
       "      <td>0</td>\n",
       "      <td>6</td>\n",
       "    </tr>\n",
       "  </tbody>\n",
       "</table>\n",
       "</div>"
      ],
      "text/plain": [
       "prediction   1  2  3  5  6  7\n",
       "actual                       \n",
       "1           12  2  0  0  0  0\n",
       "2            9  4  0  0  0  2\n",
       "3            2  0  1  0  0  0\n",
       "5            0  0  0  3  0  0\n",
       "6            0  0  0  0  2  0\n",
       "7            0  0  0  0  0  6"
      ]
     },
     "metadata": {},
     "output_type": "display_data"
    },
    {
     "name": "stdout",
     "output_type": "stream",
     "text": [
      "\n",
      "Butuh informasi lebih lengkap? Silakan simak di bawah ini:\n",
      "Accuracy: 0.6511627906976745\n",
      "F1 Macro Average: 0.731123981123981\n",
      "F1 Micro Average: 0.6511627906976745\n",
      "Precision Macro Average: 0.8230676328502415\n",
      "Precision Micro Average: 0.6511627906976745\n",
      "Recall Macro Average: 0.7428571428571429\n",
      "Recall Micro Average: 0.6511627906976745\n"
     ]
    }
   ],
   "source": [
    "# Evaluasi performa model dengan data testing\n",
    "print(\"\\nDetailed classification report:\")\n",
    "y_true, y_pred = y_test, clfKNN.predict(X_test_scaled)\n",
    "evaluate_classifier_performance(y_pred, y_true)"
   ]
  },
  {
   "cell_type": "markdown",
   "metadata": {
    "id": "hc9NjaVtFqGw"
   },
   "source": [
    "Berdasarkan hasil di atas, kita memperoleh bahwa nilai k yang paling optimal adalah 4 dengan metric distance `Manhattan`.\n",
    "\n",
    "Model ini mencapai akurasi lebih dari 60%, yang menunjukkan performa yang cukup baik. Selain itu, nilai F1 Micro dan Accuracy yang di atas 60% mengindikasikan bahwa model mampu mengurangi false positive dan false negative. Namun, masih ada ruang untuk perbaikan dalam meningkatkan kualitas prediksi."
   ]
  },
  {
   "cell_type": "markdown",
   "metadata": {
    "id": "uxRiaZpHFqGw"
   },
   "source": [
    "# **Latihan Soal**\n",
    "---"
   ]
  },
  {
   "cell_type": "markdown",
   "metadata": {
    "id": "hTGsv7N_FqGw"
   },
   "source": [
    "## <b>A. Latihan Implementasi</b>"
   ]
  },
  {
   "cell_type": "markdown",
   "metadata": {
    "id": "a_x3EqymFqGw"
   },
   "source": [
    "Kita akan mencoba membuat model klasifikasi untuk kasus transaction fraud, berikut adalah penjelasan tiap atribut yang digunakan pada dataset ini. Dataset ini diambil dari [Kaggle](https://www.kaggle.com/datasets/samayashar/fraud-detection-transactions-dataset) dengan modifikasi."
   ]
  },
  {
   "cell_type": "markdown",
   "metadata": {
    "id": "rORDk_wRFqGw"
   },
   "source": [
    "*Attribute Information*:\n",
    "- `transaction_id`: Unique identifier for each transaction.\n",
    "- `user_id`: Unique identifier for the user.\n",
    "- `transaction_amount`: Amount of money involved in the transaction.\n",
    "- `transaction_type`: Type of transaction (Online, In-Store, ATM, etc.).\n",
    "- `account_balance`: User's current account balance before the transaction.\n",
    "- `device_type`: Type of device used (Mobile, Desktop, etc.).\n",
    "- `location`: Geographical location of the transaction.\n",
    "- `merchant_category`: Type of merchant (Retail, Food, Travel, etc.).\n",
    "- `ip_address_flag`: Whether the IP address was flagged as suspicious (0 or 1).\n",
    "- `failed_transaction_count_7d`: Count of failed transactions in the past 7 days.\n",
    "- `card_type`: Type of payment card used (Credit, Debit, Prepaid, etc.).\n",
    "- `card_age`: Age of the card in months.\n",
    "- `transaction_distance`: Distance between the user's usual location and transaction location.\n",
    "- `authentication_method`: How the user authenticated (PIN, Biometric, etc.).\n",
    "- `risk_score`: Fraud risk score computed for the transaction.\n",
    "- `is_weekend`: Whether the transaction occurred on a weekend (0 or 1).\n",
    "- `is_fraud`: Target variable (0 = Not Fraud, 1 = Fraud)."
   ]
  },
  {
   "cell_type": "code",
   "execution_count": null,
   "metadata": {
    "id": "dPTORDS-FqGw",
    "outputId": "6d702ca2-d0e2-4c03-ecdc-1dec42b89016"
   },
   "outputs": [
    {
     "data": {
      "text/html": [
       "<div>\n",
       "<style scoped>\n",
       "    .dataframe tbody tr th:only-of-type {\n",
       "        vertical-align: middle;\n",
       "    }\n",
       "\n",
       "    .dataframe tbody tr th {\n",
       "        vertical-align: top;\n",
       "    }\n",
       "\n",
       "    .dataframe thead th {\n",
       "        text-align: right;\n",
       "    }\n",
       "</style>\n",
       "<table border=\"1\" class=\"dataframe\">\n",
       "  <thead>\n",
       "    <tr style=\"text-align: right;\">\n",
       "      <th></th>\n",
       "      <th>transaction_id</th>\n",
       "      <th>user_id</th>\n",
       "      <th>transaction_amount</th>\n",
       "      <th>transaction_type</th>\n",
       "      <th>account_balance</th>\n",
       "      <th>device_type</th>\n",
       "      <th>location</th>\n",
       "      <th>merchant_category</th>\n",
       "      <th>ip_address_flag</th>\n",
       "      <th>failed_transaction_count_7d</th>\n",
       "      <th>card_type</th>\n",
       "      <th>card_age</th>\n",
       "      <th>transaction_distance</th>\n",
       "      <th>authentication_method</th>\n",
       "      <th>risk_score</th>\n",
       "      <th>is_weekend</th>\n",
       "      <th>is_fraud</th>\n",
       "    </tr>\n",
       "  </thead>\n",
       "  <tbody>\n",
       "    <tr>\n",
       "      <th>0</th>\n",
       "      <td>TXN_33553</td>\n",
       "      <td>USER_1834</td>\n",
       "      <td>39.79</td>\n",
       "      <td>POS</td>\n",
       "      <td>93213.17</td>\n",
       "      <td>Laptop</td>\n",
       "      <td>Sydney</td>\n",
       "      <td>Travel</td>\n",
       "      <td>0</td>\n",
       "      <td>3</td>\n",
       "      <td>Amex</td>\n",
       "      <td>65</td>\n",
       "      <td>883.17</td>\n",
       "      <td>Biometric</td>\n",
       "      <td>0.8494</td>\n",
       "      <td>0</td>\n",
       "      <td>0</td>\n",
       "    </tr>\n",
       "    <tr>\n",
       "      <th>1</th>\n",
       "      <td>TXN_9427</td>\n",
       "      <td>USER_7875</td>\n",
       "      <td>1.19</td>\n",
       "      <td>Bank Transfer</td>\n",
       "      <td>75725.25</td>\n",
       "      <td>Mobile</td>\n",
       "      <td>New York</td>\n",
       "      <td>Clothing</td>\n",
       "      <td>0</td>\n",
       "      <td>4</td>\n",
       "      <td>Mastercard</td>\n",
       "      <td>186</td>\n",
       "      <td>2203.36</td>\n",
       "      <td>Password</td>\n",
       "      <td>0.0959</td>\n",
       "      <td>0</td>\n",
       "      <td>1</td>\n",
       "    </tr>\n",
       "    <tr>\n",
       "      <th>2</th>\n",
       "      <td>TXN_199</td>\n",
       "      <td>USER_2734</td>\n",
       "      <td>28.96</td>\n",
       "      <td>Online</td>\n",
       "      <td>1588.96</td>\n",
       "      <td>Tablet</td>\n",
       "      <td>Mumbai</td>\n",
       "      <td>Restaurants</td>\n",
       "      <td>0</td>\n",
       "      <td>4</td>\n",
       "      <td>Visa</td>\n",
       "      <td>226</td>\n",
       "      <td>1909.29</td>\n",
       "      <td>Biometric</td>\n",
       "      <td>0.8400</td>\n",
       "      <td>0</td>\n",
       "      <td>1</td>\n",
       "    </tr>\n",
       "    <tr>\n",
       "      <th>3</th>\n",
       "      <td>TXN_12447</td>\n",
       "      <td>USER_2617</td>\n",
       "      <td>254.32</td>\n",
       "      <td>ATM Withdrawal</td>\n",
       "      <td>76807.20</td>\n",
       "      <td>Tablet</td>\n",
       "      <td>New York</td>\n",
       "      <td>Clothing</td>\n",
       "      <td>0</td>\n",
       "      <td>4</td>\n",
       "      <td>Visa</td>\n",
       "      <td>76</td>\n",
       "      <td>1311.86</td>\n",
       "      <td>OTP</td>\n",
       "      <td>0.7935</td>\n",
       "      <td>0</td>\n",
       "      <td>1</td>\n",
       "    </tr>\n",
       "    <tr>\n",
       "      <th>4</th>\n",
       "      <td>TXN_39489</td>\n",
       "      <td>USER_2014</td>\n",
       "      <td>NaN</td>\n",
       "      <td>POS</td>\n",
       "      <td>NaN</td>\n",
       "      <td>Mobile</td>\n",
       "      <td>NaN</td>\n",
       "      <td>Electronics</td>\n",
       "      <td>0</td>\n",
       "      <td>4</td>\n",
       "      <td>NaN</td>\n",
       "      <td>140</td>\n",
       "      <td>NaN</td>\n",
       "      <td>NaN</td>\n",
       "      <td>NaN</td>\n",
       "      <td>1</td>\n",
       "      <td>1</td>\n",
       "    </tr>\n",
       "  </tbody>\n",
       "</table>\n",
       "</div>"
      ],
      "text/plain": [
       "  transaction_id    user_id  transaction_amount transaction_type  \\\n",
       "0      TXN_33553  USER_1834               39.79              POS   \n",
       "1       TXN_9427  USER_7875                1.19    Bank Transfer   \n",
       "2        TXN_199  USER_2734               28.96           Online   \n",
       "3      TXN_12447  USER_2617              254.32   ATM Withdrawal   \n",
       "4      TXN_39489  USER_2014                 NaN              POS   \n",
       "\n",
       "   account_balance device_type  location merchant_category  ip_address_flag  \\\n",
       "0         93213.17      Laptop    Sydney            Travel                0   \n",
       "1         75725.25      Mobile  New York          Clothing                0   \n",
       "2          1588.96      Tablet    Mumbai       Restaurants                0   \n",
       "3         76807.20      Tablet  New York          Clothing                0   \n",
       "4              NaN      Mobile       NaN       Electronics                0   \n",
       "\n",
       "   failed_transaction_count_7d   card_type  card_age  transaction_distance  \\\n",
       "0                            3        Amex        65                883.17   \n",
       "1                            4  Mastercard       186               2203.36   \n",
       "2                            4        Visa       226               1909.29   \n",
       "3                            4        Visa        76               1311.86   \n",
       "4                            4         NaN       140                   NaN   \n",
       "\n",
       "  authentication_method  risk_score  is_weekend  is_fraud  \n",
       "0             Biometric      0.8494           0         0  \n",
       "1              Password      0.0959           0         1  \n",
       "2             Biometric      0.8400           0         1  \n",
       "3                   OTP      0.7935           0         1  \n",
       "4                   NaN         NaN           1         1  "
      ]
     },
     "execution_count": 58,
     "metadata": {},
     "output_type": "execute_result"
    }
   ],
   "source": [
    "transaction = pd.read_csv(\"synthetic_fraud_dataset.csv\")\n",
    "# transaction = pd.read_csv(\"https://drive.google.com/uc?export=download&id=1qfoScqTMrbZh3iEKvJ0CM_kxNwOTnScP\")\n",
    "transaction.head()"
   ]
  },
  {
   "cell_type": "markdown",
   "metadata": {
    "id": "Dp4_94hoFqGw"
   },
   "source": [
    "### **Deskripsi Soal**\n",
    "\n",
    "Target klasifikasi kita adalah atribut `fraud`. Atribut tersebut terdiri atas nilai 1 atau 0, yang menyatakan apakah suatu transaksi adalah penipuan atau bukan.\n",
    "\n",
    "Berikut adalah alur atau tahapan yang harus teman-teman kerjakan. Semangat!"
   ]
  },
  {
   "cell_type": "markdown",
   "metadata": {
    "id": "oHNOoUV3FqGw"
   },
   "source": [
    "### <b>Nomor 1</b> - <i>Preprocessing</i> [15]\n",
    "Lakukan *preprocessing* pada dataset `transaction` sebelum melanjutkan ke tahap berikutnya. Untuk setiap subsoal, tuliskan juga alasan mengapa penanganan tersebut dilakukan."
   ]
  },
  {
   "cell_type": "markdown",
   "metadata": {
    "id": "vyO1-If1FqGw"
   },
   "source": [
    "#### a. <i>Missing Values</i>\n",
    "Jika ditemukan *missing values*, lakukan penanganan yang tepat sesuai dengan asumsi Anda. Berikan alasan untuk setiap kolom yang ingin di-handle."
   ]
  },
  {
   "cell_type": "code",
   "execution_count": null,
   "metadata": {
    "id": "TYzv6VgaFqGx"
   },
   "outputs": [],
   "source": [
    "# Anda dibebaskan untuk menambah blok kode dan blok markdown sesuai kebutuhan"
   ]
  },
  {
   "cell_type": "markdown",
   "metadata": {
    "id": "ukdEs72FFqGx"
   },
   "source": [
    "#### b. Nilai Duplikat\n",
    "Jika ditemukan nilai duplikat, lakukan penanganan yang tepat sesuai dengan asumsi Anda."
   ]
  },
  {
   "cell_type": "code",
   "execution_count": null,
   "metadata": {
    "id": "NIcxTc5YFqGx"
   },
   "outputs": [],
   "source": [
    "# Anda dibebaskan untuk menambah blok kode dan blok markdown sesuai kebutuhan"
   ]
  },
  {
   "cell_type": "markdown",
   "metadata": {
    "id": "8tGJO3P4FqGx"
   },
   "source": [
    "#### c. <i>Outliers</i>\n",
    "Jika ditemukan *outlier*, Anda bebas memilih penanganan *outlier* apa yang Anda gunakan. Dalam mencari *outlier* juga, Anda bebas menggunakan cara apapun, dengan tetap memberikan justifikasinya."
   ]
  },
  {
   "cell_type": "code",
   "execution_count": null,
   "metadata": {
    "id": "bbTKPWtBFqGx"
   },
   "outputs": [],
   "source": [
    "# Anda dibebaskan untuk menambah blok kode dan blok markdown sesuai kebutuhan"
   ]
  },
  {
   "cell_type": "markdown",
   "metadata": {
    "id": "iqt0s_JVFqGx"
   },
   "source": [
    "#### d. Encoding Fitur Kategorikal"
   ]
  },
  {
   "cell_type": "markdown",
   "metadata": {
    "id": "hL7LkEXlFqGx"
   },
   "source": [
    "Encoding fitur yang masih berbentuk kategorikal dapat dilakukan dengan teknik apapun yang menurut Anda terbaik. Tuliskan untuk setiap fitur mengapa menggunakan encoding tersebut."
   ]
  },
  {
   "cell_type": "code",
   "execution_count": null,
   "metadata": {
    "id": "koaCTutoFqGx"
   },
   "outputs": [],
   "source": [
    "# Anda dibebaskan untuk menambah blok kode dan blok markdown sesuai kebutuhan"
   ]
  },
  {
   "cell_type": "markdown",
   "metadata": {
    "id": "XOW9HDCKFqGx"
   },
   "source": [
    "> Anda boleh melakukan *preprocessing* lebih lanjut jika diperlukan, namun kriteria minimum yang wajib Anda lakukan adalah seperti subsoal di atas."
   ]
  },
  {
   "cell_type": "markdown",
   "metadata": {
    "id": "MgW9f4MDFqGx"
   },
   "source": [
    "### <b>Nomor 2</b> - Persiapan Training [15]\n",
    "Pada tahap ini, Anda diminta melakukan persiapan melakukan training. Berikut adalah hal-hal minimum yang harus Anda lakukan :"
   ]
  },
  {
   "cell_type": "markdown",
   "metadata": {
    "id": "C2qkxJkdFqGx"
   },
   "source": [
    "#### a. <i>Dependent</i> dan <i>Independent Variables</i>\n",
    "Anda diminta untuk memilih variabel dependen `is_fraud` dan variabel independen yang terbaik menurut penemuan Anda. Anda dapat melakukan *feature selection* dengan ukuran terbaik menurut Anda. Jangan lupa untuk menjelaskan asumsi yang Anda ambil. <br>\n",
    "(*Hint*: Silakan eksplorasi pengambilan fitur dari jumlah kecil ke jumlah besar)"
   ]
  },
  {
   "cell_type": "code",
   "execution_count": null,
   "metadata": {
    "id": "W9W-K-srFqGx"
   },
   "outputs": [],
   "source": [
    "# Anda dibebaskan untuk menambah blok kode dan blok markdown sesuai kebutuhan"
   ]
  },
  {
   "cell_type": "markdown",
   "metadata": {
    "id": "85qh2ojFFqGx"
   },
   "source": [
    "#### b. <i>Splitting Dataset</i>\n",
    "\n",
    "Anda diminta untuk membagi dataset menjadi *training* dan *testing* dengan ketentuan:\n",
    "- Data training: 70%\n",
    "- Data testing: 30%\n",
    "- Random state: 2025\n",
    "- Pembagian target merata di kedua data"
   ]
  },
  {
   "cell_type": "code",
   "execution_count": null,
   "metadata": {
    "id": "AA650kbzFqGx"
   },
   "outputs": [],
   "source": [
    "# Anda dibebaskan untuk menambah blok kode dan blok markdown sesuai kebutuhan"
   ]
  },
  {
   "cell_type": "markdown",
   "metadata": {
    "id": "LvBNvOSyFqGx"
   },
   "source": [
    "#### c. <i>Scaling</i>\n",
    "Anda diminta untuk melakukan *scaling*. Anda dapat memilih teknik *scaling* apa yang menurut Anda merupakan strategi terbaik. Berikan alasan mengapa Anda menggunakan strategi tersebut. <br>\n",
    "(<i>Hint</i>: Perhatikan metode yang digunakan saat *scaling*, jangan sampai keliru ketika melakukan *scaling* training dan testing)."
   ]
  },
  {
   "cell_type": "code",
   "execution_count": null,
   "metadata": {
    "id": "VL3IrrUlFqGx"
   },
   "outputs": [],
   "source": [
    "# Anda dibebaskan untuk menambah blok kode dan blok markdown sesuai kebutuhan"
   ]
  },
  {
   "cell_type": "markdown",
   "metadata": {
    "id": "m3P7e5cxFqGx"
   },
   "source": [
    "### <b>Nomor 3</b> - Proses Training [50]"
   ]
  },
  {
   "cell_type": "markdown",
   "metadata": {
    "id": "0W7IdKc1FqGx"
   },
   "source": [
    "#### <b>a. Implementasi Naive Bayes</b>\n",
    "\n",
    "Pada tahapan ini, Anda diminta untuk membangun model klasifikasi Naive Bayes dengan memilih model Naive Bayes yang sesuai.\n",
    "\n",
    "Berikut adalah tahapan umum yang dapat Anda ikuti:\n",
    "1. **Membangun Model Naive Bayes**:\n",
    "\t- Pilih model Naive Bayes yang sesuai.\n",
    "\t- Berikan alasan mengapa model tersebut yang paling sesuai.\n",
    "\t- Lakukan *hyperparameter tuning* untuk memaksimalkan model Naive Bayes (opsional).\n",
    "\n",
    "2. **Cross-Validation**:\n",
    "\t- Lakukan cross-validation menggunakan `KFold` atau `StratifiedKFold`, Anda dapat melakukan eksplorasi lebih lanjut untuk mengetahui perbedaan keduanya..\n",
    "\t- Tampilkan rata-rata hasil evaluasi cross-validation.\n",
    "\n",
    "3. **Evaluasi Model**:\n",
    "\t- Lakukan prediksi pada data test.\n",
    "\t- Lakukan evaluasi model dengan metrik yang sesuai.\n",
    "\t- Analisis hasil evaluasi model Anda dengan metrik evaluasi tersebut.\n",
    "\n",
    "***Tips***: <br>Ingat bahwa model kita ingin memprediksi apakah suatu transaksi adalah fraud atau tidak. Oleh karena itu, usahakan pilih model dengan hasil evaluasi yang meminimalkan jumlah False Positive (serta False Negative). Selain itu, usahakan untuk mengaitkan analisis hasil evaluasi model Anda dengan metrik evaluasi tersebut.\n",
    "\n",
    "***Hint***: <br>\n",
    "Lihat distribusi nilai dari setiap feature yang telah Anda pilih pada tahap sebelumnya, apakah sifat distribusinya? Melalui analisis ini, Anda bisa menentukan model apa yang optimal.\n"
   ]
  },
  {
   "cell_type": "code",
   "execution_count": null,
   "metadata": {
    "id": "YHiRt3e8FqGx"
   },
   "outputs": [],
   "source": [
    "# Anda dibebaskan untuk menambah blok kode dan blok markdown sesuai kebutuhan"
   ]
  },
  {
   "cell_type": "markdown",
   "metadata": {
    "id": "EGMbebkIFqGx"
   },
   "source": [
    "#### <b>b. Implementasi KNN</b>\n",
    "\n",
    "Setelah mencoba model Naive Bayes, Anda diminta juga untuk mencoba membangun model klasifikasi dengan algoritma KNN.\n",
    "\n",
    "Berikut adalah tahapan umum yang dapat Anda ikuti:\n",
    "1. **Pilih nilai K yang terbaik**:\n",
    "\t- Mulailah dengan memilih nilai K secara acak pada percobaan pertama.\n",
    "\t- Lakukan analisis berdasarkan hasil percobaan pertama.\n",
    "\t- Lakukan *hyperparameter tuning* untuk menemukan nilai K yang optimal.\n",
    "\t- Anda juga dapat mencoba teknik *hyperparameter tuning* lainnya yang tidak diajarkan pada lab ini (opsional).\n",
    "\n",
    "2. **Cross-validation**:\n",
    "\t- Lakukan cross-validation menggunakan `KFold` atau `StratifiedKFold`, Anda dapat melakukan eksplorasi lebih lanjut untuk mengetahui perbedaan keduanya.\n",
    "\t- Tampilkan rata-rata hasil evaluasi cross-validation.\n",
    "\t- Bandingkan hasil evaluasi cross-validation untuk ketiga metrik (`euclidean`, `manhattan`, dan `jaccard`).\n",
    "\n",
    "3. **Evaluasi model**:\n",
    "\t- Pilih parameter `metric` distance yang terbaik untuk memprediksi data *test*.\n",
    "\t- Berikan hasil evaluasi model dan analisis Anda.\n",
    "\n",
    "***Tips***: <br>\n",
    "Ingat bahwa model kita ingin memprediksi apakah suatu transaksi adalah fraud atau tidak. Oleh karena itu, usahakan pilih model dengan hasil evaluasi yang meminimalkan jumlah False Negative (serta False Positive). Selain itu, usahakan untuk mengaitkan analisis hasil evaluasi model Anda dengan metrik evaluasi tersebut."
   ]
  },
  {
   "cell_type": "code",
   "execution_count": null,
   "metadata": {
    "id": "vv3s3SE8FqGy"
   },
   "outputs": [],
   "source": [
    "# Anda dibebaskan untuk menambah blok kode dan blok markdown sesuai kebutuhan"
   ]
  },
  {
   "cell_type": "markdown",
   "metadata": {
    "id": "2gHcbgffFqGy"
   },
   "source": [
    "## <b>B. Latihan Teoritis</b>"
   ]
  },
  {
   "cell_type": "markdown",
   "metadata": {
    "id": "1k2BZFd3FqGy"
   },
   "source": [
    "### <b>Nomor 1</b> - Naive Bayes [4]"
   ]
  },
  {
   "cell_type": "markdown",
   "metadata": {
    "id": "2ofG9AwyFqGy"
   },
   "source": [
    "Bagaimana cara menangani data dengan fitur campuran (numerik dan kategorikal) dalam implementasi Naive Bayes? Sebagai contoh, pada Hands-on Naive Bayes sebelumnya, kita menghapus kolom `Age` karena menggunakan Categorical Naïve Bayes. Jika kita ingin tetap menyertakan `Age` dalam pemrosesan, metode apa yang dapat digunakan untuk menangani fitur numerik dan kategorikal secara bersamaan?"
   ]
  },
  {
   "cell_type": "markdown",
   "metadata": {
    "id": "PrC86k4oFqGy"
   },
   "source": [
    "**Jawaban**"
   ]
  },
  {
   "cell_type": "markdown",
   "metadata": {
    "id": "ZgB3gu0WFqGy"
   },
   "source": [
    "### <b>Nomor 2</b> - Naive Bayes [4]"
   ]
  },
  {
   "cell_type": "markdown",
   "metadata": {
    "id": "wcWEPNCvFqGy"
   },
   "source": [
    "Walaupun Naive Bayes adalah salah satu algoritma yang sederhana dan cepat untuk klasifikasi, namun algoritma ini memiliki beberapa kelemahan. Salah satu kelemahan utamanya adalah ***Zero Frequency Problem***.\n",
    "\n",
    "Jawablah pertanyaan-pertanyaan di bawah ini dengan menggunakan markdown dan sertakan referensi yang Anda gunakan."
   ]
  },
  {
   "cell_type": "markdown",
   "metadata": {
    "id": "vhEN24cAFqGy"
   },
   "source": [
    "#### a. Apa yang dimaksud dengan <i>Zero Frequency Problem</i> dalam Naive Bayes?"
   ]
  },
  {
   "cell_type": "markdown",
   "metadata": {
    "id": "Kn_7EmqFFqGy"
   },
   "source": [
    "**Jawaban**"
   ]
  },
  {
   "cell_type": "markdown",
   "metadata": {
    "id": "I7Q9iwdEFqGy"
   },
   "source": [
    "#### b. Bagaimana cara untuk mengatasi masalah tersebut?"
   ]
  },
  {
   "cell_type": "markdown",
   "metadata": {
    "id": "qc1U4r7JFqGy"
   },
   "source": [
    "**Jawaban**"
   ]
  },
  {
   "cell_type": "markdown",
   "metadata": {
    "id": "dWjp-nBYFqGy"
   },
   "source": [
    "### <b>Nomor 3</b> - KNN [4]"
   ]
  },
  {
   "cell_type": "markdown",
   "metadata": {
    "id": "Wk19yt27FqGy"
   },
   "source": [
    "K-Nearest Neighbors (KNN) adalah algoritma yang sederhana dan intuitif untuk klasifikasi dan regresi. Namun, algoritma ini memiliki beberapa kelemahan, salah satunya adalah ***Curse of Dimensionality***.\n",
    "\n",
    "Jawablah pertanyaan-pertanyaan di bawah ini dengan menggunakan markdown dan sertakan referensi yang Anda gunakan."
   ]
  },
  {
   "cell_type": "markdown",
   "metadata": {
    "id": "DAXTTgHgFqGy"
   },
   "source": [
    "#### a. Apa yang dimaksud dengan <i>Curse of Dimensionality</i>?"
   ]
  },
  {
   "cell_type": "markdown",
   "metadata": {
    "id": "sWY85V48FqGy"
   },
   "source": [
    "**Jawaban**"
   ]
  },
  {
   "cell_type": "markdown",
   "metadata": {
    "id": "PQKsvmn7FqGy"
   },
   "source": [
    "#### b. Bagaimana cara untuk mengatasi masalah tersebut?"
   ]
  },
  {
   "cell_type": "markdown",
   "metadata": {
    "id": "c1DAPEWCFqGy"
   },
   "source": [
    "**Jawaban**"
   ]
  },
  {
   "cell_type": "markdown",
   "metadata": {
    "id": "zS0hTM2xFqGy"
   },
   "source": [
    "### <b>Nomor 4</b> - Naive Bayes & KNN [3]\n",
    "Bandingkan *computation time* antara model Naive Bayes dan KNN berdasarkan implementasi yang telah kalian lakukan sebelumnya. Jelaskan *insight* yang kalian peroleh dari hasil perbandingan tersebut. Mengapa hal tersebut tersebut bisa terjadi?"
   ]
  },
  {
   "cell_type": "markdown",
   "metadata": {
    "id": "dNPaZU_9FqGy"
   },
   "source": [
    "**Jawaban**"
   ]
  },
  {
   "cell_type": "markdown",
   "metadata": {
    "id": "DzEl1HKRFqGy"
   },
   "source": [
    "## <b>C. Kaggle Competition!</b>"
   ]
  },
  {
   "cell_type": "markdown",
   "metadata": {
    "id": "XQw-ortAFqGy"
   },
   "source": [
    "Dalam rangka menerapkan pemahaman kalian pada materi Naive Bayes dan KNN, kalian **diwajibkan** untuk mengikuti Kaggle Competition yang akan diadakan bersamaan dengan Lab 5 ini.\n",
    "\n",
    "**Bagaimana Cara Mengikuti?**\n",
    "- Join ke kompetisi di bagian bawah ini. Klik tautan tersebut untuk mengakses halaman kompetisi.\n",
    "- Kerjakan solusi Anda menggunakan notebook ini. Template kode tersedia dibawah.\n",
    "- Unggah hasil prediksi Anda ke dalam kompetisi Kaggle yang telah disediakan. Format dari submission telah dispesifikasikan pada bagian **Submission File** di laman Kaggle.\n",
    "- Model yang boleh digunakan hanya Naive Bayes atau K-Nearest Neighbor (KNN).\n",
    "- Boleh menggunakan teknik hyperparameter tuning lainnya selain yang diajarkan di kelas/lab.\n",
    "- Submission File harus sesuai dengan yang dihasilkan oleh model pada Notebook.\n",
    "\n",
    "**Tautan Kaggle Competition**\n",
    "- [Kaggle Competition - LAB 5 Naive Bayes & KNN](https://www.kaggle.com/t/45a48684325c47f89b14a87b983851d7)\n",
    "\n",
    "**Penilaian**\n",
    "\n",
    "Untuk mendapatkan nilai penuh pada lab 5 ini, kalian **diwajibkan** untuk mengikuti kompetisi Kaggle di atas."
   ]
  },
  {
   "cell_type": "markdown",
   "metadata": {
    "id": "m2WdPpnXFqGz"
   },
   "source": [
    "### Kaggle Competition"
   ]
  },
  {
   "cell_type": "markdown",
   "metadata": {
    "id": "2w8NEgClFqGz"
   },
   "source": [
    "#### EDA"
   ]
  },
  {
   "cell_type": "code",
   "execution_count": null,
   "metadata": {
    "id": "AeyBVS5xFqGz"
   },
   "outputs": [],
   "source": [
    "# Lakukan EDA"
   ]
  },
  {
   "cell_type": "markdown",
   "metadata": {
    "id": "K_GDuF5LFqGz"
   },
   "source": [
    "#### Preprocessing"
   ]
  },
  {
   "cell_type": "code",
   "execution_count": null,
   "metadata": {
    "id": "czWNMbdFFqGz"
   },
   "outputs": [],
   "source": [
    "# Lakukan Preprocessing"
   ]
  },
  {
   "cell_type": "markdown",
   "metadata": {
    "id": "vERgqqRFFqGz"
   },
   "source": [
    "#### Modeling"
   ]
  },
  {
   "cell_type": "code",
   "execution_count": null,
   "metadata": {
    "id": "Pma523wIFqGz"
   },
   "outputs": [],
   "source": [
    "# Lakukan Modeling"
   ]
  }
 ],
 "metadata": {
  "colab": {
   "provenance": []
  },
  "kernelspec": {
   "display_name": "Python 3 (ipykernel)",
   "language": "python",
   "name": "python3"
  },
  "language_info": {
   "codemirror_mode": {
    "name": "ipython",
    "version": 3
   },
   "file_extension": ".py",
   "mimetype": "text/x-python",
   "name": "python",
   "nbconvert_exporter": "python",
   "pygments_lexer": "ipython3",
   "version": "3.11.3"
  }
 },
 "nbformat": 4,
 "nbformat_minor": 1
}
