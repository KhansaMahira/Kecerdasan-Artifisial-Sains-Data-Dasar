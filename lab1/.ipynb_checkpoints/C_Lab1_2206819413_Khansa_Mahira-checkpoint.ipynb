{
 "cells": [
  {
   "cell_type": "markdown",
   "metadata": {
    "id": "G9y9Dgku0w-K"
   },
   "source": [
    "<center>\n",
    "<img src=\"https://drive.google.com/uc?id=1f1gGVI-rxcHjA90WEGNvvtSXF1pAxQwg\" alt=\"Fasilkom UI\" width=\"300\"/>\n",
    "\n",
    "CSGE603130 • Kecerdasan Artifisial dan Sains Data Dasar\n",
    "\n",
    "Semester Genap 2024/2025\n",
    "\n",
    "Fakultas Ilmu Komputer, Universitas Indonesia\n",
    "\n",
    "##**Lab 1: *Pengenalan Pandas dan NumPy***\n",
    "\n",
    "###**Tenggat Waktu: 09 Februari 2025 23.55 WIB**\n",
    "</center>\n",
    "\n",
    "### **Ketentuan:**\n",
    "\n",
    "1. Dokumen template lab dengan format .ipynb dan dataset (jika dibutuhkan) telah disediakan di SCeLe\n",
    "2. Jalankan kode pada dokumen .ipynb dan perhatikan dengan saksama apa yang potongan kode tersebut lakukan beserta dengan keluarannya. Jawablah **pertanyaan** yang disisipkan pada potongan program yang diberikan.\n",
    "3. Dokumen Jupyter Notebook yang telah dilengkapi dengan jawaban dikumpulkan dengan format penamaan **Kelas_LabX_NPM_Nama.ipynb** . Contoh: A_Lab1_1806205773_Abdurrafi Arief.ipynb. Kesalahan dalam pengumpulan nama akan dikenakan pinalti sebesar 5 poin.\n",
    "4. Kumpulkan dokumen tersebut pada submisi yang telah disediakan di SCeLe sesuai dengan kelas masing-masing sebelum **Tenggat Waktu: 09 Februari 2025, 23.55 WIB**.\n",
    "5. Keterlambatan pengumpulan akan dikenakan pinalti sebesar 5 poin per jam (pembulatan ke atas). Dengan cut off 1 hari.\n",
    "6. Lab ini dirancang sebagai **tugas mandiri**. Plagiarisme tidak diperkenankan dalam bentuk apapun. Adapun kolaborasi berupa diskusi (tanpa menyalin maupun mengambil jawaban orang lain) dan literasi masih diperbolehkan dengan mencantumkan kolaborator dan sumber.\n",
    "7. Pakta Integritas **Wajib** di isi dan di jalankan. Submisi hanya akan dinilai jika pakta integritas di isi dan di jalankan.\n",
    "8. Sebelum di kumpulkan, kode **WAJIB** dijalankan. Jika tidak, dikenakan penalti sebesar 50%.\n",
    "9. Mahasiswa wajib mencantumkan semua sumber yang menjadi referensi jawaban, termasuk GPT.\n",
    "\n"
   ]
  },
  {
   "cell_type": "code",
   "execution_count": 1,
   "metadata": {
    "id": "-rvyCE4wgcGo"
   },
   "outputs": [],
   "source": [
    "# Isi dengan data diri Anda\n",
    "NAMA = \"Khansa Mahira\"\n",
    "KELAS = \"C\"\n",
    "NPM = \"2206819413\"\n",
    "USERNAME_KAGGLE = \"khansamahira\"\n",
    "\n",
    "# Isi dengan NPM teman yang berdiskusi dengan Anda\n",
    "KOLABORATOR = []\n",
    "\n",
    "# Isi dengan sumber referensi yang Anda gunakan dalam mengerjakan\n",
    "REFERENSI = [\"Gemini\"]"
   ]
  },
  {
   "cell_type": "code",
   "execution_count": 2,
   "metadata": {
    "colab": {
     "base_uri": "https://localhost:8080/"
    },
    "id": "BR6CCvFPwPNq",
    "outputId": "4fe6f650-485f-4548-f0e0-bf0ebe4fa2c3"
   },
   "outputs": [
    {
     "name": "stdout",
     "output_type": "stream",
     "text": [
      "Saya, Khansa Mahira dari kelas C dengan NPM 2206819413, menyatakan bahwa seluruh jawaban pada pekerjaan ini murni saya kerjakan sendiri.\n",
      "Saya tidak mencontek jawaban, memberikan jawaban, maupun menyalin dari sumber manapun.\n",
      " \n",
      "Jika saya melanggar pernyataan tersebut, saya siap menerima konsekuensi apapun yang diberikan.\n",
      "   (Khansa Mahira)\n"
     ]
    }
   ],
   "source": [
    "PERNYATAAN_INTEGRITAS = \"Saya, %s dari kelas %s dengan NPM %s, menyatakan bahwa seluruh jawaban pada pekerjaan ini murni saya kerjakan sendiri.\\n\\\n",
    "Saya tidak mencontek jawaban, memberikan jawaban, maupun menyalin dari sumber manapun.\\n \\\n",
    "\\n\\\n",
    "Jika saya melanggar pernyataan tersebut, saya siap menerima konsekuensi apapun yang diberikan.\\n   \\\n",
    "(%s)\" % (NAMA, KELAS, NPM, NAMA)\n",
    "\n",
    "print(PERNYATAAN_INTEGRITAS)"
   ]
  },
  {
   "cell_type": "markdown",
   "metadata": {
    "id": "5MsN1us9KVzD"
   },
   "source": [
    "# Penguatan Python"
   ]
  },
  {
   "cell_type": "markdown",
   "metadata": {
    "id": "jRz-ZxSCKZBe"
   },
   "source": [
    "Python merupakan bahasa pemrograman yang akan digunakan pada tutorial mata kuliah ini. Terdapat playlist YouTube [Python DDP 1](https://www.youtube.com/playlist?list=PLvkbIcjwo0qwModeUU2JyUi2RQcI6Nfc-) yang telah disediakan oleh Pak Fariz untuk mendukung dan membantu pemahaman kalian dalam Python. Semoga sukses dalam belajarmu, Semangat ya!"
   ]
  },
  {
   "cell_type": "markdown",
   "metadata": {
    "id": "jzKx7uS0MFrr"
   },
   "source": [
    "# **1. Pengantar Jupyter Notebook**"
   ]
  },
  {
   "cell_type": "markdown",
   "metadata": {
    "id": "sEDFQzHwNRqu"
   },
   "source": [
    "Berkas yang akan digunakan pada tutorial yaitu berkas IPYNB. Berkas IPYNB dapat dibentuk dan dibuka menggunakan aplikasi daring seperti [Google Colab](https://www.kaggle.com/notebooks) atau [Kaggle](https://www.kaggle.com/notebooks), ataupun Jupyter Notebook. Dalam berkas ini, konten disusun dalam bentuk sel (cells), yang terdiri dari tiga jenis utama, diantaranya yaitu code cells untuk menulis dan menjalankan kode, markdown cells untuk menulis teks deskriptif atau dokumentasi, serta raw cells untuk menyimpan teks mentah.\n",
    "\n",
    "Setiap cell dapat dieksekusi dengan kombinasi shortcut **shift + enter** ataupun **tombol run** pada tiap cell. Setiap cell dapat dieksekusi secara mandiri dan tidak perlu dijalankan berurutan, kecuali jika ada variabel global yang diinisiasi pada cell yang belum dijalankan. Cell kode Python yang dieksekusi akan menjalankan kode secara *interpreted* dan menampilkan output (jika ada) di bawah cell."
   ]
  },
  {
   "cell_type": "code",
   "execution_count": 3,
   "metadata": {
    "colab": {
     "base_uri": "https://localhost:8080/",
     "height": 54
    },
    "id": "XYLcMY_eNRG2",
    "outputId": "1dbb9222-863e-4e8d-8842-08299f7e379d"
   },
   "outputs": [],
   "source": [
    "# Berikut merupakan contoh cell untuk kode Python\n",
    "# Cell dapat digunakan untuk mengeksekusi kode yang diperlukan\n",
    "\n",
    "var = \"Hello, world!\"\n",
    "print(var[:])\n",
    "var"
   ]
  },
  {
   "cell_type": "markdown",
   "metadata": {
    "id": "imqMTLIYfMXm"
   },
   "source": [
    "## Contoh cell untuk *text markdown*"
   ]
  },
  {
   "cell_type": "markdown",
   "metadata": {
    "id": "LNLBvhkz_eBO"
   },
   "source": [
    "Ini adalah contoh cell untuk text markdown."
   ]
  },
  {
   "cell_type": "markdown",
   "metadata": {
    "id": "muF_TSmCfcnK"
   },
   "source": [
    "Markdown adalah bahasa markup yang digunakan untuk membuat teks berformat menggunakan editor teks sederhana. Dengan Markdown, dapat dibuat berbagai format teks seperti *heading*, tautan, tabel, daftar, dan banyak lagi. Beragam sintaks Markdown dapat ditemukan dalam [panduan di Markdownguide.org](https://www.markdownguide.org/cheat-sheet/) serta [dokumentasi wiki](https://github.com/adam-p/markdown-here/wiki/Markdown-Here-Cheatsheet) yang dibuat oleh Adam Pritchard."
   ]
  },
  {
   "cell_type": "markdown",
   "metadata": {
    "id": "a27ahYIDgC_G"
   },
   "source": [
    "## 1.1 Instalasi library pada Jupyter Notebook"
   ]
  },
  {
   "cell_type": "markdown",
   "metadata": {
    "id": "7QLMQl3tipXv"
   },
   "source": [
    "Secara umum, *tools* seperti JupyterLab dan Google Colab telah menyediakan kernel yang dilengkapi dengan beberapa *library* Python. Namun, untuk menginstal library tambahan yang dibutuhkan, dapat dijalankan perintah `pip install nama-package` pada cell kode. Sebagai contoh, berikut adalah cell untuk menginstall library **Pandas**.\n",
    "\n"
   ]
  },
  {
   "cell_type": "code",
   "execution_count": 4,
   "metadata": {
    "colab": {
     "base_uri": "https://localhost:8080/"
    },
    "id": "B2UEHOG8jSCm",
    "outputId": "5465aed7-b4e0-450e-d2f8-4c0c86b4acdc"
   },
   "outputs": [],
   "source": [
    "!pip install pandas"
   ]
  },
  {
   "cell_type": "markdown",
   "metadata": {
    "id": "wJnobTMnjYac"
   },
   "source": [
    "Kernel yang digunakan di Jupyter Notebook, seperti halnya kernel pada umumnya, dapat menerima perintah sistem. Selain perintah seperti `pip`, berbagai perintah lain, seperti `git` atau `apt`, juga dapat dijalankan asalkan kernel yang digunakan mendukungnya. Silahkan  mengeksplorasi lebih lanjut penggunaannya, baik pada perangkat lokal seperti Jupyter Notebook maupun platform berbasis *cloud* seperti Google Colab."
   ]
  },
  {
   "cell_type": "markdown",
   "metadata": {
    "id": "AIcbi_GHkNZB"
   },
   "source": [
    "# **2. Pengenalan Pandas**"
   ]
  },
  {
   "cell_type": "markdown",
   "metadata": {
    "id": "k8J_CiE6K7nq"
   },
   "source": [
    "Pandas merupakan alat analisis dan manipulasi data sumber terbuka yang cepat, kuat, fleksibel, dan mudah digunakan, dibangun di atas bahasa pemrograman Python (Pandas - Python Data Analysis Library, n.d.). Terdapat pula [dokumentasi Pandas](https://pandas.pydata.org/docs/getting_started/index.html) sebagai acuan dalam berlatih menggunakan library ini."
   ]
  },
  {
   "cell_type": "code",
   "execution_count": 5,
   "metadata": {
    "id": "qyPmDpF7ME4I"
   },
   "outputs": [],
   "source": [
    "# import library\n",
    "import pandas as pd"
   ]
  },
  {
   "cell_type": "markdown",
   "metadata": {
    "id": "AFTlpFAlMsIi"
   },
   "source": [
    "Terdapat struktur data utama yang digunakan di Pandas, yaitu Series dan DataFrame. Series merupakan struktur data satu dimensi seperti array atau daftar Python, yang memiliki indeks unik untuk setiap elemen. Umumnya, series cocok digunakan untuk menangani data seperti kolom tunggal dari tabel. Sedangkan, DataFrame merupakan struktur data dua dimensi yang menyerupai tabel dengan baris dan kolom. DataFrame sangat fleksibel karena setiap kolom dapat memiliki tipe data yang berbeda.\n",
    "Berikut penjelasan dan contoh detail dari Series maupun DataFrame."
   ]
  },
  {
   "cell_type": "markdown",
   "metadata": {
    "id": "XbBn2rE6Oq-v"
   },
   "source": [
    "## 2.1 Series"
   ]
  },
  {
   "cell_type": "markdown",
   "metadata": {
    "id": "EXC2QwjsPnTU"
   },
   "source": [
    "Series adalah struktur data satu dimensi yang serupa dengan array. Series memiliki indeks dan nilai (*value*), di mana indeks secara default berupa angka dari 0 hingga N-1, dengan N merupakan panjang Series. Series dapat dibuat menggunakan berbagai tipe data, seperti *list*, *tuple*, atau *dictionary*.\n",
    "\n",
    "Salah satu cara yang umum digunakan untuk membuat objek Series adalah sebagai berikut.\n",
    "\n",
    "```\n",
    "pd.Series(data)\n",
    "```\n",
    "\n",
    "`data` di atas dapat berupa *list*, *tuple*, atau *dictionary*.\n",
    "\n",
    "Berikut merupakan contoh penggunaan Series."
   ]
  },
  {
   "cell_type": "code",
   "execution_count": 6,
   "metadata": {
    "colab": {
     "base_uri": "https://localhost:8080/",
     "height": 272
    },
    "id": "6Jq99_h7QABI",
    "outputId": "25f11062-92e4-4ab5-cbda-943d697b12c4"
   },
   "outputs": [],
   "source": [
    "# Membuat objek Series dari sebuah list\n",
    "series = pd.Series([1,2,4,8,16,32])\n",
    "series"
   ]
  },
  {
   "cell_type": "markdown",
   "metadata": {
    "id": "rxuQnhifQNB6"
   },
   "source": [
    "Berdasarkan kode di atas, Series menunjukkan tipe data yang diberikan dengan contoh tersebut adalah integer. Selain itu, Series memiliki *index* yang terletak di bagian sebelah kiri dan *value* yang terletak di bagian sebelah kanan. Kedua hal tersebut dapat diakses dengan menggunakan atribut `index` dan `values`.  Untuk melihat lebih detail terkait *index* dan *value* nya, dapat menggunakan kode sebagai berikut."
   ]
  },
  {
   "cell_type": "code",
   "execution_count": 7,
   "metadata": {
    "colab": {
     "base_uri": "https://localhost:8080/"
    },
    "id": "J8I3oxMFQM3T",
    "outputId": "37b18d84-2b6a-4bb3-f276-8f3e911c3470"
   },
   "outputs": [],
   "source": [
    "# Melihat index dari series\n",
    "series.index"
   ]
  },
  {
   "cell_type": "code",
   "execution_count": 8,
   "metadata": {
    "colab": {
     "base_uri": "https://localhost:8080/"
    },
    "id": "bNUQ7wQ0Qc_B",
    "outputId": "6857c635-b051-45d8-d545-3c07d5ccd2e9"
   },
   "outputs": [],
   "source": [
    "# Melihat values dari series\n",
    "series.values"
   ]
  },
  {
   "cell_type": "markdown",
   "metadata": {
    "id": "2dAuRbzvRP9m"
   },
   "source": [
    "Tidak hanya itu, Series juga dapat diakses menggunakan teknik *indexing* dan *slicing* dengan contoh sebagai berikut."
   ]
  },
  {
   "cell_type": "code",
   "execution_count": 9,
   "metadata": {
    "colab": {
     "base_uri": "https://localhost:8080/"
    },
    "id": "ckSDx0sbRWe2",
    "outputId": "aa19c9b4-a190-4fe5-88d9-4e375c96f1c8"
   },
   "outputs": [],
   "source": [
    "# Melakukan indexing pada series\n",
    "series[1]"
   ]
  },
  {
   "cell_type": "code",
   "execution_count": 10,
   "metadata": {
    "colab": {
     "base_uri": "https://localhost:8080/",
     "height": 178
    },
    "id": "_91AOwbTRbpo",
    "outputId": "17506b57-8706-41ae-9884-6a0f071a052c"
   },
   "outputs": [],
   "source": [
    "# Melakukan slicing pada series\n",
    "series[1:4]"
   ]
  },
  {
   "cell_type": "markdown",
   "metadata": {
    "id": "Li7F-wA7RrGV"
   },
   "source": [
    "Pada contoh di atas, *indexing* digunakan untuk untuk mengakses elemen individual berdasarkan indeks atau label. Sedangkan, *slicing* digunakan untuk memilih subset dari data berdasarkan rentang *index*. Slicing dapat dilakukan dengan menggunakan index atau label dan akan mengembalikan elemen dalam rentang yang ditentukan."
   ]
  },
  {
   "cell_type": "markdown",
   "metadata": {
    "id": "vXCHG7q5Ox4d"
   },
   "source": [
    "## 2.2 DataFrame"
   ]
  },
  {
   "cell_type": "markdown",
   "metadata": {
    "id": "m_ZmnhTDS_--"
   },
   "source": [
    "DataFrame adalah struktur data dua dimensi yang mirip dengan tabel. DataFrame memiliki indeks dan kolom. Secara default, indeks pada DataFrame berupa angka yang dimulai dari 0 hingga N-1, di mana N adalah jumlah baris pada DataFrame. DataFrame dapat dibuat menggunakan berbagai tipe data seperti *list*, *tuple*, *dictionary*, dan Series. Setiap kolom dalam DataFrame dapat memiliki tipe data yang berbeda, seperti *integer*, *string*, atau *float*. Seperti halnya Series, DataFrame juga memiliki indeks yang unik untuk setiap barisnya.\n",
    "\n",
    "<br>DataFrame dapat digunakan untuk menyimpan dan memanipulasi data yang berasal dari berbagai sumber, seperti file CSV, Excel, atau basis data SQL. Salah satu cara umum untuk membuat objek DataFrame adalah dengan menggunakan sintaks berikut.\n",
    "\n",
    "```\n",
    "pd.DataFrame(data, columns=column_names)\n",
    "```\n",
    "\n",
    "`data` di atas dapat berupa list, tuple, atau dictionary.\n",
    "\n",
    "`column_names` adalah list yang berisi nama kolom.\n",
    "\n",
    "Berikut merupakan contoh penggunaan DataFrame.\n"
   ]
  },
  {
   "cell_type": "markdown",
   "metadata": {
    "id": "3eg-enIkwDRu"
   },
   "source": [
    "### 2.2.1 Pembuatan DataFrame"
   ]
  },
  {
   "cell_type": "markdown",
   "metadata": {
    "id": "kD_8HYK89bwF"
   },
   "source": [
    "#### 1. Pembuatan DataFrame melalui List"
   ]
  },
  {
   "cell_type": "code",
   "execution_count": 11,
   "metadata": {
    "colab": {
     "base_uri": "https://localhost:8080/",
     "height": 143
    },
    "id": "H6SVKHsOwCtk",
    "outputId": "846fd6f2-d3cd-4a20-9412-9b2bf76a0be9"
   },
   "outputs": [],
   "source": [
    "# Memasukkan data ke dalam lists\n",
    "data_list = [\n",
    "    [1, 'Jane', 80],\n",
    "    [2, 'John', 90],\n",
    "    [3, 'Doe', 70]\n",
    "]\n",
    "\n",
    "# Membuat dataframe\n",
    "df_list = pd.DataFrame(data_list, columns=['ID', 'Name', 'Score'])\n",
    "df_list"
   ]
  },
  {
   "cell_type": "markdown",
   "metadata": {
    "id": "W-XiVXX8w8u5"
   },
   "source": [
    "#### 2. Pembuatan DataFrame melalui Dictionary"
   ]
  },
  {
   "cell_type": "markdown",
   "metadata": {
    "id": "LFoyHfzQxRkR"
   },
   "source": [
    " * Pembuatan DataFrame melalui *Dictionary of Lists*"
   ]
  },
  {
   "cell_type": "code",
   "execution_count": 12,
   "metadata": {
    "colab": {
     "base_uri": "https://localhost:8080/",
     "height": 143
    },
    "id": "_AIJtcL4xAbe",
    "outputId": "e1efa489-81ed-4152-fd64-d35a26444ae1"
   },
   "outputs": [],
   "source": [
    "# Memasukkan data ke dalam dictionary of lists\n",
    "data_dict = {\n",
    "    'ID': [1, 2, 3],\n",
    "    'Name': ['Jane', 'John', 'Doe'],\n",
    "    'Score': [80, 90, 70]\n",
    "}\n",
    "\n",
    "# Membuat dataframe\n",
    "df_dict = pd.DataFrame(data_dict)\n",
    "df_dict"
   ]
  },
  {
   "cell_type": "markdown",
   "metadata": {
    "id": "S_7Kc19AxcCS"
   },
   "source": [
    "* Pembuatan DataFrame melalui *Dictionary of Series*"
   ]
  },
  {
   "cell_type": "code",
   "execution_count": 13,
   "metadata": {
    "colab": {
     "base_uri": "https://localhost:8080/",
     "height": 143
    },
    "id": "1kC1SpdVxNkW",
    "outputId": "0995b0a8-a1fe-4987-c41c-bf63d7862013"
   },
   "outputs": [],
   "source": [
    "# Memasukkan data ke dalam dictionary of series\n",
    "data_series = {\n",
    "    'ID': pd.Series([1, 2, 3]),\n",
    "    'Name': pd.Series(['Jane', 'John', 'Doe']),\n",
    "    'Score': pd.Series([80, 90, 70])\n",
    "}\n",
    "\n",
    "# Membuat dataframe\n",
    "df_series = pd.DataFrame(data_series)\n",
    "df_series"
   ]
  },
  {
   "cell_type": "markdown",
   "metadata": {
    "id": "x2DNWirFx16g"
   },
   "source": [
    "#### 3. Pembuatan DataFrame melalui Tuple"
   ]
  },
  {
   "cell_type": "code",
   "execution_count": 14,
   "metadata": {
    "colab": {
     "base_uri": "https://localhost:8080/",
     "height": 143
    },
    "id": "Vx1JYsZIx5DV",
    "outputId": "6489d55d-8deb-44c3-9216-1e3d8f305a3c"
   },
   "outputs": [],
   "source": [
    "# Memasukkan data ke dalam\n",
    "data_tuple = [\n",
    "    (1, 'Jane', 80),\n",
    "    (2, 'John', 90),\n",
    "    (3, 'Doe', 70)\n",
    "]\n",
    "\n",
    "# Membuat dataframe\n",
    "df_tuple = pd.DataFrame(data_tuple, columns=['ID', 'Name', 'Score'])\n",
    "df_tuple"
   ]
  },
  {
   "cell_type": "markdown",
   "metadata": {
    "id": "t41gloHdyENp"
   },
   "source": [
    "#### 4. Pembuatan DataFrame melalui Series"
   ]
  },
  {
   "cell_type": "code",
   "execution_count": 15,
   "metadata": {
    "colab": {
     "base_uri": "https://localhost:8080/",
     "height": 143
    },
    "id": "qJ9f0iRvyExR",
    "outputId": "a8b72139-a95a-4607-860f-2d8ed21f9a0f"
   },
   "outputs": [],
   "source": [
    "# Memasukkan data ke dalam series\n",
    "id_series = pd.Series([1, 2, 3], name='ID')\n",
    "name_series = pd.Series(['Jane', 'John', 'Doe'], name='Name')\n",
    "score_series = pd.Series([80, 90, 70], name='Score')\n",
    "\n",
    "# Membuat dataframe\n",
    "df_ser = pd.concat([id_series, name_series, score_series], axis=1)\n",
    "df_ser"
   ]
  },
  {
   "cell_type": "markdown",
   "metadata": {
    "id": "gs9WTPmMySOi"
   },
   "source": [
    "#### 5. Pembuatan DataFrame melalui Sumber Eksternal"
   ]
  },
  {
   "cell_type": "markdown",
   "metadata": {
    "id": "meMjQPoJ6YiJ"
   },
   "source": [
    "* Pembuatan DataFrame melalui Sumber Eksternal (URL Remote)"
   ]
  },
  {
   "cell_type": "markdown",
   "metadata": {
    "id": "oE_2B6B46j_h"
   },
   "source": [
    "**Membaca berkas CSV dari URL remote**"
   ]
  },
  {
   "cell_type": "code",
   "execution_count": 16,
   "metadata": {
    "colab": {
     "base_uri": "https://localhost:8080/",
     "height": 423
    },
    "id": "UfeOWbdSyWFD",
    "outputId": "6f7dab26-d691-4b7b-f40b-30c0c869b855"
   },
   "outputs": [],
   "source": [
    "# Membaca file CSV\n",
    "df_remote = pd.read_csv(\n",
    "    'https://archive.ics.uci.edu/ml/machine-learning-databases/zoo/zoo.data', # Path menuju berkas dataset, dapat berupa path lokal maupun URL remote\n",
    "    header=None # Baris pertama dataset bukan header\n",
    ")\n",
    "\n",
    "display(df_remote) # Menampilkan DataFrame"
   ]
  },
  {
   "cell_type": "markdown",
   "metadata": {
    "id": "LuuAKY9S6tF4"
   },
   "source": [
    "**Memberikan nama kolom pada DataFrame yang telah dibuat agar lebih bermakna**"
   ]
  },
  {
   "cell_type": "code",
   "execution_count": 17,
   "metadata": {
    "colab": {
     "base_uri": "https://localhost:8080/",
     "height": 443
    },
    "id": "OZttYg1f6z2X",
    "outputId": "7fa95158-4c11-4d3a-b46b-1a3eea6438fa"
   },
   "outputs": [],
   "source": [
    "df_remote.columns = [\n",
    "    'animal_name', 'Hair', 'Feathers', 'Eggs',\n",
    "    'Milk', 'Airbone', 'Aquati', 'Predator',\n",
    "    'Toothed', 'Backbone', 'Breathes', 'Venomous',\n",
    "    'Fins', 'Legs', 'Tail', 'Domestic', 'Catsize', 'Type'\n",
    "]\n",
    "df_remote"
   ]
  },
  {
   "cell_type": "markdown",
   "metadata": {
    "id": "K8BuPCmB56j1"
   },
   "source": [
    "```\n",
    "Deskrispi dataset:\n",
    "* animal_name: Nama hewan yang sedang dianalisis dalam dataset.\n",
    "* Hair: Indikator apakah hewan memiliki rambut atau bulu (0 = Tidak, 1 = Ya).\n",
    "* Feathers: Indikator apakah hewan memiliki bulu (0 = Tidak, 1 = Ya).\n",
    "* Eggs: Indikator apakah hewan bereproduksi dengan bertelur (0 = Tidak, 1 = Ya).\n",
    "* Milk: Indikator apakah hewan menghasilkan susu untuk memberi makan anaknya (0 = Tidak, 1 = Ya).\n",
    "* Airborne: Indikator apakah hewan dapat terbang atau hidup di udara (0 = Tidak, 1 = Ya).\n",
    "* Aquatic: Indikator apakah hewan hidup di air atau memiliki sifat akuatik (0 = Tidak, 1 = Ya).\n",
    "* Predator: Indikator apakah hewan merupakan predator atau pemangsa (0 = Tidak, 1 = Ya).\n",
    "* Toothed: Indikator apakah hewan memiliki gigi (0 = Tidak, 1 = Ya).\n",
    "* Backbone: Indikator apakah hewan memiliki tulang belakang atau merupakan vertebrata (0 = Tidak, 1 = Ya).\n",
    "* Breathes: Indikator apakah hewan bernapas menggunakan paru-paru (0 = Tidak, 1 = Ya).\n",
    "* Venomous: Indikator apakah hewan memiliki bisa atau racun (0 = Tidak, 1 = Ya).\n",
    "* Fins: Indikator apakah hewan memiliki sirip (0 = Tidak, 1 = Ya).\n",
    "* Legs: Jumlah kaki yang dimiliki hewan (nilai numerik, seperti 0, 2, 4, 6, dll.).\n",
    "* Tail: Indikator apakah hewan memiliki ekor (0 = Tidak, 1 = Ya).\n",
    "* Domestic: Indikator apakah hewan dapat didomestikasi atau dijinakkan (0 = Tidak, 1 = Ya).\n",
    "* Catsize: Indikator apakah hewan berukuran seperti kucing atau lebih kecil (0 = Tidak, 1 = Ya).\n",
    "* Type: Klasifikasi atau tipe hewan berdasarkan kategorisasi tertentu (nilai numerik yang merepresentasikan kategori, seperti mamalia, burung, reptil, dll.).\n",
    "```"
   ]
  },
  {
   "cell_type": "markdown",
   "metadata": {
    "id": "7PzIFpGx-n3c"
   },
   "source": [
    "* Pembuatan DataFrame melalui *path* lokal"
   ]
  },
  {
   "cell_type": "code",
   "execution_count": 18,
   "metadata": {
    "colab": {
     "base_uri": "https://localhost:8080/",
     "height": 423
    },
    "id": "NsJMB_cA-r62",
    "outputId": "ba6c1749-8793-4e07-fbbf-5bb207609ad4"
   },
   "outputs": [],
   "source": [
    "# Membaca file CSV\n",
    "df_local = pd.read_csv(\n",
    "    \"sales.csv\" # relative path dari file csv di lokal\n",
    ")\n",
    "\n",
    "df_local"
   ]
  },
  {
   "cell_type": "markdown",
   "metadata": {
    "id": "21f_Zaxm6epV"
   },
   "source": [
    "### 2.2.6 Melihat cuplikan DataFrame"
   ]
  },
  {
   "cell_type": "markdown",
   "metadata": {
    "id": "Ich6wKSwAQVx"
   },
   "source": [
    "Berdasarkan hasil DataFrame sebelumnya, terdapat banyak data yang disertai dengan baris (...). Terdapat method `head()` yang dapat digunakan untuk melihat hanya 5 baris pertama dari DataFrame. Parameter dalam `head()` juga dapat diubah sesuai jumlah baris yang ingin ditampilkan. Selain itu, terdapat method `tail()` yang dapat digunakan untuk melihat 5 baris terakhir."
   ]
  },
  {
   "cell_type": "code",
   "execution_count": 19,
   "metadata": {
    "colab": {
     "base_uri": "https://localhost:8080/",
     "height": 226
    },
    "id": "BTOzeq9ZAoO7",
    "outputId": "1e57dfd5-0964-4a84-b42c-88e6c1fece1a"
   },
   "outputs": [],
   "source": [
    "df_remote.head()"
   ]
  },
  {
   "cell_type": "code",
   "execution_count": 20,
   "metadata": {
    "colab": {
     "base_uri": "https://localhost:8080/",
     "height": 226
    },
    "id": "s05N9U3nArPJ",
    "outputId": "0ffd137f-5136-42b2-d02e-4b0f63542843"
   },
   "outputs": [],
   "source": [
    "df_remote.tail()"
   ]
  },
  {
   "cell_type": "markdown",
   "metadata": {
    "id": "dO1fHxl04rwu"
   },
   "source": [
    "### 2.2.2 Menampilkan atribut dari objek DataFrame"
   ]
  },
  {
   "cell_type": "markdown",
   "metadata": {
    "id": "GqFiuM7n69_B"
   },
   "source": [
    "#### 1. Menampilkan dimensi DataFrame dengan atribut `shape`"
   ]
  },
  {
   "cell_type": "code",
   "execution_count": 21,
   "metadata": {
    "colab": {
     "base_uri": "https://localhost:8080/"
    },
    "id": "EQh3dCY87Dp2",
    "outputId": "bec84f3e-b63d-4883-c11e-bd27a6492495"
   },
   "outputs": [],
   "source": [
    "print(\"Dimensi dari df adalah\", df_remote.shape)\n",
    "print(\"df terdiri atas {} baris dan {} kolom.\".format(df_remote.shape[0], df_remote.shape[1]))"
   ]
  },
  {
   "cell_type": "markdown",
   "metadata": {
    "id": "RozL4rFx7DQD"
   },
   "source": [
    "#### 2. Menampilkan tipe data tiap kolom dengan atribut `dtypes`"
   ]
  },
  {
   "cell_type": "code",
   "execution_count": 22,
   "metadata": {
    "colab": {
     "base_uri": "https://localhost:8080/",
     "height": 648
    },
    "id": "Wc2tYxQd7OEQ",
    "outputId": "9afd5afe-afb8-4704-c2ec-96bdad93a4b8"
   },
   "outputs": [],
   "source": [
    "df_remote.dtypes"
   ]
  },
  {
   "cell_type": "markdown",
   "metadata": {
    "id": "eqnuZlOH7WTG"
   },
   "source": [
    "#### 3. Menampilkan statistik umum tiap kolom dengan method `describe()`"
   ]
  },
  {
   "cell_type": "code",
   "execution_count": 23,
   "metadata": {
    "colab": {
     "base_uri": "https://localhost:8080/",
     "height": 320
    },
    "id": "_HYHBBhd7YTd",
    "outputId": "a76e7159-cf81-49d6-bfa9-8535c172a1f6"
   },
   "outputs": [],
   "source": [
    "df_remote.describe()"
   ]
  },
  {
   "cell_type": "markdown",
   "metadata": {
    "id": "c9VNHQe57w7R"
   },
   "source": [
    "#### 4. Menampilkan statistik untuk kolom yang diinginkan dengan method `describe()`"
   ]
  },
  {
   "cell_type": "code",
   "execution_count": 24,
   "metadata": {
    "colab": {
     "base_uri": "https://localhost:8080/",
     "height": 209
    },
    "id": "FaqM6niW75GZ",
    "outputId": "afdd0c0b-7f6c-4596-d0a8-39db6304db2c"
   },
   "outputs": [],
   "source": [
    "df_remote['animal_name'].describe()"
   ]
  },
  {
   "cell_type": "markdown",
   "metadata": {
    "id": "46-irwpn8LmQ"
   },
   "source": [
    "#### 5. Menghitung jumlah elemen tidak null tiap kolom dengan method `count()`"
   ]
  },
  {
   "cell_type": "code",
   "execution_count": 25,
   "metadata": {
    "colab": {
     "base_uri": "https://localhost:8080/"
    },
    "id": "bHjzh3s08m2H",
    "outputId": "bfd5a6c7-82eb-42a2-a7ac-96d7bd2bfd1b"
   },
   "outputs": [],
   "source": [
    "print(\"Count untuk df_remote\\n\", df_remote.count())"
   ]
  },
  {
   "cell_type": "markdown",
   "metadata": {
    "id": "tKxzeym88u46"
   },
   "source": [
    "Berdasarkan kode di atas, diketahui bahwa df_remote seluruhnya terhitung 101 baris, yang umumnya, berarti tidak ada nilai null."
   ]
  },
  {
   "cell_type": "markdown",
   "metadata": {
    "id": "UZKp2uMQ_ufu"
   },
   "source": [
    "### 2.2.3 Mengakses baris dan kolom dalam  DataFrame"
   ]
  },
  {
   "cell_type": "markdown",
   "metadata": {
    "id": "rDQ09ZIIAkqC"
   },
   "source": [
    "Terdapat beberapa cara dalam mengakses kolom suatu DataFrame, diantaranya sebagai berikut."
   ]
  },
  {
   "cell_type": "markdown",
   "metadata": {
    "id": "I5mkE7SxAu6u"
   },
   "source": [
    "#### 1. Mengakses kolom sebagai series"
   ]
  },
  {
   "cell_type": "code",
   "execution_count": 26,
   "metadata": {
    "colab": {
     "base_uri": "https://localhost:8080/",
     "height": 476
    },
    "id": "IcrMysGCAyxz",
    "outputId": "bedd02ae-c359-482e-fe1c-71567f069b93"
   },
   "outputs": [],
   "source": [
    "# Mengakses kolom sebagai Series\n",
    "df_remote_hair = df_remote['Hair']\n",
    "print(type(df_remote_hair))\n",
    "df_remote_hair"
   ]
  },
  {
   "cell_type": "markdown",
   "metadata": {
    "id": "ad8A8BIMA_kk"
   },
   "source": [
    "#### 2. Mengakses kolom sebagai DataFrame"
   ]
  },
  {
   "cell_type": "code",
   "execution_count": 27,
   "metadata": {
    "colab": {
     "base_uri": "https://localhost:8080/",
     "height": 442
    },
    "id": "EcbzgyUCBBwz",
    "outputId": "eb14f8b8-0494-48a0-cfa7-0441e875c716"
   },
   "outputs": [],
   "source": [
    "# Mengakses kolom sebagai DataFrame\n",
    "df_remote_eggs = df_remote[['Eggs']]\n",
    "print(type(df_remote_eggs))\n",
    "df_remote_eggs"
   ]
  },
  {
   "cell_type": "markdown",
   "metadata": {
    "id": "iowwC-YYBPKA"
   },
   "source": [
    "#### 3. Mengakses beberapa kolom sebagai DataFrame"
   ]
  },
  {
   "cell_type": "code",
   "execution_count": 28,
   "metadata": {
    "colab": {
     "base_uri": "https://localhost:8080/",
     "height": 423
    },
    "id": "UTtMu8S-BTRr",
    "outputId": "1af258f4-8c23-40f9-d656-b13460d18ed3"
   },
   "outputs": [],
   "source": [
    "# Mengakses lebih dari 1 kolom sebagai DataFrame\n",
    "df_hair_eggs = df_remote[['Hair', 'Eggs']]\n",
    "df_hair_eggs"
   ]
  },
  {
   "cell_type": "markdown",
   "metadata": {
    "id": "crIhN0onBS8J"
   },
   "source": [
    "Selain mengakses kolom, terdapat pula beberapa cara untuk mengakses baris dan kolom dalam DataFrame, diantaranya menggunakan `loc` dan `iloc`."
   ]
  },
  {
   "cell_type": "markdown",
   "metadata": {
    "id": "z2ai_rcrHUeu"
   },
   "source": [
    "Umumnya, `loc` digunakan untuk mengakses baris atau kolom berdasarkan label (nama kolom atau indeks). Indeks yang disebutkan dalam `loc` termasuk (inclusive) dalam pemilihan. Sedangkan `iloc` digunakan untuk mengakses data berdasarkan posisi integer baris dan kolom. Indeks yang disebutkan dalam `iloc` tidak termasuk (exclusive) pada slicing."
   ]
  },
  {
   "cell_type": "markdown",
   "metadata": {
    "id": "cD85Mpq-Dic-"
   },
   "source": [
    "#### 1. Mengakses baris menggunakan `loc`"
   ]
  },
  {
   "cell_type": "code",
   "execution_count": 29,
   "metadata": {
    "colab": {
     "base_uri": "https://localhost:8080/",
     "height": 195
    },
    "id": "_oGlHv7MDkKa",
    "outputId": "099e63ed-a2b7-4d41-b911-64c75916f57a"
   },
   "outputs": [],
   "source": [
    "# Mengakses baris 1 sampai dengan 4 menggunakan loc\n",
    "df_remote.loc[1:4]  # range inklusif"
   ]
  },
  {
   "cell_type": "markdown",
   "metadata": {
    "id": "wWOzvToUDsKO"
   },
   "source": [
    "#### 2. Mengakses baris 1 sampai dengan 4 menggunakan `iloc`"
   ]
  },
  {
   "cell_type": "code",
   "execution_count": 30,
   "metadata": {
    "colab": {
     "base_uri": "https://localhost:8080/",
     "height": 195
    },
    "id": "meEvaPZlDwQZ",
    "outputId": "24e4adaf-816d-4cf0-d88f-c97c695093fb"
   },
   "outputs": [],
   "source": [
    "# Mengakses baris 1 sampai dengan 4 menggunakan iloc\n",
    "df_remote.iloc[1:5] # range eksklusif"
   ]
  },
  {
   "cell_type": "markdown",
   "metadata": {
    "id": "xgqumfyHEPSS"
   },
   "source": [
    "#### 3. Mengakses baris 1 sampai dengan 4, namun hanya kolom hair dan eggs saja menggunakan `loc`"
   ]
  },
  {
   "cell_type": "code",
   "execution_count": 31,
   "metadata": {
    "colab": {
     "base_uri": "https://localhost:8080/",
     "height": 175
    },
    "id": "V4GD-kSUEA2m",
    "outputId": "199cfb37-fb89-43c9-d07a-93b000e04659"
   },
   "outputs": [],
   "source": [
    "# Mengakses baris 1 sampai dengan 4, namun hanya kolom hair dan eggs saja, menggunakan loc\n",
    "df_remote.loc[1:4, [\"Hair\", \"Eggs\"]]"
   ]
  },
  {
   "cell_type": "markdown",
   "metadata": {
    "id": "RPRLPpxCEcK3"
   },
   "source": [
    "#### 4. Mengakses baris 1 sampai dengan 4, namun hanya kolom hair, feathers, dan eggs saja menggunakan `iloc`"
   ]
  },
  {
   "cell_type": "code",
   "execution_count": 32,
   "metadata": {
    "colab": {
     "base_uri": "https://localhost:8080/",
     "height": 175
    },
    "id": "WFm73xrhEft_",
    "outputId": "f7e233a6-8b98-42b7-c7f7-2c6f0efc1353"
   },
   "outputs": [],
   "source": [
    "# Mengakses baris 1 sampai dengan 4, namun hanya kolom hair, feathers, dan eggs saja, menggunakan iloc\n",
    "df_remote.iloc[1:5, 1:4]"
   ]
  },
  {
   "cell_type": "markdown",
   "metadata": {
    "id": "meTIPNE1HzRo"
   },
   "source": [
    "### 2.2.4 Mengakses Data Tertentu yang Memenuhi suatu Kondisi Dalam DataFrame"
   ]
  },
  {
   "cell_type": "code",
   "execution_count": 33,
   "metadata": {
    "colab": {
     "base_uri": "https://localhost:8080/",
     "height": 1000
    },
    "id": "AcasN92bH7bf",
    "outputId": "3624ac3d-f7f7-463e-9fce-b33007a6439f"
   },
   "outputs": [],
   "source": [
    "# Mengakses data dengan Hair sama dengan 1\n",
    "df_remote[df_remote['Hair'] == 1]"
   ]
  },
  {
   "cell_type": "code",
   "execution_count": 34,
   "metadata": {
    "colab": {
     "base_uri": "https://localhost:8080/",
     "height": 195
    },
    "id": "WylG1ikiH_bK",
    "outputId": "7e846f7c-2055-48bf-9536-a89faf1e5c0a"
   },
   "outputs": [],
   "source": [
    "# Mengakses data dengan Hair sama dengan 1 cm dan Type lebih dari 1\n",
    "df_remote[(df_remote['Hair'] == 1) & (df_remote['Type'] > 3)]"
   ]
  },
  {
   "cell_type": "markdown",
   "metadata": {
    "id": "9URJk6JQIXKi"
   },
   "source": [
    "### 2.2.5 Menangani Missing Values"
   ]
  },
  {
   "cell_type": "markdown",
   "metadata": {
    "id": "ltkvNANNLWV4"
   },
   "source": [
    "Nilai null atau *missing values* merujuk pada data yang kosong atau tidak terisi. Hal ini dapat terjadi karena informasi tersebut tidak disediakan, sulit ditemukan, atau memang tidak tersedia. *Missing values* juga dapat direpresentasikan dengan istilah seperti \"NA\" atau \"NaN\"."
   ]
  },
  {
   "cell_type": "markdown",
   "metadata": {
    "id": "PWzfx2BHLalc"
   },
   "source": [
    "#### 1. Kondisi Tidak Ada *Missing Values*"
   ]
  },
  {
   "cell_type": "code",
   "execution_count": 35,
   "metadata": {
    "colab": {
     "base_uri": "https://localhost:8080/"
    },
    "id": "_92n7xSWLe7I",
    "outputId": "c05eb03b-d549-414a-96cc-549589e8b2e8"
   },
   "outputs": [],
   "source": [
    "# Menampilkan jumlah missing values tiap kolom\n",
    "print(\"Count missing values untuk df_remote\\n\", df_remote.isnull().sum())"
   ]
  },
  {
   "cell_type": "markdown",
   "metadata": {
    "id": "aGxt-47QL-Iy"
   },
   "source": [
    "#### 2. Kondisi Terdapat *Missing Values*"
   ]
  },
  {
   "cell_type": "code",
   "execution_count": 36,
   "metadata": {
    "colab": {
     "base_uri": "https://localhost:8080/"
    },
    "id": "5TPZxdLNpn30",
    "outputId": "1971a795-7cb3-4ffd-cc9b-0a0faf92469a"
   },
   "outputs": [],
   "source": [
    "# Menampilkan jumlah missing values tiap kolom\n",
    "print(\"Count missing values untuk df_local\\n\", df_local.isnull().sum())"
   ]
  },
  {
   "cell_type": "markdown",
   "metadata": {
    "id": "_hR5wk6vpn30"
   },
   "source": [
    "Berdasarkan kode di atas, diketahui  bahwa ada kolom \"country\" yang memiliki nilai null dengan jumlah nilai null sebanyak 91 buah."
   ]
  },
  {
   "cell_type": "markdown",
   "metadata": {
    "id": "tVZc7kmUpn30"
   },
   "source": [
    "Ada beberapa pendekatan untuk menangani missing values, berikut pendekatan yang umum digunakan:\n",
    "\n",
    "Mengisi missing values dengan nilai tertentu menggunakan method `fillna()`\n",
    "Menghapus (drop) baris atau kolom yang mengandung missing values. Gunakan `dropna()` untuk menghapus baris yang mengandung missing values, dan `dropna(axis='columns')` untuk menghapus kolom yang mengandung missing values.\n",
    "\n",
    "Contoh-contoh di bawah akan berfokus pada kolom \"country\".\n"
   ]
  },
  {
   "cell_type": "markdown",
   "metadata": {
    "id": "wwRhaNj1pn31"
   },
   "source": [
    "* Mengisi data menggunakan method `fillna()`"
   ]
  },
  {
   "cell_type": "markdown",
   "metadata": {
    "id": "IDaBDT1Spn32"
   },
   "source": [
    "Terdapat tiga cara untuk melakukan method `fillna()`, diantaranya sebagai berikut.\n",
    "\n",
    "    - Mean, umumnya dapat digunakan untuk mengisi data numerikal yang memiliki distribusi normal.\n",
    "\n",
    "    - Median, umumnya dapat digunakan untuk mengisi data numerikal yang memiliki distribusi skewed.\n",
    "    \n",
    "    - Mode, umumnya dapat digunakan untuk mengisi data kategorikal."
   ]
  },
  {
   "cell_type": "markdown",
   "metadata": {
    "id": "tRVqwEc5pn32"
   },
   "source": [
    "Untuk mengisi *missing values* dalam data, maka akan digunakan mode sebagai contoh."
   ]
  },
  {
   "cell_type": "code",
   "execution_count": 37,
   "metadata": {
    "colab": {
     "base_uri": "https://localhost:8080/",
     "height": 353
    },
    "id": "6X1E1Joxpn33",
    "outputId": "8a0654ee-7133-4da0-cf94-6b11220bd4f2"
   },
   "outputs": [],
   "source": [
    "# Salin DataFrame\n",
    "df_local_fillna = df_local.copy()\n",
    "\n",
    "# Mendapatkan nilai modus untuk kolom 'country'\n",
    "mode = df_local_fillna['country'].mode()[0]\n",
    "\n",
    "# Mengisi missing values dengan nilai modus\n",
    "df_local_fillna['country'].fillna(mode, inplace=True)\n",
    "\n",
    "# Menampilkan 5 baris pertama\n",
    "df_local_fillna.head(5)"
   ]
  },
  {
   "cell_type": "markdown",
   "metadata": {
    "id": "xJvdZOq9pn34"
   },
   "source": [
    "* Menghapus baris atau kolom dengan menggunakan `dropna()`"
   ]
  },
  {
   "cell_type": "code",
   "execution_count": 38,
   "metadata": {
    "colab": {
     "base_uri": "https://localhost:8080/",
     "height": 206
    },
    "id": "IKpIagJLpn34",
    "outputId": "2907e332-70b2-4264-d7f6-b1f884b2bc95"
   },
   "outputs": [],
   "source": [
    "# dropna untuk menghapus baris yang mengandung missing values\n",
    "df_local_drop = df_local.copy()\n",
    "df_local_drop = df_local_drop.dropna()\n",
    "df_local_drop.head(5)"
   ]
  },
  {
   "cell_type": "markdown",
   "metadata": {
    "id": "bvB4g0Z9pn34"
   },
   "source": [
    "# Pertanyaan Pandas"
   ]
  },
  {
   "cell_type": "markdown",
   "metadata": {
    "id": "oruYbmTvpn34"
   },
   "source": [
    "Jawab setiap pertanyaan pada cell di bawah cell pertanyaan. Jawaban boleh lebih dari 1 cell dan juga kombinasi antara cell kode atau markdown jika memang diperlukan sebagai penjelasan jawaban. Gunakan dataset School_Nutrition_Programs.csv yang dilampirkan di SCELE untuk mengerjakan soal-soal berikut."
   ]
  },
  {
   "cell_type": "code",
   "execution_count": 39,
   "metadata": {
    "id": "uF0mAvZipn34"
   },
   "outputs": [],
   "source": [
    "import pandas as pd\n",
    "import numpy as np"
   ]
  },
  {
   "cell_type": "markdown",
   "metadata": {
    "id": "qRGf2GeZpn34"
   },
   "source": [
    "## Nomor 1"
   ]
  },
  {
   "cell_type": "markdown",
   "metadata": {
    "id": "KMFkSJ2wpn34"
   },
   "source": [
    "Buka dataset  School_Nutrition_Programs.csv sebagai dataframe dan tampilkan 15 baris terarkhir dari dataframe tersebut."
   ]
  },
  {
   "cell_type": "markdown",
   "metadata": {
    "id": "IkhSWpj0pn35"
   },
   "source": [
    "```\n",
    "Deskripsi Dataset:\n",
    "* Tahun Program: Tahun tinjauan program terkait (2015-2016).\n",
    "* ID CE: Pengenal unik untuk Otoritas Makanan Sekolah (SFA).\n",
    "* Nama CE: Nama Otoritas Makanan Sekolah (SFA).\n",
    "* Wilayah PKB: Wilayah di bawah Pusat Layanan Pendidikan (ESC) yang mengawasi SFA.\n",
    "* ID Peninjauan: Pengenal unik untuk tinjauan spesifik yang dilakukan.\n",
    "* Tanggal Tinjauan: Tanggal pelaksanaan tinjauan.\n",
    "* Area Temuan: Area atau kategori di mana temuan dibuat selama peninjauan (misalnya, kepatuhan, standar gizi).\n",
    "* Nomor Pertanyaan: Pertanyaan spesifik dari tinjauan administratif yang terkait dengan temuan.\n",
    "* Pertanyaan: Teks pertanyaan tinjauan administratif yang terkait dengan temuan.\n",
    "```\n",
    "\n",
    "\n",
    "\n",
    "Tujuan:\n",
    "Dataset ini membantu pengguna memahami jenis-jenis temuan yang dilaporkan selama tinjauan administratif terhadap SFA, yang menyoroti isu-isu kepatuhan dalam NSLP. Data ini dapat bermanfaat bagi peneliti, pembuat kebijakan, atau siapa saja yang tertarik dengan administrasi dan pengawasan program gizi sekolah.\n"
   ]
  },
  {
   "cell_type": "code",
   "execution_count": 40,
   "metadata": {
    "colab": {
     "base_uri": "https://localhost:8080/",
     "height": 918
    },
    "id": "FSEcIiVLpn35",
    "outputId": "bdda1353-e578-4569-aea1-dd10a4063cd5"
   },
   "outputs": [],
   "source": [
    "# Masukkan jawaban nomor 1 disini\n",
    "\n",
    "# Membaca file School_Nutrition_Programs.csv\n",
    "df_school_nutrition = pd.read_csv(\"School_Nutrition_Programs.csv\")\n",
    "\n",
    "# Menampilkan cuplikan 15 baris terakhir\n",
    "df_school_nutrition.tail(15)"
   ]
  },
  {
   "cell_type": "markdown",
   "metadata": {
    "id": "s-1rFrlVpn35"
   },
   "source": [
    "## Nomor 2"
   ]
  },
  {
   "cell_type": "markdown",
   "metadata": {
    "id": "5J1P2A56pn35"
   },
   "source": [
    "Tampilkan ukuran DataFrame tersebut, tipe data setiap kolom, serta statistik deskriptif untuk kolom-kolom di atas."
   ]
  },
  {
   "cell_type": "code",
   "execution_count": 41,
   "metadata": {
    "colab": {
     "base_uri": "https://localhost:8080/"
    },
    "id": "RKfdpcQbpn35",
    "outputId": "14c87991-2fa3-4290-ea43-e205dd39a35a"
   },
   "outputs": [],
   "source": [
    "# Masukkan jawaban nomor 2 disini\n",
    "\n",
    "# Menampilkan dimensi df_school_nutrition\n",
    "print(\"Dimensi dari df_school_nutrition adalah\", df_school_nutrition.shape)\n",
    "print(\"df_school_nutrition terdiri atas {} baris dan {} kolom.\".format(df_school_nutrition.shape[0], df_school_nutrition.shape[1]))"
   ]
  },
  {
   "cell_type": "code",
   "execution_count": 42,
   "metadata": {
    "colab": {
     "base_uri": "https://localhost:8080/",
     "height": 366
    },
    "id": "KBZBd7aCYBrx",
    "outputId": "20092392-6ac9-4064-9bd6-386187bb3130"
   },
   "outputs": [],
   "source": [
    "# Menampilkan tipe data setiap kolom df_school_nutrition\n",
    "df_school_nutrition.dtypes"
   ]
  },
  {
   "cell_type": "code",
   "execution_count": 43,
   "metadata": {
    "colab": {
     "base_uri": "https://localhost:8080/",
     "height": 300
    },
    "id": "9iSKofxtYJXb",
    "outputId": "80f31d49-df3b-4c69-adda-91a0abcf6ae1"
   },
   "outputs": [],
   "source": [
    "# Menampilkan statistik umum setiap kolom df_school_nutrition\n",
    "df_school_nutrition.describe()"
   ]
  },
  {
   "cell_type": "code",
   "execution_count": 44,
   "metadata": {
    "id": "dYiL_3_lZCBl"
   },
   "outputs": [],
   "source": [
    "# Mengubah tipe data Review Date menjadi date\n",
    "df_school_nutrition['Review Date'] = pd.to_datetime(df_school_nutrition['Review Date'])"
   ]
  },
  {
   "cell_type": "code",
   "execution_count": 45,
   "metadata": {
    "colab": {
     "base_uri": "https://localhost:8080/",
     "height": 366
    },
    "id": "DVQXQqGqfuwN",
    "outputId": "5865daca-1686-41b2-e370-b96504122176"
   },
   "outputs": [],
   "source": [
    "# Menampilkan tipe data setelah perubahan tipe data\n",
    "df_school_nutrition.dtypes"
   ]
  },
  {
   "cell_type": "code",
   "execution_count": 46,
   "metadata": {
    "colab": {
     "base_uri": "https://localhost:8080/",
     "height": 300
    },
    "id": "HNLLPEEGfz8R",
    "outputId": "d42d145a-1ed9-42c6-bd22-c41cc7ea0dbe"
   },
   "outputs": [],
   "source": [
    "# Menampilkan statistik umum setelah perubahan tipe data\n",
    "df_school_nutrition.describe()"
   ]
  },
  {
   "cell_type": "markdown",
   "metadata": {
    "id": "dHj5I7Abpn35"
   },
   "source": [
    "## Nomor 3"
   ]
  },
  {
   "cell_type": "markdown",
   "metadata": {
    "id": "cpFy1XyIpn36"
   },
   "source": [
    "Tampilkan seluruh data dalam kolom `Review ID` yang memiliki nilai lebih dari 20000 pada dataset tersebut."
   ]
  },
  {
   "cell_type": "code",
   "execution_count": 47,
   "metadata": {
    "colab": {
     "base_uri": "https://localhost:8080/",
     "height": 1000
    },
    "id": "wxA02Hkmpn36",
    "outputId": "fc46b3cb-711e-4e19-9a44-a757bd90a2a8"
   },
   "outputs": [],
   "source": [
    "# Masukkan jawaban nomor 3 disini\n",
    "df_school_nutrition[df_school_nutrition['Review ID'] > 20000]"
   ]
  },
  {
   "cell_type": "markdown",
   "metadata": {
    "id": "9kwpmCzDpn36"
   },
   "source": [
    "## Nomor 4"
   ]
  },
  {
   "cell_type": "markdown",
   "metadata": {
    "id": "L7ePIBPtpn36"
   },
   "source": [
    "Tunjukkan ada berapa `CE Name` unik pada dataset tersebut. Kemudian `CE Name` apa yang paling banyak muncul dan berapa banyak kemunculannya?"
   ]
  },
  {
   "cell_type": "code",
   "execution_count": 48,
   "metadata": {
    "colab": {
     "base_uri": "https://localhost:8080/"
    },
    "id": "vBD1MNeZpn36",
    "outputId": "904b0d3b-12fd-4733-ace2-575b71de6d54"
   },
   "outputs": [],
   "source": [
    "# Masukkan jawaban nomor 4 disini\n",
    "\n",
    "# Jumlah CE Name unik pada df_school_nutrition\n",
    "print(\"Jumlah CE Name unik pada df_school_nutrition adalah\", df_school_nutrition['CE Name'].nunique())"
   ]
  },
  {
   "cell_type": "code",
   "execution_count": 49,
   "metadata": {
    "colab": {
     "base_uri": "https://localhost:8080/"
    },
    "id": "Pw68n_amawuW",
    "outputId": "3657d6f1-f09b-4f9c-a729-d9bdf03c284c"
   },
   "outputs": [],
   "source": [
    "# CE Name yang paling banyak muncul\n",
    "mode_CE_Name = df_school_nutrition['CE Name'].mode()[0]\n",
    "print(\"CE Name yang paling banyak muncul adalah\", mode_CE_Name)"
   ]
  },
  {
   "cell_type": "code",
   "execution_count": 50,
   "metadata": {
    "colab": {
     "base_uri": "https://localhost:8080/"
    },
    "id": "nF2904MvbOFn",
    "outputId": "2cf82757-05b3-4029-80ce-6d5175cf3334"
   },
   "outputs": [],
   "source": [
    "# Banyak kemunculan CE Name yang paling banyak muncul\n",
    "count_mode_CE_Name = df_school_nutrition['CE Name'].value_counts()[mode_CE_Name]\n",
    "print(\"CE Name yang paling banyak muncul muncul sebanyak\", count_mode_CE_Name, \"kali\")"
   ]
  },
  {
   "cell_type": "markdown",
   "metadata": {
    "id": "AO74lQQopn36"
   },
   "source": [
    "## Nomor 5"
   ]
  },
  {
   "cell_type": "markdown",
   "metadata": {
    "id": "8D9R0U6Jpn36"
   },
   "source": [
    "Tampilkan seluruh data dalam kolom `Finding Area` yang mengandung angka \"1400\"."
   ]
  },
  {
   "cell_type": "code",
   "execution_count": 51,
   "metadata": {
    "colab": {
     "base_uri": "https://localhost:8080/",
     "height": 822
    },
    "id": "bwPCuHdRpn36",
    "outputId": "3dd03ead-3ebb-4311-e7b1-2a3ce3150b18"
   },
   "outputs": [],
   "source": [
    "# Masukkan jawaban nomor 5 disini\n",
    "df_school_nutrition[df_school_nutrition['Finding Area'].str.contains('1400')]"
   ]
  },
  {
   "cell_type": "markdown",
   "metadata": {
    "id": "WFWuNHfLpn36"
   },
   "source": [
    "## Nomor 6"
   ]
  },
  {
   "cell_type": "markdown",
   "metadata": {
    "id": "oKKt1DQapn37"
   },
   "source": [
    "Buatlah dataframe baru dari data dataset tersebut yang terdiri dari kolom `Program Year`, `CE Name`, `Review ID`, `Review Date`, dan `Finding Area`. Serta tampilkan dimensi dari dataframe baru tersebut.\n"
   ]
  },
  {
   "cell_type": "code",
   "execution_count": 52,
   "metadata": {
    "colab": {
     "base_uri": "https://localhost:8080/",
     "height": 423
    },
    "id": "uJhoWZchpn37",
    "outputId": "cbcae82f-e2ed-45cf-fd5a-3e6932ca0eb3"
   },
   "outputs": [],
   "source": [
    "# Masukkan jawaban nomor 6 disini\n",
    "\n",
    "# Membuat dataframe baru\n",
    "df_school_nutrition_baru = df_school_nutrition[['Program Year', 'CE Name', 'Review ID', 'Review Date', 'Finding Area']]\n",
    "df_school_nutrition_baru"
   ]
  },
  {
   "cell_type": "code",
   "execution_count": 53,
   "metadata": {
    "colab": {
     "base_uri": "https://localhost:8080/"
    },
    "id": "n32uz9tujXBk",
    "outputId": "2bc38d10-4ee1-4d5f-a8b9-b310c19e46fb"
   },
   "outputs": [],
   "source": [
    "# Menampilkan dimensi df_school_nutrition_baru\n",
    "print(\"Dimensi dari df_school_nutrition_baru adalah\", df_school_nutrition_baru.shape)\n",
    "print(\"df_school_nutrition_baru terdiri atas {} baris dan {} kolom.\".format(df_school_nutrition_baru.shape[0], df_school_nutrition_baru.shape[1]))"
   ]
  },
  {
   "cell_type": "markdown",
   "metadata": {
    "id": "J2bC3Kzypn37"
   },
   "source": [
    "## Nomor 7"
   ]
  },
  {
   "cell_type": "markdown",
   "metadata": {
    "id": "njCJWFFcpn37"
   },
   "source": [
    "Buatlah daframe baru dari dataframe tersebut dengan mengubah kolom `Review Date` menjadi `Review Year` dan mengubah seluruh nilainya dalam bentuk tahun"
   ]
  },
  {
   "cell_type": "code",
   "execution_count": 54,
   "metadata": {
    "colab": {
     "base_uri": "https://localhost:8080/",
     "height": 423
    },
    "id": "5wIDPakzpn37",
    "outputId": "cfb5d3ee-2899-4304-d9d8-420b4ea39e05"
   },
   "outputs": [],
   "source": [
    "# Masukkan jawaban nomor 7 disini\n",
    "df_school_nutrition_using_year = df_school_nutrition_baru.copy()\n",
    "df_school_nutrition_using_year['Review Year'] = df_school_nutrition_using_year['Review Date'].dt.year\n",
    "df_school_nutrition_using_year.drop(columns=['Review Date'], inplace=True)\n",
    "df_school_nutrition_using_year"
   ]
  },
  {
   "cell_type": "code",
   "execution_count": 55,
   "metadata": {
    "colab": {
     "base_uri": "https://localhost:8080/",
     "height": 241
    },
    "id": "rr8Nn6AXk3Zn",
    "outputId": "2907335c-e31c-4cc7-841e-4ec74fa8a880"
   },
   "outputs": [],
   "source": [
    "# Menampilkan tipe data df_school_nutrition_using_year\n",
    "df_school_nutrition_using_year.dtypes"
   ]
  },
  {
   "cell_type": "markdown",
   "metadata": {
    "id": "RTdbwLqEpn37"
   },
   "source": [
    "## Nomor 8"
   ]
  },
  {
   "cell_type": "markdown",
   "metadata": {
    "id": "XDBcToYnpn37"
   },
   "source": [
    "Dari dataset pada nomor 1 tersebut, tampilkan 5 data yang memiliki `ESC Region` yang paling rendah."
   ]
  },
  {
   "cell_type": "code",
   "execution_count": 56,
   "metadata": {
    "colab": {
     "base_uri": "https://localhost:8080/",
     "height": 379
    },
    "id": "gymQldIWpn37",
    "outputId": "6426f2c1-43fa-4395-a890-306a0cf6fbae"
   },
   "outputs": [],
   "source": [
    "# Masukkan jawaban nomor 8 disini\n",
    "# Menampilkan df_school_nutrition yang memiliki values ESC Region paling rendah hanya 5 data\n",
    "df_school_nutrition.sort_values(by='ESC Region').head(5)"
   ]
  },
  {
   "cell_type": "code",
   "execution_count": 57,
   "metadata": {
    "colab": {
     "base_uri": "https://localhost:8080/",
     "height": 431
    },
    "id": "4Asw2e-Ll43H",
    "outputId": "3cfe8796-dd1b-423c-80ff-cb7924872103"
   },
   "outputs": [],
   "source": [
    "# Alternatif menampilkan df_school_nutrition yang memiliki values ESC Region paling rendah atau min hanya 5 data\n",
    "df_school_nutrition[df_school_nutrition['ESC Region'] == df_school_nutrition['ESC Region'].min()].head(5)"
   ]
  },
  {
   "cell_type": "markdown",
   "metadata": {
    "id": "PYL0cVJDpn38"
   },
   "source": [
    "# **3. Pengenalan NumPy**"
   ]
  },
  {
   "cell_type": "markdown",
   "metadata": {
    "id": "iKNch6uApn38"
   },
   "source": [
    "NumPy merupakan library Python yang umum digunakan untuk melakukan komputasi saintifik, pengolahan, serta analisis data numerik karena performa dan kemudahannya. NumPy menyerupai list dalam Python, namun NumPy memiliki beberapa kelebihan lain. NumPy  menyediakan fungsi-fungsi high-level untuk melakukan berbagai perhitungan secara efisien, seperti penjumlahan, pengurutan, dan sebagainya pada struktur data yang disebut array. Hal ini menyebabkan NumPy menjadi salah satu library yang banyak digunakan dalam proses analisis data."
   ]
  },
  {
   "cell_type": "code",
   "execution_count": 58,
   "metadata": {
    "id": "EhHjenuhpn38"
   },
   "outputs": [],
   "source": [
    "# import library NumPy\n",
    "import numpy as np"
   ]
  },
  {
   "cell_type": "markdown",
   "metadata": {
    "id": "7rn8L3klpn39"
   },
   "source": [
    "## 3.1 Pembuatan NumPy Array"
   ]
  },
  {
   "cell_type": "markdown",
   "metadata": {
    "id": "hwbstdG2pn39"
   },
   "source": [
    "Secara umum, array pada NumPy merupakan struktur data yang mirip dengan List, tetapi memiliki kemampuan yang lebih kuat dan efisien. Array bisa memiliki lebih dari satu dimensi, yang mana elemennya bisa berarti sebuah array juga, yang bisa memiliki elemen array juga, dan begitupun seterusnya sehingga memungkinkan penyimpanan struktur data dengan dimensi yang kompleks."
   ]
  },
  {
   "cell_type": "markdown",
   "metadata": {
    "id": "6Inlrglvpn39"
   },
   "source": [
    "### 3.1.1 NumPy Array Satu Dimensi"
   ]
  },
  {
   "cell_type": "markdown",
   "metadata": {
    "id": "jF_xjn-Hpn39"
   },
   "source": [
    "NumPy Array Satu Dimensi adalah array satu dimensi yang serupa dengan list. NumPy Array Satu Dimensi dapat dibuat dari list atau tuple. Untuk membuat objek array, dapat digunakan fungsi array(n) dengan n berupa koleksi seperti list, tuple, dan sebagainya seperti berikut."
   ]
  },
  {
   "cell_type": "markdown",
   "metadata": {
    "id": "QLti3iRnpn39"
   },
   "source": [
    "#### 1. Membuat Array dengan List"
   ]
  },
  {
   "cell_type": "code",
   "execution_count": 59,
   "metadata": {
    "colab": {
     "base_uri": "https://localhost:8080/"
    },
    "id": "6we65lDTpn39",
    "outputId": "7064f0b9-277e-46bf-97ac-c8837470effa"
   },
   "outputs": [],
   "source": [
    "arr = np.array([5, 10, 15, 20, 25])\n",
    "arr"
   ]
  },
  {
   "cell_type": "markdown",
   "metadata": {
    "id": "nsVhcrK0pn39"
   },
   "source": [
    "Untuk melihat tipe dari array tersebut dapat menggunakan cara sebagai berikut."
   ]
  },
  {
   "cell_type": "code",
   "execution_count": 60,
   "metadata": {
    "colab": {
     "base_uri": "https://localhost:8080/"
    },
    "id": "VV5O-B-Ypn3-",
    "outputId": "fc047836-cb4a-469d-ff5f-4b8f152020d0"
   },
   "outputs": [],
   "source": [
    "print(type(arr))"
   ]
  },
  {
   "cell_type": "markdown",
   "metadata": {
    "id": "AqBj7yAopn3-"
   },
   "source": [
    "#### 2. Membuat Array dengan Tuple"
   ]
  },
  {
   "cell_type": "code",
   "execution_count": 61,
   "metadata": {
    "colab": {
     "base_uri": "https://localhost:8080/"
    },
    "id": "Gs9xnZ_Fpn3-",
    "outputId": "61d793cb-3c72-4af8-d0d8-e2f75b5e8ea3"
   },
   "outputs": [],
   "source": [
    "arr = np.array((1,2,3,4,5))\n",
    "arr"
   ]
  },
  {
   "cell_type": "code",
   "execution_count": 62,
   "metadata": {
    "colab": {
     "base_uri": "https://localhost:8080/"
    },
    "id": "uFZgs93Ppn3-",
    "outputId": "bd4ed525-2949-43d8-c7a6-5bc760b6f0b3"
   },
   "outputs": [],
   "source": [
    "print(type(arr))"
   ]
  },
  {
   "cell_type": "markdown",
   "metadata": {
    "id": "HVBUO_Yhpn3-"
   },
   "source": [
    "Terdapat pula beberapa fungsi bawaan untuk membuat objek array yang dapat digunakan sesuai kebutuhan."
   ]
  },
  {
   "cell_type": "code",
   "execution_count": 63,
   "metadata": {
    "colab": {
     "base_uri": "https://localhost:8080/"
    },
    "id": "jG975CYHpn3-",
    "outputId": "5f6c2035-7a15-4aeb-93bf-3a13aa17b179"
   },
   "outputs": [],
   "source": [
    "# Membuat array dengan nilai 0 sebanyak 5 buah\n",
    "print(\"np.zeros(4) : \",np.zeros(5))\n",
    "\n",
    "# Membuat array dengan nilai 1 sebanyak 5 buah\n",
    "print(\"np.ones(4) : \",np.ones(5))\n",
    "\n",
    "# Membuat array dengan nilai dalam range 1 sampai 15 dengan step sebesar 5\n",
    "print(\"np.arange(1,15,3) : \",np.arange(1,15,5))\n",
    "\n",
    "# Membuat array dengan nilai dalam range 1 sampai 10 sebanyak 4 dengan interval yang sama\n",
    "print(\"np.linspace(1,10,4) : \",np.linspace(1,10,4))"
   ]
  },
  {
   "cell_type": "markdown",
   "metadata": {
    "id": "m019Ds0apn3-"
   },
   "source": [
    "### 3.1.2 NumPy Array Dua Dimensi"
   ]
  },
  {
   "cell_type": "markdown",
   "metadata": {
    "id": "nuQ2lb84pn3-"
   },
   "source": [
    "Array multidimensi di NumPy merepresentasikan data dalam bentuk tabel, matriks, atau bahkan tensor dengan lebih dari dua dimensi."
   ]
  },
  {
   "cell_type": "code",
   "execution_count": 64,
   "metadata": {
    "colab": {
     "base_uri": "https://localhost:8080/"
    },
    "id": "8ommK4FSpn3_",
    "outputId": "44342d86-aeb7-4b35-f02f-6259e11e88e1"
   },
   "outputs": [],
   "source": [
    "multi_dim_arr = np.array([[1,5,10, 15], [20,25,30, 35], [40,45,50, 55], [60,65,70, 75]])\n",
    "multi_dim_arr"
   ]
  },
  {
   "cell_type": "markdown",
   "metadata": {
    "id": "IpftaSGspn3_"
   },
   "source": [
    "## 3.2 Menampilkan Atribut NumPy Array"
   ]
  },
  {
   "cell_type": "markdown",
   "metadata": {
    "id": "1BmZyuI2pn3_"
   },
   "source": [
    "NumPy array memiliki sejumlah atribut yang berguna untuk memahami struktur dan karakteristik data yang disimpan di dalamnya, beberapa diantaranya sebagai berikut."
   ]
  },
  {
   "cell_type": "code",
   "execution_count": 65,
   "metadata": {
    "colab": {
     "base_uri": "https://localhost:8080/"
    },
    "id": "ORjyTDMZpn3_",
    "outputId": "7e1b892b-edfc-403d-ef91-557e1978cbc1"
   },
   "outputs": [],
   "source": [
    "print(multi_dim_arr)\n",
    "\n",
    "print()\n",
    "\n",
    "# Menunjukkan ukuran array\n",
    "print(\"multi_dim_arr.size:\", multi_dim_arr.size)\n",
    "\n",
    "# Menunjukkan jumlah dimensi atau rank dari sebuah array\n",
    "print(\"multi_dim_arr.ndim:\", multi_dim_arr.ndim)\n",
    "\n",
    "# Mengetahui ukuran dari setiap dimensi array\n",
    "print(\"multi_dim_arr.shape:\", multi_dim_arr.shape)"
   ]
  },
  {
   "cell_type": "markdown",
   "metadata": {
    "id": "3jne1vMJpn3_"
   },
   "source": [
    "### 3.3 Periksa Tipe Data"
   ]
  },
  {
   "cell_type": "markdown",
   "metadata": {
    "id": "VSjFPNpipn3_"
   },
   "source": [
    "Setiap data memiliki tipe data tertentu yang ditentukan oleh atribut dtype. Tipe data ini menentukan jenis nilai yang dapat disimpan, seperti bilangan bulat (integer), bilangan desimal (float), atau tipe data lainnya."
   ]
  },
  {
   "cell_type": "code",
   "execution_count": 66,
   "metadata": {
    "colab": {
     "base_uri": "https://localhost:8080/"
    },
    "id": "nPuYsKNupn3_",
    "outputId": "004ca4cc-097c-443f-ee5e-2ec131e9d7f5"
   },
   "outputs": [],
   "source": [
    "# Tipe Data List\n",
    "lst = [5,10,15,20,25]\n",
    "print(f\"type(lst): {type(lst)}\")\n",
    "\n",
    "# Tipe Data array\n",
    "arr = np.array(lst)\n",
    "print(f\"type(arr): {type(arr)}\")"
   ]
  },
  {
   "cell_type": "markdown",
   "metadata": {
    "id": "8aDOSi8Npn4A"
   },
   "source": [
    "Selain fungsi type(), dapat juga menggunakan atribut dtype untuk mengetahui tipe data yang ada di dalam array."
   ]
  },
  {
   "cell_type": "code",
   "execution_count": 67,
   "metadata": {
    "colab": {
     "base_uri": "https://localhost:8080/"
    },
    "id": "NkXmM0zUpn4A",
    "outputId": "86bd23c7-f7f6-43d3-bc2b-fdfb3009d02b"
   },
   "outputs": [],
   "source": [
    "# Cek tipe data dari array\n",
    "print(f\"arr.dtype: {arr.dtype}\")"
   ]
  },
  {
   "cell_type": "markdown",
   "metadata": {
    "id": "96vYzB1Upn4A"
   },
   "source": [
    "### 3.4 Indexing, Slicing, dan Assigning Value pada NumPy Array"
   ]
  },
  {
   "cell_type": "markdown",
   "metadata": {
    "id": "XV9uju1cpn4A"
   },
   "source": [
    "Memanggil kembali array dan multi dimensi array yang telah dibuat sebelumnya"
   ]
  },
  {
   "cell_type": "code",
   "execution_count": 68,
   "metadata": {
    "colab": {
     "base_uri": "https://localhost:8080/"
    },
    "id": "3aA0_Fjopn4A",
    "outputId": "fab45f05-4edd-499b-db24-b14736c9dc59"
   },
   "outputs": [],
   "source": [
    "arr"
   ]
  },
  {
   "cell_type": "code",
   "execution_count": 69,
   "metadata": {
    "colab": {
     "base_uri": "https://localhost:8080/"
    },
    "id": "DYwNgyTGpn4A",
    "outputId": "459824ff-5a34-4d83-bbb8-5445d47a1878"
   },
   "outputs": [],
   "source": [
    "multi_dim_arr"
   ]
  },
  {
   "cell_type": "markdown",
   "metadata": {
    "id": "DwCL-jVwpn4A"
   },
   "source": [
    "#### 3.3.1 Indexing"
   ]
  },
  {
   "cell_type": "code",
   "execution_count": 70,
   "metadata": {
    "colab": {
     "base_uri": "https://localhost:8080/"
    },
    "id": "mcdNGqmnpn4A",
    "outputId": "916c925c-0f21-4efc-893d-ac3117824b21"
   },
   "outputs": [],
   "source": [
    "# Mengakses elemen indeks ke-4 dari array\n",
    "arr[4]"
   ]
  },
  {
   "cell_type": "code",
   "execution_count": 71,
   "metadata": {
    "colab": {
     "base_uri": "https://localhost:8080/"
    },
    "id": "ZIHPlGVipn4B",
    "outputId": "d58cef9f-638b-44dd-f1b9-e3ae4ebf8e0e"
   },
   "outputs": [],
   "source": [
    "# Mengakses elemen baris ke-1 dan kolom ke-2 dari multi dimensi array\n",
    "print(multi_dim_arr[2,2])\n",
    "\n",
    "# Cara lain\n",
    "print(multi_dim_arr[2][2])"
   ]
  },
  {
   "cell_type": "markdown",
   "metadata": {
    "id": "7x9nn4LRpn4B"
   },
   "source": [
    "#### 3.3.2 Slicing"
   ]
  },
  {
   "cell_type": "code",
   "execution_count": 72,
   "metadata": {
    "colab": {
     "base_uri": "https://localhost:8080/"
    },
    "id": "JXhzq3uopn4B",
    "outputId": "b2d5fae6-2d88-4f09-9af3-8203bbb86e4c"
   },
   "outputs": [],
   "source": [
    "# slice elemen dari indeks ke-1 sampai ke-5\n",
    "arr[1:6]"
   ]
  },
  {
   "cell_type": "code",
   "execution_count": 73,
   "metadata": {
    "colab": {
     "base_uri": "https://localhost:8080/"
    },
    "id": "JS18DuG6pn4B",
    "outputId": "098f4750-5cd9-4233-8701-5c469f3fce69"
   },
   "outputs": [],
   "source": [
    "# Slice elemen dari baris ketiga, kolom 2 sampai 3\n",
    "multi_dim_arr[2,1:3]"
   ]
  },
  {
   "cell_type": "code",
   "execution_count": 74,
   "metadata": {
    "colab": {
     "base_uri": "https://localhost:8080/"
    },
    "id": "WcIK_Px1pn4C",
    "outputId": "61122d67-ad09-4d72-e4bb-a77201921d44"
   },
   "outputs": [],
   "source": [
    "# Slice kolom ketiga\n",
    "multi_dim_arr[:,2]"
   ]
  },
  {
   "cell_type": "markdown",
   "metadata": {
    "id": "QnazVAnKpn4C"
   },
   "source": [
    "### 3.3.3 Assigning Values"
   ]
  },
  {
   "cell_type": "code",
   "execution_count": 75,
   "metadata": {
    "colab": {
     "base_uri": "https://localhost:8080/"
    },
    "id": "OwBmd8sOpn4D",
    "outputId": "1f5a10a3-c3f9-4905-d5ec-213c1775bb37"
   },
   "outputs": [],
   "source": [
    "# Mengubah value elemen ke-4 dari array\n",
    "arr[3] = 100\n",
    "arr"
   ]
  },
  {
   "cell_type": "code",
   "execution_count": 76,
   "metadata": {
    "colab": {
     "base_uri": "https://localhost:8080/"
    },
    "id": "4UKESjb_pn4E",
    "outputId": "e98df2a2-778b-4d2a-f138-5fee2a287501"
   },
   "outputs": [],
   "source": [
    "# Mengubah value elemen baris ke-3 dan kolom ke-4 dari multi dimensi array\n",
    "multi_dim_arr[2,3] = 100\n",
    "multi_dim_arr"
   ]
  },
  {
   "cell_type": "markdown",
   "metadata": {
    "id": "llWYUCuVpn4E"
   },
   "source": [
    "## 3.4 Operasi Matematika pada NumPy Array"
   ]
  },
  {
   "cell_type": "code",
   "execution_count": 77,
   "metadata": {
    "id": "3aKeJLQQpn4E"
   },
   "outputs": [],
   "source": [
    "arr_1 = np.array([12, 15, 18, 21, 24])\n",
    "arr_2 = np.array([28, 32, 36, 40, 44])"
   ]
  },
  {
   "cell_type": "markdown",
   "metadata": {
    "id": "J6txNw6Wpn4E"
   },
   "source": [
    "### 3.4.1 Penjumlahan Dua Buah Array"
   ]
  },
  {
   "cell_type": "code",
   "execution_count": 78,
   "metadata": {
    "colab": {
     "base_uri": "https://localhost:8080/"
    },
    "id": "YcHPcFSepn4E",
    "outputId": "92762151-a189-496b-8b74-5f98c9a838d2"
   },
   "outputs": [],
   "source": [
    "# Menjumlahkan dua buah array\n",
    "result = arr_1 + arr_2\n",
    "result"
   ]
  },
  {
   "cell_type": "markdown",
   "metadata": {
    "id": "31k3GPmcpn4E"
   },
   "source": [
    "### 3.4.2 Pengurangan Dua Buah Array"
   ]
  },
  {
   "cell_type": "code",
   "execution_count": 79,
   "metadata": {
    "colab": {
     "base_uri": "https://localhost:8080/"
    },
    "id": "4Zqw9slLpn4E",
    "outputId": "8da122a6-fd70-4c0e-d363-3cbff0026dbf"
   },
   "outputs": [],
   "source": [
    "# Mengurangkan dua buah array\n",
    "result = arr_2 - arr_1\n",
    "result"
   ]
  },
  {
   "cell_type": "markdown",
   "metadata": {
    "id": "Jai2vy4_pn4G"
   },
   "source": [
    "### 3,4,3 Perkalian Dua Buah Array"
   ]
  },
  {
   "cell_type": "code",
   "execution_count": 80,
   "metadata": {
    "colab": {
     "base_uri": "https://localhost:8080/"
    },
    "id": "Wj6n3MZ8pn4G",
    "outputId": "43b7386e-63eb-494e-be77-9c4b780e494f"
   },
   "outputs": [],
   "source": [
    "# Perkalian dua buah array\n",
    "result = arr_1 * arr_2\n",
    "result"
   ]
  },
  {
   "cell_type": "markdown",
   "metadata": {
    "id": "amamePcYpn4G"
   },
   "source": [
    "### 3.4.4 Penjumlahan Array dengan angka tertentu"
   ]
  },
  {
   "cell_type": "code",
   "execution_count": 81,
   "metadata": {
    "colab": {
     "base_uri": "https://localhost:8080/"
    },
    "id": "WDw0OJI3pn4G",
    "outputId": "d593d1cd-229e-4419-ccda-df7a39553b64"
   },
   "outputs": [],
   "source": [
    "# Menjumlahkan setiap elemen array dengan 10\n",
    "result = arr_1 + 10\n",
    "result"
   ]
  },
  {
   "cell_type": "markdown",
   "metadata": {
    "id": "78tMUjImpn4G"
   },
   "source": [
    "### 3.4.5 Perkalian Array dengan angka tertentu"
   ]
  },
  {
   "cell_type": "code",
   "execution_count": 82,
   "metadata": {
    "colab": {
     "base_uri": "https://localhost:8080/"
    },
    "id": "9NsdVbHCpn4G",
    "outputId": "496eb7bb-263d-47f2-8e83-742f1beeed54"
   },
   "outputs": [],
   "source": [
    "# Mengalikan setiap elemen array dengan 10\n",
    "result = arr_1 * 10\n",
    "result"
   ]
  },
  {
   "cell_type": "markdown",
   "metadata": {
    "id": "Ruw2eqKEpn4H"
   },
   "source": [
    "### 3.4.6 Dot Product Dua Buah Array"
   ]
  },
  {
   "cell_type": "code",
   "execution_count": 83,
   "metadata": {
    "colab": {
     "base_uri": "https://localhost:8080/"
    },
    "id": "gm3Y1mwspn4H",
    "outputId": "5cac184c-1a80-4929-dba9-20944cabdf4b"
   },
   "outputs": [],
   "source": [
    "# Dot product dua buah array\n",
    "result = np.dot(arr_1, arr_2)\n",
    "result"
   ]
  },
  {
   "cell_type": "markdown",
   "metadata": {
    "id": "ExrQY_Kepn4H"
   },
   "source": [
    "Operasi di atas dapat dilakukan pada array 1 dimensi maupun multidimensi. Kemudian, berikut ini adalah beberapa fungsi matematika yang dapat digunakan pada NumPy Array."
   ]
  },
  {
   "cell_type": "code",
   "execution_count": 84,
   "metadata": {
    "colab": {
     "base_uri": "https://localhost:8080/"
    },
    "id": "tNaD8vQEpn4H",
    "outputId": "c8ac7d03-1127-4e88-94ca-9f5bb462acce"
   },
   "outputs": [],
   "source": [
    "matrix = np.array([[2, 4, 6],\n",
    "                   [1, 3, 5],\n",
    "                   [7, 8, 9]])\n",
    "\n",
    "print(\"Original Matrix:\")\n",
    "print(matrix)\n",
    "print()\n",
    "\n",
    "# Transpose matrix\n",
    "print(\"Transpose Matrix:\")\n",
    "transpose_matrix = np.transpose(matrix)\n",
    "print(transpose_matrix)\n",
    "print()\n",
    "\n",
    "# Invers matrix (hanya jika determinan tidak nol)\n",
    "try:\n",
    "    print(\"Inverse Matrix:\")\n",
    "    inverse_matrix = np.linalg.inv(matrix)\n",
    "    print(inverse_matrix)\n",
    "except np.linalg.LinAlgError:\n",
    "    print(\"Matrix tidak memiliki invers (determinannya nol).\")\n",
    "print()\n",
    "\n",
    "# Menghitung determinan matriks\n",
    "print(\"Determinant of Matrix:\")\n",
    "det = np.linalg.det(matrix)\n",
    "print(det)\n",
    "print()\n",
    "\n",
    "# Menghitung rank matriks\n",
    "print(\"Rank of Matrix:\")\n",
    "rank = np.linalg.matrix_rank(matrix)\n",
    "print(rank)\n",
    "print()\n",
    "\n",
    "# Menghitung eigenvalues dan eigenvectors\n",
    "print(\"Eigenvalues and Eigenvectors:\")\n",
    "eigenvalues, eigenvectors = np.linalg.eig(matrix)\n",
    "print(\"Eigenvalues:\", eigenvalues)\n",
    "print(\"Eigenvectors:\\n\", eigenvectors)\n"
   ]
  },
  {
   "cell_type": "markdown",
   "metadata": {
    "id": "x88lmbhApn4H"
   },
   "source": [
    "## 3.5 Operasi Statistik pada NumPy Array"
   ]
  },
  {
   "cell_type": "code",
   "execution_count": 85,
   "metadata": {
    "colab": {
     "base_uri": "https://localhost:8080/"
    },
    "id": "ZSRN5Yyepn4H",
    "outputId": "ae12f82c-8d0d-44f8-e2b0-e44597b99f54"
   },
   "outputs": [],
   "source": [
    "arr = np.array([5, 10, 15, 20, 25, 30, 35, 40, 45, 50,\n",
    "                55, 60, 65, 70, 75, 80, 85, 90, 95, 100])\n",
    "arr"
   ]
  },
  {
   "cell_type": "code",
   "execution_count": 86,
   "metadata": {
    "colab": {
     "base_uri": "https://localhost:8080/"
    },
    "id": "GRV0UE8Dpn4H",
    "outputId": "9bb568b3-0f4e-431d-8b6c-d17ff935d31d"
   },
   "outputs": [],
   "source": [
    "# Nilai rata-rata\n",
    "print(\"Rata-rata:\", np.mean(arr))\n",
    "\n",
    "# Nilai median\n",
    "print(\"Median:\", np.median(arr))\n",
    "\n",
    "# Nilai maksimum\n",
    "print(\"Maksimum:\", np.max(arr))\n",
    "\n",
    "# Nilai standar deviasi\n",
    "print(\"Standar deviasi:\", np.std(arr))\n",
    "\n",
    "# Nilai percentile\n",
    "print(\"Percentile 75:\", np.percentile(arr, 75))\n",
    "\n",
    "# Nilai unik\n",
    "print(\"Nilai unik:\", np.unique(arr))"
   ]
  },
  {
   "cell_type": "markdown",
   "metadata": {
    "id": "AvR2M4yJpn4H"
   },
   "source": [
    "# Pertanyaan NumPy"
   ]
  },
  {
   "cell_type": "markdown",
   "metadata": {
    "id": "CdqgIY7_pn4I"
   },
   "source": [
    "## Nomor 1"
   ]
  },
  {
   "cell_type": "markdown",
   "metadata": {
    "id": "4xeTzbycpn4I"
   },
   "source": [
    "Perhatikan array multidimensi berikut."
   ]
  },
  {
   "cell_type": "code",
   "execution_count": 87,
   "metadata": {
    "id": "0ZlX6xQipn4I"
   },
   "outputs": [],
   "source": [
    "arr_1 = np.array([\n",
    "    [7, 8, 9, 4, 3],\n",
    "    [5, 6, 2, 1, 0],\n",
    "    [3, 8, 4, 7, 2],\n",
    "    [9, 3, 5, 6, 1],\n",
    "    [0, 1, 2, 8, 4]\n",
    "])"
   ]
  },
  {
   "cell_type": "markdown",
   "metadata": {
    "id": "B90Vi6Ehpn4I"
   },
   "source": [
    "Modifikasi lah array di atas sehingga menjadi dua buah matriks baru, matriks diagonal dan matriks segitiga atas."
   ]
  },
  {
   "cell_type": "code",
   "execution_count": 88,
   "metadata": {
    "colab": {
     "base_uri": "https://localhost:8080/"
    },
    "id": "Si_03S0epn4I",
    "outputId": "f2c50aa7-ec4d-45ea-f581-dce1f840eb9b"
   },
   "outputs": [],
   "source": [
    "# Masukkan jawaban nomor 1 disini\n",
    "\n",
    "# Mengubah matriks arr_1 menjadi matriks diagonal\n",
    "diagonal_matrix = np.diag(np.diag(arr_1))\n",
    "diagonal_matrix"
   ]
  },
  {
   "cell_type": "code",
   "execution_count": 89,
   "metadata": {
    "colab": {
     "base_uri": "https://localhost:8080/"
    },
    "id": "vdT8n2_1rMt8",
    "outputId": "8600fb7a-5c60-4bbb-93c4-490e5d48d4a5"
   },
   "outputs": [],
   "source": [
    "# Mengubah matriks arr_1 menjadi matriks segitiga atas\n",
    "upper_triangular_matrix = np.triu(arr_1)\n",
    "upper_triangular_matrix"
   ]
  },
  {
   "cell_type": "markdown",
   "metadata": {
    "id": "Ba5xzXVXpn4J"
   },
   "source": [
    "## Nomor 2"
   ]
  },
  {
   "cell_type": "markdown",
   "metadata": {
    "id": "2Losaw2npn4J"
   },
   "source": [
    "Terdapat beberapa *array* multidimensi sebagai berikut."
   ]
  },
  {
   "cell_type": "code",
   "execution_count": 90,
   "metadata": {
    "id": "7VjqVVdBpn4K"
   },
   "outputs": [],
   "source": [
    "A = np.array([[7, 8, 5, 3], [2, 9, 4, 6], [3, 7, 1, 8], [5, 2, 6, 4]])\n",
    "B = np.array([[3, 6, 8, 2], [4, 5, 7, 1], [9, 2, 3, 6], [1, 7, 5, 8]])\n",
    "C = np.array([[5, 9, 3, 7], [1, 6, 4, 2], [8, 3, 5, 1], [2, 7, 9, 4]])\n",
    "D = np.array([[6, 3, 5, 8], [2, 7, 9, 4], [1, 8, 6, 2], [5, 4, 3, 7]])"
   ]
  },
  {
   "cell_type": "markdown",
   "metadata": {
    "id": "nhDaIRrRpn4K"
   },
   "source": [
    "Dari ketiga multidimensi array di atas, lakukanlah langkah-langkah berikut ini.\n",
    "1. Cari absolute dari pengurangan antara A dan C yang kemudian dijumlahi hasil pengurangan B dan D\n",
    "2. Buat matrix baru yang isinya adalah hasil kuadrat tiap elemen dari matrix pada langkah 1\n",
    "3. Jalankan operasi invers pada matrix pada langkah 2\n",
    "4. Terapkan operasi penjumlahan antara matrix pada langkah 3 dengan matriks C\n",
    "5. Jalankan perkalian skalar pada matrix D dengan hasil dot product pada langkah 4\n",
    "*hint*: anda dapat menggunakan fungsi `power()`\n",
    "\n",
    "Secara matematis, langkah di atas dapat dituliskan sebagai berikut.\n",
    "1. $V = |A - C + (B - D)|$\n",
    "2. $W = V^{2}$\n",
    "3. $X = W^{-1}$\n",
    "4. $Y = X + C$\n",
    "5. $result = Y*D$"
   ]
  },
  {
   "cell_type": "markdown",
   "metadata": {
    "id": "j360jYGCpn4L"
   },
   "source": [
    "note: untuk perkalian matrix gunakan operasi *"
   ]
  },
  {
   "cell_type": "code",
   "execution_count": 91,
   "metadata": {
    "colab": {
     "base_uri": "https://localhost:8080/"
    },
    "id": "fHEv2wtfpn4M",
    "outputId": "7ac20562-53c1-4f48-90d7-ee1f4112f109"
   },
   "outputs": [],
   "source": [
    "# Masukkan jawaban nomor 2 disini\n",
    "\n",
    "# 1. Cari absolute dari pengurangan antara A dan C yang kemudian dijumlahi hasil pengurangan B dan D\n",
    "V = np.abs(A - C + (B - D))\n",
    "V"
   ]
  },
  {
   "cell_type": "code",
   "execution_count": 92,
   "metadata": {
    "colab": {
     "base_uri": "https://localhost:8080/"
    },
    "id": "ZfgWKL5BsPMx",
    "outputId": "e9b82db1-0189-4cc1-9acf-11fb25c21898"
   },
   "outputs": [],
   "source": [
    "# 2. Buat matrix baru yang isinya adalah hasil kuadrat tiap elemen dari matrix pada langkah 1\n",
    "W = np.power(V, 2)\n",
    "W"
   ]
  },
  {
   "cell_type": "code",
   "execution_count": 93,
   "metadata": {
    "colab": {
     "base_uri": "https://localhost:8080/"
    },
    "id": "U9sVPOU6sWTA",
    "outputId": "5f3f2605-e704-411b-b09f-5586f6199d7a"
   },
   "outputs": [],
   "source": [
    "# 3. Jalankan operasi invers pada matrix pada langkah 2\n",
    "try:\n",
    "  print(\"Inverse Matrix dari W:\")\n",
    "  𝑋 = np.linalg.inv(W)\n",
    "  print(𝑋)\n",
    "except np.linalg.LinAlgError:\n",
    "  print(\"Matrix W tidak memiliki invers (determinan matrix W bernilai nol).\")"
   ]
  },
  {
   "cell_type": "code",
   "execution_count": 94,
   "metadata": {
    "colab": {
     "base_uri": "https://localhost:8080/"
    },
    "id": "8VpJWk2YsWBC",
    "outputId": "f150bfe5-6a73-4bec-9de7-f7ba4f645dda"
   },
   "outputs": [],
   "source": [
    "# 4. Terapkan operasi penjumlahan antara matrix pada langkah 3 dengan matriks C\n",
    "Y = X + C\n",
    "Y"
   ]
  },
  {
   "cell_type": "code",
   "execution_count": 95,
   "metadata": {
    "colab": {
     "base_uri": "https://localhost:8080/"
    },
    "id": "ok_mrCB4usyG",
    "outputId": "d54b716d-d3dc-479c-a9b1-a876f3827590"
   },
   "outputs": [],
   "source": [
    "# 5. Jalankan perkalian skalar pada matrix D dengan hasil dot product pada langkah 4\n",
    "result = Y * D\n",
    "result"
   ]
  },
  {
   "cell_type": "markdown",
   "metadata": {
    "id": "vXUIoVRopn4M"
   },
   "source": [
    "## Nomor 3"
   ]
  },
  {
   "cell_type": "markdown",
   "metadata": {
    "id": "IVja1zLnpn4M"
   },
   "source": [
    "Terdapat sebuah array sebagai berikut."
   ]
  },
  {
   "cell_type": "code",
   "execution_count": 96,
   "metadata": {
    "id": "Q7ghfymCpn4M"
   },
   "outputs": [],
   "source": [
    "arr_3 = np.array([ 64, 152, 120, 136, 112,  80,  48,  40, 144,  72,  16,  56,  24, 160,  32, 104,  96,   8,  88, 128])"
   ]
  },
  {
   "cell_type": "markdown",
   "metadata": {
    "id": "TyMHcHc3pn4M"
   },
   "source": [
    "Untuk setiap elemen arr_3, bagi setiap angka dalam array dengan 8 dan kemudian hitung serta tampilkan rata-rata, median, nilai minimum, standar deviasi, variance, dan percentile 70!"
   ]
  },
  {
   "cell_type": "code",
   "execution_count": 97,
   "metadata": {
    "colab": {
     "base_uri": "https://localhost:8080/"
    },
    "id": "VF0rPMnQpn4M",
    "outputId": "ae6731d5-37e6-40b1-b086-1b390bca2752"
   },
   "outputs": [],
   "source": [
    "# Masukkan jawaban nomor 3 disini\n",
    "\n",
    "# Membagi setiap angka dalam array dengan 8\n",
    "arr_3_divided_by_8 = arr_3 / 8\n",
    "arr_3_divided_by_8"
   ]
  },
  {
   "cell_type": "code",
   "execution_count": 98,
   "metadata": {
    "colab": {
     "base_uri": "https://localhost:8080/"
    },
    "id": "z19qiC0CyVaZ",
    "outputId": "2c796276-ff83-48af-f67a-30115f34f962"
   },
   "outputs": [],
   "source": [
    "# Nilai rata-rata arr_3_divided_by_8\n",
    "print(\"Rata-rata arr_3_divided_by_8:\", np.mean(arr_3_divided_by_8))\n",
    "\n",
    "# Nilai median arr_3_divided_by_8\n",
    "print(\"Median arr_3_divided_by_8:\", np.median(arr_3_divided_by_8))\n",
    "\n",
    "# Nilai minimum arr_3_divided_by_8\n",
    "print(\"Minimum arr_3_divided_by_8:\", np.min(arr_3_divided_by_8))\n",
    "\n",
    "# Nilai standar deviasi arr_3_divided_by_8\n",
    "print(\"Standar deviasi arr_3_divided_by_8:\", np.std(arr_3_divided_by_8))\n",
    "\n",
    "# Nilai Variance arr_3_divided_by_8\n",
    "print(\"Variance arr_3_divided_by_8:\", np.var(arr_3_divided_by_8))\n",
    "\n",
    "# Nilai percentile 70 dari arr_3_divided_by_8\n",
    "print(\"Percentile 70 arr_3_divided_by_8:\", np.percentile(arr_3_divided_by_8, 70))"
   ]
  },
  {
   "cell_type": "markdown",
   "metadata": {
    "id": "g9bH6-iY8l_k"
   },
   "source": [
    "# Sumber Data"
   ]
  },
  {
   "cell_type": "markdown",
   "metadata": {
    "id": "0wS9eFHw8nb3"
   },
   "source": [
    "* Zoo Data : https://archive.ics.uci.edu/dataset/111/zoo\n",
    "* Sales Data : https://www.kaggle.com/datasets/emmanueldjegou/sales-dataset-enlarged\n",
    "* School Nutirtions Program : https://www.kaggle.com/datasets/harshitsrivastava25/school-nutrition-programs"
   ]
  }
 ],
 "metadata": {
  "colab": {
   "provenance": []
  },
  "kernelspec": {
   "display_name": "Python 3 (ipykernel)",
   "language": "python",
   "name": "python3"
  },
  "language_info": {
   "codemirror_mode": {
    "name": "ipython",
    "version": 3
   },
   "file_extension": ".py",
   "mimetype": "text/x-python",
   "name": "python",
   "nbconvert_exporter": "python",
   "pygments_lexer": "ipython3",
   "version": "3.11.3"
  }
 },
 "nbformat": 4,
 "nbformat_minor": 1
}
